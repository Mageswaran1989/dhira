{
 "cells": [
  {
   "cell_type": "code",
   "execution_count": 1,
   "metadata": {
    "collapsed": false,
    "deletable": true,
    "editable": true
   },
   "outputs": [],
   "source": [
    "from unittest import TestCase\n",
    "import codecs\n",
    "import logging\n",
    "import os\n",
    "import shutil\n",
    "import tensorflow as tf"
   ]
  },
  {
   "cell_type": "code",
   "execution_count": 2,
   "metadata": {
    "collapsed": true,
    "deletable": true,
    "editable": true
   },
   "outputs": [],
   "source": [
    "TEST_DIR = './TMP_TEST/'\n",
    "TRAIN_FILE = TEST_DIR + 'train_file'\n",
    "VALIDATION_FILE = TEST_DIR + 'validation_file'\n",
    "TEST_FILE = TEST_DIR + 'test_file'\n",
    "VECTORS_FILE = TEST_DIR + 'vectors_file'"
   ]
  },
  {
   "cell_type": "code",
   "execution_count": 4,
   "metadata": {
    "collapsed": false,
    "deletable": true,
    "editable": true
   },
   "outputs": [],
   "source": [
    "os.makedirs(TEST_DIR, exist_ok=True)"
   ]
  },
  {
   "cell_type": "code",
   "execution_count": 5,
   "metadata": {
    "collapsed": true,
    "deletable": true,
    "editable": true
   },
   "outputs": [],
   "source": [
    "with codecs.open(TRAIN_FILE, 'w', 'utf-8') as dupe_train_file:\n",
    "    dupe_train_file.write(\"\\\"1\\\",\\\"1\\\",\\\"2\\\",\\\"question1\\\",\"\n",
    "                          \"\\\"question2 question3pad\\\",\\\"0\\\"\\n\")\n",
    "    dupe_train_file.write(\"\\\"2\\\",\\\"3\\\",\\\"4\\\",\\\"question4\\\",\"\n",
    "                          \"\\\"question5\\\",\\\"1\\\"\\n\")\n",
    "    dupe_train_file.write(\"\\\"3\\\",\\\"5\\\",\\\"6\\\",\\\"question6\\\",\"\n",
    "                          \"\\\"question7\\\",\\\"0\\\"\\n\")\n"
   ]
  },
  {
   "cell_type": "code",
   "execution_count": 6,
   "metadata": {
    "collapsed": true,
    "deletable": true,
    "editable": true
   },
   "outputs": [],
   "source": [
    "with codecs.open(VALIDATION_FILE, 'w', 'utf-8') as dupe_val_file:\n",
    "    dupe_val_file.write(\"\\\"1\\\",\\\"7\\\",\\\"8\\\",\\\"question1\\\",\"\n",
    "                        \"\\\"question2 question8\\\",\\\"0\\\"\\n\")\n",
    "    dupe_val_file.write(\"\\\"2\\\",\\\"9\\\",\\\"10\\\",\\\"question9\\\",\"\n",
    "                        \"\\\"question10\\\",\\\"1\\\"\\n\")\n",
    "    dupe_val_file.write(\"\\\"3\\\",\\\"11\\\",\\\"12\\\",\\\"question6\\\",\"\n",
    "                        \"\\\"question7 question11 question12\\\",\"\n",
    "                        \"\\\"0\\\"\\n\")"
   ]
  },
  {
   "cell_type": "code",
   "execution_count": 7,
   "metadata": {
    "collapsed": true,
    "deletable": true,
    "editable": true
   },
   "outputs": [],
   "source": [
    "\n",
    "with codecs.open(TEST_FILE, 'w', 'utf-8') as dupe_test_file:\n",
    "    dupe_test_file.write(\"\\\"1\\\",\\\"question1 questionunk1 question1\\\",\"\n",
    "                         \"\\\"questionunk2\\\"\\n\")\n",
    "    dupe_test_file.write(\"\\\"2\\\",\\\"question3pad\\\",\"\n",
    "                         \"\\\"question4 questionunk3\\\"\\n\")\n",
    "    dupe_test_file.write(\"\\\"3\\\",\\\"question5\\\",\\\"question6\\\"\\n\")\n",
    "\n",
    "\n",
    "with codecs.open(VECTORS_FILE, 'w', 'utf-8') as vectors_file:\n",
    "    vectors_file.write(\"word1 0.0 1.1 0.2\\n\")\n",
    "    vectors_file.write(\"word2 0.1 0.4 -4.0\\n\")"
   ]
  },
  {
   "cell_type": "code",
   "execution_count": null,
   "metadata": {
    "collapsed": true,
    "deletable": true,
    "editable": true
   },
   "outputs": [],
   "source": []
  },
  {
   "cell_type": "code",
   "execution_count": null,
   "metadata": {
    "collapsed": true,
    "deletable": true,
    "editable": true
   },
   "outputs": [],
   "source": []
  }
 ],
 "metadata": {
  "kernelspec": {
   "display_name": "Python 3",
   "language": "python",
   "name": "python3"
  },
  "language_info": {
   "codemirror_mode": {
    "name": "ipython",
    "version": 3
   },
   "file_extension": ".py",
   "mimetype": "text/x-python",
   "name": "python",
   "nbconvert_exporter": "python",
   "pygments_lexer": "ipython3",
   "version": "3.5.3"
  }
 },
 "nbformat": 4,
 "nbformat_minor": 2
}
