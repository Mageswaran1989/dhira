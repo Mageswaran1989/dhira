{
 "cells": [
  {
   "cell_type": "markdown",
   "metadata": {},
   "source": [
    "http://www.geeksforgeeks.org/given-a-string-find-its-first-non-repeating-character/"
   ]
  },
  {
   "cell_type": "code",
   "execution_count": 49,
   "metadata": {
    "collapsed": false
   },
   "outputs": [
    {
     "data": {
      "text/plain": [
       "\u001b[32mimport \u001b[39m\u001b[36mscala.collection.mutable.LinkedHashMap //To preserve the insertion ordering \n",
       "\u001b[39m\n",
       "\u001b[36mstring\u001b[39m: \u001b[32mString\u001b[39m = \u001b[32m\"asdfdsaq\"\u001b[39m"
      ]
     },
     "execution_count": 49,
     "metadata": {},
     "output_type": "execute_result"
    }
   ],
   "source": [
    "import scala.collection.mutable.LinkedHashMap //To preserve the insertion ordering \n",
    "val string = \"asdfdsaq\""
   ]
  },
  {
   "cell_type": "code",
   "execution_count": 50,
   "metadata": {
    "collapsed": false
   },
   "outputs": [
    {
     "data": {
      "text/plain": [
       "\u001b[36mlength\u001b[39m: \u001b[32mInt\u001b[39m = \u001b[32m8\u001b[39m"
      ]
     },
     "execution_count": 50,
     "metadata": {},
     "output_type": "execute_result"
    }
   ],
   "source": [
    "val length = string.size"
   ]
  },
  {
   "cell_type": "code",
   "execution_count": 51,
   "metadata": {
    "collapsed": false
   },
   "outputs": [
    {
     "data": {
      "text/plain": [
       "\u001b[36mmap\u001b[39m: \u001b[32mLinkedHashMap\u001b[39m[\u001b[32mChar\u001b[39m, \u001b[32mInt\u001b[39m] = \u001b[33mMap\u001b[39m()"
      ]
     },
     "execution_count": 51,
     "metadata": {},
     "output_type": "execute_result"
    }
   ],
   "source": [
    "val map:LinkedHashMap[Char, Int] = LinkedHashMap()"
   ]
  },
  {
   "cell_type": "code",
   "execution_count": 52,
   "metadata": {
    "collapsed": false
   },
   "outputs": [
    {
     "data": {
      "text/plain": [
       "\u001b[36mres51\u001b[39m: \u001b[32mInt\u001b[39m = \u001b[32m0\u001b[39m"
      ]
     },
     "execution_count": 52,
     "metadata": {},
     "output_type": "execute_result"
    }
   ],
   "source": [
    "map.getOrElse('x', 0) //Trys to get the value for 'x' or returns 0"
   ]
  },
  {
   "cell_type": "code",
   "execution_count": 53,
   "metadata": {
    "collapsed": false
   },
   "outputs": [],
   "source": [
    "(0 until length).foreach(i => (map(string(i)) = map.getOrElse(string(i), 0) + 1))"
   ]
  },
  {
   "cell_type": "code",
   "execution_count": 54,
   "metadata": {
    "collapsed": false
   },
   "outputs": [
    {
     "data": {
      "text/plain": [
       "\u001b[36mres53\u001b[39m: \u001b[32mLinkedHashMap\u001b[39m[\u001b[32mChar\u001b[39m, \u001b[32mInt\u001b[39m] = \u001b[33mMap\u001b[39m(\u001b[32m'a'\u001b[39m -> \u001b[32m2\u001b[39m, \u001b[32m's'\u001b[39m -> \u001b[32m2\u001b[39m, \u001b[32m'd'\u001b[39m -> \u001b[32m2\u001b[39m, \u001b[32m'f'\u001b[39m -> \u001b[32m1\u001b[39m, \u001b[32m'q'\u001b[39m -> \u001b[32m1\u001b[39m)"
      ]
     },
     "execution_count": 54,
     "metadata": {},
     "output_type": "execute_result"
    }
   ],
   "source": [
    "map"
   ]
  },
  {
   "cell_type": "code",
   "execution_count": 63,
   "metadata": {
    "collapsed": false
   },
   "outputs": [
    {
     "data": {
      "text/plain": [
       "\u001b[36muniqueChars\u001b[39m: \u001b[32mArray\u001b[39m[\u001b[32mChar\u001b[39m] = \u001b[33mArray\u001b[39m(\u001b[32m'f'\u001b[39m, \u001b[32m'q'\u001b[39m)"
      ]
     },
     "execution_count": 63,
     "metadata": {},
     "output_type": "execute_result"
    }
   ],
   "source": [
    "val uniqueChars = map.filter(_._2 == 1).keys.toArray"
   ]
  },
  {
   "cell_type": "code",
   "execution_count": 66,
   "metadata": {
    "collapsed": false
   },
   "outputs": [
    {
     "name": "stdout",
     "output_type": "stream",
     "text": [
      "First non-repeating character is: f\n"
     ]
    }
   ],
   "source": [
    "println(\"First non-repeating character is: \" + uniqueChars(0))"
   ]
  },
  {
   "cell_type": "code",
   "execution_count": null,
   "metadata": {
    "collapsed": true
   },
   "outputs": [],
   "source": []
  }
 ],
 "metadata": {
  "kernelspec": {
   "display_name": "Scala",
   "language": "scala",
   "name": "scala"
  },
  "language_info": {
   "codemirror_mode": "text/x-scala",
   "file_extension": ".scala",
   "mimetype": "text/x-scala",
   "name": "scala212",
   "nbconvert_exporter": "script",
   "pygments_lexer": "scala",
   "version": "2.12.1"
  }
 },
 "nbformat": 4,
 "nbformat_minor": 2
}
