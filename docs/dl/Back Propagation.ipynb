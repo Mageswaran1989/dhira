{
 "cells": [
  {
   "cell_type": "code",
   "execution_count": 5,
   "metadata": {
    "collapsed": true
   },
   "outputs": [],
   "source": [
    "import numpy as np\n",
    "import matplotlib.pyplot as plt\n",
    "import matplotlib.image as mtimg"
   ]
  },
  {
   "cell_type": "code",
   "execution_count": 1,
   "metadata": {
    "collapsed": false
   },
   "outputs": [
    {
     "data": {
      "text/latex": [
       "Uses Delta learning rule\n",
       "\n",
       "\\begin{align*}\n",
       "\\Delta w = \\eta r x \\\\\n",
       "rx = \\Delta E \\\\\n",
       "\\Delta w = - \\eta \\Delta E \\\\\n",
       "\\end{align*}"
      ],
      "text/plain": [
       "<IPython.core.display.Latex object>"
      ]
     },
     "metadata": {},
     "output_type": "display_data"
    }
   ],
   "source": [
    "%%latex\n",
    "Uses Delta learning rule\n",
    "\n",
    "\\begin{align*}\n",
    "\\Delta w = \\eta r x \\\\\n",
    "rx = \\Delta E \\\\\n",
    "\\Delta w = - \\eta \\Delta E \\\\\n",
    "\\end{align*}\n"
   ]
  },
  {
   "cell_type": "code",
   "execution_count": 2,
   "metadata": {
    "collapsed": false
   },
   "outputs": [],
   "source": [
    "# %lsmagic"
   ]
  },
  {
   "cell_type": "code",
   "execution_count": 3,
   "metadata": {
    "collapsed": false
   },
   "outputs": [
    {
     "data": {
      "text/latex": [
       "\\[\n",
       "f(net) = \\begin{cases}\n",
       "          \\matplus 1 & Net > \\theta \\\\\n",
       "          -1        & Net < \\theta\n",
       "          \\end{cases}\n",
       "\\]\n",
       "\\[\n",
       "Net = \\sum w^Tx\n",
       "\\]"
      ],
      "text/plain": [
       "<IPython.core.display.Latex object>"
      ]
     },
     "metadata": {},
     "output_type": "display_data"
    }
   ],
   "source": [
    "%%latex\n",
    "\\[\n",
    "f(net) = \\begin{cases}\n",
    "          \\matplus 1 & Net > \\theta \\\\\n",
    "          -1        & Net < \\theta\n",
    "          \\end{cases}\n",
    "\\]\n",
    "\\[\n",
    "Net = \\sum w^Tx\n",
    "\\]"
   ]
  },
  {
   "cell_type": "code",
   "execution_count": 4,
   "metadata": {
    "collapsed": false
   },
   "outputs": [
    {
     "data": {
      "text/latex": [
       "\n",
       "\\begin{align*}\n",
       "&E = t_k - O_{j,k} \\\\\n",
       "&By Least Mean Square \\\\\n",
       "&E = \\frac{1}{2}(t_k-O_{jk})^2 \\\\\n",
       "&O_{jk} = f(Net_{jk})\n",
       "\\end{align*}"
      ],
      "text/plain": [
       "<IPython.core.display.Latex object>"
      ]
     },
     "metadata": {},
     "output_type": "display_data"
    }
   ],
   "source": [
    "%%latex\n",
    "\n",
    "\\begin{align*}\n",
    "&E = t_k - O_{j,k} \\\\\n",
    "&By Least Mean Square \\\\\n",
    "&E = \\frac{1}{2}(t_k-O_{jk})^2 \\\\\n",
    "&O_{jk} = f(Net_{jk})\n",
    "\\end{align*}"
   ]
  },
  {
   "cell_type": "markdown",
   "metadata": {
    "collapsed": true
   },
   "source": [
    "# Backropagation Based on [Mini Flow](MiniFlow.ipynb)   "
   ]
  },
  {
   "cell_type": "markdown",
   "metadata": {},
   "source": [
    "Let's consider a network with a linear node $l_1$ a sigmoid node $s$, and another linear node $l_2$, followed by an $MSE$ node to calculate the cost, $C$."
   ]
  },
  {
   "cell_type": "code",
   "execution_count": 7,
   "metadata": {
    "collapsed": false
   },
   "outputs": [
    {
     "data": {
      "image/png": "[encoded data removed]",
      "text/plain": [
       "<matplotlib.figure.Figure at 0x7f0c881df6a0>"
      ]
     },
     "metadata": {},
     "output_type": "display_data"
    }
   ],
   "source": [
    "img = mtimg.imread(\"images/back_propagation/two-layer-graph.png\")\n",
    "plt.imshow(img)\n",
    "plt.show()"
   ]
  },
  {
   "cell_type": "markdown",
   "metadata": {},
   "source": [
    " For each node, we'll want to change the values based on the gradient of the cost with respect to the value of that node. In this way, the gradient descent updates we make will eventually converge to the minimum of the cost."
   ]
  },
  {
   "cell_type": "code",
   "execution_count": null,
   "metadata": {
    "collapsed": true
   },
   "outputs": [],
   "source": []
  }
 ],
 "metadata": {
  "anaconda-cloud": {},
  "kernelspec": {
   "display_name": "Python [default]",
   "language": "python",
   "name": "python3"
  },
  "language_info": {
   "codemirror_mode": {
    "name": "ipython",
    "version": 3
   },
   "file_extension": ".py",
   "mimetype": "text/x-python",
   "name": "python",
   "nbconvert_exporter": "python",
   "pygments_lexer": "ipython3",
   "version": "3.5.2"
  }
 },
 "nbformat": 4,
 "nbformat_minor": 1
}
