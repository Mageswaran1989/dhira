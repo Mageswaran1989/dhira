{
 "cells": [
  {
   "cell_type": "code",
   "execution_count": 1,
   "metadata": {
    "collapsed": true
   },
   "outputs": [],
   "source": [
    "%matplotlib inline\n",
    "import matplotlib as mpl\n",
    "import matplotlib.pyplot as plt\n",
    "import matplotlib.image as mpimg\n",
    "import numpy as np"
   ]
  },
  {
   "cell_type": "markdown",
   "metadata": {},
   "source": [
    "# Cost - Error - Loss Functions"
   ]
  },
  {
   "cell_type": "markdown",
   "metadata": {},
   "source": [
    "In machine learning, people talk about objective function, cost function, loss function.   \n",
    "- Are they just different names of the same thing? \n",
    "- When to use them? \n",
    "- If they are not always refer to the same thing, what are the differences?\n",
    "\n"
   ]
  },
  {
   "cell_type": "markdown",
   "metadata": {},
   "source": [
    "These are not very strict terms, and for sure - they are highly related. However, there are slight differences:"
   ]
  },
  {
   "cell_type": "markdown",
   "metadata": {},
   "source": [
    "#### Loss Function \n",
    "Usually a function defined on a data point, your prediction and label, and measures the penalty. For example\n",
    "\n",
    "- **Square loss** $l(f(x_i|\\theta),y_i) = \\left (f(x_i|\\theta)-y_i \\right )^2$ , used in **Linear regression**\n",
    "- **Hinge loss** $l(f(x_i|\\theta), y_i) = \\max(0, 1-f(x_i|\\theta)y_i)$, used in **SVM**\n",
    "- **0/1 loss** $l(f(x_i|\\theta), y_i) = 1 \\iff f(x_i|\\theta) \\neq y_i$, used in theoretical analysis and definition of accuracy"
   ]
  },
  {
   "cell_type": "markdown",
   "metadata": {},
   "source": [
    "#### Cost Function\n",
    "Usually a big more general object, it might for example be a sum of loss functions over your training set plus some model complexity penalty (regularization). For example\n",
    "\n",
    "- Mean Squared Error $MSE(\\theta) = \\frac{1}{N} \\sum_{i=1}^N \\left (f(x_i|\\theta)-y_i \\right )^2$\n",
    "- SVM cost function $SVM(\\theta) = \\|\\theta\\|^2 + C \\sum_{i=1}^N \\xi_i$ (there are additional constraints connecting $\\xi_i$ with $C$ and with training set)"
   ]
  },
  {
   "cell_type": "markdown",
   "metadata": {},
   "source": [
    "#### Objective Function \n",
    "The most general term, which might by any function that you optimize during training, for example a probability of generating training set in maximum likelihood approach is a well defined objective function, but it is not a loss function nor cost function (however you could define an equivalent cost function). For example:\n",
    "\n",
    "- MLE is a type of objective function (which you minimize)\n",
    "- Divergence between classes can be an objective function (while it is barely a cost function, unless you define something artificial, like 1-Divergence, and name it a cost)\n",
    "\n",
    "Loss function is a **part of a** cost function which is a **type of an** objective function\n"
   ]
  },
  {
   "cell_type": "markdown",
   "metadata": {},
   "source": [
    "# 1. Cross Entropy"
   ]
  },
  {
   "cell_type": "markdown",
   "metadata": {},
   "source": [
    "Consider classifying digits from [MNIST dataset](http://yann.lecun.com/exdb/mnist/), our label vector for the image of the number 4 based on one-hot encoding would be:  \n",
    "y=[0,0,0,0,1,0,0,0,0,0]\n",
    "\n",
    "And our output prediction vector could be something like  \n",
    "y^ =[0.047,0.048,0.061,0.07,0.330,0.062,0.001,0.213,0.013,0.150].\n",
    "\n",
    "We want our error to be proportional to how far apart these vectors are. To calculate this distance, we'll use the cross entropy. Then, our goal when training the network is to make our prediction vectors as close as possible to the label vectors by minimizing the cross entropy. The cross entropy calculation is shown below:"
   ]
  },
  {
   "cell_type": "code",
   "execution_count": 2,
   "metadata": {
    "collapsed": false
   },
   "outputs": [
    {
     "data": {
      "text/plain": [
       "<matplotlib.image.AxesImage at 0x7f568affe048>"
      ]
     },
     "execution_count": 2,
     "metadata": {},
     "output_type": "execute_result"
    },
    {
     "data": {
      "image/png": "[encoded data removed]",
      "text/plain": [
       "<matplotlib.figure.Figure at 0x7f568e765160>"
      ]
     },
     "metadata": {},
     "output_type": "display_data"
    }
   ],
   "source": [
    "img=mpimg.imread(\"images/cross-entropy-diagram.png\")\n",
    "plt.imshow(img)"
   ]
  },
  {
   "cell_type": "markdown",
   "metadata": {},
   "source": [
    "As you can see above, the cross entropy is the sum of the label elements times the natural log of the prediction probabilities. Note that this formula is not symmetric! Flipping the vectors is a bad idea because the label vector has a lot of zeros and taking the log of zero will cause an error.\n",
    "\n",
    "What's cool about using one-hot encoding for the label vector is that $y_j$ is 0 except for the one true class. Then, all terms in that sum except for where $y_j=1$ are zero and the cross entropy is simply $D=−ln \\hat{y}$ for the true label. For example, if your input image is of the digit 4 and it's labeled 4, then only the output of the unit corresponding to 4 matters in the cross entropy cost."
   ]
  },
  {
   "cell_type": "code",
   "execution_count": 3,
   "metadata": {
    "collapsed": false
   },
   "outputs": [],
   "source": [
    "y =  np.array([0, 0, 0, 1, 0])\n",
    "y_out =  np.array([0.27, 0.11, 0.33, 0.10, 0.19])\n",
    "entropy = 0.0\n",
    "if len(y) == len(y_out):\n",
    "    for j in range(len(y)):\n",
    "        entropy += y[j] * np.log(y_out[j])\n",
    "entropy = - entropy"
   ]
  },
  {
   "cell_type": "code",
   "execution_count": 4,
   "metadata": {
    "collapsed": false
   },
   "outputs": [
    {
     "data": {
      "text/plain": [
       "2.3025850929940455"
      ]
     },
     "execution_count": 4,
     "metadata": {},
     "output_type": "execute_result"
    }
   ],
   "source": [
    "entropy\n"
   ]
  },
  {
   "cell_type": "markdown",
   "metadata": {
    "collapsed": true
   },
   "source": [
    "# MSE"
   ]
  },
  {
   "cell_type": "markdown",
   "metadata": {
    "collapsed": true
   },
   "source": [
    "$$MSE(\\theta) = \\frac{1}{N} \\sum_{i=1}^N \\left (f(x_i|\\theta)-y_i \\right )^2$$"
   ]
  },
  {
   "cell_type": "markdown",
   "metadata": {
    "collapsed": true
   },
   "source": [
    "# Zero Means and Equal Variance"
   ]
  },
  {
   "cell_type": "code",
   "execution_count": null,
   "metadata": {
    "collapsed": true
   },
   "outputs": [],
   "source": [
    "pixel_i = pixel_i - 128 / 128"
   ]
  }
 ],
 "metadata": {
  "anaconda-cloud": {},
  "kernelspec": {
   "display_name": "Python [default]",
   "language": "python",
   "name": "python3"
  },
  "language_info": {
   "codemirror_mode": {
    "name": "ipython",
    "version": 3
   },
   "file_extension": ".py",
   "mimetype": "text/x-python",
   "name": "python",
   "nbconvert_exporter": "python",
   "pygments_lexer": "ipython3",
   "version": "3.5.2"
  }
 },
 "nbformat": 4,
 "nbformat_minor": 1
}
