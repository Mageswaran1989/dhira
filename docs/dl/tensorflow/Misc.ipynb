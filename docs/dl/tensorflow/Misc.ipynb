{
 "cells": [
  {
   "cell_type": "markdown",
   "metadata": {},
   "source": [
    "#  'SAME' and 'VALID' padding in tf.nn.max_pool "
   ]
  },
  {
   "cell_type": "markdown",
   "metadata": {},
   "source": [
    "I'll give an example to make it clearer:\n",
    "\n",
    "- x: input image of shape [2, 3], 1 channel\n",
    "- \"VALID\" = without padding: \n",
    "  - Eg 1: max pool with 2x2 kernel, stride 2 and VALID padding.\n",
    "  - Eg 2: Input width = 13, Filter width = 6, Stride = 5\n",
    "  -     `inputs: 1  2  3  4  5  6  7  8  9  10 11 (12 13)`\n",
    "                 |________________|                dropped\n",
    "                                 |_________________|\n",
    "- \"SAME\" = with zero padding:\n",
    "   - Eg 1: max pool with 2x2 kernel, stride 2 and SAME padding (this is the classic way to go)\n",
    "   - Eg 2: Input width = 13, Filter width = 6, Stride = 5\n",
    "                  pad|                                      |pad\n",
    "   `inputs:      0 |1  2  3  4  5  6  7  8  9  10 11 12 13|0  0`\n",
    "                  |________________|\n",
    "                                  |_________________|\n",
    "                                                |________________|\n",
    "\n",
    "The output shapes are:\n",
    "\n",
    "- valid_pad: here, no padding so the output shape is [1, 1]\n",
    "- same_pad: here, we pad the image to the shape [2, 4] (with -inf and then apply max pool), so the output shape is [1, 2]"
   ]
  },
  {
   "cell_type": "code",
   "execution_count": null,
   "metadata": {
    "collapsed": true
   },
   "outputs": [],
   "source": [
    "x = tf.constant([[1., 2., 3.],\n",
    "                 [4., 5., 6.]])\n",
    "\n",
    "x = tf.reshape(x, [1, 2, 3, 1])  # give a shape accepted by tf.nn.max_pool\n",
    "\n",
    "valid_pad = tf.nn.max_pool(x, [1, 2, 2, 1], [1, 2, 2, 1], padding='VALID')\n",
    "same_pad = tf.nn.max_pool(x, [1, 2, 2, 1], [1, 2, 2, 1], padding='SAME')\n",
    "\n",
    "valid_pad.get_shape() == [1, 1, 1, 1]  # valid_pad is [5.]\n",
    "same_pad.get_shape() == [1, 1, 2, 1]   # same_pad is  [5., 6.]"
   ]
  },
  {
   "cell_type": "markdown",
   "metadata": {},
   "source": [
    "For the SAME padding, the output height and width are computed as:\n",
    "\n",
    "- out_height = ceil(float(in_height) / float(strides1))\n",
    "\n",
    "- out_width = ceil(float(in_width) / float(strides[2]))\n",
    "\n",
    "And\n",
    "\n",
    "For the VALID padding, the output height and width are computed as:\n",
    "\n",
    "- out_height = ceil(float(in_height - filter_height + 1) / float(strides1))\n",
    "\n",
    "- out_width = ceil(float(in_width - filter_width + 1) / float(strides[2]))\n",
    "\n",
    "Notes:\n",
    "\n",
    "- \"VALID\" only ever drops the right-most columns (or bottom-most rows).\n",
    "- \"SAME\" tries to pad evenly left and right, but if the amount of columns to be added is odd, it will add the extra column to the right, as is the case in this example (the same logic applies vertically: there may be an extra row of zeros at the bottom)."
   ]
  },
  {
   "cell_type": "code",
   "execution_count": null,
   "metadata": {
    "collapsed": true
   },
   "outputs": [],
   "source": []
  }
 ],
 "metadata": {
  "anaconda-cloud": {},
  "kernelspec": {
   "display_name": "Python [default]",
   "language": "python",
   "name": "python3"
  },
  "language_info": {
   "codemirror_mode": {
    "name": "ipython",
    "version": 3
   },
   "file_extension": ".py",
   "mimetype": "text/x-python",
   "name": "python",
   "nbconvert_exporter": "python",
   "pygments_lexer": "ipython3",
   "version": "3.5.2"
  }
 },
 "nbformat": 4,
 "nbformat_minor": 1
}
