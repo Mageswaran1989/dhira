{
 "cells": [
  {
   "cell_type": "code",
   "execution_count": 2,
   "metadata": {
    "collapsed": false,
    "deletable": true,
    "editable": true
   },
   "outputs": [
    {
     "data": {
      "text/plain": [
       "'1.0.1'"
      ]
     },
     "execution_count": 2,
     "metadata": {},
     "output_type": "execute_result"
    }
   ],
   "source": [
    "%matplotlib inline\n",
    "import matplotlib.pyplot as plt\n",
    "import matplotlib.image as mpimg\n",
    "import numpy as np\n",
    "\n",
    "import tensorflow as tf\n",
    "tf.__version__"
   ]
  },
  {
   "cell_type": "code",
   "execution_count": 3,
   "metadata": {
    "collapsed": true,
    "deletable": true,
    "editable": true
   },
   "outputs": [],
   "source": [
    "sess = tf.Session() #lets keep this way to run across multiple cells"
   ]
  },
  {
   "cell_type": "code",
   "execution_count": 4,
   "metadata": {
    "collapsed": false,
    "deletable": true,
    "editable": true
   },
   "outputs": [
    {
     "name": "stdout",
     "output_type": "stream",
     "text": [
      "7\n"
     ]
    }
   ],
   "source": [
    "x = tf.add(5, 2)  # 7\n",
    "print(sess.run(x))"
   ]
  },
  {
   "cell_type": "code",
   "execution_count": 5,
   "metadata": {
    "collapsed": false,
    "deletable": true,
    "editable": true
   },
   "outputs": [
    {
     "name": "stdout",
     "output_type": "stream",
     "text": [
      "6\n"
     ]
    }
   ],
   "source": [
    "x = tf.subtract(10, 4) # 6\n",
    "print(sess.run(x))"
   ]
  },
  {
   "cell_type": "code",
   "execution_count": 6,
   "metadata": {
    "collapsed": false,
    "deletable": true,
    "editable": true
   },
   "outputs": [
    {
     "name": "stdout",
     "output_type": "stream",
     "text": [
      "10\n"
     ]
    }
   ],
   "source": [
    "y = tf.multiply(2, 5)  # 10\n",
    "print(sess.run(y))"
   ]
  },
  {
   "cell_type": "code",
   "execution_count": 7,
   "metadata": {
    "collapsed": false,
    "deletable": true,
    "editable": true
   },
   "outputs": [
    {
     "name": "stdout",
     "output_type": "stream",
     "text": [
      "-1\n"
     ]
    }
   ],
   "source": [
    "z = tf.subtract(tf.cast(tf.constant(2.0), tf.int32), tf.constant(1))   # 1\n",
    "print(sess.run(z))"
   ]
  },
  {
   "cell_type": "markdown",
   "metadata": {
    "deletable": true,
    "editable": true
   },
   "source": [
    "The tf.truncated_normal() function returns a tensor with random values from a normal distribution whose magnitude is no more than 2 standard deviations from the mean."
   ]
  },
  {
   "cell_type": "code",
   "execution_count": 8,
   "metadata": {
    "collapsed": false,
    "deletable": true,
    "editable": true
   },
   "outputs": [
    {
     "name": "stdout",
     "output_type": "stream",
     "text": [
      "<bound method Variable.value of <tensorflow.python.ops.variables.Variable object at 0x7f5a801586a0>>\n",
      "Tensor(\"Variable/read:0\", shape=(120, 5), dtype=float32)\n",
      "<bound method Variable.value of <tensorflow.python.ops.variables.Variable object at 0x7f5a801586a0>>\n",
      "[[  3.38467330e+12   2.88742179e+13  -3.50759400e-36  -4.17459817e-37\n",
      "    1.75449929e+37]\n",
      " [  7.92319074e-26   3.51977939e+13   9.61265266e-02  -1.05792429e-40\n",
      "   -4.48416197e-34]\n",
      " [  1.24215490e+27  -1.10268555e-25  -8.89119156e-16   3.31013070e-38\n",
      "   -8.13520239e+22]\n",
      " [  5.03212969e-34   2.36232281e-34   2.27114044e-19   2.76365844e-15\n",
      "    1.83488512e-14]\n",
      " [  1.93164845e-19  -2.83016083e-18  -4.99399983e+11  -1.47883716e+03\n",
      "   -1.44865130e+34]\n",
      " [  4.26109593e-29   2.50134744e-36   1.32535780e-02   1.34707225e-04\n",
      "    1.28066787e-07]\n",
      " [  2.08569964e-39  -7.90880088e+17  -2.05191952e-09   2.02970347e-36\n",
      "   -1.89025271e-12]\n",
      " [  6.35381738e-38   1.49452793e+04   2.60597829e+14  -2.06075877e-38\n",
      "    2.09087811e-37]\n",
      " [ -5.34718589e+30  -7.91050864e-38   2.01339152e+08  -1.17790044e-35\n",
      "    2.88512371e-23]\n",
      " [  7.67013989e-04  -5.09029122e-29   3.51450600e+07   1.09852974e-27\n",
      "    1.28748358e-35]\n",
      " [  2.90341956e-28   6.19334601e+26   1.51610862e-23  -7.13446355e-24\n",
      "   -3.73925654e-27]\n",
      " [ -1.95666809e+02   1.81097732e-32   1.39789788e-32  -5.64683899e+02\n",
      "    1.33899828e+21]\n",
      " [ -4.72702391e+20   1.09935593e-14   6.41389611e-14   1.44365111e-23\n",
      "    7.03717228e-29]\n",
      " [ -7.13768022e-34   7.97842987e-33  -2.08268333e+13   2.56088268e+30\n",
      "    1.39791663e-37]\n",
      " [ -4.00468987e-22  -2.30220882e-16   4.48991724e+10   9.44781266e-27\n",
      "    2.76159576e-29]\n",
      " [  7.00447929e+19  -4.96093940e-32   8.00334401e-21   4.50549431e+20\n",
      "   -4.76733368e-39]\n",
      " [ -4.10848735e-29  -9.27995895e-41   4.65755342e-28   1.99012632e-37\n",
      "    2.93351855e+03]\n",
      " [  9.12350355e-36  -1.59435076e-37   1.68401131e+20   8.07904131e-26\n",
      "   -8.32237994e+12]\n",
      " [ -3.18806510e+20   1.66973111e-36   5.42338762e+27   1.44492036e-08\n",
      "    3.10736351e+33]\n",
      " [  3.22861641e-36  -6.94192257e+16  -4.00266875e-36  -6.36365105e-31\n",
      "    5.88050484e-36]\n",
      " [  3.56637046e+29  -1.44130894e+21   6.56564752e-31  -4.35729699e-37\n",
      "   -7.42361124e-07]\n",
      " [  1.05250953e+21   1.60893716e-25  -5.96456395e-34  -1.28785016e-19\n",
      "    2.16032028e+00]\n",
      " [ -6.45266641e+04  -9.65684752e-36  -1.30315708e-30  -8.37012559e-20\n",
      "   -6.03476460e+10]\n",
      " [ -9.96468607e-38   2.50320530e+00   8.65061249e-17   1.38755583e+27\n",
      "    1.30275116e+30]\n",
      " [  6.61039417e-30   5.03921939e-33   8.27972690e-37  -1.99239169e-16\n",
      "    4.89488731e-31]\n",
      " [ -4.79148835e-15  -8.55862054e-36   5.38968787e-29  -1.47754917e-25\n",
      "   -1.47469898e+36]\n",
      " [  2.12350339e-36   1.62246451e-33  -8.71775191e+10   1.94519912e+30\n",
      "    1.58324449e-36]\n",
      " [  4.04496968e+30   2.84237739e-29   1.31620895e+10   8.87210112e+20\n",
      "    4.13888496e-24]\n",
      " [ -3.02538813e+10   1.17209500e+34  -1.02691494e+04   1.75685407e-18\n",
      "    1.07623667e+09]\n",
      " [ -9.08208275e+00   1.76439842e+26   9.85444069e+19   2.59408199e-29\n",
      "    3.16682846e-23]\n",
      " [ -3.54602424e-11  -1.34471975e-07   2.82446189e-37  -1.83533956e-15\n",
      "    2.11846690e-22]\n",
      " [  1.22667731e-19   4.01235426e-37   4.18801952e-38  -5.77307754e-19\n",
      "    6.93856436e+11]\n",
      " [  1.98418383e-38   3.26018856e-09   5.76180432e-37  -1.14319114e+10\n",
      "    1.73122414e+15]\n",
      " [ -1.08556250e+03  -9.46943692e-39   6.78088800e+07  -2.84264326e+22\n",
      "    5.32858925e+01]\n",
      " [  5.88181637e-16  -3.29475410e+19  -1.94375261e-07   1.39869753e-19\n",
      "   -4.15628052e+00]\n",
      " [ -2.20626544e-19   2.69432921e+34  -1.40809952e+30   7.39524476e-15\n",
      "   -1.02358852e+11]\n",
      " [  1.84809551e+04   9.02665183e-39   5.43297974e-05   1.94063207e+28\n",
      "   -1.59838899e-29]\n",
      " [ -3.14079882e-12  -7.47253616e-40   8.08947855e-37  -1.20111135e-38\n",
      "    2.90888214e+00]\n",
      " [  3.09865218e-19   3.93108920e+19  -3.68948744e+20  -1.04565799e+20\n",
      "   -1.32598609e-04]\n",
      " [ -9.55201684e-39  -2.08424834e-31   3.49865984e-33  -6.70022133e+12\n",
      "    2.06068129e-27]\n",
      " [ -6.99254570e-37  -2.52563210e+01   1.03235760e+28  -7.51921492e-34\n",
      "   -1.53597061e+10]\n",
      " [ -1.56851598e+35  -1.55801016e+22   2.05891992e+03   3.12915011e-14\n",
      "   -3.37613409e+34]\n",
      " [  1.77605408e-28  -7.64142971e-09  -6.16052130e-05   1.25185341e-01\n",
      "    1.83661645e-30]\n",
      " [ -7.78578370e-15   1.39440749e-31   4.31416730e+09   2.33510086e-12\n",
      "    6.58294422e-31]\n",
      " [  2.79222525e-17   2.13530141e+05   2.22253153e-38   7.63846689e-16\n",
      "    7.04863928e+10]\n",
      " [  3.96027749e-35   4.95099939e-30  -5.24604005e-08  -5.39026022e+22\n",
      "    7.17742685e-15]\n",
      " [ -2.97390366e+00   1.97350042e+09  -1.34163469e-01  -8.02281555e+02\n",
      "   -6.23943556e-39]\n",
      " [  3.49500688e-19   2.84454768e-27   3.87046467e-31   1.97842569e+22\n",
      "    2.65556513e-28]\n",
      " [  1.30643051e+02  -2.31124180e+04  -2.30394495e+11   7.15943815e+26\n",
      "    3.59092176e-38]\n",
      " [  5.50063920e+07  -4.01001901e-24   5.82028122e-04   3.56757698e-29\n",
      "   -3.66778191e-25]\n",
      " [ -1.60071442e-10  -4.71718811e-37  -8.78772595e-17  -1.35333171e+10\n",
      "   -1.71302666e-30]\n",
      " [ -1.71574739e+11   1.92842286e+30   2.69354788e-38   1.26117736e+35\n",
      "   -1.59526579e-34]\n",
      " [  2.29805151e+03   4.93156293e-34  -4.44081959e-32   1.42474016e+05\n",
      "    4.78602392e-38]\n",
      " [ -3.06055691e-13  -7.80249497e+25   3.37829165e-25   2.21537559e-33\n",
      "    3.40808800e-33]\n",
      " [ -2.52534133e-33   6.56143705e-14  -8.47292493e-37   1.22211975e+20\n",
      "    9.81242820e-09]\n",
      " [  1.20333954e+33   5.92755510e-36   2.47002014e-32   5.01227665e+00\n",
      "    3.78338352e-32]\n",
      " [  5.00048124e-16   1.01033759e-39   1.80317566e-03  -6.62284625e+05\n",
      "    2.70142721e-07]\n",
      " [  8.45498240e+07   2.39883444e-33   7.81527000e+06   3.97905010e-17\n",
      "   -2.25516159e+02]\n",
      " [  1.14076311e+20   6.48698842e+19   1.52267674e+10  -7.39057042e+24\n",
      "   -9.45823539e+27]\n",
      " [  2.70947774e-33  -8.57685266e+34   5.45030682e+25   2.68093896e+00\n",
      "   -2.23825319e-27]\n",
      " [  4.00392117e+35   8.63978503e-17   9.32540328e+31   4.69151035e-18\n",
      "   -3.50790324e-38]\n",
      " [  9.47685242e+00  -8.11822623e-11  -6.15702519e-37  -8.01237620e-37\n",
      "    5.82135803e-23]\n",
      " [ -1.20079845e-18   2.70357331e-15   1.86813800e+06   1.08648264e-37\n",
      "   -8.61023437e+10]\n",
      " [ -2.04713044e-35   8.46000758e-17  -1.92338090e+35   2.63835080e+23\n",
      "   -1.54228620e-32]\n",
      " [ -4.57663277e-29  -6.53696687e-31  -2.16611423e+25  -3.31801874e+12\n",
      "    1.05426243e-05]\n",
      " [ -2.32907374e-36   1.09937287e-20   1.08904840e+07   2.74237932e+10\n",
      "    9.84698534e-04]\n",
      " [  1.78598113e+10   8.22884438e+21   3.51564735e-01  -7.93665000e+05\n",
      "   -1.54978409e-29]\n",
      " [  2.26202039e-24  -6.58198807e-27   6.59850459e+20  -1.22550402e+01\n",
      "    6.17936985e-32]\n",
      " [  7.22081532e-38   8.11159168e-27   1.87472004e-04  -6.01276559e+29\n",
      "    3.21178841e-24]\n",
      " [ -8.88411344e+31   2.78407949e+33  -7.05304417e-17   6.15856460e-34\n",
      "    8.23532164e-01]\n",
      " [  3.85719014e+09   1.03216195e-28   9.11452946e-19  -3.73049392e-32\n",
      "   -3.91364649e+29]\n",
      " [ -1.21754700e+06   5.62753617e-23   5.22479922e-07   3.40216064e+01\n",
      "    1.41484421e+02]\n",
      " [ -2.56139149e+14   1.52665645e-01   3.19819907e-33   3.90978908e-37\n",
      "    8.38106445e+03]\n",
      " [  7.17387295e+00   2.08896112e+00   7.62959735e-06   1.06719270e-37\n",
      "    7.43228991e+13]\n",
      " [ -3.12820288e+03   4.14247413e-37  -1.20079577e-28   1.33872584e-01\n",
      "    3.63256107e-38]\n",
      " [  5.84489957e-18   3.40081764e-18   8.90952681e-18   4.53351659e+36\n",
      "   -1.62629044e+02]\n",
      " [  3.02650196e+24   7.76507002e+14   1.11446640e+30   1.66500546e-37\n",
      "    1.08193239e+15]\n",
      " [ -3.87832091e-35   5.33969664e+08   5.15620569e+11  -1.43573383e+22\n",
      "   -4.90778892e+35]\n",
      " [ -7.54094262e-36   1.65842283e-37   4.48816556e+19   3.21190397e-24\n",
      "   -4.04495555e-28]\n",
      " [  1.70297493e+16   6.64687805e+01   7.50571170e+32  -5.33626282e+02\n",
      "    4.89198612e-36]\n",
      " [  1.79187964e+26  -4.27112213e-38   7.37874618e+20   6.48206257e+16\n",
      "    3.81454379e-28]\n",
      " [  1.54384778e-36  -4.14615037e-25  -3.97146525e-29   8.82782299e-39\n",
      "   -5.66242691e-13]\n",
      " [ -6.73422877e-36  -9.80057799e+20  -9.67622501e-34   5.16428768e+08\n",
      "    3.85673488e-33]\n",
      " [ -3.03625116e+12   2.09158704e-26   2.38119413e-09   6.83892053e-04\n",
      "   -2.64871359e-30]\n",
      " [  2.46999325e-37   1.35091913e+12  -1.89138602e-33  -1.24011567e+26\n",
      "    6.59496938e+05]\n",
      " [  8.65340561e-30   3.00733554e-08   5.45868623e-25   1.86162553e-15\n",
      "    1.84107612e-24]\n",
      " [  4.03509007e-34   1.72265392e-25  -1.45560489e+12  -1.53553658e-37\n",
      "    3.45253535e-32]\n",
      " [  8.30249667e-15   8.11358232e-27  -1.41181442e+02   3.38592067e-25\n",
      "   -9.44832846e-06]\n",
      " [  4.61002393e+03   4.24036353e-34   1.59904289e-36  -1.61938624e-35\n",
      "    1.26866744e+34]\n",
      " [  1.75941048e-24   8.60691932e+20  -3.11299409e-05  -6.62613712e+22\n",
      "    7.04996483e-31]\n",
      " [ -2.58656693e+00  -1.95716099e+26   2.03346326e+27  -9.25412519e-36\n",
      "   -2.27228935e-33]\n",
      " [  1.31360575e-05  -3.17591406e+04  -9.26932990e-29   8.75258754e-11\n",
      "    4.25038639e+16]\n",
      " [ -1.09225441e+26   6.22009549e+31   1.10246645e-19   5.12143652e-06\n",
      "   -7.61552808e-28]\n",
      " [ -1.13710673e-11   1.91107733e-06   6.71709359e-01   1.44114455e+34\n",
      "    1.16640247e-19]\n",
      " [  6.93297152e+11  -8.04908641e-40   5.76675365e-29  -1.72002673e+11\n",
      "   -3.13785899e-39]\n",
      " [ -1.17388095e-36   2.89003650e+06  -1.58144998e+09   4.04018073e-13\n",
      "   -6.96693415e-34]\n",
      " [  4.42976758e+04  -8.86363712e+08   1.27466802e+21   1.67609537e+28\n",
      "    3.37676186e-28]\n",
      " [  1.59745890e+07   1.21867497e-37  -1.66318560e+07  -6.38245384e-33\n",
      "    6.73519287e+01]\n",
      " [  3.61424105e-35  -2.76386132e+29   9.48074765e+26   1.28752930e+02\n",
      "   -2.08392777e-33]\n",
      " [  1.45010726e+27  -9.16432473e-04  -2.26345900e+06  -1.00577177e-32\n",
      "   -4.90642586e+01]\n",
      " [ -2.31784158e+20   2.38425808e-36  -6.35965856e-39   8.05700153e-30\n",
      "   -6.05926724e-12]\n",
      " [  6.75602923e-35  -3.98232115e-26  -8.39783095e-30  -5.29790795e-11\n",
      "   -2.97323304e-39]\n",
      " [  6.85545672e-31   2.47948901e-27   3.53142959e+18  -1.40682887e+11\n",
      "    9.59484726e-02]\n",
      " [ -7.41553863e+34   1.94025467e-37  -1.97233011e-38  -6.62635433e+34\n",
      "    7.61140183e+26]\n",
      " [  1.99289381e-19   9.39565670e+09  -1.82118838e-12   1.95238379e+03\n",
      "   -3.73912733e-24]\n",
      " [  7.28474943e-21   8.78110419e-23   4.24551531e-33   3.54119400e+06\n",
      "   -1.63128376e+01]\n",
      " [ -3.22818604e+01   4.56244766e+15   1.16797422e-33  -7.51620864e+09\n",
      "   -1.75924545e+13]\n",
      " [  5.22223022e+02   1.32526583e-38   1.02486371e-32   4.29926703e-20\n",
      "   -1.75786316e+02]\n",
      " [  9.57269203e-15   1.61740353e+29  -8.32987570e+32   1.44060315e+30\n",
      "   -2.13770143e-24]\n",
      " [  1.44887479e-37  -2.76227736e+00   6.20687613e-33   2.03139628e-29\n",
      "   -1.17306106e-28]\n",
      " [ -2.39574179e-33   1.80842001e-30   3.22818201e+23   6.90637207e+01\n",
      "   -5.28645000e+05]\n",
      " [ -2.11978307e-32  -6.78733417e-37  -5.38639771e-15   6.90983137e-09\n",
      "    4.04893210e-32]\n",
      " [  2.35219598e+00   1.34494953e+01  -1.90974138e-35   4.76685688e+05\n",
      "   -5.97700439e+03]\n",
      " [  3.69904959e+19   6.01342211e-19   4.16593700e-17  -2.86617711e+12\n",
      "    3.00388539e+24]\n",
      " [  3.45580557e-24   4.23555517e-18  -4.14013788e-35   8.10092732e+25\n",
      "    7.16025877e+00]\n",
      " [  1.05588809e-35  -4.07470724e-09  -3.68944402e+13   6.46041651e+09\n",
      "   -1.65010285e-14]\n",
      " [  1.87640874e+36   3.85992317e+01  -7.08818226e-34   9.32605772e-14\n",
      "    5.89094677e+37]\n",
      " [  2.19757280e+08   5.46504074e+20  -3.58187834e-38  -7.74773690e-33\n",
      "   -1.20085767e-16]\n",
      " [ -8.92674175e-34   1.05350461e+21  -7.67628877e-37   1.02485213e-17\n",
      "   -1.32607427e+20]\n",
      " [  8.68686438e+09   1.30803249e-35   4.96277281e-15   1.04799147e-09\n",
      "    8.77060202e-10]]\n"
     ]
    }
   ],
   "source": [
    "n_features = 120\n",
    "n_labels = 5\n",
    "weights = tf.Variable(tf.truncated_normal((n_features, n_labels)))\n",
    "print(weights.value)\n",
    "sess.run(tf.global_variables_initializer())\n",
    "print(weights)\n",
    "print(weights.value)\n",
    "\n",
    "print(sess.run(weights))"
   ]
  },
  {
   "cell_type": "markdown",
   "metadata": {
    "deletable": true,
    "editable": true
   },
   "source": [
    "### Zeros"
   ]
  },
  {
   "cell_type": "code",
   "execution_count": 9,
   "metadata": {
    "collapsed": true,
    "deletable": true,
    "editable": true
   },
   "outputs": [],
   "source": [
    "\n",
    "n_labels = 5\n",
    "bias = tf.Variable(tf.zeros(n_labels))\n",
    "# The tf.zeros() function returns a tensor with all zeros."
   ]
  },
  {
   "cell_type": "markdown",
   "metadata": {
    "deletable": true,
    "editable": true
   },
   "source": [
    "### TensorFlow Softmax"
   ]
  },
  {
   "cell_type": "code",
   "execution_count": 10,
   "metadata": {
    "collapsed": false,
    "deletable": true,
    "editable": true
   },
   "outputs": [
    {
     "name": "stdout",
     "output_type": "stream",
     "text": [
      "[ 0.65223986  0.23994564  0.10781453]\n"
     ]
    }
   ],
   "source": [
    "x = tf.nn.softmax([2.0, 1.0, 0.2])\n",
    "print(sess.run(x))"
   ]
  },
  {
   "cell_type": "code",
   "execution_count": null,
   "metadata": {
    "collapsed": false,
    "deletable": true,
    "editable": true
   },
   "outputs": [],
   "source": [
    "# def run():\n",
    "#     output = None\n",
    "#     logit_data = [2.0, 1.0, 0.1]\n",
    "#     logits = tf.placeholder(tf.float32)\n",
    "    \n",
    "#     # TODO: Calculate the softmax of the logits\n",
    "#     softmax = tf.nn.softmax(logits)    \n",
    "    \n",
    "#     with tf.Session() as sess:\n",
    "#         # TODO: Feed in the logit data\n",
    "#         # output = sess.run(softmax,    )\n",
    "#         output = sess.run(softmax, feed_dict = {logits: logit_data})\n",
    "#         print(output)\n",
    "#     return output\n",
    "\n",
    "# run()"
   ]
  },
  {
   "cell_type": "markdown",
   "metadata": {
    "deletable": true,
    "editable": true
   },
   "source": [
    "### Reduce Sum"
   ]
  },
  {
   "cell_type": "code",
   "execution_count": 1,
   "metadata": {
    "collapsed": false,
    "deletable": true,
    "editable": true
   },
   "outputs": [
    {
     "ename": "NameError",
     "evalue": "name 'tf' is not defined",
     "output_type": "error",
     "traceback": [
      "\u001b[1;31m---------------------------------------------------------------------------\u001b[0m",
      "\u001b[1;31mNameError\u001b[0m                                 Traceback (most recent call last)",
      "\u001b[1;32m<ipython-input-1-1c315801b8c0>\u001b[0m in \u001b[0;36m<module>\u001b[1;34m()\u001b[0m\n\u001b[1;32m----> 1\u001b[1;33m \u001b[0mx\u001b[0m \u001b[1;33m=\u001b[0m \u001b[0mtf\u001b[0m\u001b[1;33m.\u001b[0m\u001b[0mreduce_sum\u001b[0m\u001b[1;33m(\u001b[0m\u001b[1;33m[\u001b[0m\u001b[1;36m1\u001b[0m\u001b[1;33m,\u001b[0m \u001b[1;36m2\u001b[0m\u001b[1;33m,\u001b[0m \u001b[1;36m3\u001b[0m\u001b[1;33m,\u001b[0m \u001b[1;36m4\u001b[0m\u001b[1;33m,\u001b[0m \u001b[1;36m5\u001b[0m\u001b[1;33m]\u001b[0m\u001b[1;33m)\u001b[0m  \u001b[1;31m# 15\u001b[0m\u001b[1;33m\u001b[0m\u001b[0m\n\u001b[0m\u001b[0;32m      2\u001b[0m \u001b[0mprint\u001b[0m\u001b[1;33m(\u001b[0m\u001b[0msess\u001b[0m\u001b[1;33m.\u001b[0m\u001b[0mrun\u001b[0m\u001b[1;33m(\u001b[0m\u001b[0mx\u001b[0m\u001b[1;33m)\u001b[0m\u001b[1;33m)\u001b[0m\u001b[1;33m\u001b[0m\u001b[0m\n",
      "\u001b[1;31mNameError\u001b[0m: name 'tf' is not defined"
     ]
    }
   ],
   "source": [
    "x = tf.reduce_sum([1, 2, 3, 4, 5])  # 15\n",
    "print(sess.run(x))"
   ]
  },
  {
   "cell_type": "markdown",
   "metadata": {
    "deletable": true,
    "editable": true
   },
   "source": [
    "### Natural Log"
   ]
  },
  {
   "cell_type": "code",
   "execution_count": 32,
   "metadata": {
    "collapsed": false,
    "deletable": true,
    "editable": true
   },
   "outputs": [
    {
     "name": "stdout",
     "output_type": "stream",
     "text": [
      "4.60517\n"
     ]
    }
   ],
   "source": [
    "x = tf.log(100.0)  # 4.60517\n",
    "print(sess.run(x))"
   ]
  },
  {
   "cell_type": "markdown",
   "metadata": {
    "deletable": true,
    "editable": true
   },
   "source": [
    "### Cross Entropy"
   ]
  },
  {
   "cell_type": "code",
   "execution_count": 33,
   "metadata": {
    "collapsed": false,
    "deletable": true,
    "editable": true
   },
   "outputs": [
    {
     "name": "stdout",
     "output_type": "stream",
     "text": [
      "0.356675\n"
     ]
    }
   ],
   "source": [
    "softmax_data = [0.7, 0.2, 0.1]\n",
    "one_hot_data = [1.0, 0.0, 0.0]\n",
    "\n",
    "softmax = tf.placeholder(tf.float32)\n",
    "one_hot = tf.placeholder(tf.float32)\n",
    "\n",
    "# TODO: Print cross entropy from session\n",
    "cross_entropy = -tf.reduce_sum(tf.multiply(one_hot_data , tf.log(softmax_data)), 0)\n",
    "\n",
    "ce = sess.run(cross_entropy, feed_dict={softmax:softmax_data, one_hot:one_hot_data})\n",
    "print(ce)"
   ]
  },
  {
   "cell_type": "markdown",
   "metadata": {
    "collapsed": true,
    "deletable": true,
    "editable": true
   },
   "source": [
    "## Matmul"
   ]
  },
  {
   "cell_type": "code",
   "execution_count": 35,
   "metadata": {
    "collapsed": false,
    "deletable": true,
    "editable": true
   },
   "outputs": [],
   "source": [
    "a = tf.constant(np.arange(1, 25, dtype=np.int32),\n",
    "                shape=[5, 5])\n",
    "b = tf.constant(np.arange(1, 8, dtype=np.int32),\n",
    "                shape=[4, 2])"
   ]
  },
  {
   "cell_type": "code",
   "execution_count": 37,
   "metadata": {
    "collapsed": false,
    "deletable": true,
    "editable": true
   },
   "outputs": [
    {
     "ename": "ValueError",
     "evalue": "Dimensions must be equal, but are 5 and 4 for 'MatMul' (op: 'MatMul') with input shapes: [5,5], [4,2].",
     "output_type": "error",
     "traceback": [
      "\u001b[1;31m---------------------------------------------------------------------------\u001b[0m",
      "\u001b[1;31mInvalidArgumentError\u001b[0m                      Traceback (most recent call last)",
      "\u001b[1;32m/home/mageswarand/anaconda3/lib/python3.5/site-packages/tensorflow/python/framework/common_shapes.py\u001b[0m in \u001b[0;36m_call_cpp_shape_fn_impl\u001b[1;34m(op, input_tensors_needed, input_tensors_as_shapes_needed, debug_python_shape_fn, require_shape_fn)\u001b[0m\n\u001b[0;32m    669\u001b[0m           \u001b[0mnode_def_str\u001b[0m\u001b[1;33m,\u001b[0m \u001b[0minput_shapes\u001b[0m\u001b[1;33m,\u001b[0m \u001b[0minput_tensors\u001b[0m\u001b[1;33m,\u001b[0m \u001b[0minput_tensors_as_shapes\u001b[0m\u001b[1;33m,\u001b[0m\u001b[1;33m\u001b[0m\u001b[0m\n\u001b[1;32m--> 670\u001b[1;33m           status)\n\u001b[0m\u001b[0;32m    671\u001b[0m   \u001b[1;32mexcept\u001b[0m \u001b[0merrors\u001b[0m\u001b[1;33m.\u001b[0m\u001b[0mInvalidArgumentError\u001b[0m \u001b[1;32mas\u001b[0m \u001b[0merr\u001b[0m\u001b[1;33m:\u001b[0m\u001b[1;33m\u001b[0m\u001b[0m\n",
      "\u001b[1;32m/home/mageswarand/anaconda3/lib/python3.5/contextlib.py\u001b[0m in \u001b[0;36m__exit__\u001b[1;34m(self, type, value, traceback)\u001b[0m\n\u001b[0;32m     65\u001b[0m             \u001b[1;32mtry\u001b[0m\u001b[1;33m:\u001b[0m\u001b[1;33m\u001b[0m\u001b[0m\n\u001b[1;32m---> 66\u001b[1;33m                 \u001b[0mnext\u001b[0m\u001b[1;33m(\u001b[0m\u001b[0mself\u001b[0m\u001b[1;33m.\u001b[0m\u001b[0mgen\u001b[0m\u001b[1;33m)\u001b[0m\u001b[1;33m\u001b[0m\u001b[0m\n\u001b[0m\u001b[0;32m     67\u001b[0m             \u001b[1;32mexcept\u001b[0m \u001b[0mStopIteration\u001b[0m\u001b[1;33m:\u001b[0m\u001b[1;33m\u001b[0m\u001b[0m\n",
      "\u001b[1;32m/home/mageswarand/anaconda3/lib/python3.5/site-packages/tensorflow/python/framework/errors_impl.py\u001b[0m in \u001b[0;36mraise_exception_on_not_ok_status\u001b[1;34m()\u001b[0m\n\u001b[0;32m    468\u001b[0m           \u001b[0mcompat\u001b[0m\u001b[1;33m.\u001b[0m\u001b[0mas_text\u001b[0m\u001b[1;33m(\u001b[0m\u001b[0mpywrap_tensorflow\u001b[0m\u001b[1;33m.\u001b[0m\u001b[0mTF_Message\u001b[0m\u001b[1;33m(\u001b[0m\u001b[0mstatus\u001b[0m\u001b[1;33m)\u001b[0m\u001b[1;33m)\u001b[0m\u001b[1;33m,\u001b[0m\u001b[1;33m\u001b[0m\u001b[0m\n\u001b[1;32m--> 469\u001b[1;33m           pywrap_tensorflow.TF_GetCode(status))\n\u001b[0m\u001b[0;32m    470\u001b[0m   \u001b[1;32mfinally\u001b[0m\u001b[1;33m:\u001b[0m\u001b[1;33m\u001b[0m\u001b[0m\n",
      "\u001b[1;31mInvalidArgumentError\u001b[0m: Dimensions must be equal, but are 5 and 4 for 'MatMul' (op: 'MatMul') with input shapes: [5,5], [4,2].",
      "\nDuring handling of the above exception, another exception occurred:\n",
      "\u001b[1;31mValueError\u001b[0m                                Traceback (most recent call last)",
      "\u001b[1;32m<ipython-input-37-19ac68b8d840>\u001b[0m in \u001b[0;36m<module>\u001b[1;34m()\u001b[0m\n\u001b[1;32m----> 1\u001b[1;33m \u001b[0mc\u001b[0m \u001b[1;33m=\u001b[0m \u001b[0mtf\u001b[0m\u001b[1;33m.\u001b[0m\u001b[0mmatmul\u001b[0m\u001b[1;33m(\u001b[0m\u001b[0ma\u001b[0m\u001b[1;33m,\u001b[0m\u001b[0mb\u001b[0m\u001b[1;33m)\u001b[0m\u001b[1;33m\u001b[0m\u001b[0m\n\u001b[0m",
      "\u001b[1;32m/home/mageswarand/anaconda3/lib/python3.5/site-packages/tensorflow/python/ops/math_ops.py\u001b[0m in \u001b[0;36mmatmul\u001b[1;34m(a, b, transpose_a, transpose_b, adjoint_a, adjoint_b, a_is_sparse, b_is_sparse, name)\u001b[0m\n\u001b[0;32m   1853\u001b[0m     \u001b[1;32melse\u001b[0m\u001b[1;33m:\u001b[0m\u001b[1;33m\u001b[0m\u001b[0m\n\u001b[0;32m   1854\u001b[0m       return gen_math_ops._mat_mul(\n\u001b[1;32m-> 1855\u001b[1;33m           a, b, transpose_a=transpose_a, transpose_b=transpose_b, name=name)\n\u001b[0m\u001b[0;32m   1856\u001b[0m \u001b[1;33m\u001b[0m\u001b[0m\n\u001b[0;32m   1857\u001b[0m \u001b[1;33m\u001b[0m\u001b[0m\n",
      "\u001b[1;32m/home/mageswarand/anaconda3/lib/python3.5/site-packages/tensorflow/python/ops/gen_math_ops.py\u001b[0m in \u001b[0;36m_mat_mul\u001b[1;34m(a, b, transpose_a, transpose_b, name)\u001b[0m\n\u001b[0;32m   1452\u001b[0m   \"\"\"\n\u001b[0;32m   1453\u001b[0m   result = _op_def_lib.apply_op(\"MatMul\", a=a, b=b, transpose_a=transpose_a,\n\u001b[1;32m-> 1454\u001b[1;33m                                 transpose_b=transpose_b, name=name)\n\u001b[0m\u001b[0;32m   1455\u001b[0m   \u001b[1;32mreturn\u001b[0m \u001b[0mresult\u001b[0m\u001b[1;33m\u001b[0m\u001b[0m\n\u001b[0;32m   1456\u001b[0m \u001b[1;33m\u001b[0m\u001b[0m\n",
      "\u001b[1;32m/home/mageswarand/anaconda3/lib/python3.5/site-packages/tensorflow/python/framework/op_def_library.py\u001b[0m in \u001b[0;36mapply_op\u001b[1;34m(self, op_type_name, name, **keywords)\u001b[0m\n\u001b[0;32m    761\u001b[0m         op = g.create_op(op_type_name, inputs, output_types, name=scope,\n\u001b[0;32m    762\u001b[0m                          \u001b[0minput_types\u001b[0m\u001b[1;33m=\u001b[0m\u001b[0minput_types\u001b[0m\u001b[1;33m,\u001b[0m \u001b[0mattrs\u001b[0m\u001b[1;33m=\u001b[0m\u001b[0mattr_protos\u001b[0m\u001b[1;33m,\u001b[0m\u001b[1;33m\u001b[0m\u001b[0m\n\u001b[1;32m--> 763\u001b[1;33m                          op_def=op_def)\n\u001b[0m\u001b[0;32m    764\u001b[0m         \u001b[1;32mif\u001b[0m \u001b[0moutput_structure\u001b[0m\u001b[1;33m:\u001b[0m\u001b[1;33m\u001b[0m\u001b[0m\n\u001b[0;32m    765\u001b[0m           \u001b[0moutputs\u001b[0m \u001b[1;33m=\u001b[0m \u001b[0mop\u001b[0m\u001b[1;33m.\u001b[0m\u001b[0moutputs\u001b[0m\u001b[1;33m\u001b[0m\u001b[0m\n",
      "\u001b[1;32m/home/mageswarand/anaconda3/lib/python3.5/site-packages/tensorflow/python/framework/ops.py\u001b[0m in \u001b[0;36mcreate_op\u001b[1;34m(self, op_type, inputs, dtypes, input_types, name, attrs, op_def, compute_shapes, compute_device)\u001b[0m\n\u001b[0;32m   2395\u001b[0m                     original_op=self._default_original_op, op_def=op_def)\n\u001b[0;32m   2396\u001b[0m     \u001b[1;32mif\u001b[0m \u001b[0mcompute_shapes\u001b[0m\u001b[1;33m:\u001b[0m\u001b[1;33m\u001b[0m\u001b[0m\n\u001b[1;32m-> 2397\u001b[1;33m       \u001b[0mset_shapes_for_outputs\u001b[0m\u001b[1;33m(\u001b[0m\u001b[0mret\u001b[0m\u001b[1;33m)\u001b[0m\u001b[1;33m\u001b[0m\u001b[0m\n\u001b[0m\u001b[0;32m   2398\u001b[0m     \u001b[0mself\u001b[0m\u001b[1;33m.\u001b[0m\u001b[0m_add_op\u001b[0m\u001b[1;33m(\u001b[0m\u001b[0mret\u001b[0m\u001b[1;33m)\u001b[0m\u001b[1;33m\u001b[0m\u001b[0m\n\u001b[0;32m   2399\u001b[0m     \u001b[0mself\u001b[0m\u001b[1;33m.\u001b[0m\u001b[0m_record_op_seen_by_control_dependencies\u001b[0m\u001b[1;33m(\u001b[0m\u001b[0mret\u001b[0m\u001b[1;33m)\u001b[0m\u001b[1;33m\u001b[0m\u001b[0m\n",
      "\u001b[1;32m/home/mageswarand/anaconda3/lib/python3.5/site-packages/tensorflow/python/framework/ops.py\u001b[0m in \u001b[0;36mset_shapes_for_outputs\u001b[1;34m(op)\u001b[0m\n\u001b[0;32m   1755\u001b[0m       \u001b[0mshape_func\u001b[0m \u001b[1;33m=\u001b[0m \u001b[0m_call_cpp_shape_fn_and_require_op\u001b[0m\u001b[1;33m\u001b[0m\u001b[0m\n\u001b[0;32m   1756\u001b[0m \u001b[1;33m\u001b[0m\u001b[0m\n\u001b[1;32m-> 1757\u001b[1;33m   \u001b[0mshapes\u001b[0m \u001b[1;33m=\u001b[0m \u001b[0mshape_func\u001b[0m\u001b[1;33m(\u001b[0m\u001b[0mop\u001b[0m\u001b[1;33m)\u001b[0m\u001b[1;33m\u001b[0m\u001b[0m\n\u001b[0m\u001b[0;32m   1758\u001b[0m   \u001b[1;32mif\u001b[0m \u001b[0mshapes\u001b[0m \u001b[1;32mis\u001b[0m \u001b[1;32mNone\u001b[0m\u001b[1;33m:\u001b[0m\u001b[1;33m\u001b[0m\u001b[0m\n\u001b[0;32m   1759\u001b[0m     raise RuntimeError(\n",
      "\u001b[1;32m/home/mageswarand/anaconda3/lib/python3.5/site-packages/tensorflow/python/framework/ops.py\u001b[0m in \u001b[0;36mcall_with_requiring\u001b[1;34m(op)\u001b[0m\n\u001b[0;32m   1705\u001b[0m \u001b[1;33m\u001b[0m\u001b[0m\n\u001b[0;32m   1706\u001b[0m   \u001b[1;32mdef\u001b[0m \u001b[0mcall_with_requiring\u001b[0m\u001b[1;33m(\u001b[0m\u001b[0mop\u001b[0m\u001b[1;33m)\u001b[0m\u001b[1;33m:\u001b[0m\u001b[1;33m\u001b[0m\u001b[0m\n\u001b[1;32m-> 1707\u001b[1;33m     \u001b[1;32mreturn\u001b[0m \u001b[0mcall_cpp_shape_fn\u001b[0m\u001b[1;33m(\u001b[0m\u001b[0mop\u001b[0m\u001b[1;33m,\u001b[0m \u001b[0mrequire_shape_fn\u001b[0m\u001b[1;33m=\u001b[0m\u001b[1;32mTrue\u001b[0m\u001b[1;33m)\u001b[0m\u001b[1;33m\u001b[0m\u001b[0m\n\u001b[0m\u001b[0;32m   1708\u001b[0m \u001b[1;33m\u001b[0m\u001b[0m\n\u001b[0;32m   1709\u001b[0m   \u001b[0m_call_cpp_shape_fn_and_require_op\u001b[0m \u001b[1;33m=\u001b[0m \u001b[0mcall_with_requiring\u001b[0m\u001b[1;33m\u001b[0m\u001b[0m\n",
      "\u001b[1;32m/home/mageswarand/anaconda3/lib/python3.5/site-packages/tensorflow/python/framework/common_shapes.py\u001b[0m in \u001b[0;36mcall_cpp_shape_fn\u001b[1;34m(op, input_tensors_needed, input_tensors_as_shapes_needed, debug_python_shape_fn, require_shape_fn)\u001b[0m\n\u001b[0;32m    608\u001b[0m     res = _call_cpp_shape_fn_impl(op, input_tensors_needed,\n\u001b[0;32m    609\u001b[0m                                   \u001b[0minput_tensors_as_shapes_needed\u001b[0m\u001b[1;33m,\u001b[0m\u001b[1;33m\u001b[0m\u001b[0m\n\u001b[1;32m--> 610\u001b[1;33m                                   debug_python_shape_fn, require_shape_fn)\n\u001b[0m\u001b[0;32m    611\u001b[0m     \u001b[1;32mif\u001b[0m \u001b[1;32mnot\u001b[0m \u001b[0misinstance\u001b[0m\u001b[1;33m(\u001b[0m\u001b[0mres\u001b[0m\u001b[1;33m,\u001b[0m \u001b[0mdict\u001b[0m\u001b[1;33m)\u001b[0m\u001b[1;33m:\u001b[0m\u001b[1;33m\u001b[0m\u001b[0m\n\u001b[0;32m    612\u001b[0m       \u001b[1;31m# Handles the case where _call_cpp_shape_fn_impl calls unknown_shape(op).\u001b[0m\u001b[1;33m\u001b[0m\u001b[1;33m\u001b[0m\u001b[0m\n",
      "\u001b[1;32m/home/mageswarand/anaconda3/lib/python3.5/site-packages/tensorflow/python/framework/common_shapes.py\u001b[0m in \u001b[0;36m_call_cpp_shape_fn_impl\u001b[1;34m(op, input_tensors_needed, input_tensors_as_shapes_needed, debug_python_shape_fn, require_shape_fn)\u001b[0m\n\u001b[0;32m    673\u001b[0m       \u001b[0mmissing_shape_fn\u001b[0m \u001b[1;33m=\u001b[0m \u001b[1;32mTrue\u001b[0m\u001b[1;33m\u001b[0m\u001b[0m\n\u001b[0;32m    674\u001b[0m     \u001b[1;32melse\u001b[0m\u001b[1;33m:\u001b[0m\u001b[1;33m\u001b[0m\u001b[0m\n\u001b[1;32m--> 675\u001b[1;33m       \u001b[1;32mraise\u001b[0m \u001b[0mValueError\u001b[0m\u001b[1;33m(\u001b[0m\u001b[0merr\u001b[0m\u001b[1;33m.\u001b[0m\u001b[0mmessage\u001b[0m\u001b[1;33m)\u001b[0m\u001b[1;33m\u001b[0m\u001b[0m\n\u001b[0m\u001b[0;32m    676\u001b[0m \u001b[1;33m\u001b[0m\u001b[0m\n\u001b[0;32m    677\u001b[0m   \u001b[1;32mif\u001b[0m \u001b[0mmissing_shape_fn\u001b[0m\u001b[1;33m:\u001b[0m\u001b[1;33m\u001b[0m\u001b[0m\n",
      "\u001b[1;31mValueError\u001b[0m: Dimensions must be equal, but are 5 and 4 for 'MatMul' (op: 'MatMul') with input shapes: [5,5], [4,2]."
     ]
    }
   ],
   "source": [
    "c = tf.matmul(a,b)"
   ]
  },
  {
   "cell_type": "code",
   "execution_count": null,
   "metadata": {
    "collapsed": true,
    "deletable": true,
    "editable": true
   },
   "outputs": [],
   "source": []
  }
 ],
 "metadata": {
  "anaconda-cloud": {},
  "kernelspec": {
   "display_name": "Python 3",
   "language": "python",
   "name": "python3"
  },
  "language_info": {
   "codemirror_mode": {
    "name": "ipython",
    "version": 3
   },
   "file_extension": ".py",
   "mimetype": "text/x-python",
   "name": "python",
   "nbconvert_exporter": "python",
   "pygments_lexer": "ipython3",
   "version": "3.5.3"
  }
 },
 "nbformat": 4,
 "nbformat_minor": 1
}
