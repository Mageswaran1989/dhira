{
 "cells": [
  {
   "cell_type": "markdown",
   "metadata": {},
   "source": [
    "# 1. RNN"
   ]
  },
  {
   "cell_type": "markdown",
   "metadata": {},
   "source": [
    "- http://colah.github.io/\n",
    "- http://colah.github.io/posts/2015-08-Understanding-LSTMs/\n",
    "- https://www.youtube.com/watch?v=iX5V1WpxxkY"
   ]
  },
  {
   "cell_type": "markdown",
   "metadata": {},
   "source": [
    "http://deeplearning.net/tutorial/lstm.html   \n",
    "https://www.quora.com/How-is-deep-learning-used-in-sentiment-analysis   \n",
    "https://gab41.lab41.org/deep-learning-sentiment-one-character-at-a-t-i-m-e-6cd96e4f780d#.nme2qmtll   \n",
    "http://k8si.github.io/2016/01/28/lstm-networks-for-sentiment-analysis-on-tweets.html   \n",
    "https://www.kaggle.com/c/word2vec-nlp-tutorial   \n",
    "Lexical Based Approach (predicting using a prebuilt Lexicon)   \n",
    "https://www.aclweb.org/anthology/J/J11/J11-2001.pdf   \n",
    "http://ceur-ws.org/Vol-1314/paper-06.pdf   \n"
   ]
  },
  {
   "cell_type": "code",
   "execution_count": null,
   "metadata": {
    "collapsed": true
   },
   "outputs": [],
   "source": []
  }
 ],
 "metadata": {
  "kernelspec": {
   "display_name": "Python [default]",
   "language": "python",
   "name": "python3"
  },
  "language_info": {
   "codemirror_mode": {
    "name": "ipython",
    "version": 3
   },
   "file_extension": ".py",
   "mimetype": "text/x-python",
   "name": "python",
   "nbconvert_exporter": "python",
   "pygments_lexer": "ipython3",
   "version": "3.5.2"
  }
 },
 "nbformat": 4,
 "nbformat_minor": 1
}
