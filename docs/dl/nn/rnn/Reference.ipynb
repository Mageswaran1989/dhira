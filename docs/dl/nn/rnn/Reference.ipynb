{
 "cells": [
  {
   "cell_type": "markdown",
   "metadata": {},
   "source": [
    "### References  \n",
    "http://colah.github.io/posts/2015-08-Understanding-LSTMs/  \n",
    "https://arxiv.org/pdf/1506.00019.pdf\n",
    "http://r2rt.com/written-memories-understanding-deriving-and-extending-the-lstm.html  \n",
    "http://r2rt.com/recurrent-neural-networks-in-tensorflow-i.html   \n",
    "\n",
    "\n",
    "https://www.youtube.com/watch?v=iX5V1WpxxkY   \n",
    "http://cs231n.stanford.edu/slides/winter1516_lecture10.pdf  \n",
    "http://karpathy.github.io/2015/05/21/rnn-effectiveness/\n",
    "\n",
    "\n",
    "https://github.com/kjw0612/awesome-rnn\n",
    "\n",
    "https://github.com/llSourcell/How-to-Use-Tensorflow-for-Time-Series-Live-  \n",
    "https://github.com/tgjeon/TensorFlow-Tutorials-for-Time-Series   \n",
    "https://cloud.google.com/solutions/machine-learning-with-financial-time-series-data?authuser=1   \n",
    "https://www.reddit.com/r/MachineLearning/comments/4ervmf/tensorflow_rnn_time_series_prediction/   \n",
    "https://danijar.com/introduction-to-recurrent-networks-in-tensorflow/   \n",
    "http://nbviewer.jupyter.org/github/jsseely/tensorflow-rnn-tutorial/blob/master/TensorFlow%20RNN%20tutorial.ipynb   \n",
    "https://github.com/llSourcell/How-to-Use-Tensorflow-for-Time-Series-Live-   "
   ]
  },
  {
   "cell_type": "code",
   "execution_count": null,
   "metadata": {
    "collapsed": true
   },
   "outputs": [],
   "source": []
  }
 ],
 "metadata": {
  "anaconda-cloud": {},
  "kernelspec": {
   "display_name": "Python [default]",
   "language": "python",
   "name": "python3"
  },
  "language_info": {
   "codemirror_mode": {
    "name": "ipython",
    "version": 3
   },
   "file_extension": ".py",
   "mimetype": "text/x-python",
   "name": "python",
   "nbconvert_exporter": "python",
   "pygments_lexer": "ipython3",
   "version": "3.5.2"
  }
 },
 "nbformat": 4,
 "nbformat_minor": 1
}
