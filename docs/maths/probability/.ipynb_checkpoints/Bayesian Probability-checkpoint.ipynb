{
 "cells": [
  {
   "cell_type": "markdown",
   "metadata": {},
   "source": [
    "# WHAT IS BAYES THEOREM?\n",
    "\n",
    "Bayes theorem is what allows us to go from a sampling (or likelihood) distribution and a prior distribution to a posterior distribution.\n",
    "\n",
    "For example, we might have data on 1,000 coin flips. Where 1 indicates a head. "
   ]
  },
  {
   "cell_type": "code",
   "execution_count": 21,
   "metadata": {
    "collapsed": false
   },
   "outputs": [
    {
     "data": {
      "text/plain": [
       "0.48299999999999998"
      ]
     },
     "execution_count": 21,
     "metadata": {},
     "output_type": "execute_result"
    }
   ],
   "source": [
    "import numpy as np\n",
    "import scipy.stats as st\n",
    "import matplotlib.pyplot as plt\n",
    "import seaborn as sns\n",
    "%matplotlib inline\n",
    "\n",
    "data_coin_flips = np.random.randint(2, size=1000)\n",
    "np.mean(data_coin_flips)"
   ]
  },
  {
   "cell_type": "markdown",
   "metadata": {},
   "source": [
    "# WHAT IS A SAMPLING DISTRIBUTION?\n",
    "A sampling distribution is the probability of seeing our data (X) given our parameters (θ). This is written as $p(X|θ).$\n"
   ]
  },
  {
   "cell_type": "markdown",
   "metadata": {},
   "source": [
    "For example, we might have data on 1,000 coin flips. Where 1 indicates a head. "
   ]
  },
  {
   "cell_type": "code",
   "execution_count": 22,
   "metadata": {
    "collapsed": false
   },
   "outputs": [
    {
     "data": {
      "text/plain": [
       "0.51100000000000001"
      ]
     },
     "execution_count": 22,
     "metadata": {},
     "output_type": "execute_result"
    }
   ],
   "source": [
    "data_coin_flips = np.random.randint(2, size=1000)\n",
    "np.mean(data_coin_flips)"
   ]
  },
  {
   "cell_type": "code",
   "execution_count": 23,
   "metadata": {
    "collapsed": false
   },
   "outputs": [
    {
     "data": {
      "text/plain": [
       "0.499"
      ]
     },
     "execution_count": 23,
     "metadata": {},
     "output_type": "execute_result"
    }
   ],
   "source": [
    "bernoulli_flips = np.random.binomial(n=1, p=.5, size=1000)\n",
    "np.mean(bernoulli_flips)"
   ]
  },
  {
   "cell_type": "code",
   "execution_count": 24,
   "metadata": {
    "collapsed": false
   },
   "outputs": [],
   "source": [
    "def bern_pmf(x, p):\n",
    "    if (x == 1):\n",
    "        return p\n",
    "    elif (x == 0):\n",
    "        return 1 - p\n",
    "    else:\n",
    "        return \"Value Not in Support of Distribution\""
   ]
  },
  {
   "cell_type": "markdown",
   "metadata": {},
   "source": [
    "We can use the probability mass function (PMF) of the Bernoulli distribution to get our desired probability for a single coin flip. The PMF takes a single observed data point and then given the parameters (p in our case) returns the probablility of seeing that data point given those parameters. For a Bernoulli distribution it is simple: if the data point is a 1 the PMF returns p, if the data point is a 0 it returns (1-p). We could write a quick function to do this:\n",
    "\n"
   ]
  },
  {
   "cell_type": "code",
   "execution_count": 25,
   "metadata": {
    "collapsed": false
   },
   "outputs": [
    {
     "name": "stdout",
     "output_type": "stream",
     "text": [
      "0.5\n",
      "0.5\n"
     ]
    }
   ],
   "source": [
    "\n",
    "print(st.bernoulli.pmf(1, .5))\n",
    "print(st.bernoulli.pmf(0, .5))"
   ]
  },
  {
   "cell_type": "markdown",
   "metadata": {},
   "source": [
    "This is nice, but what we really want to know is the probability of see all 1,000 of our data points. How do we do that? The trick here is to assume that our data are independent and identically distributed. This assumption allows us to say the probability of seeing all of our data is just the product of each individual probability: $p(x1,…,xn|β)=p(x1|β)∗…∗p(xn|β).$ This is easy to do:"
   ]
  },
  {
   "cell_type": "code",
   "execution_count": 26,
   "metadata": {
    "collapsed": false
   },
   "outputs": [
    {
     "data": {
      "text/plain": [
       "9.3326361850321888e-302"
      ]
     },
     "execution_count": 26,
     "metadata": {},
     "output_type": "execute_result"
    }
   ],
   "source": [
    "np.product(st.bernoulli.pmf(data_coin_flips, .5))"
   ]
  },
  {
   "cell_type": "markdown",
   "metadata": {},
   "source": [
    "How does that number help us? Well by itself, it doesn’t really help too much. What we need to do now is get more of a distribution for our sampling model. Currently, we have only tested our model with p = .5, but what if p = .8? or .2? What would the probablility of our data look like then? This can be done by defining a grid of values for our p. Below I will make a grid of 100 values between 0 and 1 (because p has to be between 0 and 1) and then I will calculate the probability of seeing our data given each of these values:"
   ]
  },
  {
   "cell_type": "code",
   "execution_count": 28,
   "metadata": {
    "collapsed": false
   },
   "outputs": [
    {
     "data": {
      "text/plain": [
       "array([ 0.        ,  0.01010101,  0.02020202,  0.03030303,  0.04040404,\n",
       "        0.05050505,  0.06060606,  0.07070707,  0.08080808,  0.09090909,\n",
       "        0.1010101 ,  0.11111111,  0.12121212,  0.13131313,  0.14141414,\n",
       "        0.15151515,  0.16161616,  0.17171717,  0.18181818,  0.19191919,\n",
       "        0.2020202 ,  0.21212121,  0.22222222,  0.23232323,  0.24242424,\n",
       "        0.25252525,  0.26262626,  0.27272727,  0.28282828,  0.29292929,\n",
       "        0.3030303 ,  0.31313131,  0.32323232,  0.33333333,  0.34343434,\n",
       "        0.35353535,  0.36363636,  0.37373737,  0.38383838,  0.39393939,\n",
       "        0.4040404 ,  0.41414141,  0.42424242,  0.43434343,  0.44444444,\n",
       "        0.45454545,  0.46464646,  0.47474747,  0.48484848,  0.49494949,\n",
       "        0.50505051,  0.51515152,  0.52525253,  0.53535354,  0.54545455,\n",
       "        0.55555556,  0.56565657,  0.57575758,  0.58585859,  0.5959596 ,\n",
       "        0.60606061,  0.61616162,  0.62626263,  0.63636364,  0.64646465,\n",
       "        0.65656566,  0.66666667,  0.67676768,  0.68686869,  0.6969697 ,\n",
       "        0.70707071,  0.71717172,  0.72727273,  0.73737374,  0.74747475,\n",
       "        0.75757576,  0.76767677,  0.77777778,  0.78787879,  0.7979798 ,\n",
       "        0.80808081,  0.81818182,  0.82828283,  0.83838384,  0.84848485,\n",
       "        0.85858586,  0.86868687,  0.87878788,  0.88888889,  0.8989899 ,\n",
       "        0.90909091,  0.91919192,  0.92929293,  0.93939394,  0.94949495,\n",
       "        0.95959596,  0.96969697,  0.97979798,  0.98989899,  1.        ])"
      ]
     },
     "execution_count": 28,
     "metadata": {},
     "output_type": "execute_result"
    },
    {
     "data": {
      "image/png": "[encoded data removed]",
      "text/plain": [
       "<matplotlib.figure.Figure at 0x7f026ec7de10>"
      ]
     },
     "metadata": {},
     "output_type": "display_data"
    }
   ],
   "source": [
    "sns.set(style='ticks', palette='Set2')\n",
    "\n",
    "params = np.linspace(0, 1, 100)\n",
    "p_x = [np.product(st.bernoulli.pmf(data_coin_flips, p)) for p in params]\n",
    "plt.plot(params, p_x)\n",
    "sns.despine()\n",
    "plt.show()"
   ]
  },
  {
   "cell_type": "code",
   "execution_count": null,
   "metadata": {
    "collapsed": true
   },
   "outputs": [],
   "source": []
  }
 ],
 "metadata": {
  "anaconda-cloud": {},
  "kernelspec": {
   "display_name": "Python [default]",
   "language": "python",
   "name": "python3"
  },
  "language_info": {
   "codemirror_mode": {
    "name": "ipython",
    "version": 3
   },
   "file_extension": ".py",
   "mimetype": "text/x-python",
   "name": "python",
   "nbconvert_exporter": "python",
   "pygments_lexer": "ipython3",
   "version": "3.5.2"
  }
 },
 "nbformat": 4,
 "nbformat_minor": 1
}
