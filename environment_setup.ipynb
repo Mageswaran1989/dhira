{
 "cells": [
  {
   "cell_type": "markdown",
   "metadata": {},
   "source": [
    "# Setup\n",
    "\n",
    "## Cuda\n",
    "https://developer.nvidia.com/cuda-downloads\n",
    "\n",
    "## Anaconda\n",
    "https://www.continuum.io/downloads\n",
    "https://conda.io/docs/using/envs.html\n",
    "\n",
    "## TensorFlow\n",
    "https://www.tensorflow.org/install/\n",
    "\n",
    "## Scala\n",
    "https://github.com/alexarchambault/jupyter-scala  \n",
    "\n",
    "## Spark\n",
    "https://github.com/jupyter-incubator/sparkmagic  "
   ]
  },
  {
   "cell_type": "code",
   "execution_count": null,
   "metadata": {
    "collapsed": true
   },
   "outputs": [],
   "source": []
  }
 ],
 "metadata": {
  "kernelspec": {
   "display_name": "Python 3",
   "language": "python",
   "name": "python3"
  },
  "language_info": {
   "codemirror_mode": {
    "name": "ipython",
    "version": 3
   },
   "file_extension": ".py",
   "mimetype": "text/x-python",
   "name": "python",
   "nbconvert_exporter": "python",
   "pygments_lexer": "ipython3",
   "version": "3.6.0"
  }
 },
 "nbformat": 4,
 "nbformat_minor": 2
}
