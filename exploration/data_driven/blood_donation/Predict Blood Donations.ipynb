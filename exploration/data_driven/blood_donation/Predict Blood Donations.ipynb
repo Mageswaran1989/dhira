{
 "cells": [
  {
   "cell_type": "markdown",
   "metadata": {},
   "source": [
    "https://www.drivendata.org/competitions/2/warm-up-predict-blood-donations/data/"
   ]
  },
  {
   "cell_type": "code",
   "execution_count": 26,
   "metadata": {
    "collapsed": true
   },
   "outputs": [],
   "source": [
    "import pandas as pd\n",
    "import numpy as np\n",
    "import matplotlib.pyplot as plt\n",
    "import math\n",
    "import itertools\n",
    "import seaborn as sns\n",
    "from sklearn import metrics\n",
    "import sklearn\n",
    "%matplotlib inline"
   ]
  },
  {
   "cell_type": "code",
   "execution_count": 27,
   "metadata": {},
   "outputs": [
    {
     "name": "stdout",
     "output_type": "stream",
     "text": [
      "5c9fa979-5a84-45d6-93b9-543d1a0efc41.csv  Predict Blood Donations.ipynb\r\n",
      "9db113a1-cdbe-4b1c-98c2-11590f124dd8.csv  simple_xgb.csv\r\n",
      "BloodDonationSubmissionFormat.csv\t  tensorflow_logistics.csv\r\n"
     ]
    }
   ],
   "source": [
    "!ls"
   ]
  },
  {
   "cell_type": "code",
   "execution_count": 28,
   "metadata": {},
   "outputs": [
    {
     "name": "stdout",
     "output_type": "stream",
     "text": [
      "Number of train samples:  576\n"
     ]
    },
    {
     "data": {
      "text/html": [
       "<div>\n",
       "<style>\n",
       "    .dataframe thead tr:only-child th {\n",
       "        text-align: right;\n",
       "    }\n",
       "\n",
       "    .dataframe thead th {\n",
       "        text-align: left;\n",
       "    }\n",
       "\n",
       "    .dataframe tbody tr th {\n",
       "        vertical-align: top;\n",
       "    }\n",
       "</style>\n",
       "<table border=\"1\" class=\"dataframe\">\n",
       "  <thead>\n",
       "    <tr style=\"text-align: right;\">\n",
       "      <th></th>\n",
       "      <th>Unnamed: 0</th>\n",
       "      <th>Months since Last Donation</th>\n",
       "      <th>Number of Donations</th>\n",
       "      <th>Total Volume Donated (c.c.)</th>\n",
       "      <th>Months since First Donation</th>\n",
       "      <th>Made Donation in March 2007</th>\n",
       "    </tr>\n",
       "  </thead>\n",
       "  <tbody>\n",
       "    <tr>\n",
       "      <th>0</th>\n",
       "      <td>619</td>\n",
       "      <td>2</td>\n",
       "      <td>50</td>\n",
       "      <td>12500</td>\n",
       "      <td>98</td>\n",
       "      <td>1</td>\n",
       "    </tr>\n",
       "    <tr>\n",
       "      <th>1</th>\n",
       "      <td>664</td>\n",
       "      <td>0</td>\n",
       "      <td>13</td>\n",
       "      <td>3250</td>\n",
       "      <td>28</td>\n",
       "      <td>1</td>\n",
       "    </tr>\n",
       "    <tr>\n",
       "      <th>2</th>\n",
       "      <td>441</td>\n",
       "      <td>1</td>\n",
       "      <td>16</td>\n",
       "      <td>4000</td>\n",
       "      <td>35</td>\n",
       "      <td>1</td>\n",
       "    </tr>\n",
       "    <tr>\n",
       "      <th>3</th>\n",
       "      <td>160</td>\n",
       "      <td>2</td>\n",
       "      <td>20</td>\n",
       "      <td>5000</td>\n",
       "      <td>45</td>\n",
       "      <td>1</td>\n",
       "    </tr>\n",
       "    <tr>\n",
       "      <th>4</th>\n",
       "      <td>358</td>\n",
       "      <td>1</td>\n",
       "      <td>24</td>\n",
       "      <td>6000</td>\n",
       "      <td>77</td>\n",
       "      <td>0</td>\n",
       "    </tr>\n",
       "  </tbody>\n",
       "</table>\n",
       "</div>"
      ],
      "text/plain": [
       "   Unnamed: 0  Months since Last Donation  Number of Donations  \\\n",
       "0         619                           2                   50   \n",
       "1         664                           0                   13   \n",
       "2         441                           1                   16   \n",
       "3         160                           2                   20   \n",
       "4         358                           1                   24   \n",
       "\n",
       "   Total Volume Donated (c.c.)  Months since First Donation  \\\n",
       "0                        12500                           98   \n",
       "1                         3250                           28   \n",
       "2                         4000                           35   \n",
       "3                         5000                           45   \n",
       "4                         6000                           77   \n",
       "\n",
       "   Made Donation in March 2007  \n",
       "0                            1  \n",
       "1                            1  \n",
       "2                            1  \n",
       "3                            1  \n",
       "4                            0  "
      ]
     },
     "execution_count": 28,
     "metadata": {},
     "output_type": "execute_result"
    }
   ],
   "source": [
    "train_data_df = pd.read_csv('9db113a1-cdbe-4b1c-98c2-11590f124dd8.csv')\n",
    "print('Number of train samples: ' , len(train_data_df))\n",
    "train_data_df.head()"
   ]
  },
  {
   "cell_type": "code",
   "execution_count": 29,
   "metadata": {},
   "outputs": [
    {
     "data": {
      "text/plain": [
       "Index(['Unnamed: 0', 'Months since Last Donation', 'Number of Donations',\n",
       "       'Total Volume Donated (c.c.)', 'Months since First Donation',\n",
       "       'Made Donation in March 2007'],\n",
       "      dtype='object')"
      ]
     },
     "execution_count": 29,
     "metadata": {},
     "output_type": "execute_result"
    }
   ],
   "source": [
    "train_data_df.columns"
   ]
  },
  {
   "cell_type": "code",
   "execution_count": 30,
   "metadata": {},
   "outputs": [
    {
     "name": "stdout",
     "output_type": "stream",
     "text": [
      "Lets see how the outpus are distributed\n"
     ]
    },
    {
     "data": {
      "text/plain": [
       "<matplotlib.axes._subplots.AxesSubplot at 0x7fa80bbc64a8>"
      ]
     },
     "execution_count": 30,
     "metadata": {},
     "output_type": "execute_result"
    },
    {
     "data": {
      "image/png": "[encoded data removed]",
      "text/plain": [
       "<matplotlib.figure.Figure at 0x7fa81007df28>"
      ]
     },
     "metadata": {},
     "output_type": "display_data"
    }
   ],
   "source": [
    "print('Lets see how the outpus are distributed')\n",
    "train_data_df['Made Donation in March 2007'].value_counts().plot.bar()"
   ]
  },
  {
   "cell_type": "code",
   "execution_count": 31,
   "metadata": {},
   "outputs": [
    {
     "data": {
      "text/plain": [
       "<seaborn.axisgrid.PairGrid at 0x7fa80bb4fd68>"
      ]
     },
     "execution_count": 31,
     "metadata": {},
     "output_type": "execute_result"
    },
    {
     "data": {
      "image/png": "[encoded data removed]",
      "text/plain": [
       "<matplotlib.figure.Figure at 0x7fa80bb4f630>"
      ]
     },
     "metadata": {},
     "output_type": "display_data"
    }
   ],
   "source": [
    "sns.pairplot(train_data_df[['Months since Last Donation', 'Number of Donations',\n",
    "        'Months since First Donation', 'Total Volume Donated (c.c.)', 'Made Donation in March 2007']], hue='Made Donation in March 2007')"
   ]
  },
  {
   "cell_type": "code",
   "execution_count": 32,
   "metadata": {},
   "outputs": [
    {
     "name": "stdout",
     "output_type": "stream",
     "text": [
      "Number of test samples:  200\n"
     ]
    },
    {
     "data": {
      "text/html": [
       "<div>\n",
       "<style>\n",
       "    .dataframe thead tr:only-child th {\n",
       "        text-align: right;\n",
       "    }\n",
       "\n",
       "    .dataframe thead th {\n",
       "        text-align: left;\n",
       "    }\n",
       "\n",
       "    .dataframe tbody tr th {\n",
       "        vertical-align: top;\n",
       "    }\n",
       "</style>\n",
       "<table border=\"1\" class=\"dataframe\">\n",
       "  <thead>\n",
       "    <tr style=\"text-align: right;\">\n",
       "      <th></th>\n",
       "      <th>Unnamed: 0</th>\n",
       "      <th>Months since Last Donation</th>\n",
       "      <th>Number of Donations</th>\n",
       "      <th>Total Volume Donated (c.c.)</th>\n",
       "      <th>Months since First Donation</th>\n",
       "    </tr>\n",
       "  </thead>\n",
       "  <tbody>\n",
       "    <tr>\n",
       "      <th>0</th>\n",
       "      <td>659</td>\n",
       "      <td>2</td>\n",
       "      <td>12</td>\n",
       "      <td>3000</td>\n",
       "      <td>52</td>\n",
       "    </tr>\n",
       "    <tr>\n",
       "      <th>1</th>\n",
       "      <td>276</td>\n",
       "      <td>21</td>\n",
       "      <td>7</td>\n",
       "      <td>1750</td>\n",
       "      <td>38</td>\n",
       "    </tr>\n",
       "    <tr>\n",
       "      <th>2</th>\n",
       "      <td>263</td>\n",
       "      <td>4</td>\n",
       "      <td>1</td>\n",
       "      <td>250</td>\n",
       "      <td>4</td>\n",
       "    </tr>\n",
       "    <tr>\n",
       "      <th>3</th>\n",
       "      <td>303</td>\n",
       "      <td>11</td>\n",
       "      <td>11</td>\n",
       "      <td>2750</td>\n",
       "      <td>38</td>\n",
       "    </tr>\n",
       "    <tr>\n",
       "      <th>4</th>\n",
       "      <td>83</td>\n",
       "      <td>4</td>\n",
       "      <td>12</td>\n",
       "      <td>3000</td>\n",
       "      <td>34</td>\n",
       "    </tr>\n",
       "  </tbody>\n",
       "</table>\n",
       "</div>"
      ],
      "text/plain": [
       "   Unnamed: 0  Months since Last Donation  Number of Donations  \\\n",
       "0         659                           2                   12   \n",
       "1         276                          21                    7   \n",
       "2         263                           4                    1   \n",
       "3         303                          11                   11   \n",
       "4          83                           4                   12   \n",
       "\n",
       "   Total Volume Donated (c.c.)  Months since First Donation  \n",
       "0                         3000                           52  \n",
       "1                         1750                           38  \n",
       "2                          250                            4  \n",
       "3                         2750                           38  \n",
       "4                         3000                           34  "
      ]
     },
     "execution_count": 32,
     "metadata": {},
     "output_type": "execute_result"
    }
   ],
   "source": [
    "test_data_df = pd.read_csv('5c9fa979-5a84-45d6-93b9-543d1a0efc41.csv')\n",
    "print('Number of test samples: ' , len(test_data_df))\n",
    "test_data_df.head()"
   ]
  },
  {
   "cell_type": "code",
   "execution_count": 33,
   "metadata": {},
   "outputs": [
    {
     "name": "stdout",
     "output_type": "stream",
     "text": [
      "<class 'pandas.core.frame.DataFrame'>\n",
      "RangeIndex: 576 entries, 0 to 575\n",
      "Data columns (total 6 columns):\n",
      "Unnamed: 0                     576 non-null int64\n",
      "Months since Last Donation     576 non-null int64\n",
      "Number of Donations            576 non-null int64\n",
      "Total Volume Donated (c.c.)    576 non-null int64\n",
      "Months since First Donation    576 non-null int64\n",
      "Made Donation in March 2007    576 non-null int64\n",
      "dtypes: int64(6)\n",
      "memory usage: 27.1 KB\n"
     ]
    }
   ],
   "source": [
    "train_data_df.info()"
   ]
  },
  {
   "cell_type": "code",
   "execution_count": 34,
   "metadata": {
    "collapsed": true
   },
   "outputs": [],
   "source": [
    "#  log(\"Months since First Donation\"-\"Months since Last Donation\"),\n"
   ]
  },
  {
   "cell_type": "code",
   "execution_count": 35,
   "metadata": {
    "collapsed": true
   },
   "outputs": [],
   "source": [
    "def feature_engineering(df):\n",
    "    new_df  = df.copy()\n",
    "    cols = df.columns.tolist()\n",
    "    \n",
    "    new_df['feature1'] = np.log(new_df[\"Months since First Donation\"] - new_df[\"Months since Last Donation\"] + 0.001)\n",
    "    \n",
    "    return new_df.fillna(0)\n"
   ]
  },
  {
   "cell_type": "code",
   "execution_count": 36,
   "metadata": {
    "scrolled": true
   },
   "outputs": [
    {
     "data": {
      "text/html": [
       "<div>\n",
       "<style>\n",
       "    .dataframe thead tr:only-child th {\n",
       "        text-align: right;\n",
       "    }\n",
       "\n",
       "    .dataframe thead th {\n",
       "        text-align: left;\n",
       "    }\n",
       "\n",
       "    .dataframe tbody tr th {\n",
       "        vertical-align: top;\n",
       "    }\n",
       "</style>\n",
       "<table border=\"1\" class=\"dataframe\">\n",
       "  <thead>\n",
       "    <tr style=\"text-align: right;\">\n",
       "      <th></th>\n",
       "      <th>Months since Last Donation</th>\n",
       "      <th>Number of Donations</th>\n",
       "      <th>Months since First Donation</th>\n",
       "      <th>feature1</th>\n",
       "    </tr>\n",
       "  </thead>\n",
       "  <tbody>\n",
       "    <tr>\n",
       "      <th>0</th>\n",
       "      <td>2</td>\n",
       "      <td>50</td>\n",
       "      <td>98</td>\n",
       "      <td>4.564359</td>\n",
       "    </tr>\n",
       "    <tr>\n",
       "      <th>1</th>\n",
       "      <td>0</td>\n",
       "      <td>13</td>\n",
       "      <td>28</td>\n",
       "      <td>3.332240</td>\n",
       "    </tr>\n",
       "    <tr>\n",
       "      <th>2</th>\n",
       "      <td>1</td>\n",
       "      <td>16</td>\n",
       "      <td>35</td>\n",
       "      <td>3.526390</td>\n",
       "    </tr>\n",
       "    <tr>\n",
       "      <th>3</th>\n",
       "      <td>2</td>\n",
       "      <td>20</td>\n",
       "      <td>45</td>\n",
       "      <td>3.761223</td>\n",
       "    </tr>\n",
       "    <tr>\n",
       "      <th>4</th>\n",
       "      <td>1</td>\n",
       "      <td>24</td>\n",
       "      <td>77</td>\n",
       "      <td>4.330746</td>\n",
       "    </tr>\n",
       "    <tr>\n",
       "      <th>5</th>\n",
       "      <td>4</td>\n",
       "      <td>4</td>\n",
       "      <td>4</td>\n",
       "      <td>-6.907755</td>\n",
       "    </tr>\n",
       "    <tr>\n",
       "      <th>6</th>\n",
       "      <td>2</td>\n",
       "      <td>7</td>\n",
       "      <td>14</td>\n",
       "      <td>2.484990</td>\n",
       "    </tr>\n",
       "    <tr>\n",
       "      <th>7</th>\n",
       "      <td>1</td>\n",
       "      <td>12</td>\n",
       "      <td>35</td>\n",
       "      <td>3.526390</td>\n",
       "    </tr>\n",
       "    <tr>\n",
       "      <th>8</th>\n",
       "      <td>5</td>\n",
       "      <td>46</td>\n",
       "      <td>98</td>\n",
       "      <td>4.532610</td>\n",
       "    </tr>\n",
       "    <tr>\n",
       "      <th>9</th>\n",
       "      <td>0</td>\n",
       "      <td>3</td>\n",
       "      <td>4</td>\n",
       "      <td>1.386544</td>\n",
       "    </tr>\n",
       "    <tr>\n",
       "      <th>10</th>\n",
       "      <td>2</td>\n",
       "      <td>10</td>\n",
       "      <td>28</td>\n",
       "      <td>3.258135</td>\n",
       "    </tr>\n",
       "    <tr>\n",
       "      <th>11</th>\n",
       "      <td>1</td>\n",
       "      <td>13</td>\n",
       "      <td>47</td>\n",
       "      <td>3.828663</td>\n",
       "    </tr>\n",
       "    <tr>\n",
       "      <th>12</th>\n",
       "      <td>2</td>\n",
       "      <td>6</td>\n",
       "      <td>15</td>\n",
       "      <td>2.565026</td>\n",
       "    </tr>\n",
       "    <tr>\n",
       "      <th>13</th>\n",
       "      <td>2</td>\n",
       "      <td>5</td>\n",
       "      <td>11</td>\n",
       "      <td>2.197336</td>\n",
       "    </tr>\n",
       "    <tr>\n",
       "      <th>14</th>\n",
       "      <td>2</td>\n",
       "      <td>14</td>\n",
       "      <td>48</td>\n",
       "      <td>3.828663</td>\n",
       "    </tr>\n",
       "    <tr>\n",
       "      <th>15</th>\n",
       "      <td>2</td>\n",
       "      <td>15</td>\n",
       "      <td>49</td>\n",
       "      <td>3.850169</td>\n",
       "    </tr>\n",
       "    <tr>\n",
       "      <th>16</th>\n",
       "      <td>2</td>\n",
       "      <td>6</td>\n",
       "      <td>15</td>\n",
       "      <td>2.565026</td>\n",
       "    </tr>\n",
       "    <tr>\n",
       "      <th>17</th>\n",
       "      <td>2</td>\n",
       "      <td>3</td>\n",
       "      <td>4</td>\n",
       "      <td>0.693647</td>\n",
       "    </tr>\n",
       "    <tr>\n",
       "      <th>18</th>\n",
       "      <td>2</td>\n",
       "      <td>3</td>\n",
       "      <td>4</td>\n",
       "      <td>0.693647</td>\n",
       "    </tr>\n",
       "    <tr>\n",
       "      <th>19</th>\n",
       "      <td>4</td>\n",
       "      <td>11</td>\n",
       "      <td>28</td>\n",
       "      <td>3.178095</td>\n",
       "    </tr>\n",
       "    <tr>\n",
       "      <th>20</th>\n",
       "      <td>2</td>\n",
       "      <td>6</td>\n",
       "      <td>16</td>\n",
       "      <td>2.639129</td>\n",
       "    </tr>\n",
       "    <tr>\n",
       "      <th>21</th>\n",
       "      <td>2</td>\n",
       "      <td>6</td>\n",
       "      <td>16</td>\n",
       "      <td>2.639129</td>\n",
       "    </tr>\n",
       "    <tr>\n",
       "      <th>22</th>\n",
       "      <td>4</td>\n",
       "      <td>14</td>\n",
       "      <td>40</td>\n",
       "      <td>3.583547</td>\n",
       "    </tr>\n",
       "    <tr>\n",
       "      <th>23</th>\n",
       "      <td>4</td>\n",
       "      <td>6</td>\n",
       "      <td>14</td>\n",
       "      <td>2.302685</td>\n",
       "    </tr>\n",
       "    <tr>\n",
       "      <th>24</th>\n",
       "      <td>4</td>\n",
       "      <td>8</td>\n",
       "      <td>21</td>\n",
       "      <td>2.833272</td>\n",
       "    </tr>\n",
       "    <tr>\n",
       "      <th>25</th>\n",
       "      <td>1</td>\n",
       "      <td>14</td>\n",
       "      <td>58</td>\n",
       "      <td>4.043069</td>\n",
       "    </tr>\n",
       "    <tr>\n",
       "      <th>26</th>\n",
       "      <td>4</td>\n",
       "      <td>10</td>\n",
       "      <td>28</td>\n",
       "      <td>3.178095</td>\n",
       "    </tr>\n",
       "    <tr>\n",
       "      <th>27</th>\n",
       "      <td>4</td>\n",
       "      <td>10</td>\n",
       "      <td>28</td>\n",
       "      <td>3.178095</td>\n",
       "    </tr>\n",
       "    <tr>\n",
       "      <th>28</th>\n",
       "      <td>2</td>\n",
       "      <td>16</td>\n",
       "      <td>64</td>\n",
       "      <td>4.127151</td>\n",
       "    </tr>\n",
       "    <tr>\n",
       "      <th>29</th>\n",
       "      <td>2</td>\n",
       "      <td>8</td>\n",
       "      <td>28</td>\n",
       "      <td>3.258135</td>\n",
       "    </tr>\n",
       "    <tr>\n",
       "      <th>...</th>\n",
       "      <td>...</td>\n",
       "      <td>...</td>\n",
       "      <td>...</td>\n",
       "      <td>...</td>\n",
       "    </tr>\n",
       "    <tr>\n",
       "      <th>546</th>\n",
       "      <td>11</td>\n",
       "      <td>4</td>\n",
       "      <td>74</td>\n",
       "      <td>4.143151</td>\n",
       "    </tr>\n",
       "    <tr>\n",
       "      <th>547</th>\n",
       "      <td>21</td>\n",
       "      <td>6</td>\n",
       "      <td>48</td>\n",
       "      <td>3.295874</td>\n",
       "    </tr>\n",
       "    <tr>\n",
       "      <th>548</th>\n",
       "      <td>23</td>\n",
       "      <td>2</td>\n",
       "      <td>23</td>\n",
       "      <td>-6.907755</td>\n",
       "    </tr>\n",
       "    <tr>\n",
       "      <th>549</th>\n",
       "      <td>23</td>\n",
       "      <td>6</td>\n",
       "      <td>45</td>\n",
       "      <td>3.091088</td>\n",
       "    </tr>\n",
       "    <tr>\n",
       "      <th>550</th>\n",
       "      <td>14</td>\n",
       "      <td>2</td>\n",
       "      <td>35</td>\n",
       "      <td>3.044570</td>\n",
       "    </tr>\n",
       "    <tr>\n",
       "      <th>551</th>\n",
       "      <td>16</td>\n",
       "      <td>4</td>\n",
       "      <td>58</td>\n",
       "      <td>3.737693</td>\n",
       "    </tr>\n",
       "    <tr>\n",
       "      <th>552</th>\n",
       "      <td>16</td>\n",
       "      <td>5</td>\n",
       "      <td>71</td>\n",
       "      <td>4.007351</td>\n",
       "    </tr>\n",
       "    <tr>\n",
       "      <th>553</th>\n",
       "      <td>21</td>\n",
       "      <td>2</td>\n",
       "      <td>26</td>\n",
       "      <td>1.609638</td>\n",
       "    </tr>\n",
       "    <tr>\n",
       "      <th>554</th>\n",
       "      <td>21</td>\n",
       "      <td>3</td>\n",
       "      <td>35</td>\n",
       "      <td>2.639129</td>\n",
       "    </tr>\n",
       "    <tr>\n",
       "      <th>555</th>\n",
       "      <td>23</td>\n",
       "      <td>8</td>\n",
       "      <td>69</td>\n",
       "      <td>3.828663</td>\n",
       "    </tr>\n",
       "    <tr>\n",
       "      <th>556</th>\n",
       "      <td>21</td>\n",
       "      <td>3</td>\n",
       "      <td>38</td>\n",
       "      <td>2.833272</td>\n",
       "    </tr>\n",
       "    <tr>\n",
       "      <th>557</th>\n",
       "      <td>21</td>\n",
       "      <td>3</td>\n",
       "      <td>40</td>\n",
       "      <td>2.944492</td>\n",
       "    </tr>\n",
       "    <tr>\n",
       "      <th>558</th>\n",
       "      <td>21</td>\n",
       "      <td>1</td>\n",
       "      <td>21</td>\n",
       "      <td>-6.907755</td>\n",
       "    </tr>\n",
       "    <tr>\n",
       "      <th>559</th>\n",
       "      <td>21</td>\n",
       "      <td>1</td>\n",
       "      <td>21</td>\n",
       "      <td>-6.907755</td>\n",
       "    </tr>\n",
       "    <tr>\n",
       "      <th>560</th>\n",
       "      <td>25</td>\n",
       "      <td>6</td>\n",
       "      <td>50</td>\n",
       "      <td>3.218916</td>\n",
       "    </tr>\n",
       "    <tr>\n",
       "      <th>561</th>\n",
       "      <td>21</td>\n",
       "      <td>1</td>\n",
       "      <td>21</td>\n",
       "      <td>-6.907755</td>\n",
       "    </tr>\n",
       "    <tr>\n",
       "      <th>562</th>\n",
       "      <td>21</td>\n",
       "      <td>1</td>\n",
       "      <td>21</td>\n",
       "      <td>-6.907755</td>\n",
       "    </tr>\n",
       "    <tr>\n",
       "      <th>563</th>\n",
       "      <td>23</td>\n",
       "      <td>3</td>\n",
       "      <td>39</td>\n",
       "      <td>2.772651</td>\n",
       "    </tr>\n",
       "    <tr>\n",
       "      <th>564</th>\n",
       "      <td>21</td>\n",
       "      <td>2</td>\n",
       "      <td>33</td>\n",
       "      <td>2.484990</td>\n",
       "    </tr>\n",
       "    <tr>\n",
       "      <th>565</th>\n",
       "      <td>14</td>\n",
       "      <td>3</td>\n",
       "      <td>79</td>\n",
       "      <td>4.174403</td>\n",
       "    </tr>\n",
       "    <tr>\n",
       "      <th>566</th>\n",
       "      <td>23</td>\n",
       "      <td>1</td>\n",
       "      <td>23</td>\n",
       "      <td>-6.907755</td>\n",
       "    </tr>\n",
       "    <tr>\n",
       "      <th>567</th>\n",
       "      <td>23</td>\n",
       "      <td>1</td>\n",
       "      <td>23</td>\n",
       "      <td>-6.907755</td>\n",
       "    </tr>\n",
       "    <tr>\n",
       "      <th>568</th>\n",
       "      <td>23</td>\n",
       "      <td>1</td>\n",
       "      <td>23</td>\n",
       "      <td>-6.907755</td>\n",
       "    </tr>\n",
       "    <tr>\n",
       "      <th>569</th>\n",
       "      <td>23</td>\n",
       "      <td>1</td>\n",
       "      <td>23</td>\n",
       "      <td>-6.907755</td>\n",
       "    </tr>\n",
       "    <tr>\n",
       "      <th>570</th>\n",
       "      <td>23</td>\n",
       "      <td>1</td>\n",
       "      <td>23</td>\n",
       "      <td>-6.907755</td>\n",
       "    </tr>\n",
       "    <tr>\n",
       "      <th>571</th>\n",
       "      <td>23</td>\n",
       "      <td>1</td>\n",
       "      <td>23</td>\n",
       "      <td>-6.907755</td>\n",
       "    </tr>\n",
       "    <tr>\n",
       "      <th>572</th>\n",
       "      <td>16</td>\n",
       "      <td>3</td>\n",
       "      <td>86</td>\n",
       "      <td>4.248510</td>\n",
       "    </tr>\n",
       "    <tr>\n",
       "      <th>573</th>\n",
       "      <td>21</td>\n",
       "      <td>2</td>\n",
       "      <td>52</td>\n",
       "      <td>3.434019</td>\n",
       "    </tr>\n",
       "    <tr>\n",
       "      <th>574</th>\n",
       "      <td>39</td>\n",
       "      <td>1</td>\n",
       "      <td>39</td>\n",
       "      <td>-6.907755</td>\n",
       "    </tr>\n",
       "    <tr>\n",
       "      <th>575</th>\n",
       "      <td>72</td>\n",
       "      <td>1</td>\n",
       "      <td>72</td>\n",
       "      <td>-6.907755</td>\n",
       "    </tr>\n",
       "  </tbody>\n",
       "</table>\n",
       "<p>576 rows × 4 columns</p>\n",
       "</div>"
      ],
      "text/plain": [
       "     Months since Last Donation  Number of Donations  \\\n",
       "0                             2                   50   \n",
       "1                             0                   13   \n",
       "2                             1                   16   \n",
       "3                             2                   20   \n",
       "4                             1                   24   \n",
       "5                             4                    4   \n",
       "6                             2                    7   \n",
       "7                             1                   12   \n",
       "8                             5                   46   \n",
       "9                             0                    3   \n",
       "10                            2                   10   \n",
       "11                            1                   13   \n",
       "12                            2                    6   \n",
       "13                            2                    5   \n",
       "14                            2                   14   \n",
       "15                            2                   15   \n",
       "16                            2                    6   \n",
       "17                            2                    3   \n",
       "18                            2                    3   \n",
       "19                            4                   11   \n",
       "20                            2                    6   \n",
       "21                            2                    6   \n",
       "22                            4                   14   \n",
       "23                            4                    6   \n",
       "24                            4                    8   \n",
       "25                            1                   14   \n",
       "26                            4                   10   \n",
       "27                            4                   10   \n",
       "28                            2                   16   \n",
       "29                            2                    8   \n",
       "..                          ...                  ...   \n",
       "546                          11                    4   \n",
       "547                          21                    6   \n",
       "548                          23                    2   \n",
       "549                          23                    6   \n",
       "550                          14                    2   \n",
       "551                          16                    4   \n",
       "552                          16                    5   \n",
       "553                          21                    2   \n",
       "554                          21                    3   \n",
       "555                          23                    8   \n",
       "556                          21                    3   \n",
       "557                          21                    3   \n",
       "558                          21                    1   \n",
       "559                          21                    1   \n",
       "560                          25                    6   \n",
       "561                          21                    1   \n",
       "562                          21                    1   \n",
       "563                          23                    3   \n",
       "564                          21                    2   \n",
       "565                          14                    3   \n",
       "566                          23                    1   \n",
       "567                          23                    1   \n",
       "568                          23                    1   \n",
       "569                          23                    1   \n",
       "570                          23                    1   \n",
       "571                          23                    1   \n",
       "572                          16                    3   \n",
       "573                          21                    2   \n",
       "574                          39                    1   \n",
       "575                          72                    1   \n",
       "\n",
       "     Months since First Donation  feature1  \n",
       "0                             98  4.564359  \n",
       "1                             28  3.332240  \n",
       "2                             35  3.526390  \n",
       "3                             45  3.761223  \n",
       "4                             77  4.330746  \n",
       "5                              4 -6.907755  \n",
       "6                             14  2.484990  \n",
       "7                             35  3.526390  \n",
       "8                             98  4.532610  \n",
       "9                              4  1.386544  \n",
       "10                            28  3.258135  \n",
       "11                            47  3.828663  \n",
       "12                            15  2.565026  \n",
       "13                            11  2.197336  \n",
       "14                            48  3.828663  \n",
       "15                            49  3.850169  \n",
       "16                            15  2.565026  \n",
       "17                             4  0.693647  \n",
       "18                             4  0.693647  \n",
       "19                            28  3.178095  \n",
       "20                            16  2.639129  \n",
       "21                            16  2.639129  \n",
       "22                            40  3.583547  \n",
       "23                            14  2.302685  \n",
       "24                            21  2.833272  \n",
       "25                            58  4.043069  \n",
       "26                            28  3.178095  \n",
       "27                            28  3.178095  \n",
       "28                            64  4.127151  \n",
       "29                            28  3.258135  \n",
       "..                           ...       ...  \n",
       "546                           74  4.143151  \n",
       "547                           48  3.295874  \n",
       "548                           23 -6.907755  \n",
       "549                           45  3.091088  \n",
       "550                           35  3.044570  \n",
       "551                           58  3.737693  \n",
       "552                           71  4.007351  \n",
       "553                           26  1.609638  \n",
       "554                           35  2.639129  \n",
       "555                           69  3.828663  \n",
       "556                           38  2.833272  \n",
       "557                           40  2.944492  \n",
       "558                           21 -6.907755  \n",
       "559                           21 -6.907755  \n",
       "560                           50  3.218916  \n",
       "561                           21 -6.907755  \n",
       "562                           21 -6.907755  \n",
       "563                           39  2.772651  \n",
       "564                           33  2.484990  \n",
       "565                           79  4.174403  \n",
       "566                           23 -6.907755  \n",
       "567                           23 -6.907755  \n",
       "568                           23 -6.907755  \n",
       "569                           23 -6.907755  \n",
       "570                           23 -6.907755  \n",
       "571                           23 -6.907755  \n",
       "572                           86  4.248510  \n",
       "573                           52  3.434019  \n",
       "574                           39 -6.907755  \n",
       "575                           72 -6.907755  \n",
       "\n",
       "[576 rows x 4 columns]"
      ]
     },
     "execution_count": 36,
     "metadata": {},
     "output_type": "execute_result"
    }
   ],
   "source": [
    "train_data_featured = feature_engineering(train_data_df[['Months since Last Donation', 'Number of Donations',\n",
    "        'Months since First Donation']])\n",
    "test_data_featured = feature_engineering(test_data_df[['Months since Last Donation', 'Number of Donations',\n",
    "        'Months since First Donation']])\n",
    "train_data_featured"
   ]
  },
  {
   "cell_type": "code",
   "execution_count": 37,
   "metadata": {},
   "outputs": [
    {
     "data": {
      "text/plain": [
       "Index(['Months since Last Donation', 'Number of Donations',\n",
       "       'Months since First Donation', 'feature1'],\n",
       "      dtype='object')"
      ]
     },
     "execution_count": 37,
     "metadata": {},
     "output_type": "execute_result"
    }
   ],
   "source": [
    "train_data_featured.columns"
   ]
  },
  {
   "cell_type": "code",
   "execution_count": 38,
   "metadata": {},
   "outputs": [
    {
     "name": "stdout",
     "output_type": "stream",
     "text": [
      "Number of features:  576\n",
      "Number of feature arrtributes:  4\n"
     ]
    }
   ],
   "source": [
    "# Pull out target variable\n",
    "y_vals = train_data_df['Made Donation in March 2007'].values\n",
    "#Pull out features\n",
    "x_vals = np.array([x[0:] for x in train_data_featured.values.tolist()])\n",
    "\n",
    "print('Number of features: ', x_vals.shape[0])\n",
    "print('Number of feature arrtributes: ', x_vals.shape[1])\n",
    "# x_vals"
   ]
  },
  {
   "cell_type": "code",
   "execution_count": 39,
   "metadata": {
    "collapsed": true
   },
   "outputs": [],
   "source": [
    "test_data_vals = test_data_featured.values.tolist()\n",
    "x_vals_test = np.array([x[0:] for x in test_data_vals])\n",
    "\n",
    "# x_vals_test[:10]"
   ]
  },
  {
   "cell_type": "code",
   "execution_count": 40,
   "metadata": {
    "collapsed": true
   },
   "outputs": [],
   "source": [
    "# Split data into train/test = 80%/20%\n",
    "train_indices = np.random.choice(len(x_vals), round(len(x_vals)*0.7), replace=False)\n",
    "validation_indices = np.array(list(set(range(len(x_vals))) - set(train_indices)))\n",
    "x_vals_train = x_vals[train_indices]\n",
    "x_vals_validation = x_vals[validation_indices]\n",
    "y_vals_train = y_vals[train_indices]\n",
    "y_vals_validation = y_vals[validation_indices]"
   ]
  },
  {
   "cell_type": "markdown",
   "metadata": {},
   "source": [
    "$Log loss = - \\frac{1}{n} \\sum_{i=1}^n \\left[ y_i \\log(\\hat{y}_i) + (1 - y_i) \\log(1 - \\hat{y}_i)\\right]$\n"
   ]
  },
  {
   "cell_type": "markdown",
   "metadata": {},
   "source": [
    "# XGBoost\n",
    "\n",
    "-https://www.slideshare.net/ShangxuanZhang/kaggle-winning-solution-xgboost-algorithm-let-us-learn-from-its-author \n",
    "- https://www.analyticsvidhya.com/blog/2016/03/complete-guide-parameter-tuning-xgboost-with-codes-python/\n",
    "- http://xgboost.readthedocs.io/en/latest/parameter.html\n",
    "- https://github.com/dmlc/xgboost/tree/master/demo/guide-python\n",
    "- http://xgboost.readthedocs.io/en/latest/python/python_api.html\n",
    "\n",
    "Reference: https://www.kaggle.com/wangyijia/xgboost-tfidf-logloss-0-3/code   \n",
    "https://jessesw.com/XG-Boost/"
   ]
  },
  {
   "cell_type": "code",
   "execution_count": 83,
   "metadata": {
    "scrolled": true
   },
   "outputs": [],
   "source": [
    "from numpy import loadtxt\n",
    "from xgboost import XGBClassifier\n",
    "from sklearn.model_selection import train_test_split\n",
    "from sklearn.metrics import accuracy_score\n",
    "from sklearn.grid_search import GridSearchCV\n",
    "from xgboost.sklearn import XGBClassifier\n",
    "from sklearn.model_selection import RandomizedSearchCV\n",
    "from numpy import loadtxt\n",
    "from xgboost import XGBClassifier\n",
    "import xgboost as xgb"
   ]
  },
  {
   "cell_type": "code",
   "execution_count": 42,
   "metadata": {
    "collapsed": true
   },
   "outputs": [],
   "source": [
    "# Set our parameters for xgboost\n",
    "params = {}\n",
    "params['objective'] = 'binary:logistic'\n",
    "params['eval_metric'] = 'logloss'\n",
    "params['eta'] = 0.01\n",
    "params['max_depth'] = 7"
   ]
  },
  {
   "cell_type": "markdown",
   "metadata": {},
   "source": [
    "## With XG-CV"
   ]
  },
  {
   "cell_type": "code",
   "execution_count": 49,
   "metadata": {
    "scrolled": true
   },
   "outputs": [
    {
     "name": "stdout",
     "output_type": "stream",
     "text": [
      "[0]\ttrain-logloss:0.689085+0.000214464\ttest-logloss:0.690076+0.000291923\n",
      "[10]\ttrain-logloss:0.652563+0.00196532\ttest-logloss:0.662598+0.00286333\n",
      "[20]\ttrain-logloss:0.621586+0.00367553\ttest-logloss:0.640357+0.00529023\n",
      "[30]\ttrain-logloss:0.595094+0.00526943\ttest-logloss:0.621963+0.00749158\n",
      "[40]\ttrain-logloss:0.572174+0.00694709\ttest-logloss:0.607041+0.00933151\n",
      "[50]\ttrain-logloss:0.551632+0.00827167\ttest-logloss:0.594516+0.0121229\n",
      "[60]\ttrain-logloss:0.53295+0.00966136\ttest-logloss:0.584933+0.0150128\n",
      "[70]\ttrain-logloss:0.516422+0.0109158\ttest-logloss:0.577198+0.0174692\n",
      "[80]\ttrain-logloss:0.501821+0.0119193\ttest-logloss:0.570967+0.0200238\n",
      "[90]\ttrain-logloss:0.488648+0.0127702\ttest-logloss:0.566388+0.0223163\n",
      "[100]\ttrain-logloss:0.476763+0.0134676\ttest-logloss:0.563227+0.0245878\n",
      "[110]\ttrain-logloss:0.465984+0.0140237\ttest-logloss:0.560885+0.026786\n",
      "[120]\ttrain-logloss:0.456346+0.0145762\ttest-logloss:0.559448+0.0291181\n",
      "[130]\ttrain-logloss:0.447554+0.0150892\ttest-logloss:0.558754+0.0316628\n",
      "[140]\ttrain-logloss:0.439345+0.0154453\ttest-logloss:0.558444+0.0342001\n",
      "[150]\ttrain-logloss:0.431742+0.0159141\ttest-logloss:0.558807+0.0366105\n",
      "[160]\ttrain-logloss:0.4247+0.0162626\ttest-logloss:0.559783+0.0387441\n",
      "[170]\ttrain-logloss:0.41814+0.0165857\ttest-logloss:0.560764+0.0409117\n",
      "[180]\ttrain-logloss:0.412099+0.0169353\ttest-logloss:0.561773+0.0430469\n",
      "[190]\ttrain-logloss:0.406407+0.0174748\ttest-logloss:0.56287+0.0450484\n"
     ]
    }
   ],
   "source": [
    "d_train = xgb.DMatrix(x_vals_train, label=y_vals_train)\n",
    "\n",
    "bst = xgb.cv(params=params, dtrain=d_train, num_boost_round=1000,\n",
    "             early_stopping_rounds=50, verbose_eval=10, nfold=5, seed=42)\n"
   ]
  },
  {
   "cell_type": "markdown",
   "metadata": {},
   "source": [
    "# Grid Search\n",
    "\n",
    "\n",
    "We will use an approach similar to that of GBM here. The various steps to be performed are:\n",
    "\n",
    "- Choose a relatively high learning rate. Generally a learning rate of 0.1 works but somewhere between 0.05 to 0.3 should work for different problems. Determine the optimum number of trees for this learning rate. XGBoost has a very useful function called as “cv” which performs cross-validation at each boosting iteration and thus returns the optimum number of trees required.\n",
    "- Tune tree-specific parameters ( max_depth, min_child_weight, gamma, subsample, colsample_bytree) for decided learning rate and number of trees. Note that we can choose different parameters to define a tree and I’ll take up an example here.\n",
    "- Tune regularization parameters (lambda, alpha) for xgboost which can help reduce model complexity and enhance performance.\n",
    "- Lower the learning rate and decide the optimal parameters .\n"
   ]
  },
  {
   "cell_type": "code",
   "execution_count": 52,
   "metadata": {},
   "outputs": [
    {
     "name": "stdout",
     "output_type": "stream",
     "text": [
      "[0]\tvalidation_0-logloss:0.661621\tvalidation_1-logloss:0.654535\n",
      "Multiple eval metrics have been passed: 'validation_1-logloss' will be used for early stopping.\n",
      "\n",
      "Will train until validation_1-logloss hasn't improved in 30 rounds.\n",
      "[1]\tvalidation_0-logloss:0.633485\tvalidation_1-logloss:0.621866\n",
      "[2]\tvalidation_0-logloss:0.610823\tvalidation_1-logloss:0.594753\n",
      "[3]\tvalidation_0-logloss:0.589651\tvalidation_1-logloss:0.57118\n",
      "[4]\tvalidation_0-logloss:0.574667\tvalidation_1-logloss:0.554059\n",
      "[5]\tvalidation_0-logloss:0.560315\tvalidation_1-logloss:0.536473\n",
      "[6]\tvalidation_0-logloss:0.549328\tvalidation_1-logloss:0.52144\n",
      "[7]\tvalidation_0-logloss:0.538345\tvalidation_1-logloss:0.509673\n",
      "[8]\tvalidation_0-logloss:0.528511\tvalidation_1-logloss:0.495835\n",
      "[9]\tvalidation_0-logloss:0.519544\tvalidation_1-logloss:0.48476\n",
      "[10]\tvalidation_0-logloss:0.511304\tvalidation_1-logloss:0.476717\n",
      "[11]\tvalidation_0-logloss:0.505667\tvalidation_1-logloss:0.470032\n",
      "[12]\tvalidation_0-logloss:0.50116\tvalidation_1-logloss:0.462942\n",
      "[13]\tvalidation_0-logloss:0.49549\tvalidation_1-logloss:0.456029\n",
      "[14]\tvalidation_0-logloss:0.490634\tvalidation_1-logloss:0.449838\n",
      "[15]\tvalidation_0-logloss:0.486303\tvalidation_1-logloss:0.445166\n",
      "[16]\tvalidation_0-logloss:0.483219\tvalidation_1-logloss:0.44006\n",
      "[17]\tvalidation_0-logloss:0.48008\tvalidation_1-logloss:0.436018\n",
      "[18]\tvalidation_0-logloss:0.477333\tvalidation_1-logloss:0.431609\n",
      "[19]\tvalidation_0-logloss:0.473993\tvalidation_1-logloss:0.427884\n",
      "[20]\tvalidation_0-logloss:0.471825\tvalidation_1-logloss:0.425031\n",
      "[21]\tvalidation_0-logloss:0.469374\tvalidation_1-logloss:0.42192\n",
      "[22]\tvalidation_0-logloss:0.46727\tvalidation_1-logloss:0.42018\n",
      "[23]\tvalidation_0-logloss:0.46517\tvalidation_1-logloss:0.416847\n",
      "[24]\tvalidation_0-logloss:0.463743\tvalidation_1-logloss:0.414874\n",
      "[25]\tvalidation_0-logloss:0.462097\tvalidation_1-logloss:0.41486\n",
      "[26]\tvalidation_0-logloss:0.460281\tvalidation_1-logloss:0.411699\n",
      "[27]\tvalidation_0-logloss:0.459328\tvalidation_1-logloss:0.409681\n",
      "[28]\tvalidation_0-logloss:0.458106\tvalidation_1-logloss:0.408674\n",
      "[29]\tvalidation_0-logloss:0.456445\tvalidation_1-logloss:0.408158\n",
      "[30]\tvalidation_0-logloss:0.454479\tvalidation_1-logloss:0.408867\n",
      "[31]\tvalidation_0-logloss:0.452922\tvalidation_1-logloss:0.40907\n",
      "[32]\tvalidation_0-logloss:0.450653\tvalidation_1-logloss:0.408769\n",
      "[33]\tvalidation_0-logloss:0.449206\tvalidation_1-logloss:0.407983\n",
      "[34]\tvalidation_0-logloss:0.448541\tvalidation_1-logloss:0.406989\n",
      "[35]\tvalidation_0-logloss:0.447097\tvalidation_1-logloss:0.40653\n",
      "[36]\tvalidation_0-logloss:0.446005\tvalidation_1-logloss:0.404\n",
      "[37]\tvalidation_0-logloss:0.445016\tvalidation_1-logloss:0.403825\n",
      "[38]\tvalidation_0-logloss:0.444075\tvalidation_1-logloss:0.403846\n",
      "[39]\tvalidation_0-logloss:0.442556\tvalidation_1-logloss:0.404221\n",
      "[40]\tvalidation_0-logloss:0.441234\tvalidation_1-logloss:0.402424\n",
      "[41]\tvalidation_0-logloss:0.439556\tvalidation_1-logloss:0.403617\n",
      "[42]\tvalidation_0-logloss:0.438998\tvalidation_1-logloss:0.404569\n",
      "[43]\tvalidation_0-logloss:0.438172\tvalidation_1-logloss:0.403816\n",
      "[44]\tvalidation_0-logloss:0.436979\tvalidation_1-logloss:0.402696\n",
      "[45]\tvalidation_0-logloss:0.435524\tvalidation_1-logloss:0.403434\n",
      "[46]\tvalidation_0-logloss:0.433891\tvalidation_1-logloss:0.404038\n",
      "[47]\tvalidation_0-logloss:0.432753\tvalidation_1-logloss:0.405251\n",
      "[48]\tvalidation_0-logloss:0.431208\tvalidation_1-logloss:0.404118\n",
      "[49]\tvalidation_0-logloss:0.430199\tvalidation_1-logloss:0.404677\n",
      "[50]\tvalidation_0-logloss:0.429589\tvalidation_1-logloss:0.40359\n",
      "[51]\tvalidation_0-logloss:0.428949\tvalidation_1-logloss:0.404556\n",
      "[52]\tvalidation_0-logloss:0.4282\tvalidation_1-logloss:0.406265\n",
      "[53]\tvalidation_0-logloss:0.427198\tvalidation_1-logloss:0.405145\n",
      "[54]\tvalidation_0-logloss:0.426428\tvalidation_1-logloss:0.405516\n",
      "[55]\tvalidation_0-logloss:0.424856\tvalidation_1-logloss:0.40595\n",
      "[56]\tvalidation_0-logloss:0.423976\tvalidation_1-logloss:0.405092\n",
      "[57]\tvalidation_0-logloss:0.422856\tvalidation_1-logloss:0.405733\n",
      "[58]\tvalidation_0-logloss:0.421948\tvalidation_1-logloss:0.405353\n",
      "[59]\tvalidation_0-logloss:0.420973\tvalidation_1-logloss:0.403974\n",
      "[60]\tvalidation_0-logloss:0.420717\tvalidation_1-logloss:0.404549\n",
      "[61]\tvalidation_0-logloss:0.420474\tvalidation_1-logloss:0.404677\n",
      "[62]\tvalidation_0-logloss:0.419998\tvalidation_1-logloss:0.404283\n",
      "[63]\tvalidation_0-logloss:0.419076\tvalidation_1-logloss:0.403907\n",
      "[64]\tvalidation_0-logloss:0.41842\tvalidation_1-logloss:0.403553\n",
      "[65]\tvalidation_0-logloss:0.417573\tvalidation_1-logloss:0.404065\n",
      "[66]\tvalidation_0-logloss:0.416724\tvalidation_1-logloss:0.403275\n",
      "[67]\tvalidation_0-logloss:0.416243\tvalidation_1-logloss:0.402512\n",
      "[68]\tvalidation_0-logloss:0.416138\tvalidation_1-logloss:0.401124\n",
      "[69]\tvalidation_0-logloss:0.415654\tvalidation_1-logloss:0.402535\n",
      "[70]\tvalidation_0-logloss:0.414786\tvalidation_1-logloss:0.401611\n",
      "[71]\tvalidation_0-logloss:0.414395\tvalidation_1-logloss:0.402487\n",
      "[72]\tvalidation_0-logloss:0.414064\tvalidation_1-logloss:0.402476\n",
      "[73]\tvalidation_0-logloss:0.413492\tvalidation_1-logloss:0.401726\n",
      "[74]\tvalidation_0-logloss:0.412091\tvalidation_1-logloss:0.403334\n",
      "[75]\tvalidation_0-logloss:0.411286\tvalidation_1-logloss:0.404241\n",
      "[76]\tvalidation_0-logloss:0.410454\tvalidation_1-logloss:0.404184\n",
      "[77]\tvalidation_0-logloss:0.410041\tvalidation_1-logloss:0.403528\n",
      "[78]\tvalidation_0-logloss:0.409657\tvalidation_1-logloss:0.403787\n",
      "[79]\tvalidation_0-logloss:0.409308\tvalidation_1-logloss:0.40345\n",
      "[80]\tvalidation_0-logloss:0.408619\tvalidation_1-logloss:0.403226\n",
      "[81]\tvalidation_0-logloss:0.407587\tvalidation_1-logloss:0.402454\n",
      "[82]\tvalidation_0-logloss:0.40657\tvalidation_1-logloss:0.400185\n",
      "[83]\tvalidation_0-logloss:0.406098\tvalidation_1-logloss:0.39958\n",
      "[84]\tvalidation_0-logloss:0.405477\tvalidation_1-logloss:0.400081\n",
      "[85]\tvalidation_0-logloss:0.404631\tvalidation_1-logloss:0.400526\n",
      "[86]\tvalidation_0-logloss:0.404135\tvalidation_1-logloss:0.399411\n",
      "[87]\tvalidation_0-logloss:0.403662\tvalidation_1-logloss:0.399998\n",
      "[88]\tvalidation_0-logloss:0.403243\tvalidation_1-logloss:0.400473\n",
      "[89]\tvalidation_0-logloss:0.402739\tvalidation_1-logloss:0.401698\n",
      "[90]\tvalidation_0-logloss:0.402312\tvalidation_1-logloss:0.402495\n",
      "[91]\tvalidation_0-logloss:0.401508\tvalidation_1-logloss:0.402903\n",
      "[92]\tvalidation_0-logloss:0.400505\tvalidation_1-logloss:0.402245\n",
      "[93]\tvalidation_0-logloss:0.400056\tvalidation_1-logloss:0.402845\n",
      "[94]\tvalidation_0-logloss:0.399366\tvalidation_1-logloss:0.403403\n",
      "[95]\tvalidation_0-logloss:0.398475\tvalidation_1-logloss:0.402381\n",
      "[96]\tvalidation_0-logloss:0.397839\tvalidation_1-logloss:0.402603\n",
      "[97]\tvalidation_0-logloss:0.397465\tvalidation_1-logloss:0.402257\n",
      "[98]\tvalidation_0-logloss:0.396868\tvalidation_1-logloss:0.401419\n",
      "[99]\tvalidation_0-logloss:0.395922\tvalidation_1-logloss:0.401644\n",
      "[100]\tvalidation_0-logloss:0.395409\tvalidation_1-logloss:0.400117\n",
      "[101]\tvalidation_0-logloss:0.393978\tvalidation_1-logloss:0.40002\n",
      "[102]\tvalidation_0-logloss:0.392974\tvalidation_1-logloss:0.401271\n",
      "[103]\tvalidation_0-logloss:0.391995\tvalidation_1-logloss:0.403408\n",
      "[104]\tvalidation_0-logloss:0.391638\tvalidation_1-logloss:0.40396\n",
      "[105]\tvalidation_0-logloss:0.391211\tvalidation_1-logloss:0.403722\n",
      "[106]\tvalidation_0-logloss:0.390782\tvalidation_1-logloss:0.40478\n",
      "[107]\tvalidation_0-logloss:0.390037\tvalidation_1-logloss:0.406465\n",
      "[108]\tvalidation_0-logloss:0.389777\tvalidation_1-logloss:0.407076\n",
      "[109]\tvalidation_0-logloss:0.389274\tvalidation_1-logloss:0.407051\n",
      "[110]\tvalidation_0-logloss:0.389037\tvalidation_1-logloss:0.40691\n",
      "[111]\tvalidation_0-logloss:0.388567\tvalidation_1-logloss:0.406565\n",
      "[112]\tvalidation_0-logloss:0.388128\tvalidation_1-logloss:0.406955\n",
      "[113]\tvalidation_0-logloss:0.387605\tvalidation_1-logloss:0.407179\n",
      "[114]\tvalidation_0-logloss:0.387067\tvalidation_1-logloss:0.407528\n",
      "[115]\tvalidation_0-logloss:0.386286\tvalidation_1-logloss:0.409104\n",
      "[116]\tvalidation_0-logloss:0.38525\tvalidation_1-logloss:0.411656\n",
      "Stopping. Best iteration:\n",
      "[86]\tvalidation_0-logloss:0.404135\tvalidation_1-logloss:0.399411\n",
      "\n"
     ]
    },
    {
     "data": {
      "text/plain": [
       "XGBClassifier(base_score=0.5, colsample_bylevel=1, colsample_bytree=0.8,\n",
       "       gamma=0, learning_rate=0.1, max_delta_step=0, max_depth=3,\n",
       "       min_child_weight=1, missing=None, n_estimators=1000, nthread=-1,\n",
       "       objective='binary:logistic', reg_alpha=0, reg_lambda=1,\n",
       "       scale_pos_weight=1, seed=0, silent=True, subsample=0.8)"
      ]
     },
     "execution_count": 52,
     "metadata": {},
     "output_type": "execute_result"
    }
   ],
   "source": [
    "clf = xgb.XGBClassifier(**ind_params)\n",
    "eval_set  = [(x_vals_train,y_vals_train), (x_vals_validation,y_vals_validation)]\n",
    "clf.fit(x_vals_train, y_vals_train, eval_set=eval_set, \n",
    "        eval_metric=\"logloss\", early_stopping_rounds=30)"
   ]
  },
  {
   "cell_type": "code",
   "execution_count": 93,
   "metadata": {
    "collapsed": true
   },
   "outputs": [],
   "source": [
    " XGBClassifier?"
   ]
  },
  {
   "cell_type": "code",
   "execution_count": 105,
   "metadata": {},
   "outputs": [],
   "source": [
    "gbm_params = {\n",
    "    'max_depth': [2, 3, 6],\n",
    "    'n_estimators': [300, 700, 1000]\n",
    "#     'gamma':, \n",
    "#     'min_child_weight':, \n",
    "#     'max_delta_step':,\n",
    "#     'subsample': [0.2, 0.5,0.8], \n",
    "#     'colsample_bytree': [0.2, 0.5,0.8], \n",
    "#     'colsample_bylevel': [0.2, 0.5,0.8], \n",
    "#     'reg_alpha': [0.001, 0.01, 0.1], \n",
    "#     'reg_lambda': [0.001, 0.01, 0.1]\n",
    "#     'scale_pos_weight':\n",
    "}\n",
    "ind_params = {'learning_rate': 0.1, 'silent':False, 'missing':0,\n",
    "             'objective': 'binary:logistic'}\n",
    "\n",
    "estimator=XGBClassifier(**ind_params)\n",
    "\n",
    "optimized_GBM = GridSearchCV(estimator=estimator, \n",
    "                            param_grid=gbm_params, \n",
    "                             scoring = 'log_loss', cv=2, n_jobs = -1, verbose=99) "
   ]
  },
  {
   "cell_type": "code",
   "execution_count": null,
   "metadata": {},
   "outputs": [
    {
     "name": "stdout",
     "output_type": "stream",
     "text": [
      "Fitting 2 folds for each of 9 candidates, totalling 18 fits\n",
      "[CV] max_depth=2, n_estimators=300 ...................................\n",
      "[CV] max_depth=2, n_estimators=300 ...................................\n",
      "[CV] max_depth=2, n_estimators=700 ...................................\n",
      "[CV] max_depth=2, n_estimators=700 ...................................\n",
      "Pickling array (shape=(403, 4), dtype=float64).\n",
      "Pickling array (shape=(403,), dtype=int64).\n",
      "Pickling array (shape=(201,), dtype=int64).\n",
      "Pickling array (shape=(202,), dtype=int64).\n",
      "Pickling array (shape=(403, 4), dtype=float64).\n",
      "Pickling array (shape=(403,), dtype=int64).\n",
      "Pickling array (shape=(202,), dtype=int64).\n",
      "Pickling array (shape=(201,), dtype=int64).\n",
      "Pickling array (shape=(403, 4), dtype=float64).\n",
      "Pickling array (shape=(403,), dtype=int64).\n",
      "Pickling array (shape=(201,), dtype=int64).\n",
      "Pickling array (shape=(202,), dtype=int64).\n",
      "Pickling array (shape=(403, 4), dtype=float64).\n",
      "Pickling array (shape=(403,), dtype=int64).\n",
      "Pickling array (shape=(202,), dtype=int64).\n",
      "Pickling array (shape=(201,), dtype=int64).\n",
      "Pickling array (shape=(403, 4), dtype=float64).\n",
      "Pickling array (shape=(403,), dtype=int64).\n",
      "Pickling array (shape=(201,), dtype=int64).\n",
      "Pickling array (shape=(202,), dtype=int64).\n",
      "Pickling array (shape=(403, 4), dtype=float64).\n",
      "Pickling array (shape=(403,), dtype=int64).\n",
      "Pickling array (shape=(202,), dtype=int64).\n",
      "Pickling array (shape=(201,), dtype=int64).\n",
      "Pickling array (shape=(403, 4), dtype=float64).\n",
      "Pickling array (shape=(403,), dtype=int64).\n",
      "Pickling array (shape=(201,), dtype=int64).\n",
      "Pickling array (shape=(202,), dtype=int64).\n"
     ]
    }
   ],
   "source": [
    "optimized_GBM.fit(x_vals_train, y_vals_train)"
   ]
  },
  {
   "cell_type": "code",
   "execution_count": null,
   "metadata": {
    "collapsed": true
   },
   "outputs": [],
   "source": [
    "optimized_GBM.grid_scores_"
   ]
  },
  {
   "cell_type": "markdown",
   "metadata": {},
   "source": [
    "# Final Train and Submission Process"
   ]
  },
  {
   "cell_type": "code",
   "execution_count": 43,
   "metadata": {},
   "outputs": [
    {
     "name": "stdout",
     "output_type": "stream",
     "text": [
      "[0]\ttrain-logloss:0.688364\tvalid-logloss:0.68949\n",
      "Multiple eval metrics have been passed: 'valid-logloss' will be used for early stopping.\n",
      "\n",
      "Will train until valid-logloss hasn't improved in 50 rounds.\n",
      "[10]\ttrain-logloss:0.645491\tvalid-logloss:0.657557\n",
      "[20]\ttrain-logloss:0.609162\tvalid-logloss:0.631578\n",
      "[30]\ttrain-logloss:0.578249\tvalid-logloss:0.610464\n",
      "[40]\ttrain-logloss:0.551828\tvalid-logloss:0.593636\n",
      "[50]\ttrain-logloss:0.528015\tvalid-logloss:0.580819\n",
      "[60]\ttrain-logloss:0.507008\tvalid-logloss:0.570122\n",
      "[70]\ttrain-logloss:0.488155\tvalid-logloss:0.561873\n",
      "[80]\ttrain-logloss:0.471339\tvalid-logloss:0.555369\n",
      "[90]\ttrain-logloss:0.456177\tvalid-logloss:0.55043\n",
      "[100]\ttrain-logloss:0.442758\tvalid-logloss:0.546943\n",
      "[110]\ttrain-logloss:0.430775\tvalid-logloss:0.544752\n",
      "[120]\ttrain-logloss:0.41997\tvalid-logloss:0.54312\n",
      "[130]\ttrain-logloss:0.410043\tvalid-logloss:0.542445\n",
      "[140]\ttrain-logloss:0.400697\tvalid-logloss:0.542499\n",
      "[150]\ttrain-logloss:0.392273\tvalid-logloss:0.542354\n",
      "[160]\ttrain-logloss:0.384479\tvalid-logloss:0.543122\n",
      "[170]\ttrain-logloss:0.376865\tvalid-logloss:0.544591\n",
      "[180]\ttrain-logloss:0.369833\tvalid-logloss:0.546714\n",
      "[190]\ttrain-logloss:0.363299\tvalid-logloss:0.549096\n",
      "Stopping. Best iteration:\n",
      "[148]\ttrain-logloss:0.393924\tvalid-logloss:0.542236\n",
      "\n"
     ]
    },
    {
     "data": {
      "text/plain": [
       "array([ 0.66648418,  0.25972432,  0.19929522,  0.20786755,  0.4631409 ,\n",
       "        0.5269751 ,  0.27614427,  0.14695796,  0.11362632,  0.12356345], dtype=float32)"
      ]
     },
     "execution_count": 43,
     "metadata": {},
     "output_type": "execute_result"
    },
    {
     "data": {
      "image/png": "[encoded data removed]",
      "text/plain": [
       "<matplotlib.figure.Figure at 0x7f931011cb38>"
      ]
     },
     "metadata": {},
     "output_type": "display_data"
    }
   ],
   "source": [
    "\n",
    "d_train = xgb.DMatrix(x_vals_train, label=y_vals_train)\n",
    "d_valid = xgb.DMatrix(x_vals_validation, label=y_vals_validation)\n",
    "\n",
    "\n",
    "watchlist = [(d_train, 'train'), (d_valid, 'valid')]\n",
    "\n",
    "bst = xgb.train(params, d_train, 1000, watchlist, early_stopping_rounds=50, verbose_eval=10)\n",
    "\n",
    "xgb.plot_importance(bst)\n",
    "\n",
    "#Create submission file\n",
    "d_test = xgb.DMatrix(x_vals_test)\n",
    "p_test = bst.predict(d_test)\n",
    "p_test[:10]"
   ]
  },
  {
   "cell_type": "code",
   "execution_count": null,
   "metadata": {
    "collapsed": true
   },
   "outputs": [],
   "source": [
    "# summarize the fit of the model\n",
    "print(metrics.classification_report(y_vals_validation.astype(float), p_test.astype(float)))\n",
    "print('----------------------------------------------------------\\n')\n",
    "print(metrics.confusion_matrix(y_vals_validation.astype(float), p_test.astype(float)))"
   ]
  },
  {
   "cell_type": "code",
   "execution_count": null,
   "metadata": {
    "collapsed": true
   },
   "outputs": [],
   "source": [
    "sub = pd.DataFrame()\n",
    "sub['Unnamed: 0'] = test_data_df['Unnamed: 0']\n",
    "sub['Made Donation in March 2007'] = p_test\n",
    "\n",
    "print(sub.head())\n",
    "sub.to_csv('simple_xgb.csv', index=False) #0.4704"
   ]
  },
  {
   "cell_type": "code",
   "execution_count": null,
   "metadata": {
    "collapsed": true
   },
   "outputs": [],
   "source": [
    "y_vals_validation.astype(float), p_test"
   ]
  },
  {
   "cell_type": "markdown",
   "metadata": {},
   "source": [
    "# Function to generate submission"
   ]
  },
  {
   "cell_type": "code",
   "execution_count": null,
   "metadata": {
    "collapsed": true
   },
   "outputs": [],
   "source": [
    "\n",
    "def generate_submission(predictions, file_name):\n",
    "    df = pd.DataFrame(predictions.astype(np.float64),\n",
    "            index=test_data_df['Unnamed: 0'],\n",
    "            columns=['Made Donation in March 2007'])\n",
    "    df.to_csv(file_name)\n",
    "    return df\n",
    "    "
   ]
  },
  {
   "cell_type": "markdown",
   "metadata": {},
   "source": [
    "# Log Loss"
   ]
  },
  {
   "cell_type": "markdown",
   "metadata": {},
   "source": [
    "# Cross Entropy"
   ]
  },
  {
   "cell_type": "markdown",
   "metadata": {},
   "source": [
    "$H = - \\sum_i(p_ilog_2(q_i))$\n",
    "\n",
    "Example:\n",
    "For instance, let’s calculate the entropy for the word “HELLO.”\n",
    "\n",
    "Lets calculate $p_i$\n",
    "\n",
    "$p(\"H\") = p(\"E\") = p(\"O\") = 1/5 = 0.2$\n",
    "\n",
    "$p(\"L\") = 2/5 = 0.4$\n",
    "\n",
    "Lets calculate $q_i$\n",
    "\n",
    "For example, ASCII assigns the uniform probability $q_i = 1/256$ for all its symbols. Let’s\n",
    "calculate the cross-entropy for the word “HELLO” in ASCII encoding\n",
    "\n",
    "$p(\"H\") = p(\"E\") = p(\"O\") = p(\"L\") = 1/256$\n",
    "\n",
    "\n",
    "$H = -3 * 0.2 * log_2(1/256) - 0.4 * log_2(1/256) = 8$"
   ]
  },
  {
   "cell_type": "markdown",
   "metadata": {},
   "source": [
    "# Lets see how a Logistic Regression in Tensorflow works"
   ]
  },
  {
   "cell_type": "markdown",
   "metadata": {},
   "source": [
    "$$f(x) = \\frac{1}{1+e^{-x}}$$"
   ]
  },
  {
   "cell_type": "code",
   "execution_count": null,
   "metadata": {
    "collapsed": true
   },
   "outputs": [],
   "source": [
    "def sigmoid(x):\n",
    "    return 1 / (1 + math.exp(-x))\n",
    "\n",
    "def tan(x):\n",
    "    return math.tanh(x)\n",
    "\n",
    "def relu1(x):\n",
    "    return max(0, min(1,x))\n",
    "\n",
    "x = [i for i in np.arange(-1, 1, 0.001)]\n",
    "sigmoid_y = [sigmoid(i) for i in x]\n",
    "tan_y = [tan(i) for i in x]\n",
    "relu1_y = [relu1(i) for i in x]\n",
    "plt.plot(x,sigmoid_y)\n",
    "plt.plot(x, tan_y)\n",
    "plt.plot(x, relu1_y)\n",
    "plt.grid(True)\n",
    "plt.xlabel('X')\n",
    "plt.ylabel('y')\n",
    "plt.show()"
   ]
  },
  {
   "cell_type": "code",
   "execution_count": null,
   "metadata": {
    "collapsed": true
   },
   "outputs": [],
   "source": [
    "import tensorflow as tf\n",
    "from tensorflow.python.framework import ops"
   ]
  },
  {
   "cell_type": "code",
   "execution_count": null,
   "metadata": {
    "collapsed": true
   },
   "outputs": [],
   "source": [
    "# set for reproducible results\n",
    "seed = 99\n",
    "np.random.seed(seed)\n",
    "tf.set_random_seed(seed)\n",
    "\n",
    "# Normalize by column (min-max norm)\n",
    "def normalize_cols(m):\n",
    "    col_max = m.max(axis=0)\n",
    "    col_min = m.min(axis=0)\n",
    "    return (m-col_min) / (col_max - col_min)\n",
    "    \n",
    "x_vals_train_norm = np.nan_to_num(normalize_cols(x_vals_train))\n",
    "x_vals_validation_norm = np.nan_to_num(normalize_cols(x_vals_validation))"
   ]
  },
  {
   "cell_type": "code",
   "execution_count": null,
   "metadata": {
    "collapsed": true
   },
   "outputs": [],
   "source": [
    "y_vals_train_expanded = np.array([[1,0] if y == 0 else [0,1] for y in y_vals_train ])\n",
    "y_vals_validation_expanded  = np.array([[1,0] if y == 0 else [0,1] for y in y_vals_validation ])"
   ]
  },
  {
   "cell_type": "markdown",
   "metadata": {},
   "source": [
    "## Define Tensorflow computational graph"
   ]
  },
  {
   "cell_type": "code",
   "execution_count": null,
   "metadata": {
    "collapsed": true
   },
   "outputs": [],
   "source": [
    "ops.reset_default_graph()\n",
    "\n",
    "# Create graph\n",
    "sess = tf.Session()"
   ]
  },
  {
   "cell_type": "code",
   "execution_count": null,
   "metadata": {
    "collapsed": true
   },
   "outputs": [],
   "source": [
    "# Declare batch size\n",
    "batch_size = 25\n",
    "\n",
    "# Initialize placeholders\n",
    "x_data = tf.placeholder(shape=[None, 3], dtype=tf.float32, name = 'x_data')\n",
    "y_target = tf.placeholder(shape=[None, 2], dtype=tf.float32, name='y_target')\n",
    "\n",
    "# Create variables for linear regression\n",
    "A = tf.Variable(tf.random_normal(shape=[3,1]))\n",
    "b = tf.Variable(tf.random_normal(shape=[2]))\n",
    "\n",
    "# Declare model operations\n",
    "model_output = tf.add(tf.matmul(x_data, A), b)\n",
    "\n",
    "print(model_output)\n",
    "\n",
    "y_pred = tf.nn.softmax(model_output)\n",
    "\n",
    "# Declare loss function (Cross Entropy loss)\n",
    "loss = tf.reduce_mean(tf.nn.sigmoid_cross_entropy_with_logits(logits=model_output, labels=y_target))\n",
    "\n",
    "# loss = tf.losses.log_loss(y_target, y_pred)\n",
    "\n",
    "# loss = - tf.reduce_mean(\n",
    "#             tf.add(\n",
    "#                 tf.multiply(tf.cast(y_target, \"float\"), tf.log(y_pred)),\n",
    "#                 tf.multiply(tf.subtract(1.0,y_target),tf.log(tf.subtract(1.0, y_pred))))\n",
    "#          )\n",
    "\n",
    "# loss = tf.reduce_mean(\n",
    "#     -tf.reduce_sum(tf.cast(y_target, \"float\") *\n",
    "#                    tf.log(y_pred),\n",
    "#                    axis=1))\n",
    "\n",
    "# Declare optimizer\n",
    "my_opt = tf.train.GradientDescentOptimizer(0.01)\n",
    "train_step = my_opt.minimize(loss)"
   ]
  },
  {
   "cell_type": "markdown",
   "metadata": {},
   "source": [
    "## Train model"
   ]
  },
  {
   "cell_type": "code",
   "execution_count": null,
   "metadata": {
    "collapsed": true,
    "scrolled": true
   },
   "outputs": [],
   "source": [
    "# Initialize variables\n",
    "init = tf.global_variables_initializer()\n",
    "sess.run(init)\n",
    "\n",
    "# Actual Prediction\n",
    "prediction = tf.round(tf.sigmoid(model_output))\n",
    "predictions_correct = tf.cast(tf.equal(prediction, y_target), tf.float32)\n",
    "accuracy = tf.reduce_mean(predictions_correct)\n",
    "\n",
    "# Training loop\n",
    "loss_vec = []\n",
    "train_acc = []\n",
    "test_acc = []\n",
    "for i in range(2000):\n",
    "    rand_index = np.random.choice(len(x_vals_train), size=batch_size)\n",
    "    rand_x = x_vals_train_norm[rand_index]\n",
    "    rand_y = y_vals_train_expanded[rand_index]\n",
    "    sess.run(train_step, feed_dict={x_data: rand_x, y_target: rand_y})\n",
    "\n",
    "    temp_loss = sess.run(loss, feed_dict={x_data: rand_x, y_target: rand_y})\n",
    "    loss_vec.append(temp_loss)\n",
    "    temp_acc_train = sess.run(accuracy, feed_dict={x_data: x_vals_train_norm, y_target: \n",
    "                                                   y_vals_train_expanded})\n",
    "    train_acc.append(temp_acc_train)\n",
    "    temp_acc_test = sess.run(accuracy, feed_dict={x_data: x_vals_validation_norm, y_target: \n",
    "                                                  y_vals_validation_expanded})\n",
    "    test_acc.append(temp_acc_test)\n",
    "    if (i+1)%300==0:\n",
    "        print('Loss = ' + str(temp_loss))\n",
    "        "
   ]
  },
  {
   "cell_type": "code",
   "execution_count": null,
   "metadata": {
    "collapsed": true
   },
   "outputs": [],
   "source": [
    "%matplotlib inline\n",
    "# Plot loss over time\n",
    "plt.plot(loss_vec, 'k-')\n",
    "plt.title('Cross Entropy Loss per Generation')\n",
    "plt.xlabel('Generation')\n",
    "plt.ylabel('Cross Entropy Loss')\n",
    "plt.show()\n",
    "\n",
    "# Plot train and test accuracy\n",
    "plt.plot(train_acc, 'k-', label='Train Set Accuracy')\n",
    "plt.plot(test_acc, 'r--', label='Test Set Accuracy')\n",
    "plt.title('Train and Test Accuracy')\n",
    "plt.xlabel('Generation')\n",
    "plt.ylabel('Accuracy')\n",
    "plt.legend(loc='lower right')\n",
    "plt.show()"
   ]
  },
  {
   "cell_type": "code",
   "execution_count": null,
   "metadata": {
    "collapsed": true
   },
   "outputs": [],
   "source": [
    "tensor_flow_predictions = sess.run(y_pred, feed_dict={x_data: x_vals_test})\n",
    "tensor_flow_predictions"
   ]
  },
  {
   "cell_type": "code",
   "execution_count": null,
   "metadata": {
    "collapsed": true
   },
   "outputs": [],
   "source": [
    "df = generate_submission(tensor_flow_predictions, 'tensorflow_logistics.csv')\n",
    "df"
   ]
  },
  {
   "cell_type": "markdown",
   "metadata": {},
   "source": [
    "# Scikit"
   ]
  },
  {
   "cell_type": "markdown",
   "metadata": {},
   "source": [
    "## Logistic Regression"
   ]
  },
  {
   "cell_type": "code",
   "execution_count": null,
   "metadata": {
    "collapsed": true
   },
   "outputs": [],
   "source": [
    "# Logistic Regression\n",
    "from sklearn import metrics\n",
    "from sklearn.linear_model import LogisticRegression\n",
    "# load the iris datasets\n",
    "# fit a logistic regression model to the data\n",
    "model = LogisticRegression()\n",
    "model.fit(x_vals_train, y_vals_train)\n",
    "print(model)\n",
    "print('----------------------------------------------------------\\n')\n",
    "# make predictions\n",
    "expected = y_vals_validation\n",
    "predicted = model.predict(x_vals_validation)\n",
    "# summarize the fit of the model\n",
    "print(metrics.classification_report(expected, predicted))\n",
    "print('----------------------------------------------------------\\n')\n",
    "print(metrics.confusion_matrix(expected, predicted))"
   ]
  },
  {
   "cell_type": "markdown",
   "metadata": {},
   "source": [
    "\n",
    "# Gaussian Naive Bayes"
   ]
  },
  {
   "cell_type": "code",
   "execution_count": null,
   "metadata": {
    "collapsed": true
   },
   "outputs": [],
   "source": [
    "from sklearn import metrics\n",
    "from sklearn.naive_bayes import GaussianNB\n",
    "# fit a Naive Bayes model to the data\n",
    "model = GaussianNB()\n",
    "model.fit(x_vals_train, y_vals_train)\n",
    "print(model)\n",
    "print('----------------------------------------------------------\\n')\n",
    "# make predictions\n",
    "expected = y_vals_validation\n",
    "predicted = model.predict(x_vals_validation)\n",
    "# summarize the fit of the model\n",
    "print(metrics.classification_report(expected, predicted))\n",
    "print('----------------------------------------------------------\\n')\n",
    "print(metrics.confusion_matrix(expected, predicted))"
   ]
  },
  {
   "cell_type": "markdown",
   "metadata": {},
   "source": [
    "# k-Nearest Neighbor"
   ]
  },
  {
   "cell_type": "code",
   "execution_count": null,
   "metadata": {
    "collapsed": true
   },
   "outputs": [],
   "source": [
    "from sklearn import metrics\n",
    "from sklearn.neighbors import KNeighborsClassifier\n",
    "# fit a k-nearest neighbor model to the data\n",
    "model = KNeighborsClassifier()\n",
    "model.fit(x_vals_train, y_vals_train)\n",
    "print(model)\n",
    "print('----------------------------------------------------------\\n')\n",
    "# make predictions\n",
    "expected = y_vals_validation\n",
    "predicted = model.predict(x_vals_validation)\n",
    "# summarize the fit of the model\n",
    "print(metrics.classification_report(expected, predicted))\n",
    "print('----------------------------------------------------------\\n')\n",
    "print(metrics.confusion_matrix(expected, predicted))"
   ]
  },
  {
   "cell_type": "markdown",
   "metadata": {},
   "source": [
    "# Decision Tree Classifier"
   ]
  },
  {
   "cell_type": "code",
   "execution_count": null,
   "metadata": {
    "collapsed": true
   },
   "outputs": [],
   "source": [
    "from sklearn import metrics\n",
    "from sklearn.tree import DecisionTreeClassifier\n",
    "# fit a CART model to the data\n",
    "model = DecisionTreeClassifier()\n",
    "model.fit(x_vals_train, y_vals_train)\n",
    "print(model)\n",
    "print('----------------------------------------------------------\\n')\n",
    "# make predictions\n",
    "expected = y_vals_validation\n",
    "predicted = model.predict(x_vals_validation)\n",
    "# summarize the fit of the model\n",
    "print(metrics.classification_report(expected, predicted))\n",
    "print('----------------------------------------------------------\\n')\n",
    "print(metrics.confusion_matrix(expected, predicted))"
   ]
  },
  {
   "cell_type": "markdown",
   "metadata": {},
   "source": [
    "## SVM"
   ]
  },
  {
   "cell_type": "code",
   "execution_count": null,
   "metadata": {
    "collapsed": true
   },
   "outputs": [],
   "source": [
    "predicted"
   ]
  },
  {
   "cell_type": "code",
   "execution_count": null,
   "metadata": {
    "collapsed": true
   },
   "outputs": [],
   "source": [
    "# Support Vector Machine\n",
    "from sklearn import metrics\n",
    "from sklearn.svm import SVC\n",
    "# fit a SVM model to the data\n",
    "model = SVC(probability=True)\n",
    "model.fit(x_vals_train, y_vals_train)\n",
    "print(model)\n",
    "print('----------------------------------------------------------\\n')\n",
    "# make predictions\n",
    "expected = y_vals_validation\n",
    "predicted = model.predict(x_vals_validation)\n",
    "# summarize the fit of the model\n",
    "print(metrics.classification_report(expected, predicted))\n",
    "print('----------------------------------------------------------\\n')\n",
    "print(metrics.confusion_matrix(expected, predicted))"
   ]
  },
  {
   "cell_type": "code",
   "execution_count": null,
   "metadata": {
    "collapsed": true
   },
   "outputs": [],
   "source": []
  }
 ],
 "metadata": {
  "kernelspec": {
   "display_name": "Python 3",
   "language": "python",
   "name": "python3"
  },
  "language_info": {
   "codemirror_mode": {
    "name": "ipython",
    "version": 3
   },
   "file_extension": ".py",
   "mimetype": "text/x-python",
   "name": "python",
   "nbconvert_exporter": "python",
   "pygments_lexer": "ipython3",
   "version": "3.6.1"
  }
 },
 "nbformat": 4,
 "nbformat_minor": 2
}
