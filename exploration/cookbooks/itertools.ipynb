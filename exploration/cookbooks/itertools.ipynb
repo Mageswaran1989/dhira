{
 "cells": [
  {
   "cell_type": "markdown",
   "metadata": {},
   "source": [
    "https://www.blog.pythonlibrary.org/2016/04/20/python-201-an-intro-to-itertools/`"
   ]
  },
  {
   "cell_type": "code",
   "execution_count": 4,
   "metadata": {
    "collapsed": true
   },
   "outputs": [],
   "source": [
    "from itertools import *\n",
    "import numpy as np"
   ]
  },
  {
   "cell_type": "code",
   "execution_count": 5,
   "metadata": {},
   "outputs": [
    {
     "name": "stdout",
     "output_type": "stream",
     "text": [
      "Stop at 5:\n",
      "0\n",
      "1\n",
      "2\n",
      "3\n",
      "4\n",
      "Start at 5, Stop at 10:\n",
      "5\n",
      "6\n",
      "7\n",
      "8\n",
      "9\n",
      "By tens to 100:\n",
      "0\n",
      "10\n",
      "20\n",
      "30\n",
      "40\n",
      "50\n",
      "60\n",
      "70\n",
      "80\n",
      "90\n"
     ]
    }
   ],
   "source": [
    "\n",
    "\n",
    "print('Stop at 5:')\n",
    "for i in islice(count(), 5):\n",
    "    print(i)\n",
    "\n",
    "print('Start at 5, Stop at 10:')\n",
    "for i in islice(count(), 5, 10):\n",
    "    print(i)\n",
    "\n",
    "print('By tens to 100:')\n",
    "for i in islice(count(), 0, 100, 10):\n",
    "    print(i)"
   ]
  },
  {
   "cell_type": "markdown",
   "metadata": {},
   "source": [
    "**Simulating the feature batch generator**"
   ]
  },
  {
   "cell_type": "code",
   "execution_count": 6,
   "metadata": {
    "collapsed": true
   },
   "outputs": [],
   "source": [
    "def get_feature_generator():\n",
    "    for inputs in count():\n",
    "        yield [inputs, inputs+10], [inputs+100] "
   ]
  },
  {
   "cell_type": "code",
   "execution_count": 7,
   "metadata": {
    "collapsed": true
   },
   "outputs": [],
   "source": [
    "batch_size = 8"
   ]
  },
  {
   "cell_type": "code",
   "execution_count": 8,
   "metadata": {
    "collapsed": true
   },
   "outputs": [],
   "source": [
    "feature_generator = get_feature_generator()\n",
    "batched_features = list(islice(feature_generator, batch_size))"
   ]
  },
  {
   "cell_type": "code",
   "execution_count": 9,
   "metadata": {},
   "outputs": [
    {
     "data": {
      "text/plain": [
       "[([0, 10], [100]),\n",
       " ([1, 11], [101]),\n",
       " ([2, 12], [102]),\n",
       " ([3, 13], [103]),\n",
       " ([4, 14], [104]),\n",
       " ([5, 15], [105]),\n",
       " ([6, 16], [106]),\n",
       " ([7, 17], [107])]"
      ]
     },
     "execution_count": 9,
     "metadata": {},
     "output_type": "execute_result"
    }
   ],
   "source": [
    "batched_features"
   ]
  },
  {
   "cell_type": "code",
   "execution_count": 36,
   "metadata": {},
   "outputs": [
    {
     "data": {
      "text/plain": [
       "[(0, 1, 2, 3, 4, 5, 6, 7), (10, 11, 12, 13, 14, 15, 16, 17)]"
      ]
     },
     "execution_count": 36,
     "metadata": {},
     "output_type": "execute_result"
    }
   ],
   "source": [
    "flattened_inputs= [[0, 10], [1, 11], [2, 12], [3, 13], [4, 14], [5, 15], [6, 16], [7, 17]]\n",
    "list(zip(*flattened_inputs))"
   ]
  },
  {
   "cell_type": "code",
   "execution_count": 26,
   "metadata": {
    "collapsed": true
   },
   "outputs": [],
   "source": [
    "def get_batch_generator(get_feature_generator, batch_size):\n",
    "    \"\"\"\n",
    "    Convenience function that, when called, produces a generator that yields\n",
    "    individual features as numpy arrays into a generator\n",
    "    that yields batches of features.\n",
    "    :param get_feature_generator:  numpy array generator\n",
    "        The feature_generator should be an infinite generator that outputs\n",
    "        individual training features (as numpy arrays in this codebase,\n",
    "        but any iterable works). The expected format is:\n",
    "        ((input0, input1,...), (target0, target1, ...))\n",
    "    :param batch_size: : int, optional\n",
    "        The size of each batch. Depending on how many\n",
    "        features there are in the dataset, the last batch\n",
    "        may have less features.\n",
    "    :return: returns a tuple of 2 tuples\n",
    "        The expected return schema is:\n",
    "        ((input0, input1, ...), (target0, target1, ...),\n",
    "        where each of \"input*\" and \"target*\" are numpy arrays.\n",
    "        The number of rows in each input and target numpy array\n",
    "        should be the same as the batch size.\n",
    "    \"\"\"\n",
    "\n",
    "    # batched_features is a list of batch_size features, where each\n",
    "    # feature is a tuple ((inputs), targets)\n",
    "    feature_generator = get_feature_generator()\n",
    "    batched_features = list(islice(feature_generator, batch_size))\n",
    "    while batched_features:\n",
    "        # Take the batched features and create a batch from it.\n",
    "        # The batch is a tuple ((inputs), targets), where (inputs)\n",
    "        # can be (inputs0, inputs1, etc...). each of \"inputs*\" and\n",
    "        # \"targets\" are numpy arrays.\n",
    "        print('batched_features:' , batched_features)\n",
    "        print()\n",
    "        flattened = ([ins[0] for ins in batched_features],\n",
    "                     [ins[1] for ins in batched_features])\n",
    "        print('flatenned: ', flattened)\n",
    "        print()\n",
    "        flattened_inputs, flattened_targets = flattened\n",
    "        print(tuple(zip(*flattened_inputs)))\n",
    "        batch_inputs = tuple(map(np.array, tuple(zip(*flattened_inputs))))\n",
    "        batch_targets = tuple(map(np.array, tuple(zip(*flattened_targets))))\n",
    "        yield batch_inputs, batch_targets\n",
    "        batched_features = list(islice(feature_generator, batch_size))"
   ]
  },
  {
   "cell_type": "code",
   "execution_count": 27,
   "metadata": {
    "collapsed": true
   },
   "outputs": [],
   "source": [
    "batches = get_batch_generator(get_feature_generator, batch_size)"
   ]
  },
  {
   "cell_type": "code",
   "execution_count": 28,
   "metadata": {},
   "outputs": [
    {
     "name": "stdout",
     "output_type": "stream",
     "text": [
      "batched_features: [([0, 10], [100]), ([1, 11], [101]), ([2, 12], [102]), ([3, 13], [103]), ([4, 14], [104]), ([5, 15], [105]), ([6, 16], [106]), ([7, 17], [107])]\n",
      "\n",
      "flatenned:  ([[0, 10], [1, 11], [2, 12], [3, 13], [4, 14], [5, 15], [6, 16], [7, 17]], [[100], [101], [102], [103], [104], [105], [106], [107]])\n",
      "\n",
      "((0, 1, 2, 3, 4, 5, 6, 7), (10, 11, 12, 13, 14, 15, 16, 17))\n",
      "((array([0, 1, 2, 3, 4, 5, 6, 7]), array([10, 11, 12, 13, 14, 15, 16, 17])), (array([100, 101, 102, 103, 104, 105, 106, 107]),))\n",
      "\n",
      "batched_features: [([8, 18], [108]), ([9, 19], [109]), ([10, 20], [110]), ([11, 21], [111]), ([12, 22], [112]), ([13, 23], [113]), ([14, 24], [114]), ([15, 25], [115])]\n",
      "\n",
      "flatenned:  ([[8, 18], [9, 19], [10, 20], [11, 21], [12, 22], [13, 23], [14, 24], [15, 25]], [[108], [109], [110], [111], [112], [113], [114], [115]])\n",
      "\n",
      "((8, 9, 10, 11, 12, 13, 14, 15), (18, 19, 20, 21, 22, 23, 24, 25))\n",
      "((array([ 8,  9, 10, 11, 12, 13, 14, 15]), array([18, 19, 20, 21, 22, 23, 24, 25])), (array([108, 109, 110, 111, 112, 113, 114, 115]),))\n",
      "\n",
      "batched_features: [([16, 26], [116]), ([17, 27], [117]), ([18, 28], [118]), ([19, 29], [119]), ([20, 30], [120]), ([21, 31], [121]), ([22, 32], [122]), ([23, 33], [123])]\n",
      "\n",
      "flatenned:  ([[16, 26], [17, 27], [18, 28], [19, 29], [20, 30], [21, 31], [22, 32], [23, 33]], [[116], [117], [118], [119], [120], [121], [122], [123]])\n",
      "\n",
      "((16, 17, 18, 19, 20, 21, 22, 23), (26, 27, 28, 29, 30, 31, 32, 33))\n",
      "((array([16, 17, 18, 19, 20, 21, 22, 23]), array([26, 27, 28, 29, 30, 31, 32, 33])), (array([116, 117, 118, 119, 120, 121, 122, 123]),))\n",
      "\n",
      "batched_features: [([24, 34], [124]), ([25, 35], [125]), ([26, 36], [126]), ([27, 37], [127]), ([28, 38], [128]), ([29, 39], [129]), ([30, 40], [130]), ([31, 41], [131])]\n",
      "\n",
      "flatenned:  ([[24, 34], [25, 35], [26, 36], [27, 37], [28, 38], [29, 39], [30, 40], [31, 41]], [[124], [125], [126], [127], [128], [129], [130], [131]])\n",
      "\n",
      "((24, 25, 26, 27, 28, 29, 30, 31), (34, 35, 36, 37, 38, 39, 40, 41))\n",
      "((array([24, 25, 26, 27, 28, 29, 30, 31]), array([34, 35, 36, 37, 38, 39, 40, 41])), (array([124, 125, 126, 127, 128, 129, 130, 131]),))\n",
      "\n",
      "batched_features: [([32, 42], [132]), ([33, 43], [133]), ([34, 44], [134]), ([35, 45], [135]), ([36, 46], [136]), ([37, 47], [137]), ([38, 48], [138]), ([39, 49], [139])]\n",
      "\n",
      "flatenned:  ([[32, 42], [33, 43], [34, 44], [35, 45], [36, 46], [37, 47], [38, 48], [39, 49]], [[132], [133], [134], [135], [136], [137], [138], [139]])\n",
      "\n",
      "((32, 33, 34, 35, 36, 37, 38, 39), (42, 43, 44, 45, 46, 47, 48, 49))\n",
      "((array([32, 33, 34, 35, 36, 37, 38, 39]), array([42, 43, 44, 45, 46, 47, 48, 49])), (array([132, 133, 134, 135, 136, 137, 138, 139]),))\n",
      "\n",
      "batched_features: [([40, 50], [140]), ([41, 51], [141]), ([42, 52], [142]), ([43, 53], [143]), ([44, 54], [144]), ([45, 55], [145]), ([46, 56], [146]), ([47, 57], [147])]\n",
      "\n",
      "flatenned:  ([[40, 50], [41, 51], [42, 52], [43, 53], [44, 54], [45, 55], [46, 56], [47, 57]], [[140], [141], [142], [143], [144], [145], [146], [147]])\n",
      "\n",
      "((40, 41, 42, 43, 44, 45, 46, 47), (50, 51, 52, 53, 54, 55, 56, 57))\n",
      "((array([40, 41, 42, 43, 44, 45, 46, 47]), array([50, 51, 52, 53, 54, 55, 56, 57])), (array([140, 141, 142, 143, 144, 145, 146, 147]),))\n",
      "\n",
      "batched_features: [([48, 58], [148]), ([49, 59], [149]), ([50, 60], [150]), ([51, 61], [151]), ([52, 62], [152]), ([53, 63], [153]), ([54, 64], [154]), ([55, 65], [155])]\n",
      "\n",
      "flatenned:  ([[48, 58], [49, 59], [50, 60], [51, 61], [52, 62], [53, 63], [54, 64], [55, 65]], [[148], [149], [150], [151], [152], [153], [154], [155]])\n",
      "\n",
      "((48, 49, 50, 51, 52, 53, 54, 55), (58, 59, 60, 61, 62, 63, 64, 65))\n",
      "((array([48, 49, 50, 51, 52, 53, 54, 55]), array([58, 59, 60, 61, 62, 63, 64, 65])), (array([148, 149, 150, 151, 152, 153, 154, 155]),))\n",
      "\n",
      "batched_features: [([56, 66], [156]), ([57, 67], [157]), ([58, 68], [158]), ([59, 69], [159]), ([60, 70], [160]), ([61, 71], [161]), ([62, 72], [162]), ([63, 73], [163])]\n",
      "\n",
      "flatenned:  ([[56, 66], [57, 67], [58, 68], [59, 69], [60, 70], [61, 71], [62, 72], [63, 73]], [[156], [157], [158], [159], [160], [161], [162], [163]])\n",
      "\n",
      "((56, 57, 58, 59, 60, 61, 62, 63), (66, 67, 68, 69, 70, 71, 72, 73))\n",
      "((array([56, 57, 58, 59, 60, 61, 62, 63]), array([66, 67, 68, 69, 70, 71, 72, 73])), (array([156, 157, 158, 159, 160, 161, 162, 163]),))\n",
      "\n",
      "batched_features: [([64, 74], [164]), ([65, 75], [165]), ([66, 76], [166]), ([67, 77], [167]), ([68, 78], [168]), ([69, 79], [169]), ([70, 80], [170]), ([71, 81], [171])]\n",
      "\n",
      "flatenned:  ([[64, 74], [65, 75], [66, 76], [67, 77], [68, 78], [69, 79], [70, 80], [71, 81]], [[164], [165], [166], [167], [168], [169], [170], [171]])\n",
      "\n",
      "((64, 65, 66, 67, 68, 69, 70, 71), (74, 75, 76, 77, 78, 79, 80, 81))\n",
      "((array([64, 65, 66, 67, 68, 69, 70, 71]), array([74, 75, 76, 77, 78, 79, 80, 81])), (array([164, 165, 166, 167, 168, 169, 170, 171]),))\n",
      "\n",
      "batched_features: [([72, 82], [172]), ([73, 83], [173]), ([74, 84], [174]), ([75, 85], [175]), ([76, 86], [176]), ([77, 87], [177]), ([78, 88], [178]), ([79, 89], [179])]\n",
      "\n",
      "flatenned:  ([[72, 82], [73, 83], [74, 84], [75, 85], [76, 86], [77, 87], [78, 88], [79, 89]], [[172], [173], [174], [175], [176], [177], [178], [179]])\n",
      "\n",
      "((72, 73, 74, 75, 76, 77, 78, 79), (82, 83, 84, 85, 86, 87, 88, 89))\n",
      "((array([72, 73, 74, 75, 76, 77, 78, 79]), array([82, 83, 84, 85, 86, 87, 88, 89])), (array([172, 173, 174, 175, 176, 177, 178, 179]),))\n",
      "\n",
      "batched_features: [([80, 90], [180]), ([81, 91], [181]), ([82, 92], [182]), ([83, 93], [183]), ([84, 94], [184]), ([85, 95], [185]), ([86, 96], [186]), ([87, 97], [187])]\n",
      "\n",
      "flatenned:  ([[80, 90], [81, 91], [82, 92], [83, 93], [84, 94], [85, 95], [86, 96], [87, 97]], [[180], [181], [182], [183], [184], [185], [186], [187]])\n",
      "\n",
      "((80, 81, 82, 83, 84, 85, 86, 87), (90, 91, 92, 93, 94, 95, 96, 97))\n",
      "((array([80, 81, 82, 83, 84, 85, 86, 87]), array([90, 91, 92, 93, 94, 95, 96, 97])), (array([180, 181, 182, 183, 184, 185, 186, 187]),))\n",
      "\n",
      "batched_features: [([88, 98], [188]), ([89, 99], [189]), ([90, 100], [190]), ([91, 101], [191]), ([92, 102], [192]), ([93, 103], [193]), ([94, 104], [194]), ([95, 105], [195])]\n",
      "\n",
      "flatenned:  ([[88, 98], [89, 99], [90, 100], [91, 101], [92, 102], [93, 103], [94, 104], [95, 105]], [[188], [189], [190], [191], [192], [193], [194], [195]])\n",
      "\n",
      "((88, 89, 90, 91, 92, 93, 94, 95), (98, 99, 100, 101, 102, 103, 104, 105))\n",
      "((array([88, 89, 90, 91, 92, 93, 94, 95]), array([ 98,  99, 100, 101, 102, 103, 104, 105])), (array([188, 189, 190, 191, 192, 193, 194, 195]),))\n",
      "\n"
     ]
    }
   ],
   "source": [
    "j = 0\n",
    "for i in batches:\n",
    "    print(i)\n",
    "    print()\n",
    "    if(j>10): break\n",
    "    j = j + 1"
   ]
  },
  {
   "cell_type": "code",
   "execution_count": null,
   "metadata": {
    "collapsed": true
   },
   "outputs": [],
   "source": []
  }
 ],
 "metadata": {
  "kernelspec": {
   "display_name": "Python 3",
   "language": "python",
   "name": "python3"
  },
  "language_info": {
   "codemirror_mode": {
    "name": "ipython",
    "version": 3
   },
   "file_extension": ".py",
   "mimetype": "text/x-python",
   "name": "python",
   "nbconvert_exporter": "python",
   "pygments_lexer": "ipython3",
   "version": "3.6.1"
  }
 },
 "nbformat": 4,
 "nbformat_minor": 2
}
