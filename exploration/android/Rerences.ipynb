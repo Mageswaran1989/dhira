{
 "cells": [
  {
   "cell_type": "markdown",
   "metadata": {},
   "source": [
    "https://github.com/tensorflow/tensorflow/tree/master/tensorflow/examples/android\n",
    "\n",
    "\n",
    "http://ci.tensorflow.org/view/Nightly/job/nightly-android/lastSuccessfulBuild/artifact/out/  \n",
    "\n",
    "    \n",
    "https://medium.com/@daj/creating-an-image-classifier-on-android-using-tensorflow-part-1-513d9c10fa6a\n",
    "\n",
    "https://blog.mindorks.com/android-tensorflow-machine-learning-example-ff0e9b2654cc\n",
    "\n",
    "\n",
    "https://blog.mindorks.com/creating-custom-model-for-android-using-tensorflow-3f963d270bfb\n",
    "\n",
    "https://github.com/MindorksOpenSource/AndroidTensorFlowMNISTExample\n",
    "\n",
    "https://github.com/MindorksOpenSource/AndroidTensorFlowMachineLearningExample\n",
    "\n",
    "\n"
   ]
  }
 ],
 "metadata": {
  "kernelspec": {
   "display_name": "Python 3",
   "language": "python",
   "name": "python3"
  },
  "language_info": {
   "codemirror_mode": {
    "name": "ipython",
    "version": 3
   },
   "file_extension": ".py",
   "mimetype": "text/x-python",
   "name": "python",
   "nbconvert_exporter": "python",
   "pygments_lexer": "ipython3",
   "version": "3.6.1"
  }
 },
 "nbformat": 4,
 "nbformat_minor": 2
}
