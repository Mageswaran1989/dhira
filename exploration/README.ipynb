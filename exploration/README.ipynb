{
 "cells": [
  {
   "cell_type": "markdown",
   "metadata": {},
   "source": [
    "# Deep Learning Exploration\n",
    "\n",
    "\n",
    "\n",
    "## Python\n",
    "\n",
    "## TensorFlow\n",
    "\n"
   ]
  },
  {
   "cell_type": "markdown",
   "metadata": {},
   "source": [
    "### References\n",
    "\n",
    "## Maths\n",
    "#### Linear Algebra\n",
    "- http://www.souravsengupta.com/cds2016/lectures/Savov_Notes.pdf  \n",
    "#### Calculus\n",
    "- http://tutorial.math.lamar.edu/pdf/Calculus_Cheat_Sheet_All.pdf\n",
    "#### Statistics\n",
    "- http://web.mit.edu/~csvoss/Public/usabo/stats_handout.pdf\n",
    "\n",
    "- https://people.ucsc.edu/~praman1/static/pub/math-for-ml.pdf\n",
    "- http://www.vision.jhu.edu/tutorials/ICCV15-Tutorial-Math-Deep-Learning-Intro-Rene-Joan.pdf\n",
    "- http://datascience.ibm.com/blog/the-mathematics-of-machine-learning/\n",
    "\n",
    "#### Neural Network\n",
    "- http://matatat.org/sampyl/index.html\n",
    "- https://www.khanacademy.org/math/multivariable-calculus\n",
    "- https://www.khanacademy.org/math/linear-algebra\n",
    "- https://jalammar.github.io/visual-interactive-guide-basics-neural-networks/\n",
    "- https://www.oreilly.com/learning/hello-tensorflow\n",
    "- https://github.com/aymericdamien/TensorFlow-Examples\n",
    "- https://github.com/llSourcell/How_to_use_Tensorflow_for_classification-LIVE/blob/master/demo.ipynb\n",
    "- https://github.com/tensorflow/models\n",
    "#### RNN\n",
    "- http://colah.github.io/\n",
    "- http://colah.github.io/posts/2015-08-Understanding-LSTMs/\n",
    "- https://www.youtube.com/watch?v=iX5V1WpxxkY\n",
    "- http://deeplearning.net/tutorial/lstm.html   \n",
    "- https://www.quora.com/How-is-deep-learning-used-in-sentiment-analysis   \n",
    "- https://gab41.lab41.org/deep-learning-sentiment-one-character-at-a-t-i-m-e-6cd96e4f780d#.nme2qmtll   \n",
    "- http://k8si.github.io/2016/01/28/lstm-networks-for-sentiment-analysis-on-tweets.html   \n",
    "- https://www.kaggle.com/c/word2vec-nlp-tutorial   \n",
    "- Lexical Based Approach (predicting using a prebuilt Lexicon)   \n",
    "- https://www.aclweb.org/anthology/J/J11/J11-2001.pdf   \n",
    "- http://ceur-ws.org/Vol-1314/paper-06.pdf \n",
    "- http://colah.github.io/posts/2015-08-Understanding-LSTMs/  \n",
    "- https://arxiv.org/pdf/1506.00019.pdf\n",
    "- http://r2rt.com/written-memories-understanding-deriving-and-extending-the-lstm.html  \n",
    "- http://r2rt.com/recurrent-neural-networks-in-tensorflow-i.html   \n",
    "\n",
    "- https://www.youtube.com/watch?v=iX5V1WpxxkY   \n",
    "- http://cs231n.stanford.edu/slides/winter1516_lecture10.pdf  \n",
    "- http://karpathy.github.io/2015/05/21/rnn-effectiveness/\n",
    "- https://github.com/kjw0612/awesome-rnn\n",
    "- https://github.com/llSourcell/How-to-Use-Tensorflow-for-Time-Series-Live-  \n",
    "- https://github.com/tgjeon/TensorFlow-Tutorials-for-Time-Series   \n",
    "- https://cloud.google.com/solutions/machine-learning-with-financial-time-series-data?authuser=1   \n",
    "- https://www.reddit.com/r/MachineLearning/comments/4ervmf/tensorflow_rnn_time_series_prediction/   \n",
    "- https://danijar.com/introduction-to-recurrent-networks-in-tensorflow/   \n",
    "- http://nbviewer.jupyter.org/github/jsseely/tensorflow-rnn-tutorial/blob/master/TensorFlow%20RNN%20tutorial.ipynb - https://github.com/llSourcell/How-to-Use-Tensorflow-for-Time-Series-Live- \n",
    "\n",
    "**Video Lectures**\n",
    "- https://www.youtube.com/results?search_query=CS231n\n",
    "- NLP: https://www.youtube.com/watch?v=k50GPWfjG7I&list=PLCJlDcMjVoEdtem5GaohTC1o9HTTFtK7_&index=5"
   ]
  },
  {
   "cell_type": "code",
   "execution_count": null,
   "metadata": {
    "collapsed": true
   },
   "outputs": [],
   "source": []
  }
 ],
 "metadata": {
  "kernelspec": {
   "display_name": "Python 3",
   "language": "python",
   "name": "python3"
  },
  "language_info": {
   "codemirror_mode": {
    "name": "ipython",
    "version": 3
   },
   "file_extension": ".py",
   "mimetype": "text/x-python",
   "name": "python",
   "nbconvert_exporter": "python",
   "pygments_lexer": "ipython3",
   "version": "3.5.3"
  }
 },
 "nbformat": 4,
 "nbformat_minor": 2
}
