{
 "cells": [
  {
   "cell_type": "code",
   "execution_count": 1,
   "metadata": {
    "collapsed": false
   },
   "outputs": [
    {
     "data": {
      "text/plain": [
       "<tensorflow.python.client.session.InteractiveSession at 0x7fc2c41317f0>"
      ]
     },
     "execution_count": 1,
     "metadata": {},
     "output_type": "execute_result"
    }
   ],
   "source": [
    "from __future__ import print_function\n",
    "import tensorflow as tf\n",
    "\n",
    "tf.InteractiveSession()"
   ]
  },
  {
   "cell_type": "markdown",
   "metadata": {},
   "source": [
    "##### embedding_lookup"
   ]
  },
  {
   "cell_type": "markdown",
   "metadata": {},
   "source": [
    "```python\n",
    "tf.nn.embedding_lookup(params, ids, partition_strategy='mod', name=None)\n",
    "```"
   ]
  },
  {
   "cell_type": "markdown",
   "metadata": {},
   "source": [
    "`embedding_lookup` function retrieves rows of the params tensor. \n",
    "\n",
    "The behavior is similar to using indexing with arrays in numpy. E.g.\n",
    "\n",
    "```python\n",
    "matrix = np.random.random([1024, 64])  # 64-dimensional embeddings\n",
    "ids = np.array([0, 5, 17, 33])\n",
    "print matrix[ids]  # prints a matrix of shape [4, 64] \n",
    "```\n",
    "\n",
    "params argument can be also a list of tensors in which case the ids will be distributed among the tensors. E.g. given a list of 3 [2, 64] tensors the default behavior is that they will represent ids: [0, 3], [1, 4], [2, 5]. partition_strategy controls the way how the ids are distributed among the list. The partitioning is useful for larger scale problems when the matrix might be too large to keep in one piece."
   ]
  },
  {
   "cell_type": "code",
   "execution_count": 3,
   "metadata": {
    "collapsed": false
   },
   "outputs": [
    {
     "name": "stdout",
     "output_type": "stream",
     "text": [
      "[10 20 30 40]\n"
     ]
    }
   ],
   "source": [
    "params = tf.constant([10,20,30,40])\n",
    "ids = tf.constant([0,1,2,3])\n",
    "print(tf.nn.embedding_lookup(params,ids).eval())"
   ]
  },
  {
   "cell_type": "markdown",
   "metadata": {},
   "source": [
    "In its simplest form, it is similar to tf.gather. It returns the elements of params according to the indexes specified by ids."
   ]
  },
  {
   "cell_type": "code",
   "execution_count": 6,
   "metadata": {
    "collapsed": false
   },
   "outputs": [
    {
     "name": "stdout",
     "output_type": "stream",
     "text": [
      "[20 20 40]\n"
     ]
    }
   ],
   "source": [
    "params = tf.constant([10,20,30,40])\n",
    "ids = tf.constant([1,1,3])\n",
    "print(tf.nn.embedding_lookup(params,ids).eval())\n"
   ]
  },
  {
   "cell_type": "markdown",
   "metadata": {},
   "source": [
    "But embedding_lookup is more than that. The params argument can be a list of tensors, rather than a single tensor."
   ]
  },
  {
   "cell_type": "code",
   "execution_count": 9,
   "metadata": {
    "collapsed": false
   },
   "outputs": [
    {
     "data": {
      "text/plain": [
       "array([ 2,  1,  2, 10,  2, 20], dtype=int32)"
      ]
     },
     "execution_count": 9,
     "metadata": {},
     "output_type": "execute_result"
    }
   ],
   "source": [
    "params1 = tf.constant([1,2])\n",
    "params2 = tf.constant([10,20])\n",
    "ids = tf.constant([2,0,2,1,2,3])\n",
    "result = tf.nn.embedding_lookup([params1, params2], ids)\n",
    "result.eval()"
   ]
  },
  {
   "cell_type": "markdown",
   "metadata": {},
   "source": [
    "In such a case, the indexes, specified in ids, correspond to elements of tensors according to a partition strategy, where the default partition strategy is 'mod'.\n",
    "\n",
    "In the 'mod' strategy, index 0 corresponds to the first element of the first tensor in the list. Index 1 corresponds to the first element of the second tensor. Index 2 corresponds to the first element of the third tensor, and so on. Simply index i corresponds to the first element of the (i+1)th tensor , for all the indexes 0..(n-1), assuming params is a list of n tensors.\n",
    "\n",
    "Now, index n cannot correspond to tensor n+1, because the list params contains only n tensors. So index n corresponds to the second element of the first tensor. Similarly, index n+1 corresponds to the second element of the second tensor, etc.\n",
    "\n",
    "\n",
    "index 0 corresponds to the first element of the first tensor: 1\n",
    "\n",
    "index 1 corresponds to the first element of the second tensor: 10\n",
    "\n",
    "index 2 corresponds to the second element of the first tensor: 2\n",
    "\n",
    "index 3 corresponds to the second element of the second tensor: 20"
   ]
  },
  {
   "cell_type": "code",
   "execution_count": null,
   "metadata": {
    "collapsed": true
   },
   "outputs": [],
   "source": []
  }
 ],
 "metadata": {
  "kernelspec": {
   "display_name": "Python 3",
   "language": "python",
   "name": "python3"
  },
  "language_info": {
   "codemirror_mode": {
    "name": "ipython",
    "version": 3
   },
   "file_extension": ".py",
   "mimetype": "text/x-python",
   "name": "python",
   "nbconvert_exporter": "python",
   "pygments_lexer": "ipython3",
   "version": "3.5.3"
  }
 },
 "nbformat": 4,
 "nbformat_minor": 2
}
