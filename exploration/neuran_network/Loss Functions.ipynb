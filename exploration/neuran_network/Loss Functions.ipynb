{
 "cells": [
  {
   "cell_type": "markdown",
   "metadata": {
    "deletable": true,
    "editable": true
   },
   "source": [
    "### NCE Loss - tf.nn.nce_loss\n",
    "\n",
    "**Maths Refereser**\n",
    "- https://revisionmaths.com/advanced-level-maths-revision/statistics/expectation-and-variance\n",
    "- https://en.wikipedia.org/wiki/Maximum_likelihood_estimation\n",
    "- https://en.wikipedia.org/wiki/Joint_probability_distribution\n",
    "- https://en.wikipedia.org/wiki/Logistic_function\n",
    "\n",
    "**Papers**\n",
    "- Log BiLinear Model which is base for NCE @ https://www.cs.toronto.edu/~amnih/papers/threenew.pdf\n",
    "- Base paper for NCE for Neural Networks @ https://www.cs.toronto.edu/~amnih/papers/ncelm.pdf\n",
    "- Word2vec NCE Loss @ http://papers.nips.cc/paper/5165-learning-word-embeddings-efficiently-with-noise-contrastive-estimation.pdf   \n",
    "- http://proceedings.mlr.press/v9/gutmann10a/gutmann10a.pdf\n",
    "\n",
    "**TensorFlow**\n",
    "- https://www.tensorflow.org/extras/candidate_sampling.pdf\n",
    "- https://www.tensorflow.org/api_docs/python/tf/nn/nce_loss    "
   ]
  },
  {
   "cell_type": "markdown",
   "metadata": {
    "deletable": true,
    "editable": true
   },
   "source": [
    "**Traing example** :   \n",
    "$(x_i, T_i)$  \n",
    "            where:  \n",
    "            $x_i$ is the current word/context   \n",
    "            $T_i$ Multiset of target classes\n"
   ]
  },
  {
   "cell_type": "markdown",
   "metadata": {
    "deletable": true,
    "editable": true
   },
   "source": [
    "We use the following as a shorthand for the expected count of a class in the set of target\n",
    "classes for a context. In the case of sets with no duplicates, this is the probability of the class\n",
    "given the context:\n",
    "\n",
    "$$\n",
    "P(y|x) := E(T(y)|x)\n",
    "$$\n",
    "\n",
    "Train Function:  \n",
    "$$\n",
    "F(x,y) \\leftarrow log(P(y|x)\n",
    "$$\n",
    "\n",
    "For each training example, we pick a multiset/set of sampled classes $S_i$\n",
    "\n",
    "$S_i$ may or may not depend on $x_i$ but may not depend on $T_i$\n",
    "\n",
    "We construct Candidates consisting of the sum of the target classes and the sampled classes:\n",
    "$$C_i = T_i + S_i$$\n",
    "\n",
    "Our training task is to distinguish the true candidates from the sampled candidates. \n",
    "\n",
    "We introduce the shorthand Q(y|x) to denote the expected count, according to our sampling\n",
    "algorithm, of a particular class in the set of sampled classes. If S never contains duplicates,\n",
    "then this is a probability.\n",
    "$$\n",
    "Q(y|x) := E(S(y)|x)\n",
    "$$"
   ]
  },
  {
   "cell_type": "markdown",
   "metadata": {
    "deletable": true,
    "editable": true
   },
   "source": [
    "$$logodds(s(y came from T vs S | x) = log \\frac{P(y|x)}{Q(y|x)}$$\n",
    "$$= log(P(y|x)) - log(Q(y|x))$$\n",
    "\n",
    "\n",
    "The first term, log (P(y|x)) , is what we would like to train F(x, y) to estimate."
   ]
  },
  {
   "cell_type": "markdown",
   "metadata": {
    "deletable": true,
    "editable": true
   },
   "source": [
    "We have a layer in our model which represents F(x, y) . We add to it the second term,\n",
    "− log(Q(y|x)) , which we compute analytically, and we pass the result to a logistic regression loss\n",
    "whose “label” indicates whether y came from T as opposed to S ."
   ]
  },
  {
   "cell_type": "markdown",
   "metadata": {
    "deletable": true,
    "editable": true
   },
   "source": [
    "Logistic Regression Input = F(x, y) − log(Q(y|x))   \n",
    "The backpropagation signal trains F(x, y) to approximate what we want it to."
   ]
  },
  {
   "cell_type": "code",
   "execution_count": null,
   "metadata": {
    "collapsed": true,
    "deletable": true,
    "editable": true
   },
   "outputs": [],
   "source": []
  }
 ],
 "metadata": {
  "kernelspec": {
   "display_name": "Python 3",
   "language": "python",
   "name": "python3"
  },
  "language_info": {
   "codemirror_mode": {
    "name": "ipython",
    "version": 3
   },
   "file_extension": ".py",
   "mimetype": "text/x-python",
   "name": "python",
   "nbconvert_exporter": "python",
   "pygments_lexer": "ipython3",
   "version": "3.5.3"
  }
 },
 "nbformat": 4,
 "nbformat_minor": 2
}
