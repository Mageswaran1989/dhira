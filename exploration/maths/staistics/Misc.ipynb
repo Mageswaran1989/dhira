{
 "cells": [
  {
   "cell_type": "markdown",
   "metadata": {},
   "source": [
    "The number of ways of obtaining an ordered subset of $k$ elements from a $set$ of $n$ elements is given by\n",
    "\n",
    "$${}_{n}P_k = \\frac{n!}{(n-k)!}$$"
   ]
  },
  {
   "cell_type": "markdown",
   "metadata": {},
   "source": [
    "In three throws of a die, what is the probability of a total score of $6$?\n",
    "\n",
    "We can get $6$ by the combinations:\n",
    "- $(2,2,2)$ which has $1\\ ({}_{3}P_1)$ permutation,  \n",
    "- $(4,1,1)$ which has $3\\ ({}_{3}P_2)$ permutations and \n",
    "- $(3,2,1)$ which has $6\\ ({}_{3}P_3)$ permutations.\n",
    "\n",
    "$$\\frac{1 + 3 + 6}{6^3} = \\frac{10}{216} = \\frac{5}{108}$$"
   ]
  },
  {
   "cell_type": "code",
   "execution_count": null,
   "metadata": {
    "collapsed": true
   },
   "outputs": [],
   "source": []
  }
 ],
 "metadata": {
  "kernelspec": {
   "display_name": "Python 3",
   "language": "python",
   "name": "python3"
  },
  "language_info": {
   "codemirror_mode": {
    "name": "ipython",
    "version": 3
   },
   "file_extension": ".py",
   "mimetype": "text/x-python",
   "name": "python",
   "nbconvert_exporter": "python",
   "pygments_lexer": "ipython3",
   "version": "3.5.3"
  }
 },
 "nbformat": 4,
 "nbformat_minor": 2
}
