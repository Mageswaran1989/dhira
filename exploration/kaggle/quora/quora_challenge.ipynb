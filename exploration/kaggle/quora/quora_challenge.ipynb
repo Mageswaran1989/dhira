{
 "cells": [
  {
   "cell_type": "code",
   "execution_count": 1,
   "metadata": {
    "collapsed": false,
    "deletable": true,
    "editable": true
   },
   "outputs": [],
   "source": [
    "%load_ext autoreload\n",
    "%autoreload 2\n"
   ]
  },
  {
   "cell_type": "code",
   "execution_count": 2,
   "metadata": {
    "collapsed": false,
    "deletable": true,
    "editable": true
   },
   "outputs": [
    {
     "name": "stderr",
     "output_type": "stream",
     "text": [
      "Using TensorFlow backend.\n"
     ]
    }
   ],
   "source": [
    "\n",
    "import dhira.input_preprocessor as ip\n",
    "from dhira.global_config import Config\n",
    "from dhira.embeddings_loader import EmbeddingLoader\n",
    "from dhira.train_models import TrainQuoraDataset\n",
    "\n",
    "import pandas as pd\n",
    "import numpy as np\n",
    "import pickle\n",
    "import warnings\n",
    "from tqdm import tqdm\n",
    "import re\n",
    "from dhira.predict import Predict\n",
    "warnings.filterwarnings('ignore')\n",
    "\n"
   ]
  },
  {
   "cell_type": "code",
   "execution_count": 3,
   "metadata": {
    "collapsed": true,
    "deletable": true,
    "editable": true
   },
   "outputs": [],
   "source": [
    "batch_size = 64"
   ]
  },
  {
   "cell_type": "code",
   "execution_count": 4,
   "metadata": {
    "collapsed": false,
    "deletable": true,
    "editable": true
   },
   "outputs": [],
   "source": [
    "train = TrainQuoraDataset(5, batch_size, preprocess=False)"
   ]
  },
  {
   "cell_type": "code",
   "execution_count": null,
   "metadata": {
    "collapsed": false,
    "deletable": true,
    "editable": true,
    "scrolled": true
   },
   "outputs": [
    {
     "name": "stdout",
     "output_type": "stream",
     "text": [
      "Starting graph definition\n",
      "Build Models\n",
      "Tensor(\"dropout_keep_prob:0\", dtype=float32, device=/device:GPU:0)\n",
      "Tensor(\"input-layer/input_x1:0\", shape=(?, 30), dtype=int32, device=/device:GPU:0)\n",
      "Tensor(\"embed-layer/embedding_placeholder:0\", shape=(167999, 300), dtype=float32, device=/device:CPU:0)\n",
      "Tensor(\"hidden-layer/biDirRNN/left/dropout/mul:0\", shape=(?, 300), dtype=float32, device=/device:GPU:0)\n",
      "modle output:  Tensor(\"hidden-layer/ouput-layer/dense_layer_3/BiasAdd:0\", shape=(?, 1), dtype=float32, device=/device:GPU:0)\n",
      "Returing SiameseLSTM loss\n",
      "Tensor(\"loss-layer/prediction-layer/predictions:0\", shape=(?, 1), dtype=float32, device=/device:GPU:0)\n",
      "Tensor(\"loss-layer/loss:0\", shape=(), dtype=float32, device=/device:GPU:0)\n",
      "Tensor(\"prediction-layer/predictions:0\", shape=(?, 1), dtype=float32, device=/device:GPU:0)\n",
      "Setting-up optimizer\n",
      "Initialize Global Variables\n",
      "Setting up summaries and saving TF graph(nodes & edges) for Tensorboard!\n",
      "Writing to /opt/deeplearning/git/quorakaggle/logs/1495510408\n",
      "\n",
      "--------------------------------------------------\n",
      "\n",
      "tensorboard --logdir  /opt/deeplearning/git/quorakaggle/logs/1495510408\n",
      "\n",
      "\n",
      "tensorboard --logdir  /opt/deeplearning/git/quorakaggle/logs/1495510408/checkpoints --port 6007\n",
      "\n",
      "--------------------------------------------------\n"
     ]
    }
   ],
   "source": [
    "train.setup()"
   ]
  },
  {
   "cell_type": "code",
   "execution_count": 2,
   "metadata": {
    "collapsed": true,
    "deletable": true,
    "editable": true
   },
   "outputs": [],
   "source": [
    "chk_dir = train.train()"
   ]
  },
  {
   "cell_type": "code",
   "execution_count": null,
   "metadata": {
    "collapsed": false,
    "deletable": true,
    "editable": true
   },
   "outputs": [],
   "source": [
    "predict = Predict(chk_dir,batch_size=batch_size)"
   ]
  },
  {
   "cell_type": "code",
   "execution_count": null,
   "metadata": {
    "collapsed": false,
    "deletable": true,
    "editable": true
   },
   "outputs": [],
   "source": [
    "p = predict.predict()"
   ]
  },
  {
   "cell_type": "code",
   "execution_count": null,
   "metadata": {
    "collapsed": false,
    "deletable": true,
    "editable": true
   },
   "outputs": [],
   "source": [
    "p\n"
   ]
  },
  {
   "cell_type": "code",
   "execution_count": 7,
   "metadata": {
    "collapsed": false,
    "deletable": true,
    "editable": true
   },
   "outputs": [],
   "source": [
    "from keras.layers import Lambda, Activation, Dropout, Embedding, TimeDistributed, SpatialDropout1D"
   ]
  },
  {
   "cell_type": "code",
   "execution_count": 8,
   "metadata": {
    "collapsed": true
   },
   "outputs": [],
   "source": [
    "Embedding?"
   ]
  },
  {
   "cell_type": "markdown",
   "metadata": {
    "deletable": true,
    "editable": true
   },
   "source": [
    "RNN with CNN = www.aaai.org/ocs/index.php/AAAI/AAAI15/paper/download/9745/9552"
   ]
  },
  {
   "cell_type": "markdown",
   "metadata": {
    "deletable": true,
    "editable": true
   },
   "source": [
    "# TODO\n",
    "- Consider only the outputs from siamese\n",
    "- CAlculate loss with tf.nn.sigmoid_cross_entropy_with_logits(logits, targets, name=None)\n",
    "- Activation function - Prelu\n",
    "- Weight intilization  - Have mean around 0.5 \n",
    "- http://www.damienfrancois.be/blog/files/modelperfcheatsheet.pdf"
   ]
  },
  {
   "cell_type": "markdown",
   "metadata": {
    "collapsed": true,
    "deletable": true,
    "editable": true
   },
   "source": [
    "# Reference:\n",
    "http://suriyadeepan.github.io/2016-06-28-easy-seq2seq/  \n",
    "https://www.kaggle.com/c/word2vec-nlp-tutorial/details/part-1-for-beginners-bag-of-words  \n",
    "https://github.com/yuhaozhang/sentence-convnet  \n",
    "https://github.com/dennybritz/cnn-text-classification-tf \n",
    "\n",
    "https://cs224d.stanford.edu/reports/PoulosJackson.pdf  \n",
    "http://www.mit.edu/~jonasm/info/MuellerThyagarajan_AAAI16.pdf    \n",
    "https://github.com/dhwajraj/deep-siamese-text-similarity  \n",
    "http://suriyadeepan.github.io/2017-01-07-unfolding-rnn/  "
   ]
  },
  {
   "cell_type": "code",
   "execution_count": null,
   "metadata": {
    "collapsed": true,
    "deletable": true,
    "editable": true
   },
   "outputs": [],
   "source": []
  },
  {
   "cell_type": "code",
   "execution_count": null,
   "metadata": {
    "collapsed": true,
    "deletable": true,
    "editable": true
   },
   "outputs": [],
   "source": []
  }
 ],
 "metadata": {
  "kernelspec": {
   "display_name": "Python 3",
   "language": "python",
   "name": "python3"
  },
  "language_info": {
   "codemirror_mode": {
    "name": "ipython",
    "version": 3
   },
   "file_extension": ".py",
   "mimetype": "text/x-python",
   "name": "python",
   "nbconvert_exporter": "python",
   "pygments_lexer": "ipython3",
   "version": "3.5.3"
  }
 },
 "nbformat": 4,
 "nbformat_minor": 2
}
