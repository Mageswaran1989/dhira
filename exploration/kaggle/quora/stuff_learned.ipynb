{
 "cells": [
  {
   "cell_type": "markdown",
   "metadata": {
    "deletable": true,
    "editable": true
   },
   "source": [
    "# What I am trying to accomplish?\n",
    "https://engineering.quora.com/Semantic-Question-Matching-with-Deep-Learning"
   ]
  },
  {
   "cell_type": "markdown",
   "metadata": {
    "deletable": true,
    "editable": true
   },
   "source": [
    "# Logarithmic Loss\n",
    "\n",
    "### [Scikit](http://scikit-learn.org/stable/modules/generated/sklearn.metrics.log_loss.html)\n",
    "\n",
    "Loss for single calss: $ l(y,p) = -y\\log (p) - (1-y)\\log (1-p) $\n",
    "\n",
    "Average log loss for N instances is $\\frac{1}{N} \\sum_{i=1}^Nl(\\mathbf{y}_i,\\mathbf{p}_i)$  \n",
    "where y is the gold value and p is the predicted value.\n",
    "\n"
   ]
  },
  {
   "cell_type": "markdown",
   "metadata": {
    "deletable": true,
    "editable": true
   },
   "source": [
    "# Log Loss\n",
    "\n",
    "This is the multi-class version of the Logarithmic Loss metric. Each observation is in one class and for each observation, you submit a predicted probability for each class. The metric is negative the log likelihood of the model that says each test observation is chosen independently from a distribution that places the submitted probability mass on the corresponding class, for each observation.\n",
    "\n",
    "\n",
    "\n",
    "$log\\ loss = -\\frac{1}{N}\\sum_{i=1}^N\\sum_{j=1}^My_{i,j}\\log(p_{i,j})$\"\n",
    "\n",
    "where $N$ is the number of observations, $M$ is the number of class labels, $log$ is the natural logarithm, $y_{i,j}$ is $1$ if observation $i$ is in class $j$ and 0 otherwise, and $p_{i,j}$ is the predicted probability that observation $i$ is in class $j$."
   ]
  },
  {
   "cell_type": "markdown",
   "metadata": {
    "deletable": true,
    "editable": true
   },
   "source": [
    "# Regularization\n",
    "- https://theneuralperspective.com/2016/10/27/gradient-topics/"
   ]
  },
  {
   "cell_type": "markdown",
   "metadata": {
    "deletable": true,
    "editable": true
   },
   "source": [
    "# Cross entropy and training-test class imbalance\n",
    "- https://www.kaggle.com/c/quora-question-pairs/discussion/31179\n",
    "- https://swarbrickjones.wordpress.com/2017/03/28/cross-entropy-and-training-test-class-imbalance/\n",
    "- https://www.kaggle.com/davidthaler/how-many-1-s-are-in-the-public-lb/comments/comments"
   ]
  },
  {
   "cell_type": "markdown",
   "metadata": {
    "deletable": true,
    "editable": true
   },
   "source": [
    "# RNN References\n",
    "- http://suriyadeepan.github.io/2017-01-07-unfolding-rnn/"
   ]
  },
  {
   "cell_type": "markdown",
   "metadata": {
    "deletable": true,
    "editable": true
   },
   "source": [
    "# Siamese Network\n",
    "\n",
    "http://www.mit.edu/~jonasm/info/MuellerThyagarajan_AAAI16.pdf"
   ]
  },
  {
   "cell_type": "markdown",
   "metadata": {
    "deletable": true,
    "editable": true
   },
   "source": [
    "# Contrasive Loss\n",
    "\n",
    "http://stackoverflow.com/questions/38260113/implementing-contrastive-loss-and-triplet-loss-in-tensorflow  \n",
    "http://yann.lecun.com/exdb/publis/pdf/hadsell-chopra-lecun-06.pdf"
   ]
  },
  {
   "cell_type": "markdown",
   "metadata": {
    "deletable": true,
    "editable": true
   },
   "source": [
    "# Good Neural Network Papers\n",
    "-  http://www.aaai.org/ocs/index.php/AAAI/AAAI15/paper/download/9745/9552\n",
    "\n"
   ]
  },
  {
   "cell_type": "markdown",
   "metadata": {
    "collapsed": true,
    "deletable": true,
    "editable": true
   },
   "source": [
    "# Stackoverflow\n",
    "\n",
    "- http://stackoverflow.com/questions/42315202/understanding-tensorboard-weight-histograms\n",
    "- https://stats.stackexchange.com/questions/220491/how-does-one-interpret-histograms-given-by-tensorflow-in-tensorboard\n",
    "- http://stackoverflow.com/questions/35567132/meaning-of-histogram-on-tensorboard\n",
    "- http://stackoverflow.com/questions/34240703/difference-between-tensorflow-tf-nn-softmax-and-tf-nn-softmax-cross-entropy-with"
   ]
  },
  {
   "cell_type": "markdown",
   "metadata": {
    "deletable": true,
    "editable": true
   },
   "source": [
    "# Distributions \n",
    "- http://www.mathsisfun.com/data/standard-normal-distribution.html"
   ]
  },
  {
   "cell_type": "markdown",
   "metadata": {
    "deletable": true,
    "editable": true
   },
   "source": [
    "# Reference Github projects\n",
    "- https://github.com/nfmcclure/tensorflow_cookbook"
   ]
  },
  {
   "cell_type": "markdown",
   "metadata": {
    "collapsed": true,
    "deletable": true,
    "editable": true
   },
   "source": [
    "# Pandas\n",
    "- https://www.analyticsvidhya.com/blog/2016/01/12-pandas-techniques-python-data-manipulation/"
   ]
  },
  {
   "cell_type": "code",
   "execution_count": null,
   "metadata": {
    "collapsed": true,
    "deletable": true,
    "editable": true
   },
   "outputs": [],
   "source": []
  }
 ],
 "metadata": {
  "kernelspec": {
   "display_name": "Python 3",
   "language": "python",
   "name": "python3"
  },
  "language_info": {
   "codemirror_mode": {
    "name": "ipython",
    "version": 3
   },
   "file_extension": ".py",
   "mimetype": "text/x-python",
   "name": "python",
   "nbconvert_exporter": "python",
   "pygments_lexer": "ipython3",
   "version": "3.5.3"
  }
 },
 "nbformat": 4,
 "nbformat_minor": 2
}
