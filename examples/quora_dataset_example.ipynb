{
 "cells": [
  {
   "cell_type": "code",
   "execution_count": 92,
   "metadata": {},
   "outputs": [
    {
     "name": "stdout",
     "output_type": "stream",
     "text": [
      "The autoreload extension is already loaded. To reload it, use:\n",
      "  %reload_ext autoreload\n"
     ]
    }
   ],
   "source": [
    "import sys\n",
    "import numpy as np\n",
    "sys.path.append(\"../\")\n",
    "%load_ext autoreload\n",
    "%autoreload 2"
   ]
  },
  {
   "cell_type": "code",
   "execution_count": 95,
   "metadata": {
    "collapsed": true
   },
   "outputs": [],
   "source": [
    "#Creates word <-> int dirctionary \n",
    "from dhira.data.data_indexer import DataIndexer\n",
    "#To read text data file\n",
    "from dhira.data.dataset import TextDataset\n",
    "#To parse the line in Text data file \n",
    "from dhira.data.features.pair_feature import PairFeature\n",
    "#\n",
    "from dhira.data.data_manager import DataManager\n",
    "#For testing\n",
    "from dhira.tests.common.test_case import DuplicateTestCase\n",
    "\n",
    "from dhira.data.embedding_manager import EmbeddingManager"
   ]
  },
  {
   "cell_type": "markdown",
   "metadata": {},
   "source": [
    "### Storyline\n",
    "- Set the required `Feature Type` in `DataManager` and use datamanager instance to read the text dataset with `TextDataset` where the `Feature Type` is passed as a parameter.\n",
    "- `TextDataset` reads the whole file and converts it into lines, which then parsed line by line by `Feature Type`\n",
    "- The returned datatype is then used to fit the `Data Indexer`\n",
    "- Convert the text feature to `Indexed Feature` with the trained `Data Indexer`"
   ]
  },
  {
   "cell_type": "code",
   "execution_count": 88,
   "metadata": {},
   "outputs": [],
   "source": [
    "test = DuplicateTestCase()\n",
    "test.setUp()\n",
    "test.write_duplicate_questions_train_file()\n",
    "test.write_vector_file()"
   ]
  },
  {
   "cell_type": "markdown",
   "metadata": {},
   "source": [
    "### Pair Feature"
   ]
  },
  {
   "cell_type": "code",
   "execution_count": 3,
   "metadata": {},
   "outputs": [],
   "source": [
    "#[id],[qid1],[qid2],[question1],[question2],[is_duplicate]\n",
    "feature = PairFeature.read_from_line(\"0,0,1,question1 is similar to question2,question2 is similar to question1,1\")"
   ]
  },
  {
   "cell_type": "code",
   "execution_count": 58,
   "metadata": {},
   "outputs": [],
   "source": [
    "feature1 = PairFeature(\"this is an example\", \"this is another an example\", 0)\n",
    "feature2 = PairFeature(\"a a a a b\", \"b c c c\", 1)\n",
    "feature3 = PairFeature(\"this sentence can be similar\", \"this sentence might be have seen before\", 1)\n",
    "feature4 = PairFeature(\"Tensorflow is a Neural Network Library\", \"For Neural Netwrk Tensorflow is a good library\", 1)\n",
    "\n",
    "# feature5 = PairFeature.read_from_line(\"0\",\"1\",\"2\",\"What is the step by step guide to invest in share market in india?\",\"What is the step by step guide to invest in share market?\",\"0\")\n",
    "# feature6 = PairFeature.read_from_line(\"1\",\"3\",\"4\",\"What is the story of Kohinoor (Koh-i-Noor) Diamond?\",\"What would happen if the Indian government stole the Kohinoor (Koh-i-Noor) diamond back?\",\"0\")\n",
    "# feature7 = PairFeature.read_from_line(\"2\",\"5\",\"6\",\"How can I increase the speed of my internet connection while using a VPN?\",\"How can Internet speed be increased by hacking through DNS?\",\"0\")\n",
    "# feature8 = PairFeature.read_from_line(\"3\",\"7\",\"8\",\"Why am I mentally very lonely? How can I solve it?\",\"Find the remainder when [math]23^{24}[/math] is divided by 24,23?\",\"0\")\n",
    "# feature9 = PairFeature.read_from_line(\"4\",\"9\",\"10\",\"Which one dissolve in water quikly sugar, salt, methane and carbon di oxide?\",\"Which fish would survive in salt water?\",\"0\")\n",
    "# feature10 = PairFeature.read_from_line(\"5\",\"11\",\"12\",\"Astrology: I am a Capricorn Sun Cap moon and cap rising...what does that say about me?\",\"I'm a triple Capricorn (Sun, Moon and ascendant in Capricorn) What does this say about me?\",\"1\")\n",
    "# feature11 = PairFeature.read_from_line(\"6\",\"13\",\"14\",\"Should I buy tiago?\",\"What keeps childern active and far from phone and video games?\",\"0\")\n",
    "# feature12 = PairFeature.read_from_line(\"7\",\"15\",\"16\",\"How can I be a good geologist?\",\"What should I do to be a great geologist?\",\"1\")\n",
    "# feature13 = PairFeature.read_from_line(\"8\",\"17\",\"18\",\"When do you use シ instead of し?\",\"When do you use \"\"&\"\" instead of \"\"and\"\"?\",\"0\")\n",
    "# feature14 = PairFeature.read_from_line(\"9\",\"19\",\"20\",\"Motorola (company): Can I hack my Charter Motorolla DCX3400?\",\"How do I hack Motorola DCX3400 for free internet?\",\"0\")\n",
    "# feature15 = PairFeature.read_from_line(\"10\",\"21\",\"22\",\"Method to find separation of slits using fresnel biprism?\",\"What are some of the things technicians can tell about the durability and reliability of Laptops and its components?\",\"0\")\n",
    "# feature16 = PairFeature.read_from_line(\"11\",\"23\",\"24\",\"How do I read and find my YouTube comments?\",\"How can I see all my Youtube comments?\",\"1\")\n",
    "# feature17 = PairFeature.read_from_line(\"12\",\"25\",\"26\",\"What can make Physics easy to learn?\",\"How can you make physics easy to learn?\",\"1\")\n",
    "# feature18 = PairFeature.read_from_line(\"13\",\"27\",\"28\",\"What was your first sexual experience like?\",\"What was your first sexual experience?\",\"1\")\n",
    "# feature19 = PairFeature.read_from_line(\"14\",\"29\",\"30\",\"What are the laws to change your status from a student visa to a green card in the US, how do they compare to the immigration laws in Canada?\",\"What are the laws to change your status from a student visa to a green card in the US? How do they compare to the immigration laws in Japan?\",\"0\")\n",
    "# feature20 = PairFeature.read_from_line(\"15\",\"31\",\"32\",\"What would a Trump presidency mean for current international master’s students on an F1 visa?\",\"How will a Trump presidency affect the students presently in US or planning to study in US?\",\"1\")\n",
    "# feature21 = PairFeature.read_from_line(\"16\",\"33\",\"34\",\"What does manipulation mean?\",\"What does manipulation means?\",\"1\")\n",
    "# feature22 = PairFeature.read_from_line(\"17\",\"35\",\"36\",\"Why do girls want to be friends with the guy they reject?\",\"How do guys feel after rejecting a girl?\",\"0\")\n",
    "# feature23 = PairFeature.read_from_line(\"18\",\"37\",\"38\",\"Why are so many Quora users posting questions that are readily answered on Google?\",\"Why do people ask Quora questions which can be answered easily by Google?\",\"1\")\n",
    "# feature24 = PairFeature.read_from_line(\"19\",\"39\",\"40\",\"Which is the best digital marketing institution in banglore?\",\"Which is the best digital marketing institute in Pune?\",\"0\")\n",
    "# feature25 = PairFeature.read_from_line(\"20\",\"41\",\"42\",\"Why do rockets look white?\",\"Why are rockets and boosters painted white?\",\"1\")\n",
    "# feature26 = PairFeature.read_from_line(\"21\",\"43\",\"44\",\"What's causing someone to be jealous?\",\"What can I do to avoid being jealous of someone?\",\"0\")\n",
    "# feature27 = PairFeature.read_from_line(\"22\",\"45\",\"46\",\"What are the questions should not ask on Quora?\",\"Which question should I ask on Quora?\",\"0\")\n",
    "# feature28 = PairFeature.read_from_line(\"23\",\"47\",\"48\",\"How much is 30 kV in HP?\",\"Where can I find a conversion chart for CC to horsepower?\",\"0\")\n",
    "# feature29 = PairFeature.read_from_line(\"24\",\"49\",\"50\",\"What does it mean that every time I look at the clock the numbers are the same?\",\"How many times a day do a clock’s hands overlap?\",\"0\")"
   ]
  },
  {
   "cell_type": "code",
   "execution_count": 6,
   "metadata": {},
   "outputs": [
    {
     "data": {
      "text/plain": [
       "'question1 is similar to question2'"
      ]
     },
     "execution_count": 6,
     "metadata": {},
     "output_type": "execute_result"
    }
   ],
   "source": [
    "feature.first_sentence_str"
   ]
  },
  {
   "cell_type": "code",
   "execution_count": 7,
   "metadata": {},
   "outputs": [
    {
     "data": {
      "text/plain": [
       "'question2 is similar to question1'"
      ]
     },
     "execution_count": 7,
     "metadata": {},
     "output_type": "execute_result"
    }
   ],
   "source": [
    "feature.second_sentence_str"
   ]
  },
  {
   "cell_type": "code",
   "execution_count": 8,
   "metadata": {},
   "outputs": [
    {
     "data": {
      "text/plain": [
       "1"
      ]
     },
     "execution_count": 8,
     "metadata": {},
     "output_type": "execute_result"
    }
   ],
   "source": [
    "feature.label"
   ]
  },
  {
   "cell_type": "code",
   "execution_count": 9,
   "metadata": {},
   "outputs": [
    {
     "data": {
      "text/plain": [
       "{0: [1, 0], 1: [0, 1], None: None}"
      ]
     },
     "execution_count": 9,
     "metadata": {},
     "output_type": "execute_result"
    }
   ],
   "source": [
    "feature.label_mapping"
   ]
  },
  {
   "cell_type": "code",
   "execution_count": 10,
   "metadata": {},
   "outputs": [
    {
     "data": {
      "text/plain": [
       "{'characters': [['q', 'u', 'e', 's', 't', 'i', 'o', 'n', '1'],\n",
       "  ['i', 's'],\n",
       "  ['s', 'i', 'm', 'i', 'l', 'a', 'r'],\n",
       "  ['t', 'o'],\n",
       "  ['q', 'u', 'e', 's', 't', 'i', 'o', 'n', '2']],\n",
       " 'words': ['question1', 'is', 'similar', 'to', 'question2']}"
      ]
     },
     "execution_count": 10,
     "metadata": {},
     "output_type": "execute_result"
    }
   ],
   "source": [
    "feature.first_sentence_tokenized"
   ]
  },
  {
   "cell_type": "code",
   "execution_count": 11,
   "metadata": {},
   "outputs": [
    {
     "data": {
      "text/plain": [
       "{'characters': [['q', 'u', 'e', 's', 't', 'i', 'o', 'n', '2'],\n",
       "  ['i', 's'],\n",
       "  ['s', 'i', 'm', 'i', 'l', 'a', 'r'],\n",
       "  ['t', 'o'],\n",
       "  ['q', 'u', 'e', 's', 't', 'i', 'o', 'n', '1']],\n",
       " 'words': ['question2', 'is', 'similar', 'to', 'question1']}"
      ]
     },
     "execution_count": 11,
     "metadata": {},
     "output_type": "execute_result"
    }
   ],
   "source": [
    "feature.second_sentence_tokenized"
   ]
  },
  {
   "cell_type": "markdown",
   "metadata": {},
   "source": [
    "### Dataset"
   ]
  },
  {
   "cell_type": "code",
   "execution_count": 5,
   "metadata": {
    "collapsed": true
   },
   "outputs": [],
   "source": [
    "dataset = TextDataset([feature1, feature2, feature3, feature4])"
   ]
  },
  {
   "cell_type": "markdown",
   "metadata": {},
   "source": [
    "### Data Indexer"
   ]
  },
  {
   "cell_type": "code",
   "execution_count": 31,
   "metadata": {},
   "outputs": [
    {
     "name": "stderr",
     "output_type": "stream",
     "text": [
      "100%|██████████| 4/4 [00:00<00:00, 2875.27it/s]\n"
     ]
    }
   ],
   "source": [
    "data_indexer = DataIndexer()\n",
    "data_indexer.fit_word_dictionary(dataset, min_count=1)"
   ]
  },
  {
   "cell_type": "code",
   "execution_count": 32,
   "metadata": {},
   "outputs": [
    {
     "data": {
      "text/plain": [
       "dict_keys(['@@PADDING@@', '@@UNKOWN@@', 'a', 'is', 'this', 'c', 'an', 'b', 'be', 'example', 'library', 'neural', 'sentence', 'tensorflow', 'another', 'before', 'can', 'for', 'good', 'have', 'might', 'network', 'netwrk', 'seen', 'similar'])"
      ]
     },
     "execution_count": 32,
     "metadata": {},
     "output_type": "execute_result"
    }
   ],
   "source": [
    "data_indexer.words_in_index()"
   ]
  },
  {
   "cell_type": "code",
   "execution_count": 33,
   "metadata": {},
   "outputs": [
    {
     "data": {
      "text/plain": [
       "25"
      ]
     },
     "execution_count": 33,
     "metadata": {},
     "output_type": "execute_result"
    }
   ],
   "source": [
    "data_indexer.get_vocab_size()"
   ]
  },
  {
   "cell_type": "code",
   "execution_count": 34,
   "metadata": {
    "collapsed": true
   },
   "outputs": [],
   "source": [
    "word_index = data_indexer.add_word_to_index(\"dhira\")"
   ]
  },
  {
   "cell_type": "code",
   "execution_count": 35,
   "metadata": {},
   "outputs": [
    {
     "data": {
      "text/plain": [
       "dict_keys(['@@PADDING@@', '@@UNKOWN@@', 'a', 'is', 'this', 'c', 'an', 'b', 'be', 'example', 'library', 'neural', 'sentence', 'tensorflow', 'another', 'before', 'can', 'for', 'good', 'have', 'might', 'network', 'netwrk', 'seen', 'similar', 'dhira'])"
      ]
     },
     "execution_count": 35,
     "metadata": {},
     "output_type": "execute_result"
    }
   ],
   "source": [
    "data_indexer.words_in_index()"
   ]
  },
  {
   "cell_type": "markdown",
   "metadata": {},
   "source": [
    "### Indexed Feature"
   ]
  },
  {
   "cell_type": "code",
   "execution_count": 15,
   "metadata": {},
   "outputs": [],
   "source": [
    "indexed_feature = feature.to_indexed_feature(data_indexer)"
   ]
  },
  {
   "cell_type": "code",
   "execution_count": null,
   "metadata": {},
   "outputs": [],
   "source": [
    "indexed_feature.get_int_word_indices"
   ]
  },
  {
   "cell_type": "code",
   "execution_count": null,
   "metadata": {
    "collapsed": true
   },
   "outputs": [],
   "source": []
  },
  {
   "cell_type": "code",
   "execution_count": null,
   "metadata": {},
   "outputs": [],
   "source": [
    "dataset.features"
   ]
  },
  {
   "cell_type": "markdown",
   "metadata": {},
   "source": [
    "### DataManager"
   ]
  },
  {
   "cell_type": "code",
   "execution_count": 60,
   "metadata": {},
   "outputs": [],
   "source": [
    "data_manager = DataManager(PairFeature)\n",
    "data_manager.set_pickle_folder(\".\")"
   ]
  },
  {
   "cell_type": "code",
   "execution_count": 61,
   "metadata": {},
   "outputs": [
    {
     "name": "stderr",
     "output_type": "stream",
     "text": [
      "2017-07-17 20:09:10,085 - INFO - dhira.data.data_manager - Reusing the pickle file train_data.p.\n",
      "2017-07-17 20:09:10,087 - INFO - dhira.data.data_manager - Instance max lengths {'num_sentence_words': 2, 'num_word_characters': 12}\n",
      "2017-07-17 20:09:10,088 - INFO - dhira.data.data_manager - Padding lengths to length: {'num_sentence_words': 2, 'num_word_characters': 12}\n"
     ]
    }
   ],
   "source": [
    "get_train_gen, train_size = data_manager.get_train_data_from_file([DuplicateTestCase.TRAIN_FILE])"
   ]
  },
  {
   "cell_type": "code",
   "execution_count": 62,
   "metadata": {},
   "outputs": [
    {
     "data": {
      "text/plain": [
       "3"
      ]
     },
     "execution_count": 62,
     "metadata": {},
     "output_type": "execute_result"
    }
   ],
   "source": [
    "train_size"
   ]
  },
  {
   "cell_type": "code",
   "execution_count": 65,
   "metadata": {},
   "outputs": [],
   "source": [
    "train_gen = get_train_gen()"
   ]
  },
  {
   "cell_type": "code",
   "execution_count": 66,
   "metadata": {},
   "outputs": [
    {
     "data": {
      "text/plain": [
       "((array([2, 0], dtype=int32), array([3, 4], dtype=int32)), (array([1, 0]),))"
      ]
     },
     "execution_count": 66,
     "metadata": {},
     "output_type": "execute_result"
    }
   ],
   "source": [
    "train_gen.__next__()"
   ]
  },
  {
   "cell_type": "code",
   "execution_count": 67,
   "metadata": {},
   "outputs": [
    {
     "data": {
      "text/plain": [
       "((array([5, 0], dtype=int32), array([6, 0], dtype=int32)), (array([0, 1]),))"
      ]
     },
     "execution_count": 67,
     "metadata": {},
     "output_type": "execute_result"
    }
   ],
   "source": [
    "train_gen.__next__()"
   ]
  },
  {
   "cell_type": "code",
   "execution_count": 68,
   "metadata": {},
   "outputs": [
    {
     "data": {
      "text/plain": [
       "((array([7, 0], dtype=int32), array([8, 0], dtype=int32)), (array([1, 0]),))"
      ]
     },
     "execution_count": 68,
     "metadata": {},
     "output_type": "execute_result"
    }
   ],
   "source": [
    "train_gen.__next__()"
   ]
  },
  {
   "cell_type": "code",
   "execution_count": 74,
   "metadata": {
    "collapsed": true
   },
   "outputs": [],
   "source": [
    "data_manager = DataManager(PairFeature)\n",
    "data_manager.set_pickle_folder(\".\")"
   ]
  },
  {
   "cell_type": "code",
   "execution_count": 75,
   "metadata": {},
   "outputs": [
    {
     "name": "stderr",
     "output_type": "stream",
     "text": [
      "2017-07-17 20:15:42,090 - INFO - dhira.data.data_manager - Processing the train data file for first time\n",
      "2017-07-17 20:15:42,091 - INFO - dhira.data.data_manager - Getting training data from ['./TMP_TEST/train_file']\n",
      "2017-07-17 20:15:42,092 - INFO - dhira.data.dataset - Reading files ['./TMP_TEST/train_file'] to a list of lines.\n",
      "100%|██████████| 3/3 [00:00<00:00, 7767.23it/s]\n",
      "2017-07-17 20:15:42,097 - INFO - dhira.data.dataset - Creating list of <class 'dhira.data.features.pair_feature.PairFeature'> features from list of lines.\n",
      "100%|██████████| 3/3 [00:00<00:00, 1365.93it/s]\n",
      "2017-07-17 20:15:42,105 - INFO - dhira.data.dataset - Finished reading dataset; label counts: [(0, 2), (1, 1)]\n",
      "2017-07-17 20:15:42,106 - INFO - dhira.data.data_manager - Fitting data indexer word dictionary, min_count is 1.\n",
      "2017-07-17 20:15:42,108 - INFO - dhira.data.data_indexer - Fitting word dictionary with min count of 1\n",
      "100%|██████████| 3/3 [00:00<00:00, 3788.89it/s]\n",
      "2017-07-17 20:15:42,113 - INFO - dhira.data.data_manager - Indexing dataset\n",
      "100%|██████████| 3/3 [00:00<00:00, 10066.33it/s]\n",
      "2017-07-17 20:15:42,123 - INFO - dhira.data.data_manager - Instance max lengths {'num_sentence_words': 2, 'num_word_characters': 12}\n",
      "2017-07-17 20:15:42,124 - INFO - dhira.data.data_manager - Padding lengths to length: {'num_sentence_words': 2, 'num_word_characters': 12}\n"
     ]
    }
   ],
   "source": [
    "get_train_gen, train_size = data_manager.get_train_data_from_file(\n",
    "            [DuplicateTestCase.TRAIN_FILE], mode=\"character\")"
   ]
  },
  {
   "cell_type": "code",
   "execution_count": null,
   "metadata": {
    "collapsed": true
   },
   "outputs": [],
   "source": []
  },
  {
   "cell_type": "code",
   "execution_count": 76,
   "metadata": {
    "collapsed": true
   },
   "outputs": [],
   "source": [
    "train_gen = get_train_gen()"
   ]
  },
  {
   "cell_type": "code",
   "execution_count": 77,
   "metadata": {},
   "outputs": [
    {
     "data": {
      "text/plain": [
       "((array([[ 6,  9,  2,  7,  8,  3,  5,  4, 10,  0,  0,  0],\n",
       "         [ 0,  0,  0,  0,  0,  0,  0,  0,  0,  0,  0,  0]], dtype=int32),\n",
       "  array([[ 6,  9,  2,  7,  8,  3,  5,  4, 11,  0,  0,  0],\n",
       "         [ 6,  9,  2,  7,  8,  3,  5,  4, 12, 19, 17, 18]], dtype=int32)),\n",
       " (array([1, 0]),))"
      ]
     },
     "execution_count": 77,
     "metadata": {},
     "output_type": "execute_result"
    }
   ],
   "source": [
    "train_gen.__next__()"
   ]
  },
  {
   "cell_type": "code",
   "execution_count": 78,
   "metadata": {},
   "outputs": [
    {
     "data": {
      "text/plain": [
       "((array([[ 6,  9,  2,  7,  8,  3,  5,  4, 13,  0,  0,  0],\n",
       "         [ 0,  0,  0,  0,  0,  0,  0,  0,  0,  0,  0,  0]], dtype=int32),\n",
       "  array([[ 6,  9,  2,  7,  8,  3,  5,  4, 14,  0,  0,  0],\n",
       "         [ 0,  0,  0,  0,  0,  0,  0,  0,  0,  0,  0,  0]], dtype=int32)),\n",
       " (array([0, 1]),))"
      ]
     },
     "execution_count": 78,
     "metadata": {},
     "output_type": "execute_result"
    }
   ],
   "source": [
    "train_gen.__next__()"
   ]
  },
  {
   "cell_type": "code",
   "execution_count": 79,
   "metadata": {},
   "outputs": [
    {
     "data": {
      "text/plain": [
       "((array([[ 6,  9,  2,  7,  8,  3,  5,  4, 15,  0,  0,  0],\n",
       "         [ 0,  0,  0,  0,  0,  0,  0,  0,  0,  0,  0,  0]], dtype=int32),\n",
       "  array([[ 6,  9,  2,  7,  8,  3,  5,  4, 16,  0,  0,  0],\n",
       "         [ 0,  0,  0,  0,  0,  0,  0,  0,  0,  0,  0,  0]], dtype=int32)),\n",
       " (array([1, 0]),))"
      ]
     },
     "execution_count": 79,
     "metadata": {},
     "output_type": "execute_result"
    }
   ],
   "source": [
    "train_gen.__next__()"
   ]
  },
  {
   "cell_type": "code",
   "execution_count": 81,
   "metadata": {
    "collapsed": true
   },
   "outputs": [],
   "source": [
    "data_manager = DataManager(PairFeature)\n",
    "data_manager.set_pickle_folder(\".\")"
   ]
  },
  {
   "cell_type": "code",
   "execution_count": 82,
   "metadata": {},
   "outputs": [
    {
     "name": "stderr",
     "output_type": "stream",
     "text": [
      "2017-07-17 20:17:18,493 - INFO - dhira.data.data_manager - Processing the train data file for first time\n",
      "2017-07-17 20:17:18,494 - INFO - dhira.data.data_manager - Getting training data from ['./TMP_TEST/train_file']\n",
      "2017-07-17 20:17:18,495 - INFO - dhira.data.dataset - Reading files ['./TMP_TEST/train_file'] to a list of lines.\n",
      "100%|██████████| 3/3 [00:00<00:00, 11018.31it/s]\n",
      "2017-07-17 20:17:18,499 - INFO - dhira.data.dataset - Creating list of <class 'dhira.data.features.pair_feature.PairFeature'> features from list of lines.\n",
      "100%|██████████| 3/3 [00:00<00:00, 1604.35it/s]\n",
      "2017-07-17 20:17:18,505 - INFO - dhira.data.dataset - Finished reading dataset; label counts: [(0, 2), (1, 1)]\n",
      "2017-07-17 20:17:18,506 - INFO - dhira.data.data_manager - Fitting data indexer word dictionary, min_count is 1.\n",
      "2017-07-17 20:17:18,508 - INFO - dhira.data.data_indexer - Fitting word dictionary with min count of 1\n",
      "100%|██████████| 3/3 [00:00<00:00, 6519.64it/s]\n",
      "2017-07-17 20:17:18,512 - INFO - dhira.data.data_manager - Indexing dataset\n",
      "100%|██████████| 3/3 [00:00<00:00, 11254.84it/s]\n",
      "2017-07-17 20:17:18,520 - INFO - dhira.data.data_manager - Instance max lengths {'num_sentence_words': 2, 'num_word_characters': 12}\n",
      "2017-07-17 20:17:18,522 - INFO - dhira.data.data_manager - Padding lengths to length: {'num_sentence_words': 2, 'num_word_characters': 12}\n"
     ]
    }
   ],
   "source": [
    "get_train_gen, train_size = data_manager.get_train_data_from_file(\n",
    "            [DuplicateTestCase.TRAIN_FILE], mode=\"word+character\")"
   ]
  },
  {
   "cell_type": "code",
   "execution_count": 83,
   "metadata": {
    "collapsed": true
   },
   "outputs": [],
   "source": [
    "train_gen = get_train_gen()"
   ]
  },
  {
   "cell_type": "code",
   "execution_count": 84,
   "metadata": {},
   "outputs": [
    {
     "data": {
      "text/plain": [
       "((array([2, 0], dtype=int32),\n",
       "  array([[ 6,  9,  2,  7,  8,  3,  5,  4, 10,  0,  0,  0],\n",
       "         [ 0,  0,  0,  0,  0,  0,  0,  0,  0,  0,  0,  0]], dtype=int32),\n",
       "  array([3, 4], dtype=int32),\n",
       "  array([[ 6,  9,  2,  7,  8,  3,  5,  4, 11,  0,  0,  0],\n",
       "         [ 6,  9,  2,  7,  8,  3,  5,  4, 12, 19, 17, 18]], dtype=int32)),\n",
       " (array([1, 0]),))"
      ]
     },
     "execution_count": 84,
     "metadata": {},
     "output_type": "execute_result"
    }
   ],
   "source": [
    "train_gen.__next__()"
   ]
  },
  {
   "cell_type": "code",
   "execution_count": 85,
   "metadata": {},
   "outputs": [
    {
     "data": {
      "text/plain": [
       "((array([5, 0], dtype=int32),\n",
       "  array([[ 6,  9,  2,  7,  8,  3,  5,  4, 13,  0,  0,  0],\n",
       "         [ 0,  0,  0,  0,  0,  0,  0,  0,  0,  0,  0,  0]], dtype=int32),\n",
       "  array([6, 0], dtype=int32),\n",
       "  array([[ 6,  9,  2,  7,  8,  3,  5,  4, 14,  0,  0,  0],\n",
       "         [ 0,  0,  0,  0,  0,  0,  0,  0,  0,  0,  0,  0]], dtype=int32)),\n",
       " (array([0, 1]),))"
      ]
     },
     "execution_count": 85,
     "metadata": {},
     "output_type": "execute_result"
    }
   ],
   "source": [
    "train_gen.__next__()"
   ]
  },
  {
   "cell_type": "code",
   "execution_count": 86,
   "metadata": {},
   "outputs": [
    {
     "data": {
      "text/plain": [
       "((array([7, 0], dtype=int32),\n",
       "  array([[ 6,  9,  2,  7,  8,  3,  5,  4, 15,  0,  0,  0],\n",
       "         [ 0,  0,  0,  0,  0,  0,  0,  0,  0,  0,  0,  0]], dtype=int32),\n",
       "  array([8, 0], dtype=int32),\n",
       "  array([[ 6,  9,  2,  7,  8,  3,  5,  4, 16,  0,  0,  0],\n",
       "         [ 0,  0,  0,  0,  0,  0,  0,  0,  0,  0,  0,  0]], dtype=int32)),\n",
       " (array([1, 0]),))"
      ]
     },
     "execution_count": 86,
     "metadata": {},
     "output_type": "execute_result"
    }
   ],
   "source": [
    "train_gen.__next__()"
   ]
  },
  {
   "cell_type": "code",
   "execution_count": null,
   "metadata": {
    "collapsed": true
   },
   "outputs": [],
   "source": []
  },
  {
   "cell_type": "code",
   "execution_count": null,
   "metadata": {
    "collapsed": true
   },
   "outputs": [],
   "source": []
  },
  {
   "cell_type": "markdown",
   "metadata": {},
   "source": [
    "### Embedding Manager"
   ]
  },
  {
   "cell_type": "code",
   "execution_count": 102,
   "metadata": {},
   "outputs": [
    {
     "data": {
      "text/plain": [
       "2"
      ]
     },
     "execution_count": 102,
     "metadata": {},
     "output_type": "execute_result"
    }
   ],
   "source": [
    "data_indexer = DataIndexer()\n",
    "data_indexer.is_fit = True\n",
    "data_indexer.add_word_to_index(\"word1\")"
   ]
  },
  {
   "cell_type": "code",
   "execution_count": 103,
   "metadata": {},
   "outputs": [
    {
     "data": {
      "text/plain": [
       "3"
      ]
     },
     "execution_count": 103,
     "metadata": {},
     "output_type": "execute_result"
    }
   ],
   "source": [
    "data_indexer.add_word_to_index(\"word2\")"
   ]
  },
  {
   "cell_type": "code",
   "execution_count": 104,
   "metadata": {},
   "outputs": [],
   "source": [
    "embedding_dict = {\"word1\": np.array([5.1, 7.2, -0.2]),\n",
    "                   \"word2\": np.array([0.8, 0.1, 0.9])}"
   ]
  },
  {
   "cell_type": "code",
   "execution_count": 105,
   "metadata": {},
   "outputs": [],
   "source": [
    "embedding_manager = EmbeddingManager(data_indexer)"
   ]
  },
  {
   "cell_type": "code",
   "execution_count": 106,
   "metadata": {},
   "outputs": [
    {
     "name": "stderr",
     "output_type": "stream",
     "text": [
      "2017-07-17 20:30:55,458 - INFO - dhira.data.embedding_manager - Reading pretrained embeddings from ./TMP_TEST/vectors_file\n",
      "2it [00:00, 10305.42it/s]\n"
     ]
    }
   ],
   "source": [
    "embed_mat = embedding_manager.get_embedding_matrix(3, pretrained_embeddings_file_path=DuplicateTestCase.VECTORS_FILE)"
   ]
  },
  {
   "cell_type": "code",
   "execution_count": 107,
   "metadata": {},
   "outputs": [
    {
     "data": {
      "text/plain": [
       "array([[ 0.00488135,  0.02151894,  0.01027634],\n",
       "       [ 0.00448832, -0.00763452,  0.01458941],\n",
       "       [ 0.        ,  1.10000002,  0.2       ],\n",
       "       [ 0.1       ,  0.40000001, -4.        ]])"
      ]
     },
     "execution_count": 107,
     "metadata": {},
     "output_type": "execute_result"
    }
   ],
   "source": [
    "embed_mat"
   ]
  },
  {
   "cell_type": "code",
   "execution_count": null,
   "metadata": {
    "collapsed": true
   },
   "outputs": [],
   "source": []
  }
 ],
 "metadata": {
  "kernelspec": {
   "display_name": "Python 3",
   "language": "python",
   "name": "python3"
  },
  "language_info": {
   "codemirror_mode": {
    "name": "ipython",
    "version": 3
   },
   "file_extension": ".py",
   "mimetype": "text/x-python",
   "name": "python",
   "nbconvert_exporter": "python",
   "pygments_lexer": "ipython3",
   "version": "3.6.1"
  }
 },
 "nbformat": 4,
 "nbformat_minor": 2
}
