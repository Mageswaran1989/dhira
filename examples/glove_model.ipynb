{
 "cells": [
  {
   "cell_type": "code",
   "execution_count": 1,
   "metadata": {
    "collapsed": true
   },
   "outputs": [],
   "source": [
    "import sys\n",
    "import numpy as np\n",
    "import argparse\n",
    "import json\n",
    "import os, inspect\n",
    "import math\n",
    "sys.path.append(\"../\")\n",
    "%load_ext autoreload\n",
    "%autoreload 2"
   ]
  },
  {
   "cell_type": "code",
   "execution_count": 2,
   "metadata": {},
   "outputs": [
    {
     "name": "stderr",
     "output_type": "stream",
     "text": [
      "/home/mageswarand/anaconda3/envs/tensorflow1.0/lib/python3.6/site-packages/requests/__init__.py:80: RequestsDependencyWarning: urllib3 (1.21.1) or chardet (2.3.0) doesn't match a supported version!\n",
      "  RequestsDependencyWarning)\n"
     ]
    }
   ],
   "source": [
    "from dhira.data.data_manager import DataManager\n",
    "from dhira.data.embedding_manager import EmbeddingManager\n",
    "from dhira.data.features.glove_feature import GloveFeature\n",
    "from dhira.tf.models.word2vec.glove import Glove\n",
    "from dhira.data.dataset.glove import GloveDataset\n",
    "import logging\n",
    "logger = logging.getLogger(__name__)"
   ]
  },
  {
   "cell_type": "code",
   "execution_count": 3,
   "metadata": {},
   "outputs": [
    {
     "name": "stdout",
     "output_type": "stream",
     "text": [
      "README.md  training.txt  validation.txt\r\n"
     ]
    }
   ],
   "source": [
    "!ls ../data/offline/glove/\n"
   ]
  },
  {
   "cell_type": "code",
   "execution_count": 4,
   "metadata": {
    "collapsed": true
   },
   "outputs": [],
   "source": [
    "glove_dataset = GloveDataset(name='golve',\n",
    "                            feature_type=GloveFeature,\n",
    "                            train_files='../data/offline/glove/training.txt',\n",
    "                            val_files='../data/offline/glove/validation.txt',\n",
    "                            pickle_dir='../logs/pickle',\n",
    "                            vocabulary_size=5000,\n",
    "                            min_occurrences=2,\n",
    "                            left_size=2,\n",
    "                            right_size=2)\n"
   ]
  },
  {
   "cell_type": "code",
   "execution_count": 29,
   "metadata": {
    "collapsed": true
   },
   "outputs": [],
   "source": [
    "data_manager = DataManager(glove_dataset)"
   ]
  },
  {
   "cell_type": "code",
   "execution_count": 30,
   "metadata": {},
   "outputs": [
    {
     "name": "stderr",
     "output_type": "stream",
     "text": [
      "100%|██████████| 219800/219800 [00:00<00:00, 1837070.32it/s]\n",
      "100%|██████████| 219800/219800 [00:01<00:00, 146598.51it/s]\n",
      "100%|██████████| 219800/219800 [00:17<00:00, 12707.96it/s]\n",
      "100%|██████████| 861615/861615 [00:07<00:00, 116793.17it/s]\n"
     ]
    }
   ],
   "source": [
    "get_train_data_gen, train_data_size = data_manager.get_train_data_from_file()"
   ]
  },
  {
   "cell_type": "code",
   "execution_count": 31,
   "metadata": {},
   "outputs": [
    {
     "name": "stdout",
     "output_type": "stream",
     "text": [
      "Training data size:  861615\n"
     ]
    }
   ],
   "source": [
    "print('Training data size: ', train_data_size)"
   ]
  },
  {
   "cell_type": "code",
   "execution_count": 32,
   "metadata": {},
   "outputs": [
    {
     "name": "stderr",
     "output_type": "stream",
     "text": [
      "100%|██████████| 51755/51755 [00:00<00:00, 1518068.49it/s]\n",
      "100%|██████████| 51755/51755 [00:00<00:00, 161639.87it/s]\n",
      "100%|██████████| 51755/51755 [00:03<00:00, 14064.13it/s]\n",
      "100%|██████████| 403970/403970 [00:02<00:00, 136544.93it/s]\n"
     ]
    }
   ],
   "source": [
    "get_val_data_gen, val_data_size = data_manager.get_validation_data_from_file()"
   ]
  },
  {
   "cell_type": "code",
   "execution_count": 33,
   "metadata": {},
   "outputs": [
    {
     "name": "stdout",
     "output_type": "stream",
     "text": [
      "Validation data size:  403970\n"
     ]
    }
   ],
   "source": [
    "print('Validation data size: ', val_data_size)"
   ]
  },
  {
   "cell_type": "code",
   "execution_count": 43,
   "metadata": {
    "collapsed": true
   },
   "outputs": [],
   "source": [
    "batch_size = 128\n",
    "num_epochs = 10\n",
    "num_train_steps_per_epoch = int(math.ceil(train_data_size / batch_size))\n",
    "num_val_steps = int(math.ceil(val_data_size / batch_size))\n",
    "log_period = 500\n",
    "val_period = 1000\n",
    "save_period = 1000\n",
    "patience = 0"
   ]
  },
  {
   "cell_type": "code",
   "execution_count": 44,
   "metadata": {},
   "outputs": [
    {
     "data": {
      "text/plain": [
       "128"
      ]
     },
     "execution_count": 44,
     "metadata": {},
     "output_type": "execute_result"
    }
   ],
   "source": [
    "batch_size"
   ]
  },
  {
   "cell_type": "code",
   "execution_count": 45,
   "metadata": {},
   "outputs": [
    {
     "data": {
      "text/plain": [
       "6732"
      ]
     },
     "execution_count": 45,
     "metadata": {},
     "output_type": "execute_result"
    }
   ],
   "source": [
    "num_train_steps_per_epoch"
   ]
  },
  {
   "cell_type": "code",
   "execution_count": 46,
   "metadata": {},
   "outputs": [
    {
     "ename": "SyntaxError",
     "evalue": "invalid syntax (<ipython-input-46-ea5f3ecd6e4f>, line 2)",
     "output_type": "error",
     "traceback": [
      "\u001b[0;36m  File \u001b[0;32m\"<ipython-input-46-ea5f3ecd6e4f>\"\u001b[0;36m, line \u001b[0;32m2\u001b[0m\n\u001b[0;31m    embedding_size\"\"=30, cooccurrence_cap=100, vocabulary_size=5000, batch_size=128, learning_rate=0.01)\u001b[0m\n\u001b[0m                   ^\u001b[0m\n\u001b[0;31mSyntaxError\u001b[0m\u001b[0;31m:\u001b[0m invalid syntax\n"
     ]
    }
   ],
   "source": [
    "model = Glove(name='glove', mode='train', save_dir='../models/', log_dir='../logs/', run_id='0',\n",
    "                 embedding_size=30, cooccurrence_cap=100, vocabulary_size=5000, batch_size=128, learning_rate=0.01)\n",
    "model.build_graph()"
   ]
  },
  {
   "cell_type": "code",
   "execution_count": 47,
   "metadata": {
    "scrolled": false
   },
   "outputs": [
    {
     "name": "stdout",
     "output_type": "stream",
     "text": [
      "Writing to /opt/dhira/logs/glove/00\n",
      "\n",
      "--------------------------------------------------\n",
      "\n",
      "tensorboard --logdir  /opt/dhira/logs/glove/00\n",
      "\n",
      "\n",
      "tensorboard --logdir  /opt/dhira/logs/glove/00/checkpoints --port 6007\n",
      "\n",
      "--------------------------------------------------\n"
     ]
    },
    {
     "data": {
      "application/vnd.jupyter.widget-view+json": {
       "model_id": "74e6edcfecfc422db7c94109e52b7e40"
      }
     },
     "metadata": {},
     "output_type": "display_data"
    },
    {
     "data": {
      "application/vnd.jupyter.widget-view+json": {
       "model_id": "d07f1ac8d1f941348cb019b2bf5e44fd"
      }
     },
     "metadata": {},
     "output_type": "display_data"
    },
    {
     "data": {
      "application/vnd.jupyter.widget-view+json": {
       "model_id": "9cf55bb6408f4a2ea32949dc9d63d151"
      }
     },
     "metadata": {},
     "output_type": "display_data"
    },
    {
     "data": {
      "application/vnd.jupyter.widget-view+json": {
       "model_id": "90d21e6015934fe6ba319df9bad385b6"
      }
     },
     "metadata": {},
     "output_type": "display_data"
    },
    {
     "data": {
      "application/vnd.jupyter.widget-view+json": {
       "model_id": "78e5b373824a469ebe8f23209279e182"
      }
     },
     "metadata": {},
     "output_type": "display_data"
    },
    {
     "data": {
      "application/vnd.jupyter.widget-view+json": {
       "model_id": "f8869a6b82744263b999f3f2a17cfeee"
      }
     },
     "metadata": {},
     "output_type": "display_data"
    },
    {
     "data": {
      "application/vnd.jupyter.widget-view+json": {
       "model_id": "1b915a2b820d49d0aae8dfbbb6c7fbe1"
      }
     },
     "metadata": {},
     "output_type": "display_data"
    },
    {
     "data": {
      "application/vnd.jupyter.widget-view+json": {
       "model_id": "23ed25dd0bcb479cb86889ed3fd7e562"
      }
     },
     "metadata": {},
     "output_type": "display_data"
    },
    {
     "data": {
      "application/vnd.jupyter.widget-view+json": {
       "model_id": "4760f32174b14b2fb6608e8f94c85300"
      }
     },
     "metadata": {},
     "output_type": "display_data"
    },
    {
     "data": {
      "application/vnd.jupyter.widget-view+json": {
       "model_id": "7d061b6831954d56903a696db4b6266b"
      }
     },
     "metadata": {},
     "output_type": "display_data"
    },
    {
     "data": {
      "application/vnd.jupyter.widget-view+json": {
       "model_id": "882090b14218441db7d13793f066818e"
      }
     },
     "metadata": {},
     "output_type": "display_data"
    },
    {
     "data": {
      "application/vnd.jupyter.widget-view+json": {
       "model_id": "4095756dce394a5a89eae542b2c5c25e"
      }
     },
     "metadata": {},
     "output_type": "display_data"
    },
    {
     "data": {
      "application/vnd.jupyter.widget-view+json": {
       "model_id": "2d967fd09f5f4d3e9f22fd49654af8a4"
      }
     },
     "metadata": {},
     "output_type": "display_data"
    },
    {
     "data": {
      "application/vnd.jupyter.widget-view+json": {
       "model_id": "16479bd4a09744edba90e17bd4ab54bd"
      }
     },
     "metadata": {},
     "output_type": "display_data"
    },
    {
     "data": {
      "application/vnd.jupyter.widget-view+json": {
       "model_id": "0348103f9fd841c69f607630b9fa550a"
      }
     },
     "metadata": {},
     "output_type": "display_data"
    },
    {
     "data": {
      "application/vnd.jupyter.widget-view+json": {
       "model_id": "bd23d57c969b4c1c86660b31e2d67d7e"
      }
     },
     "metadata": {},
     "output_type": "display_data"
    },
    {
     "data": {
      "application/vnd.jupyter.widget-view+json": {
       "model_id": "6813b8d5ebb2492a80be48bd7ee11e65"
      }
     },
     "metadata": {},
     "output_type": "display_data"
    },
    {
     "data": {
      "application/vnd.jupyter.widget-view+json": {
       "model_id": "6249138318df441e8bebb537e4435e6c"
      }
     },
     "metadata": {},
     "output_type": "display_data"
    },
    {
     "data": {
      "application/vnd.jupyter.widget-view+json": {
       "model_id": "9ce2933f41ef4bad879466946c725475"
      }
     },
     "metadata": {},
     "output_type": "display_data"
    },
    {
     "data": {
      "application/vnd.jupyter.widget-view+json": {
       "model_id": "4bdeddb037294462b127f6b981cd8ff1"
      }
     },
     "metadata": {},
     "output_type": "display_data"
    },
    {
     "data": {
      "application/vnd.jupyter.widget-view+json": {
       "model_id": "c3d46488009344609adca48028a227d1"
      }
     },
     "metadata": {},
     "output_type": "display_data"
    },
    {
     "data": {
      "application/vnd.jupyter.widget-view+json": {
       "model_id": "c45634e17062439eb7297b79156616da"
      }
     },
     "metadata": {},
     "output_type": "display_data"
    },
    {
     "data": {
      "application/vnd.jupyter.widget-view+json": {
       "model_id": "d022f314efd44d2b924894a9dfb70258"
      }
     },
     "metadata": {},
     "output_type": "display_data"
    },
    {
     "data": {
      "application/vnd.jupyter.widget-view+json": {
       "model_id": "8921a908caf7481da85a9a0618b147cf"
      }
     },
     "metadata": {},
     "output_type": "display_data"
    },
    {
     "data": {
      "application/vnd.jupyter.widget-view+json": {
       "model_id": "a2438244061c4c43b23213f8322533c6"
      }
     },
     "metadata": {},
     "output_type": "display_data"
    },
    {
     "data": {
      "application/vnd.jupyter.widget-view+json": {
       "model_id": "77de116c7a124e4999b75f13b86fdd71"
      }
     },
     "metadata": {},
     "output_type": "display_data"
    },
    {
     "data": {
      "application/vnd.jupyter.widget-view+json": {
       "model_id": "28bc2c6d31bc4db4a643e3a1e9e42388"
      }
     },
     "metadata": {},
     "output_type": "display_data"
    },
    {
     "data": {
      "application/vnd.jupyter.widget-view+json": {
       "model_id": "74b3582cbad543e2bec6ff6606272fcd"
      }
     },
     "metadata": {},
     "output_type": "display_data"
    },
    {
     "data": {
      "application/vnd.jupyter.widget-view+json": {
       "model_id": "2e6d5b9a6fb9433398521534c0284754"
      }
     },
     "metadata": {},
     "output_type": "display_data"
    },
    {
     "data": {
      "application/vnd.jupyter.widget-view+json": {
       "model_id": "06bf67e84eac488d825f47da459785fd"
      }
     },
     "metadata": {},
     "output_type": "display_data"
    },
    {
     "data": {
      "application/vnd.jupyter.widget-view+json": {
       "model_id": "5271b010fa64480bb13ec4db8e2b7287"
      }
     },
     "metadata": {},
     "output_type": "display_data"
    },
    {
     "data": {
      "application/vnd.jupyter.widget-view+json": {
       "model_id": "42aeaf43cc384863b335b89b33259403"
      }
     },
     "metadata": {},
     "output_type": "display_data"
    },
    {
     "data": {
      "application/vnd.jupyter.widget-view+json": {
       "model_id": "5c485b73ab5944649963ed302857eceb"
      }
     },
     "metadata": {},
     "output_type": "display_data"
    },
    {
     "data": {
      "application/vnd.jupyter.widget-view+json": {
       "model_id": "4dadda8b9c314bf4b982452ef0f27e7a"
      }
     },
     "metadata": {},
     "output_type": "display_data"
    },
    {
     "data": {
      "application/vnd.jupyter.widget-view+json": {
       "model_id": "78fe3883fa444fc4b7baca6f15e66c28"
      }
     },
     "metadata": {},
     "output_type": "display_data"
    },
    {
     "data": {
      "application/vnd.jupyter.widget-view+json": {
       "model_id": "36be23d96aa44880b364f5f5a30e2441"
      }
     },
     "metadata": {},
     "output_type": "display_data"
    },
    {
     "data": {
      "application/vnd.jupyter.widget-view+json": {
       "model_id": "5039673782224e3c94c786eb898d91de"
      }
     },
     "metadata": {},
     "output_type": "display_data"
    },
    {
     "data": {
      "application/vnd.jupyter.widget-view+json": {
       "model_id": "293564882ec64c91847965bc3a45406a"
      }
     },
     "metadata": {},
     "output_type": "display_data"
    },
    {
     "data": {
      "application/vnd.jupyter.widget-view+json": {
       "model_id": "2c1664b148f943e8abd5e9fcc3a55583"
      }
     },
     "metadata": {},
     "output_type": "display_data"
    },
    {
     "data": {
      "application/vnd.jupyter.widget-view+json": {
       "model_id": "7cce6f7a06c446cfa0f914df95ed508e"
      }
     },
     "metadata": {},
     "output_type": "display_data"
    },
    {
     "data": {
      "application/vnd.jupyter.widget-view+json": {
       "model_id": "8136d6701ef5453dac0186ba458b14cf"
      }
     },
     "metadata": {},
     "output_type": "display_data"
    },
    {
     "data": {
      "application/vnd.jupyter.widget-view+json": {
       "model_id": "01b06672a94c4d98b1a94e69c6607c4d"
      }
     },
     "metadata": {},
     "output_type": "display_data"
    },
    {
     "data": {
      "application/vnd.jupyter.widget-view+json": {
       "model_id": "6881366837914a67bb18326a8e69ccdb"
      }
     },
     "metadata": {},
     "output_type": "display_data"
    },
    {
     "data": {
      "application/vnd.jupyter.widget-view+json": {
       "model_id": "3a17ff87ca174a3ebc3e7e97d6c06b79"
      }
     },
     "metadata": {},
     "output_type": "display_data"
    },
    {
     "data": {
      "application/vnd.jupyter.widget-view+json": {
       "model_id": "362591d879cb4e11921a841257780119"
      }
     },
     "metadata": {},
     "output_type": "display_data"
    },
    {
     "data": {
      "application/vnd.jupyter.widget-view+json": {
       "model_id": "52c87c399b694168bea367aff29555b1"
      }
     },
     "metadata": {},
     "output_type": "display_data"
    },
    {
     "data": {
      "application/vnd.jupyter.widget-view+json": {
       "model_id": "a4a66a2e58224157a5788bbbc23e8249"
      }
     },
     "metadata": {},
     "output_type": "display_data"
    },
    {
     "data": {
      "application/vnd.jupyter.widget-view+json": {
       "model_id": "0395e82ad94e43359db23067669a1d49"
      }
     },
     "metadata": {},
     "output_type": "display_data"
    },
    {
     "data": {
      "application/vnd.jupyter.widget-view+json": {
       "model_id": "2a989b4e2a7d403d9f134a7ca82ddb6d"
      }
     },
     "metadata": {},
     "output_type": "display_data"
    },
    {
     "data": {
      "application/vnd.jupyter.widget-view+json": {
       "model_id": "9f0e05ce8009472c97fa675ac8cdd9e0"
      }
     },
     "metadata": {},
     "output_type": "display_data"
    },
    {
     "data": {
      "application/vnd.jupyter.widget-view+json": {
       "model_id": "f2994d91d02a45b9996c4764885ff483"
      }
     },
     "metadata": {},
     "output_type": "display_data"
    },
    {
     "data": {
      "application/vnd.jupyter.widget-view+json": {
       "model_id": "5a77200865814b67a760db940a4c8b8d"
      }
     },
     "metadata": {},
     "output_type": "display_data"
    },
    {
     "data": {
      "application/vnd.jupyter.widget-view+json": {
       "model_id": "7d3c4880f37241a7bd4f406007a58aca"
      }
     },
     "metadata": {},
     "output_type": "display_data"
    },
    {
     "data": {
      "application/vnd.jupyter.widget-view+json": {
       "model_id": "8457125b53af4119baba0891502cabe7"
      }
     },
     "metadata": {},
     "output_type": "display_data"
    },
    {
     "data": {
      "application/vnd.jupyter.widget-view+json": {
       "model_id": "a56d0bf80f474cdaadf000a0b8080b4c"
      }
     },
     "metadata": {},
     "output_type": "display_data"
    },
    {
     "data": {
      "application/vnd.jupyter.widget-view+json": {
       "model_id": "ae8fd612007747b0b14c871ad8f4eb45"
      }
     },
     "metadata": {},
     "output_type": "display_data"
    },
    {
     "data": {
      "application/vnd.jupyter.widget-view+json": {
       "model_id": "3a0ee0ccbfe14caaa583b2da0792d5e5"
      }
     },
     "metadata": {},
     "output_type": "display_data"
    },
    {
     "data": {
      "application/vnd.jupyter.widget-view+json": {
       "model_id": "2d2fbfd3f3334342811fd088a20b72f3"
      }
     },
     "metadata": {},
     "output_type": "display_data"
    },
    {
     "data": {
      "application/vnd.jupyter.widget-view+json": {
       "model_id": "7cc0cbfe3a9246c0b60c8dd4e228ba70"
      }
     },
     "metadata": {},
     "output_type": "display_data"
    },
    {
     "data": {
      "application/vnd.jupyter.widget-view+json": {
       "model_id": "4a51058244ee4776b1f784c9c81352e2"
      }
     },
     "metadata": {},
     "output_type": "display_data"
    },
    {
     "data": {
      "application/vnd.jupyter.widget-view+json": {
       "model_id": "166ad2f0da3e42879f2fa533ed69f5ff"
      }
     },
     "metadata": {},
     "output_type": "display_data"
    },
    {
     "data": {
      "application/vnd.jupyter.widget-view+json": {
       "model_id": "925eafa796574e5c9aac9540b3a86375"
      }
     },
     "metadata": {},
     "output_type": "display_data"
    },
    {
     "data": {
      "application/vnd.jupyter.widget-view+json": {
       "model_id": "3511cf17b47d42d58939dfff18b34908"
      }
     },
     "metadata": {},
     "output_type": "display_data"
    },
    {
     "data": {
      "application/vnd.jupyter.widget-view+json": {
       "model_id": "5d04d24ccd5049949173e3aff00ea966"
      }
     },
     "metadata": {},
     "output_type": "display_data"
    },
    {
     "data": {
      "application/vnd.jupyter.widget-view+json": {
       "model_id": "f1a3c1ae6e2b401888f0b51af85450cc"
      }
     },
     "metadata": {},
     "output_type": "display_data"
    },
    {
     "data": {
      "application/vnd.jupyter.widget-view+json": {
       "model_id": "2bf9564e951741c7bfe2fd84efb7e7c6"
      }
     },
     "metadata": {},
     "output_type": "display_data"
    },
    {
     "data": {
      "application/vnd.jupyter.widget-view+json": {
       "model_id": "85ea14eb413d475a897159ea18471888"
      }
     },
     "metadata": {},
     "output_type": "display_data"
    },
    {
     "data": {
      "application/vnd.jupyter.widget-view+json": {
       "model_id": "3cee52c02f06487b8d4a2b2350d96213"
      }
     },
     "metadata": {},
     "output_type": "display_data"
    },
    {
     "data": {
      "application/vnd.jupyter.widget-view+json": {
       "model_id": "2706a0724ed344199d6103821a342139"
      }
     },
     "metadata": {},
     "output_type": "display_data"
    },
    {
     "data": {
      "application/vnd.jupyter.widget-view+json": {
       "model_id": "500f37d80559447f8ac58a57a5d07225"
      }
     },
     "metadata": {},
     "output_type": "display_data"
    },
    {
     "data": {
      "application/vnd.jupyter.widget-view+json": {
       "model_id": "7f33759912ec4da29f82b5ee20e1521b"
      }
     },
     "metadata": {},
     "output_type": "display_data"
    },
    {
     "data": {
      "application/vnd.jupyter.widget-view+json": {
       "model_id": "d3b983e770424a4e883d078b4af231fc"
      }
     },
     "metadata": {},
     "output_type": "display_data"
    },
    {
     "data": {
      "application/vnd.jupyter.widget-view+json": {
       "model_id": "d0813a1a19924b05a464f6c582ace584"
      }
     },
     "metadata": {},
     "output_type": "display_data"
    },
    {
     "data": {
      "application/vnd.jupyter.widget-view+json": {
       "model_id": "83264754d1884c1fb44e70300db70f37"
      }
     },
     "metadata": {},
     "output_type": "display_data"
    },
    {
     "data": {
      "application/vnd.jupyter.widget-view+json": {
       "model_id": "1fa2105dec4b426bb6820f2161aeca02"
      }
     },
     "metadata": {},
     "output_type": "display_data"
    },
    {
     "data": {
      "application/vnd.jupyter.widget-view+json": {
       "model_id": "4f05f26c6b8e4ea9904ba7dd6a3a2c2f"
      }
     },
     "metadata": {},
     "output_type": "display_data"
    },
    {
     "data": {
      "application/vnd.jupyter.widget-view+json": {
       "model_id": "48d6e6cc73204a15b860e2bbc49b7852"
      }
     },
     "metadata": {},
     "output_type": "display_data"
    },
    {
     "data": {
      "application/vnd.jupyter.widget-view+json": {
       "model_id": "649d1d2a9f424537abcb592fbd7def9d"
      }
     },
     "metadata": {},
     "output_type": "display_data"
    },
    {
     "data": {
      "application/vnd.jupyter.widget-view+json": {
       "model_id": "4833494d8c7f4eba889b87cb645297aa"
      }
     },
     "metadata": {},
     "output_type": "display_data"
    },
    {
     "data": {
      "application/vnd.jupyter.widget-view+json": {
       "model_id": "8ae0bd142dbd4456b91677262d0f4084"
      }
     },
     "metadata": {},
     "output_type": "display_data"
    },
    {
     "data": {
      "application/vnd.jupyter.widget-view+json": {
       "model_id": "41fc89125fa64f0fb03628a66e50c4cb"
      }
     },
     "metadata": {},
     "output_type": "display_data"
    },
    {
     "data": {
      "application/vnd.jupyter.widget-view+json": {
       "model_id": "893a8d67e7d54912b84b72eeb99a1cf9"
      }
     },
     "metadata": {},
     "output_type": "display_data"
    },
    {
     "data": {
      "application/vnd.jupyter.widget-view+json": {
       "model_id": "8498b696a63d486a8e7d7cddac82d309"
      }
     },
     "metadata": {},
     "output_type": "display_data"
    },
    {
     "data": {
      "application/vnd.jupyter.widget-view+json": {
       "model_id": "0fb1df6003514dfa8d71c988e42a0e34"
      }
     },
     "metadata": {},
     "output_type": "display_data"
    },
    {
     "data": {
      "application/vnd.jupyter.widget-view+json": {
       "model_id": "6b7c1ca60118454e8a4054ed09afd722"
      }
     },
     "metadata": {},
     "output_type": "display_data"
    },
    {
     "data": {
      "application/vnd.jupyter.widget-view+json": {
       "model_id": "5faaaa0f6a9041f1838ff93eccf111f0"
      }
     },
     "metadata": {},
     "output_type": "display_data"
    },
    {
     "data": {
      "application/vnd.jupyter.widget-view+json": {
       "model_id": "8dcf3d0a05af46d296981949b5a55400"
      }
     },
     "metadata": {},
     "output_type": "display_data"
    },
    {
     "data": {
      "application/vnd.jupyter.widget-view+json": {
       "model_id": "aa366fc990f14eeaaff975ba7e636af7"
      }
     },
     "metadata": {},
     "output_type": "display_data"
    }
   ],
   "source": [
    "model.train(get_train_instance_generator=get_train_data_gen,\n",
    "                get_val_instance_generator=get_val_data_gen,\n",
    "                batch_size=batch_size,\n",
    "                num_train_steps_per_epoch=num_train_steps_per_epoch,\n",
    "                num_epochs=num_epochs,\n",
    "                num_val_steps=num_val_steps,\n",
    "                log_period=log_period,\n",
    "                val_period=val_period,\n",
    "                save_period=save_period,\n",
    "                patience=patience)"
   ]
  },
  {
   "cell_type": "code",
   "execution_count": null,
   "metadata": {},
   "outputs": [],
   "source": [
    "model.embedding_for(2)"
   ]
  },
  {
   "cell_type": "code",
   "execution_count": null,
   "metadata": {},
   "outputs": [],
   "source": [
    "!ls ../models/glove/00\n"
   ]
  },
  {
   "cell_type": "code",
   "execution_count": 15,
   "metadata": {
    "collapsed": true
   },
   "outputs": [],
   "source": [
    "from itertools import islice\n",
    "feature_generator = get_train_data_gen()\n",
    "batched_features = list(islice(feature_generator, batch_size))"
   ]
  },
  {
   "cell_type": "code",
   "execution_count": 16,
   "metadata": {},
   "outputs": [
    {
     "name": "stdout",
     "output_type": "stream",
     "text": [
      "128\n"
     ]
    }
   ],
   "source": [
    " print(len(batched_features))"
   ]
  },
  {
   "cell_type": "code",
   "execution_count": 17,
   "metadata": {
    "collapsed": true
   },
   "outputs": [],
   "source": [
    "flattened = ([ins[0] for ins in batched_features],\n",
    "             [ins[1] for ins in batched_features])"
   ]
  },
  {
   "cell_type": "code",
   "execution_count": 18,
   "metadata": {
    "collapsed": true
   },
   "outputs": [],
   "source": [
    "flattened_inputs, flattened_targets = flattened"
   ]
  },
  {
   "cell_type": "code",
   "execution_count": 19,
   "metadata": {},
   "outputs": [
    {
     "data": {
      "text/plain": [
       "[(array(1), array(257), array(318.5)),\n",
       " (array(1), array(2), array(35926.0)),\n",
       " (array(257), array(1), array(318.5)),\n",
       " (array(257), array(2), array(476.5)),\n",
       " (array(257), array(200), array(3.0)),\n",
       " (array(2), array(257), array(476.5)),\n",
       " (array(2), array(1), array(35926.0)),\n",
       " (array(2), array(200), array(64.5)),\n",
       " (array(2), array(244), array(169.0)),\n",
       " (array(200), array(2), array(64.5)),\n",
       " (array(200), array(257), array(3.0)),\n",
       " (array(200), array(244), array(149.0)),\n",
       " (array(244), array(200), array(149.0)),\n",
       " (array(244), array(2), array(169.0)),\n",
       " (array(27), array(77), array(208.0)),\n",
       " (array(77), array(27), array(208.0)),\n",
       " (array(3719), array(4), array(19.5)),\n",
       " (array(3719), array(649), array(1.5)),\n",
       " (array(4), array(3719), array(19.5)),\n",
       " (array(4), array(649), array(58.0)),\n",
       " (array(4), array(1366), array(6.0)),\n",
       " (array(649), array(4), array(58.0)),\n",
       " (array(649), array(3719), array(1.5)),\n",
       " (array(649), array(1366), array(3.0)),\n",
       " (array(649), array(0), array(67.5)),\n",
       " (array(1366), array(649), array(3.0)),\n",
       " (array(1366), array(4), array(6.0)),\n",
       " (array(1366), array(0), array(38.0)),\n",
       " (array(1366), array(2239), array(1.5)),\n",
       " (array(0), array(1366), array(38.0)),\n",
       " (array(0), array(649), array(67.5)),\n",
       " (array(0), array(2239), array(23.5)),\n",
       " (array(0), array(0), array(12125.0)),\n",
       " (array(2239), array(0), array(23.5)),\n",
       " (array(2239), array(1366), array(1.5)),\n",
       " (array(3), array(10), array(1588.5)),\n",
       " (array(10), array(3), array(1588.5)),\n",
       " (array(2), array(15), array(4423.0)),\n",
       " (array(2), array(114), array(964.5)),\n",
       " (array(15), array(2), array(4423.0)),\n",
       " (array(15), array(114), array(326.5)),\n",
       " (array(15), array(0), array(4662.5)),\n",
       " (array(114), array(15), array(326.5)),\n",
       " (array(114), array(2), array(964.5)),\n",
       " (array(114), array(0), array(1099.5)),\n",
       " (array(114), array(402), array(1.5)),\n",
       " (array(0), array(114), array(1099.5)),\n",
       " (array(0), array(15), array(4662.5)),\n",
       " (array(0), array(402), array(201.5)),\n",
       " (array(402), array(0), array(201.5)),\n",
       " (array(402), array(114), array(1.5)),\n",
       " (array(402), array(3), array(38.0)),\n",
       " (array(0), array(3), array(40046.5)),\n",
       " (array(3), array(0), array(40046.5)),\n",
       " (array(3), array(402), array(38.0)),\n",
       " (array(3), array(5), array(3590.5)),\n",
       " (array(5), array(3), array(3590.5)),\n",
       " (array(1809), array(108), array(3.5)),\n",
       " (array(1809), array(5), array(13.0)),\n",
       " (array(108), array(1809), array(3.5)),\n",
       " (array(108), array(5), array(564.5)),\n",
       " (array(5), array(108), array(564.5)),\n",
       " (array(5), array(1809), array(13.0)),\n",
       " (array(0), array(3240), array(10.5)),\n",
       " (array(3), array(3240), array(9.0)),\n",
       " (array(3240), array(3), array(9.0)),\n",
       " (array(3240), array(0), array(10.5)),\n",
       " (array(3240), array(5), array(4.0)),\n",
       " (array(5), array(3240), array(4.0)),\n",
       " (array(3193), array(2637), array(16.0)),\n",
       " (array(3193), array(0), array(12.5)),\n",
       " (array(2637), array(3193), array(16.0)),\n",
       " (array(2637), array(0), array(3.0)),\n",
       " (array(0), array(2637), array(3.0)),\n",
       " (array(0), array(3193), array(12.5)),\n",
       " (array(0), array(5), array(2903.0)),\n",
       " (array(5), array(0), array(2903.0)),\n",
       " (array(1), array(108), array(1376.5)),\n",
       " (array(1), array(2575), array(11.5)),\n",
       " (array(108), array(1), array(1376.5)),\n",
       " (array(108), array(2575), array(1.0)),\n",
       " (array(2575), array(108), array(1.0)),\n",
       " (array(2575), array(1), array(11.5)),\n",
       " (array(2575), array(5), array(8.5)),\n",
       " (array(5), array(2575), array(8.5)),\n",
       " (array(21), array(121), array(74.5)),\n",
       " (array(21), array(47), array(438.5)),\n",
       " (array(121), array(21), array(74.5)),\n",
       " (array(121), array(47), array(23.0)),\n",
       " (array(121), array(4048), array(0.5)),\n",
       " (array(47), array(121), array(23.0)),\n",
       " (array(47), array(21), array(438.5)),\n",
       " (array(47), array(4048), array(1.0)),\n",
       " (array(47), array(41), array(59.0)),\n",
       " (array(4048), array(47), array(1.0)),\n",
       " (array(4048), array(121), array(0.5)),\n",
       " (array(4048), array(41), array(5.0)),\n",
       " (array(41), array(4048), array(5.0)),\n",
       " (array(41), array(47), array(59.0)),\n",
       " (array(41), array(1181), array(1.5)),\n",
       " (array(1181), array(41), array(1.5)),\n",
       " (array(1181), array(154), array(1.0)),\n",
       " (array(1181), array(514), array(0.5)),\n",
       " (array(154), array(1181), array(1.0)),\n",
       " (array(154), array(514), array(3.5)),\n",
       " (array(154), array(7), array(58.5)),\n",
       " (array(514), array(154), array(3.5)),\n",
       " (array(514), array(1181), array(0.5)),\n",
       " (array(514), array(7), array(25.0)),\n",
       " (array(514), array(2810), array(0.5)),\n",
       " (array(7), array(514), array(25.0)),\n",
       " (array(7), array(154), array(58.5)),\n",
       " (array(7), array(2810), array(3.0)),\n",
       " (array(2810), array(7), array(3.0)),\n",
       " (array(2810), array(514), array(0.5)),\n",
       " (array(2810), array(154), array(2.0)),\n",
       " (array(2810), array(15), array(14.5)),\n",
       " (array(154), array(2810), array(2.0)),\n",
       " (array(154), array(15), array(81.5)),\n",
       " (array(15), array(154), array(81.5)),\n",
       " (array(15), array(2810), array(14.5)),\n",
       " (array(3194), array(3), array(9.5)),\n",
       " (array(3194), array(307), array(0.5)),\n",
       " (array(3), array(3194), array(9.5)),\n",
       " (array(3), array(307), array(110.5)),\n",
       " (array(3), array(4799), array(5.5)),\n",
       " (array(307), array(3), array(110.5)),\n",
       " (array(307), array(3194), array(0.5))]"
      ]
     },
     "execution_count": 19,
     "metadata": {},
     "output_type": "execute_result"
    }
   ],
   "source": [
    "flattened_inputs"
   ]
  },
  {
   "cell_type": "code",
   "execution_count": 27,
   "metadata": {},
   "outputs": [],
   "source": [
    "batch_inputs = tuple(map(np.asarray, tuple(zip(*flattened_inputs))))"
   ]
  },
  {
   "cell_type": "code",
   "execution_count": 28,
   "metadata": {},
   "outputs": [
    {
     "data": {
      "text/plain": [
       "(array([   1,    1,  257,  257,  257,    2,    2,    2,    2,  200,  200,\n",
       "         200,  244,  244,   27,   77, 3719, 3719,    4,    4,    4,  649,\n",
       "         649,  649,  649, 1366, 1366, 1366, 1366,    0,    0,    0,    0,\n",
       "        2239, 2239,    3,   10,    2,    2,   15,   15,   15,  114,  114,\n",
       "         114,  114,    0,    0,    0,  402,  402,  402,    0,    3,    3,\n",
       "           3,    5, 1809, 1809,  108,  108,    5,    5,    0,    3, 3240,\n",
       "        3240, 3240,    5, 3193, 3193, 2637, 2637,    0,    0,    0,    5,\n",
       "           1,    1,  108,  108, 2575, 2575, 2575,    5,   21,   21,  121,\n",
       "         121,  121,   47,   47,   47,   47, 4048, 4048, 4048,   41,   41,\n",
       "          41, 1181, 1181, 1181,  154,  154,  154,  514,  514,  514,  514,\n",
       "           7,    7,    7, 2810, 2810, 2810, 2810,  154,  154,   15,   15,\n",
       "        3194, 3194,    3,    3,    3,  307,  307]),\n",
       " array([ 257,    2,    1,    2,  200,  257,    1,  200,  244,    2,  257,\n",
       "         244,  200,    2,   77,   27,    4,  649, 3719,  649, 1366,    4,\n",
       "        3719, 1366,    0,  649,    4,    0, 2239, 1366,  649, 2239,    0,\n",
       "           0, 1366,   10,    3,   15,  114,    2,  114,    0,   15,    2,\n",
       "           0,  402,  114,   15,  402,    0,  114,    3,    3,    0,  402,\n",
       "           5,    3,  108,    5, 1809,    5,  108, 1809, 3240, 3240,    3,\n",
       "           0,    5, 3240, 2637,    0, 3193,    0, 2637, 3193,    5,    0,\n",
       "         108, 2575,    1, 2575,  108,    1,    5, 2575,  121,   47,   21,\n",
       "          47, 4048,  121,   21, 4048,   41,   47,  121,   41, 4048,   47,\n",
       "        1181,   41,  154,  514, 1181,  514,    7,  154, 1181,    7, 2810,\n",
       "         514,  154, 2810,    7,  514,  154,   15, 2810,   15,  154, 2810,\n",
       "           3,  307, 3194,  307, 4799,    3, 3194]),\n",
       " array([  3.18500000e+02,   3.59260000e+04,   3.18500000e+02,\n",
       "          4.76500000e+02,   3.00000000e+00,   4.76500000e+02,\n",
       "          3.59260000e+04,   6.45000000e+01,   1.69000000e+02,\n",
       "          6.45000000e+01,   3.00000000e+00,   1.49000000e+02,\n",
       "          1.49000000e+02,   1.69000000e+02,   2.08000000e+02,\n",
       "          2.08000000e+02,   1.95000000e+01,   1.50000000e+00,\n",
       "          1.95000000e+01,   5.80000000e+01,   6.00000000e+00,\n",
       "          5.80000000e+01,   1.50000000e+00,   3.00000000e+00,\n",
       "          6.75000000e+01,   3.00000000e+00,   6.00000000e+00,\n",
       "          3.80000000e+01,   1.50000000e+00,   3.80000000e+01,\n",
       "          6.75000000e+01,   2.35000000e+01,   1.21250000e+04,\n",
       "          2.35000000e+01,   1.50000000e+00,   1.58850000e+03,\n",
       "          1.58850000e+03,   4.42300000e+03,   9.64500000e+02,\n",
       "          4.42300000e+03,   3.26500000e+02,   4.66250000e+03,\n",
       "          3.26500000e+02,   9.64500000e+02,   1.09950000e+03,\n",
       "          1.50000000e+00,   1.09950000e+03,   4.66250000e+03,\n",
       "          2.01500000e+02,   2.01500000e+02,   1.50000000e+00,\n",
       "          3.80000000e+01,   4.00465000e+04,   4.00465000e+04,\n",
       "          3.80000000e+01,   3.59050000e+03,   3.59050000e+03,\n",
       "          3.50000000e+00,   1.30000000e+01,   3.50000000e+00,\n",
       "          5.64500000e+02,   5.64500000e+02,   1.30000000e+01,\n",
       "          1.05000000e+01,   9.00000000e+00,   9.00000000e+00,\n",
       "          1.05000000e+01,   4.00000000e+00,   4.00000000e+00,\n",
       "          1.60000000e+01,   1.25000000e+01,   1.60000000e+01,\n",
       "          3.00000000e+00,   3.00000000e+00,   1.25000000e+01,\n",
       "          2.90300000e+03,   2.90300000e+03,   1.37650000e+03,\n",
       "          1.15000000e+01,   1.37650000e+03,   1.00000000e+00,\n",
       "          1.00000000e+00,   1.15000000e+01,   8.50000000e+00,\n",
       "          8.50000000e+00,   7.45000000e+01,   4.38500000e+02,\n",
       "          7.45000000e+01,   2.30000000e+01,   5.00000000e-01,\n",
       "          2.30000000e+01,   4.38500000e+02,   1.00000000e+00,\n",
       "          5.90000000e+01,   1.00000000e+00,   5.00000000e-01,\n",
       "          5.00000000e+00,   5.00000000e+00,   5.90000000e+01,\n",
       "          1.50000000e+00,   1.50000000e+00,   1.00000000e+00,\n",
       "          5.00000000e-01,   1.00000000e+00,   3.50000000e+00,\n",
       "          5.85000000e+01,   3.50000000e+00,   5.00000000e-01,\n",
       "          2.50000000e+01,   5.00000000e-01,   2.50000000e+01,\n",
       "          5.85000000e+01,   3.00000000e+00,   3.00000000e+00,\n",
       "          5.00000000e-01,   2.00000000e+00,   1.45000000e+01,\n",
       "          2.00000000e+00,   8.15000000e+01,   8.15000000e+01,\n",
       "          1.45000000e+01,   9.50000000e+00,   5.00000000e-01,\n",
       "          9.50000000e+00,   1.10500000e+02,   5.50000000e+00,\n",
       "          1.10500000e+02,   5.00000000e-01]))"
      ]
     },
     "execution_count": 28,
     "metadata": {},
     "output_type": "execute_result"
    }
   ],
   "source": [
    "batch_inputs"
   ]
  },
  {
   "cell_type": "code",
   "execution_count": null,
   "metadata": {
    "collapsed": true
   },
   "outputs": [],
   "source": []
  }
 ],
 "metadata": {
  "kernelspec": {
   "display_name": "Python 3",
   "language": "python",
   "name": "python3"
  },
  "language_info": {
   "codemirror_mode": {
    "name": "ipython",
    "version": 3
   },
   "file_extension": ".py",
   "mimetype": "text/x-python",
   "name": "python",
   "nbconvert_exporter": "python",
   "pygments_lexer": "ipython3",
   "version": "3.6.1"
  }
 },
 "nbformat": 4,
 "nbformat_minor": 2
}
