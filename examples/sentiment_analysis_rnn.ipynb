{
 "cells": [
  {
   "cell_type": "markdown",
   "metadata": {},
   "source": [
    "https://github.com/adeshpande3/LSTM-Sentiment-Analysis/blob/master/Oriole%20LSTM.ipynb  \n",
    "http://colah.github.io/posts/2015-08-Understanding-LSTMs/  \n",
    "http://karpathy.github.io/2015/05/21/rnn-effectiveness/  \n"
   ]
  },
  {
   "cell_type": "code",
   "execution_count": 1,
   "metadata": {},
   "outputs": [
    {
     "name": "stderr",
     "output_type": "stream",
     "text": [
      "DEBUG:root:test\n"
     ]
    }
   ],
   "source": [
    "%load_ext autoreload\n",
    "%autoreload 2\n",
    "%matplotlib inline\n",
    "%config InlineBackend.figure_format = 'retina'\n",
    "import sys\n",
    "import os\n",
    "import math\n",
    "import spacy\n",
    "sys.path.append(\"../\")\n",
    "import logging\n",
    "logger = logging.getLogger()\n",
    "logger.setLevel(logging.DEBUG)\n",
    "logging.debug(\"test\")"
   ]
  },
  {
   "cell_type": "code",
   "execution_count": 2,
   "metadata": {
    "collapsed": true
   },
   "outputs": [],
   "source": [
    "import matplotlib.pyplot as plt\n",
    "plt.rcdefaults()\n",
    "import numpy as np\n",
    "import matplotlib.pyplot as plt\n",
    "\n",
    "from dhira.data.data_manager import DataManager\n",
    "from dhira.data.embedding_manager import EmbeddingManager\n",
    "\n",
    "from dhira.data.dataset.movie_review import MovieReview\n",
    "from dhira.data.features.movie_review_feature import MovieReviewFeature\n"
   ]
  },
  {
   "cell_type": "code",
   "execution_count": 3,
   "metadata": {
    "collapsed": true
   },
   "outputs": [],
   "source": [
    "nlp = spacy.load('en_core_web_md')"
   ]
  },
  {
   "cell_type": "code",
   "execution_count": 4,
   "metadata": {},
   "outputs": [
    {
     "name": "stderr",
     "output_type": "stream",
     "text": [
      "INFO:dhira.data.dataset.internal.text:Reusing the pickle file movie-review-data-data_indexer.p.\n",
      "INFO:dhira.data.dataset.internal.dataset_base:Reusing the pickle file movie-review-data-train.p.\n",
      "INFO:dhira.data.dataset.internal.text:Trying to load prefitted data_indexer... movie-review-data-data_indexer.p\n",
      "INFO:dhira.data.dataset.internal.text:Instance max lengths {'num_sentence_words': 63}\n",
      "INFO:dhira.data.dataset.internal.text:Padding lengths to length: {'num_sentence_words': 59}\n",
      "INFO:dhira.data.dataset.internal.dataset_base:movie-review-data-train.p already exists\n",
      "INFO:dhira.data.dataset.internal.dataset_base:Reusing the pickle file None.\n",
      "INFO:dhira.data.dataset.internal.text:Instance max lengths {'num_sentence_words': 54}\n",
      "INFO:dhira.data.dataset.internal.text:Padding lengths to length: {'num_sentence_words': 59}\n",
      "INFO:dhira.data.dataset.internal.dataset_base:movie-review-data-val.p already exists\n"
     ]
    }
   ],
   "source": [
    "mr = MovieReview()\n",
    "data_manager = DataManager(dataset=mr, nlp=nlp)\n",
    "get_train_data_gen, train_data_size = data_manager.get_train_data()\n",
    "get_val_data_gen, val_data_size = data_manager.get_validation_data()"
   ]
  },
  {
   "cell_type": "code",
   "execution_count": 5,
   "metadata": {},
   "outputs": [
    {
     "data": {
      "text/plain": [
       "(16691, 300)"
      ]
     },
     "execution_count": 5,
     "metadata": {},
     "output_type": "execute_result"
    }
   ],
   "source": [
    "embedding_matrix = data_manager.embedding_matrix\n",
    "embedding_matrix.shape"
   ]
  },
  {
   "cell_type": "code",
   "execution_count": 6,
   "metadata": {},
   "outputs": [
    {
     "name": "stdout",
     "output_type": "stream",
     "text": [
      "Number of train steps 67 and validation steps 9 for batch size 128\n"
     ]
    }
   ],
   "source": [
    "batch_size = 128\n",
    "num_epochs = 10\n",
    "num_train_steps_per_epoch = int(math.ceil(train_data_size / batch_size))\n",
    "num_val_steps = int(math.ceil(val_data_size / batch_size))\n",
    "print('Number of train steps {} and validation steps {} for batch size {}'.format(num_train_steps_per_epoch, \n",
    "                                                                                  num_val_steps,\n",
    "                                                                                  batch_size))"
   ]
  },
  {
   "cell_type": "code",
   "execution_count": 7,
   "metadata": {},
   "outputs": [
    {
     "data": {
      "text/plain": [
       "37.0"
      ]
     },
     "execution_count": 7,
     "metadata": {},
     "output_type": "execute_result"
    }
   ],
   "source": [
    "log_period = 10\n",
    "val_period = num_train_steps_per_epoch//1.8\n",
    "save_period = num_train_steps_per_epoch//1.8\n",
    "val_period"
   ]
  },
  {
   "cell_type": "code",
   "execution_count": 8,
   "metadata": {},
   "outputs": [
    {
     "name": "stderr",
     "output_type": "stream",
     "text": [
      "INFO:dhira.tf.models.internal.base_tf_model:Writing logs to /home/mageswarand/.dhira/logs/LSTMSentimentAnalysis/011502941818/\n",
      "INFO:dhira.tf.models.internal.base_tf_model:log path /home/mageswarand/.dhira/logs/LSTMSentimentAnalysis/011502941818/ does not exist, creating it\n"
     ]
    }
   ],
   "source": [
    "from dhira.tf.models.lstm.sentiment_analysis import LSTMSentimentAnalysis\n",
    "model = LSTMSentimentAnalysis(save_dir='../models/',\n",
    "                run_id=1,\n",
    "             word_vocab_size=embedding_matrix.shape[0], \n",
    "             word_embedding_dim=300, \n",
    "             word_embedding_matrix=embedding_matrix, \n",
    "             fine_tune_embeddings=True, \n",
    "             sequence_legth=59,\n",
    "             rnn_output_mode='last',\n",
    "             output_keep_prob=0.5,\n",
    "             rnn_hidden_size=256,\n",
    "             batch_size=batch_size,\n",
    "             num_lstm_layers=1)\n"
   ]
  },
  {
   "cell_type": "code",
   "execution_count": null,
   "metadata": {},
   "outputs": [
    {
     "name": "stderr",
     "output_type": "stream",
     "text": [
      "INFO:dhira.tf.models.internal.base_tf_model:Writing params to /home/mageswarand/.dhira/logs/LSTMSentimentAnalysis/011502941818/LSTMSentimentAnalysisparams.json\n",
      "INFO:dhira.tf.models.internal.base_tf_model:Building graph...\n",
      "INFO:dhira.tf.models.lstm.sentiment_analysis:word_emb_mat: ------> <tf.Variable 'embeddings/embedding_var/word_emb_mat:0' shape=(16691, 300) dtype=float32_ref>\n",
      "INFO:dhira.tf.models.lstm.sentiment_analysis:word_embedded_sentence: ------> Tensor(\"embeddings_1/word_embeddings/embedding_lookup:0\", shape=(?, 59, 300), dtype=float32, device=/device:CPU:0)\n",
      "INFO:dhira.tf.models.lstm.sentiment_analysis:lstm: ------> <tensorflow.python.ops.rnn_cell_impl.LSTMCell object at 0x7f5c0f26eb38>\n",
      "INFO:dhira.tf.models.lstm.sentiment_analysis:cell: ------> <tensorflow.python.ops.rnn_cell_impl.MultiRNNCell object at 0x7f5c0f26e9e8>\n",
      "INFO:dhira.tf.models.lstm.sentiment_analysis:initial_state: ------> (LSTMStateTuple(c=<tf.Tensor 'MultiRNNCellZeroState/SwitchableDropoutWrapperZeroState/LSTMCellZeroState/zeros:0' shape=(128, 256) dtype=float32>, h=<tf.Tensor 'MultiRNNCellZeroState/SwitchableDropoutWrapperZeroState/LSTMCellZeroState/zeros_1:0' shape=(128, 256) dtype=float32>),)\n",
      "INFO:dhira.tf.models.lstm.sentiment_analysis:outputs: -----> Tensor(\"rnn/transpose:0\", shape=(?, 59, 256), dtype=float32, device=/device:GPU:0)\n",
      "INFO:dhira.tf.models.lstm.sentiment_analysis:final_state: -----> (LSTMStateTuple(c=<tf.Tensor 'rnn/while/Exit_2:0' shape=(?, 256) dtype=float32>, h=<tf.Tensor 'rnn/while/Exit_3:0' shape=(?, 256) dtype=float32>),)\n",
      "INFO:dhira.tf.models.lstm.sentiment_analysis:self.labels: ------> Tensor(\"labels:0\", shape=(?, 2), dtype=int32, device=/device:GPU:0)\n",
      "INFO:dhira.tf.models.lstm.sentiment_analysis:self.loss: ------> Tensor(\"mean_squared_error/value:0\", shape=(), dtype=float32, device=/device:GPU:0)\n",
      "INFO:dhira.tf.models.lstm.sentiment_analysis:self.eval_operation: ------> Tensor(\"Mean:0\", shape=(), dtype=float32, device=/device:GPU:0)\n"
     ]
    }
   ],
   "source": [
    "model.compile()"
   ]
  },
  {
   "cell_type": "code",
   "execution_count": null,
   "metadata": {
    "scrolled": false
   },
   "outputs": [
    {
     "name": "stdout",
     "output_type": "stream",
     "text": [
      "Writing to /home/mageswarand/.dhira/logs/LSTMSentimentAnalysis/011502941818\n",
      "\n",
      "--------------------------------------------------\n",
      "\n",
      "tensorboard --logdir  /home/mageswarand/.dhira/logs/LSTMSentimentAnalysis/011502941818\n",
      "\n",
      "tensorboard --logdir  /opt/dhira/models/LSTMSentimentAnalysis/01/checkpoints --port 6007\n",
      "--------------------------------------------------\n"
     ]
    },
    {
     "name": "stderr",
     "output_type": "stream",
     "text": [
      "Widget Javascript not detected.  It may not be installed or enabled properly.\n"
     ]
    },
    {
     "data": {
      "application/vnd.jupyter.widget-view+json": {
       "model_id": "d0e32d16add8493ca705c2b9156ea8b1"
      }
     },
     "metadata": {},
     "output_type": "display_data"
    },
    {
     "name": "stderr",
     "output_type": "stream",
     "text": [
      "Widget Javascript not detected.  It may not be installed or enabled properly.\n"
     ]
    },
    {
     "data": {
      "application/vnd.jupyter.widget-view+json": {
       "model_id": "a1f4095a55e44d968e795408f32e6df8"
      }
     },
     "metadata": {},
     "output_type": "display_data"
    },
    {
     "name": "stderr",
     "output_type": "stream",
     "text": [
      "Widget Javascript not detected.  It may not be installed or enabled properly.\n"
     ]
    },
    {
     "data": {
      "application/vnd.jupyter.widget-view+json": {
       "model_id": "3f21b32937274aee88a5be4aefcaaa45"
      }
     },
     "metadata": {},
     "output_type": "display_data"
    },
    {
     "name": "stderr",
     "output_type": "stream",
     "text": [
      "INFO:dhira.tf.models.internal.base_tf_model:Saving final model @ /opt/dhira/models/LSTMSentimentAnalysis/01/LSTMSentimentAnalysis-37\n",
      "INFO:dhira.tf.models.internal.base_tf_model:Saving final model @ /opt/dhira/models/LSTMSentimentAnalysis/01/LSTMSentimentAnalysis-67\n",
      "Widget Javascript not detected.  It may not be installed or enabled properly.\n"
     ]
    },
    {
     "data": {
      "application/vnd.jupyter.widget-view+json": {
       "model_id": "f466573ee3a24edc8c8bad4bf804e62e"
      }
     },
     "metadata": {},
     "output_type": "display_data"
    },
    {
     "name": "stderr",
     "output_type": "stream",
     "text": [
      "Widget Javascript not detected.  It may not be installed or enabled properly.\n"
     ]
    },
    {
     "data": {
      "application/vnd.jupyter.widget-view+json": {
       "model_id": "732b9a0834d44e689dee7748cee2500c"
      }
     },
     "metadata": {},
     "output_type": "display_data"
    },
    {
     "name": "stderr",
     "output_type": "stream",
     "text": [
      "Widget Javascript not detected.  It may not be installed or enabled properly.\n"
     ]
    },
    {
     "data": {
      "application/vnd.jupyter.widget-view+json": {
       "model_id": "246460dbe3c749d5ae6e5833934443c2"
      }
     },
     "metadata": {},
     "output_type": "display_data"
    },
    {
     "name": "stderr",
     "output_type": "stream",
     "text": [
      "INFO:dhira.tf.models.internal.base_tf_model:Saving final model @ /opt/dhira/models/LSTMSentimentAnalysis/01/LSTMSentimentAnalysis-74\n",
      "Widget Javascript not detected.  It may not be installed or enabled properly.\n"
     ]
    },
    {
     "data": {
      "application/vnd.jupyter.widget-view+json": {
       "model_id": "108ad2312a5d47b78a91eeea9b43ebc3"
      }
     },
     "metadata": {},
     "output_type": "display_data"
    },
    {
     "name": "stderr",
     "output_type": "stream",
     "text": [
      "INFO:dhira.tf.models.internal.base_tf_model:Saving final model @ /opt/dhira/models/LSTMSentimentAnalysis/01/LSTMSentimentAnalysis-111\n",
      "INFO:dhira.tf.models.internal.base_tf_model:Saving final model @ /opt/dhira/models/LSTMSentimentAnalysis/01/LSTMSentimentAnalysis-134\n",
      "Widget Javascript not detected.  It may not be installed or enabled properly.\n"
     ]
    },
    {
     "data": {
      "application/vnd.jupyter.widget-view+json": {
       "model_id": "31bcc42a3acf4ca69217519b06f6c6a1"
      }
     },
     "metadata": {},
     "output_type": "display_data"
    },
    {
     "name": "stderr",
     "output_type": "stream",
     "text": [
      "Widget Javascript not detected.  It may not be installed or enabled properly.\n"
     ]
    },
    {
     "data": {
      "application/vnd.jupyter.widget-view+json": {
       "model_id": "85803ea33aed4dfdbb4f5b351a54785e"
      }
     },
     "metadata": {},
     "output_type": "display_data"
    }
   ],
   "source": [
    "\n",
    "model.train(get_train_feature_generator=get_train_data_gen,\n",
    "            get_val_feature_generator=get_val_data_gen,\n",
    "            batch_size=batch_size,\n",
    "            num_train_steps_per_epoch=num_train_steps_per_epoch,\n",
    "            num_epochs=num_epochs,\n",
    "            num_val_steps=num_val_steps,\n",
    "            log_period=log_period,\n",
    "            val_period=val_period,\n",
    "            save_period=save_period,\n",
    "            patience=2)"
   ]
  },
  {
   "cell_type": "code",
   "execution_count": null,
   "metadata": {
    "collapsed": true
   },
   "outputs": [],
   "source": [
    "def get_mood(comment):\n",
    "    logger.setLevel(level=40)\n",
    "    single_feature = mr.custom_input(comment)\n",
    "    single_feature_batch = DataManager.to_batch(single_feature)\n",
    "    pred = model.predict(single_feature_batch)\n",
    "    if pred[0][0] > pred[0][1]: \n",
    "        print('Positive Review', pred)\n",
    "    else:\n",
    "        print('Negative Review', pred)\n",
    "    logger.setLevel(level=10)"
   ]
  },
  {
   "cell_type": "code",
   "execution_count": null,
   "metadata": {},
   "outputs": [],
   "source": [
    "get_mood('that was a awesome moview')"
   ]
  },
  {
   "cell_type": "code",
   "execution_count": null,
   "metadata": {},
   "outputs": [],
   "source": [
    "get_mood('that was not a bad movie')"
   ]
  },
  {
   "cell_type": "code",
   "execution_count": null,
   "metadata": {
    "collapsed": true
   },
   "outputs": [],
   "source": []
  }
 ],
 "metadata": {
  "kernelspec": {
   "display_name": "Python 3",
   "language": "python",
   "name": "python3"
  },
  "language_info": {
   "codemirror_mode": {
    "name": "ipython",
    "version": 3
   },
   "file_extension": ".py",
   "mimetype": "text/x-python",
   "name": "python",
   "nbconvert_exporter": "python",
   "pygments_lexer": "ipython3",
   "version": "3.6.1"
  }
 },
 "nbformat": 4,
 "nbformat_minor": 2
}
