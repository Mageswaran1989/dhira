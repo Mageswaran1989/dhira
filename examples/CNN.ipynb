{
 "cells": [
  {
   "cell_type": "markdown",
   "metadata": {},
   "source": [
    "https://stackoverflow.com/questions/43769068/jupyter-notebook-widget-javascript-not-detected"
   ]
  },
  {
   "cell_type": "code",
   "execution_count": 1,
   "metadata": {},
   "outputs": [
    {
     "name": "stderr",
     "output_type": "stream",
     "text": [
      "DEBUG:root:test\n"
     ]
    }
   ],
   "source": [
    "%load_ext autoreload\n",
    "%autoreload 2\n",
    "%matplotlib inline\n",
    "%config InlineBackend.figure_format = 'retina'\n",
    "import logging\n",
    "logger = logging.getLogger()\n",
    "logger.setLevel(logging.DEBUG)\n",
    "logging.debug(\"test\")"
   ]
  },
  {
   "cell_type": "code",
   "execution_count": 2,
   "metadata": {
    "collapsed": true
   },
   "outputs": [],
   "source": [
    "import sys\n",
    "import os\n",
    "import json\n",
    "import argparse\n",
    "import math\n",
    "sys.path.append(\"../\")\n",
    "import logging\n",
    "logger = logging.getLogger(__name__)"
   ]
  },
  {
   "cell_type": "code",
   "execution_count": 3,
   "metadata": {},
   "outputs": [
    {
     "name": "stderr",
     "output_type": "stream",
     "text": [
      "/home/mageswarand/anaconda3/envs/tensorflow1.0/lib/python3.6/site-packages/requests/__init__.py:80: RequestsDependencyWarning: urllib3 (1.21.1) or chardet (2.3.0) doesn't match a supported version!\n",
      "  RequestsDependencyWarning)\n"
     ]
    }
   ],
   "source": [
    "from dhira.data.dataset.cifiar10 import Cifiar10\n",
    "from dhira.data.features.image_feature import ImageFeature\n",
    "from dhira.tf.models.conv.convnet import Cifiar10ConvNet\n",
    "from dhira.data.data_manager import DataManager"
   ]
  },
  {
   "cell_type": "code",
   "execution_count": 4,
   "metadata": {},
   "outputs": [
    {
     "name": "stdout",
     "output_type": "stream",
     "text": [
      "Resusing the file:  ../data//cifar-10-python.tar.gz\n"
     ]
    }
   ],
   "source": [
    "cifiar = Cifiar10(download_path='../data/')"
   ]
  },
  {
   "cell_type": "code",
   "execution_count": 5,
   "metadata": {
    "scrolled": false
   },
   "outputs": [
    {
     "name": "stdout",
     "output_type": "stream",
     "text": [
      "\n",
      "Stats of batch 1:\n",
      "Samples: 10000\n",
      "Label Counts: {0: 1005, 1: 974, 2: 1032, 3: 1016, 4: 999, 5: 937, 6: 1030, 7: 1001, 8: 1025, 9: 981}\n",
      "First 20 Labels: [6, 9, 9, 4, 1, 1, 2, 7, 8, 3, 4, 7, 7, 2, 9, 9, 9, 3, 2, 6]\n",
      "\n",
      "Example of Image 5:\n",
      "Image - Min Value: 0 Max Value: 252\n",
      "Image - Shape: (32, 32, 3)\n",
      "Label - Label Id: 1 Name: automobile\n"
     ]
    },
    {
     "data": {
      "image/png": "[encoded data removed]",
      "text/plain": [
       "<matplotlib.figure.Figure at 0x7f69932b7278>"
      ]
     },
     "metadata": {
      "image/png": {
       "height": 250,
       "width": 253
      }
     },
     "output_type": "display_data"
    }
   ],
   "source": [
    "cifiar.display_stats(1,5)"
   ]
  },
  {
   "cell_type": "code",
   "execution_count": 6,
   "metadata": {
    "collapsed": true
   },
   "outputs": [],
   "source": [
    "data_manager = DataManager(cifiar)"
   ]
  },
  {
   "cell_type": "code",
   "execution_count": 7,
   "metadata": {},
   "outputs": [
    {
     "name": "stdout",
     "output_type": "stream",
     "text": [
      "Training data size:  45000\n"
     ]
    }
   ],
   "source": [
    "get_train_data_gen, train_data_size = data_manager.get_train_data_from_file()\n",
    "print('Training data size: ', train_data_size)"
   ]
  },
  {
   "cell_type": "code",
   "execution_count": 8,
   "metadata": {},
   "outputs": [
    {
     "name": "stdout",
     "output_type": "stream",
     "text": [
      "Validation data size:  5000\n"
     ]
    }
   ],
   "source": [
    "get_val_data_gen, val_data_size = data_manager.get_validation_data_from_file()\n",
    "print('Validation data size: ', val_data_size)"
   ]
  },
  {
   "cell_type": "code",
   "execution_count": 9,
   "metadata": {},
   "outputs": [
    {
     "name": "stdout",
     "output_type": "stream",
     "text": [
      "Test data size:  10000\n"
     ]
    }
   ],
   "source": [
    "get_test_data_gen, test_data_size = data_manager.get_test_data_from_file()\n",
    "print('Test data size: ', test_data_size)"
   ]
  },
  {
   "cell_type": "code",
   "execution_count": 10,
   "metadata": {
    "collapsed": true
   },
   "outputs": [],
   "source": [
    "batch_size = 128\n",
    "num_epochs = 1\n",
    "num_train_steps_per_epoch = int(math.ceil(train_data_size / batch_size))\n",
    "num_val_steps = int(math.ceil(val_data_size / batch_size))\n",
    "log_period = 100\n",
    "val_period = 100\n",
    "save_period = 200\n",
    "patience = 1\n"
   ]
  },
  {
   "cell_type": "code",
   "execution_count": 11,
   "metadata": {},
   "outputs": [
    {
     "name": "stderr",
     "output_type": "stream",
     "text": [
      "INFO:dhira.tf.models.base_tf_model:Writing logs to ../logs/Cifiar10ConvNet/00\n"
     ]
    }
   ],
   "source": [
    "\n",
    "model = Cifiar10ConvNet(name='Cifiar10ConvNet', mode='train', save_dir='../models/', log_dir='../logs/', run_id='0',\n",
    "                 image_shape=[32,32,3], keep_prop_value=0.5)\n"
   ]
  },
  {
   "cell_type": "code",
   "execution_count": 12,
   "metadata": {},
   "outputs": [
    {
     "name": "stderr",
     "output_type": "stream",
     "text": [
      "INFO:dhira.tf.models.base_tf_model:Writing params to ../logs/Cifiar10ConvNet/00/trainparams.json\n",
      "INFO:dhira.tf.models.base_tf_model:Building graph...\n",
      "INFO:dhira.tf.models.conv.convnet:x: (?, 32, 32, 3)\n",
      "INFO:dhira.tf.models.conv.convnet:Creating conv2d_maxpool layer\n",
      "INFO:dhira.tf.models.conv.convnet:   ---> conv layer: (?, 32, 32, 16)\n",
      "INFO:dhira.tf.models.conv.convnet:   ---> relu layer: (?, 32, 32, 16)\n",
      "INFO:dhira.tf.models.conv.convnet:   ---> max pool layer: (?, 16, 16, 16)\n",
      "INFO:dhira.tf.models.conv.convnet:conv1 layer: (?, 16, 16, 16)\n",
      "INFO:dhira.tf.models.conv.convnet:conv1_dropout layer: (?, 16, 16, 16)\n",
      "INFO:dhira.tf.models.conv.convnet:Creating conv2d_maxpool layer\n",
      "INFO:dhira.tf.models.conv.convnet:   ---> conv layer: (?, 16, 16, 32)\n",
      "INFO:dhira.tf.models.conv.convnet:   ---> relu layer: (?, 16, 16, 32)\n",
      "INFO:dhira.tf.models.conv.convnet:   ---> max pool layer: (?, 8, 8, 32)\n",
      "INFO:dhira.tf.models.conv.convnet:conv2 layer: (?, 8, 8, 32)\n",
      "INFO:dhira.tf.models.conv.convnet:flatten layer: (?, 2048)\n",
      "INFO:dhira.tf.models.conv.convnet:flatten_dropout layer : (?, 2048)\n",
      "INFO:dhira.tf.models.conv.convnet:fully_connected1 layer: (?, 1024)\n",
      "INFO:dhira.tf.models.conv.convnet:output layer: (?, 10)\n"
     ]
    }
   ],
   "source": [
    "model.build_graph()"
   ]
  },
  {
   "cell_type": "code",
   "execution_count": 13,
   "metadata": {
    "scrolled": false
   },
   "outputs": [
    {
     "name": "stdout",
     "output_type": "stream",
     "text": [
      "Writing to /opt/dhira/logs/Cifiar10ConvNet/00\n",
      "\n",
      "--------------------------------------------------\n",
      "\n",
      "tensorboard --logdir  /opt/dhira/logs/Cifiar10ConvNet/00\n",
      "\n",
      "tensorboard --logdir  /opt/dhira/logs/Cifiar10ConvNet/00/checkpoints --port 6007\n",
      "--------------------------------------------------\n"
     ]
    },
    {
     "data": {
      "application/vnd.jupyter.widget-view+json": {
       "model_id": "9542ca7273a34bc1a29e50a485ea9114"
      }
     },
     "metadata": {},
     "output_type": "display_data"
    },
    {
     "data": {
      "application/vnd.jupyter.widget-view+json": {
       "model_id": "5ccdd3d47d5944f293bc939855e79ff4"
      }
     },
     "metadata": {},
     "output_type": "display_data"
    },
    {
     "data": {
      "application/vnd.jupyter.widget-view+json": {
       "model_id": "e6b6109a9f2c456d921983f13bcdb82b"
      }
     },
     "metadata": {},
     "output_type": "display_data"
    },
    {
     "data": {
      "application/vnd.jupyter.widget-view+json": {
       "model_id": "9f47363902d84a29960af2c1213b9121"
      }
     },
     "metadata": {},
     "output_type": "display_data"
    },
    {
     "name": "stderr",
     "output_type": "stream",
     "text": [
      "INFO:dhira.tf.models.base_tf_model:Saving final model @ /opt/dhira/models/Cifiar10ConvNet/00/Cifiar10ConvNet-200\n"
     ]
    },
    {
     "data": {
      "application/vnd.jupyter.widget-view+json": {
       "model_id": "c52d54c64c3941688bc8d764e436e76c"
      }
     },
     "metadata": {},
     "output_type": "display_data"
    },
    {
     "name": "stderr",
     "output_type": "stream",
     "text": [
      "INFO:dhira.tf.models.base_tf_model:Saving final model @ /opt/dhira/models/Cifiar10ConvNet/00/Cifiar10ConvNet-352\n"
     ]
    },
    {
     "data": {
      "application/vnd.jupyter.widget-view+json": {
       "model_id": "3d7fb39cef614794a71280005ef05eb9"
      }
     },
     "metadata": {},
     "output_type": "display_data"
    },
    {
     "name": "stderr",
     "output_type": "stream",
     "text": [
      "INFO:dhira.tf.models.base_tf_model:Finished 1 epochs!\n"
     ]
    },
    {
     "name": "stdout",
     "output_type": "stream",
     "text": [
      "\n"
     ]
    }
   ],
   "source": [
    "model.train(get_train_instance_generator=get_train_data_gen,\n",
    "                get_val_instance_generator=get_val_data_gen,\n",
    "                batch_size=batch_size,\n",
    "                num_train_steps_per_epoch=num_train_steps_per_epoch,\n",
    "                num_epochs=num_epochs,\n",
    "                num_val_steps=num_val_steps,\n",
    "                log_period=log_period,\n",
    "                val_period=val_period,\n",
    "                save_period=save_period,\n",
    "                patience=patience)"
   ]
  },
  {
   "cell_type": "code",
   "execution_count": null,
   "metadata": {},
   "outputs": [],
   "source": []
  },
  {
   "cell_type": "code",
   "execution_count": 15,
   "metadata": {},
   "outputs": [],
   "source": [
    "single_image = DataManager.get_random_feature(get_test_data_gen, test_data_size)"
   ]
  },
  {
   "cell_type": "code",
   "execution_count": 16,
   "metadata": {},
   "outputs": [
    {
     "name": "stderr",
     "output_type": "stream",
     "text": [
      "INFO:dhira.tf.models.base_tf_model:Getting latest checkpoint in /opt/dhira/models/Cifiar10ConvNet/00/\n",
      "INFO:dhira.tf.models.base_tf_model:Attempting to load checkpoint at /opt/dhira/models/Cifiar10ConvNet/00/Cifiar10ConvNet-352\n"
     ]
    },
    {
     "name": "stdout",
     "output_type": "stream",
     "text": [
      "INFO:tensorflow:Restoring parameters from /opt/dhira/models/Cifiar10ConvNet/00/Cifiar10ConvNet-352\n"
     ]
    },
    {
     "name": "stderr",
     "output_type": "stream",
     "text": [
      "INFO:tensorflow:Restoring parameters from /opt/dhira/models/Cifiar10ConvNet/00/Cifiar10ConvNet-352\n",
      "INFO:dhira.tf.models.base_tf_model:Successfully loaded /opt/dhira/models/Cifiar10ConvNet/00/Cifiar10ConvNet-352!\n"
     ]
    }
   ],
   "source": [
    "pred = model.predict_on_single_feature(single_image, '/opt/dhira/models/Cifiar10ConvNet/00/')"
   ]
  },
  {
   "cell_type": "code",
   "execution_count": 17,
   "metadata": {},
   "outputs": [
    {
     "data": {
      "text/plain": [
       "array([[-1.00166667, -0.73909521, -0.60139811,  0.48190701,  0.20197153,\n",
       "         0.08153173,  1.2087394 ,  0.20188269, -0.19859028,  0.30895245]], dtype=float32)"
      ]
     },
     "execution_count": 17,
     "metadata": {},
     "output_type": "execute_result"
    }
   ],
   "source": [
    "pred"
   ]
  },
  {
   "cell_type": "code",
   "execution_count": null,
   "metadata": {},
   "outputs": [],
   "source": [
    "# cifiar.display_image_predictions(single_image[0][0], pred, single_image[1][0])"
   ]
  },
  {
   "cell_type": "code",
   "execution_count": null,
   "metadata": {
    "collapsed": true
   },
   "outputs": [],
   "source": []
  }
 ],
 "metadata": {
  "kernelspec": {
   "display_name": "Python 3",
   "language": "python",
   "name": "python3"
  },
  "language_info": {
   "codemirror_mode": {
    "name": "ipython",
    "version": 3
   },
   "file_extension": ".py",
   "mimetype": "text/x-python",
   "name": "python",
   "nbconvert_exporter": "python",
   "pygments_lexer": "ipython3",
   "version": "3.6.1"
  }
 },
 "nbformat": 4,
 "nbformat_minor": 2
}
