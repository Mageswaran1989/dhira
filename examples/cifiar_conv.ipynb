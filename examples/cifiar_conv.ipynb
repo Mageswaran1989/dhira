{
 "cells": [
  {
   "cell_type": "markdown",
   "metadata": {},
   "source": [
    "https://stackoverflow.com/questions/43769068/jupyter-notebook-widget-javascript-not-detected"
   ]
  },
  {
   "cell_type": "code",
   "execution_count": 1,
   "metadata": {},
   "outputs": [
    {
     "name": "stderr",
     "output_type": "stream",
     "text": [
      "DEBUG:root:test\n"
     ]
    }
   ],
   "source": [
    "%load_ext autoreload\n",
    "%autoreload 2\n",
    "%matplotlib inline\n",
    "%config InlineBackend.figure_format = 'retina'\n",
    "import logging\n",
    "logger = logging.getLogger()\n",
    "logger.setLevel(logging.DEBUG)\n",
    "logging.debug(\"test\")"
   ]
  },
  {
   "cell_type": "code",
   "execution_count": 2,
   "metadata": {
    "collapsed": true
   },
   "outputs": [],
   "source": [
    "import sys\n",
    "import os\n",
    "import json\n",
    "import argparse\n",
    "import math\n",
    "sys.path.append(\"../\")\n",
    "import logging\n",
    "logger = logging.getLogger(__name__)"
   ]
  },
  {
   "cell_type": "code",
   "execution_count": 3,
   "metadata": {},
   "outputs": [],
   "source": [
    "from dhira.data.features.image_feature import ImageFeature\n",
    "from dhira.tf.models.conv.cifiar_convnet import Cifiar10ConvNet\n",
    "from dhira.data.data_manager import DataManager\n",
    "from dhira.data.dataset.cifiar10 import Cifiar10"
   ]
  },
  {
   "cell_type": "code",
   "execution_count": 4,
   "metadata": {},
   "outputs": [
    {
     "name": "stderr",
     "output_type": "stream",
     "text": [
      "--- Logging error ---\n",
      "Traceback (most recent call last):\n",
      "  File \"/home/mageswarand/anaconda3/envs/tensorflow1.0/lib/python3.6/logging/__init__.py\", line 992, in emit\n",
      "    msg = self.format(record)\n",
      "  File \"/home/mageswarand/anaconda3/envs/tensorflow1.0/lib/python3.6/logging/__init__.py\", line 838, in format\n",
      "    return fmt.format(record)\n",
      "  File \"/home/mageswarand/anaconda3/envs/tensorflow1.0/lib/python3.6/logging/__init__.py\", line 575, in format\n",
      "    record.message = record.getMessage()\n",
      "  File \"/home/mageswarand/anaconda3/envs/tensorflow1.0/lib/python3.6/logging/__init__.py\", line 338, in getMessage\n",
      "    msg = msg % self.args\n",
      "TypeError: not all arguments converted during string formatting\n",
      "Call stack:\n",
      "  File \"/home/mageswarand/anaconda3/envs/tensorflow1.0/lib/python3.6/runpy.py\", line 193, in _run_module_as_main\n",
      "    \"__main__\", mod_spec)\n",
      "  File \"/home/mageswarand/anaconda3/envs/tensorflow1.0/lib/python3.6/runpy.py\", line 85, in _run_code\n",
      "    exec(code, run_globals)\n",
      "  File \"/home/mageswarand/anaconda3/envs/tensorflow1.0/lib/python3.6/site-packages/ipykernel_launcher.py\", line 16, in <module>\n",
      "    app.launch_new_instance()\n",
      "  File \"/home/mageswarand/anaconda3/envs/tensorflow1.0/lib/python3.6/site-packages/traitlets/config/application.py\", line 658, in launch_instance\n",
      "    app.start()\n",
      "  File \"/home/mageswarand/anaconda3/envs/tensorflow1.0/lib/python3.6/site-packages/ipykernel/kernelapp.py\", line 477, in start\n",
      "    ioloop.IOLoop.instance().start()\n",
      "  File \"/home/mageswarand/anaconda3/envs/tensorflow1.0/lib/python3.6/site-packages/zmq/eventloop/ioloop.py\", line 177, in start\n",
      "    super(ZMQIOLoop, self).start()\n",
      "  File \"/home/mageswarand/anaconda3/envs/tensorflow1.0/lib/python3.6/site-packages/tornado/ioloop.py\", line 888, in start\n",
      "    handler_func(fd_obj, events)\n",
      "  File \"/home/mageswarand/anaconda3/envs/tensorflow1.0/lib/python3.6/site-packages/tornado/stack_context.py\", line 277, in null_wrapper\n",
      "    return fn(*args, **kwargs)\n",
      "  File \"/home/mageswarand/anaconda3/envs/tensorflow1.0/lib/python3.6/site-packages/zmq/eventloop/zmqstream.py\", line 440, in _handle_events\n",
      "    self._handle_recv()\n",
      "  File \"/home/mageswarand/anaconda3/envs/tensorflow1.0/lib/python3.6/site-packages/zmq/eventloop/zmqstream.py\", line 472, in _handle_recv\n",
      "    self._run_callback(callback, msg)\n",
      "  File \"/home/mageswarand/anaconda3/envs/tensorflow1.0/lib/python3.6/site-packages/zmq/eventloop/zmqstream.py\", line 414, in _run_callback\n",
      "    callback(*args, **kwargs)\n",
      "  File \"/home/mageswarand/anaconda3/envs/tensorflow1.0/lib/python3.6/site-packages/tornado/stack_context.py\", line 277, in null_wrapper\n",
      "    return fn(*args, **kwargs)\n",
      "  File \"/home/mageswarand/anaconda3/envs/tensorflow1.0/lib/python3.6/site-packages/ipykernel/kernelbase.py\", line 283, in dispatcher\n",
      "    return self.dispatch_shell(stream, msg)\n",
      "  File \"/home/mageswarand/anaconda3/envs/tensorflow1.0/lib/python3.6/site-packages/ipykernel/kernelbase.py\", line 235, in dispatch_shell\n",
      "    handler(stream, idents, msg)\n",
      "  File \"/home/mageswarand/anaconda3/envs/tensorflow1.0/lib/python3.6/site-packages/ipykernel/kernelbase.py\", line 399, in execute_request\n",
      "    user_expressions, allow_stdin)\n",
      "  File \"/home/mageswarand/anaconda3/envs/tensorflow1.0/lib/python3.6/site-packages/ipykernel/ipkernel.py\", line 196, in do_execute\n",
      "    res = shell.run_cell(code, store_history=store_history, silent=silent)\n",
      "  File \"/home/mageswarand/anaconda3/envs/tensorflow1.0/lib/python3.6/site-packages/ipykernel/zmqshell.py\", line 533, in run_cell\n",
      "    return super(ZMQInteractiveShell, self).run_cell(*args, **kwargs)\n",
      "  File \"/home/mageswarand/anaconda3/envs/tensorflow1.0/lib/python3.6/site-packages/IPython/core/interactiveshell.py\", line 2698, in run_cell\n",
      "    interactivity=interactivity, compiler=compiler, result=result)\n",
      "  File \"/home/mageswarand/anaconda3/envs/tensorflow1.0/lib/python3.6/site-packages/IPython/core/interactiveshell.py\", line 2802, in run_ast_nodes\n",
      "    if self.run_code(code, result):\n",
      "  File \"/home/mageswarand/anaconda3/envs/tensorflow1.0/lib/python3.6/site-packages/IPython/core/interactiveshell.py\", line 2862, in run_code\n",
      "    exec(code_obj, self.user_global_ns, self.user_ns)\n",
      "  File \"<ipython-input-4-9160f2c52afe>\", line 1, in <module>\n",
      "    cifiar = Cifiar10()\n",
      "  File \"../dhira/data/dataset/cifiar10.py\", line 29, in __init__\n",
      "    self._downloaded_path = Dataset.download(self._url, name)\n",
      "  File \"../dhira/data/dataset/internal/dataset_base.py\", line 85, in download\n",
      "    downloaded_path = Downloader.get(url, file)\n",
      "  File \"../dhira/data/download/downloader.py\", line 37, in get\n",
      "    logger.info('Resusing the file: ', local_file_name)\n",
      "Message: 'Resusing the file: '\n",
      "Arguments: ('/home/mageswarand/.dhira/cifiar10/cifar-10-python.tar.gz',)\n",
      "INFO:dhira.data.dataset.internal.dataset_base:/home/mageswarand/.dhira/cifiar10/cifar-10-python.tar.gz\n",
      "INFO:dhira.data.dataset.internal.dataset_base:/home/mageswarand/.dhira/cifiar10/cifar-10-batches-py\n"
     ]
    }
   ],
   "source": [
    "cifiar = Cifiar10()"
   ]
  },
  {
   "cell_type": "code",
   "execution_count": 5,
   "metadata": {
    "scrolled": false
   },
   "outputs": [
    {
     "name": "stdout",
     "output_type": "stream",
     "text": [
      "\n",
      "Stats of batch 1:\n",
      "Samples: 10000\n",
      "Label Counts: {0: 1005, 1: 974, 2: 1032, 3: 1016, 4: 999, 5: 937, 6: 1030, 7: 1001, 8: 1025, 9: 981}\n",
      "First 20 Labels: [6, 9, 9, 4, 1, 1, 2, 7, 8, 3, 4, 7, 7, 2, 9, 9, 9, 3, 2, 6]\n",
      "\n",
      "Example of Image 5:\n",
      "Image - Min Value: 0 Max Value: 252\n",
      "Image - Shape: (32, 32, 3)\n",
      "Label - Label Id: 1 Name: automobile\n"
     ]
    },
    {
     "data": {
      "image/png": "[encoded data removed]",
      "text/plain": [
       "<matplotlib.figure.Figure at 0x7ffa3f91b0f0>"
      ]
     },
     "metadata": {
      "image/png": {
       "height": 250,
       "width": 253
      }
     },
     "output_type": "display_data"
    }
   ],
   "source": [
    "cifiar.display_stats(1,5)"
   ]
  },
  {
   "cell_type": "code",
   "execution_count": 6,
   "metadata": {
    "collapsed": true
   },
   "outputs": [],
   "source": [
    "data_manager = DataManager(cifiar)"
   ]
  },
  {
   "cell_type": "code",
   "execution_count": 7,
   "metadata": {},
   "outputs": [
    {
     "name": "stderr",
     "output_type": "stream",
     "text": [
      "INFO:dhira.data.dataset.internal.dataset_base:cifiar10-train.p already exists\n"
     ]
    },
    {
     "name": "stdout",
     "output_type": "stream",
     "text": [
      "Training data size:  45000\n"
     ]
    }
   ],
   "source": [
    "get_train_data_gen, train_data_size = data_manager.get_train_data()\n",
    "print('Training data size: ', train_data_size)"
   ]
  },
  {
   "cell_type": "code",
   "execution_count": 8,
   "metadata": {},
   "outputs": [
    {
     "name": "stderr",
     "output_type": "stream",
     "text": [
      "INFO:dhira.data.dataset.internal.dataset_base:cifiar10-val.p already exists\n"
     ]
    },
    {
     "name": "stdout",
     "output_type": "stream",
     "text": [
      "Validation data size:  5000\n"
     ]
    }
   ],
   "source": [
    "get_val_data_gen, val_data_size = data_manager.get_validation_data()\n",
    "print('Validation data size: ', val_data_size)"
   ]
  },
  {
   "cell_type": "code",
   "execution_count": 9,
   "metadata": {},
   "outputs": [
    {
     "name": "stderr",
     "output_type": "stream",
     "text": [
      "INFO:dhira.data.dataset.internal.dataset_base:cifiar10-test.p already exists\n"
     ]
    },
    {
     "name": "stdout",
     "output_type": "stream",
     "text": [
      "Test data size:  10000\n"
     ]
    }
   ],
   "source": [
    "get_test_data_gen, test_data_size = data_manager.get_test_data()\n",
    "print('Test data size: ', test_data_size)"
   ]
  },
  {
   "cell_type": "code",
   "execution_count": 17,
   "metadata": {
    "collapsed": true
   },
   "outputs": [],
   "source": [
    "batch_size = 128\n",
    "num_epochs = 10\n",
    "num_train_steps_per_epoch = int(math.ceil(train_data_size / batch_size))\n",
    "num_val_steps = int(math.ceil(val_data_size / batch_size))\n",
    "print('Number of train steps {}/{} and validation steps {}/{} for batch size {}'.format(num_train_steps_per_epoch,\n",
    "                                                                                        train_data_size,\n",
    "                                                                                        num_val_steps,\n",
    "                                                                                        val_data_size,\n",
    "                                                                                        batch_size))\n",
    "\n",
    "log_period = 10\n",
    "val_period = num_train_steps_per_epoch//1.8\n",
    "save_period = num_train_steps_per_epoch//1.8\n",
    "val_period"
   ]
  },
  {
   "cell_type": "code",
   "execution_count": 18,
   "metadata": {},
   "outputs": [
    {
     "name": "stderr",
     "output_type": "stream",
     "text": [
      "INFO:dhira.tf.models.internal.base_tf_model:Writing logs to ../logs/Cifiar10ConvNet/001503127127/\n",
      "INFO:dhira.tf.models.internal.base_tf_model:log path ../logs/Cifiar10ConvNet/001503127127/ does not exist, creating it\n"
     ]
    }
   ],
   "source": [
    "model = Cifiar10ConvNet(name='Cifiar10ConvNet', save_dir='../models/', log_dir='../logs/', run_id='0',\n",
    "                 image_shape=[32,32,3], keep_prop_value=0.5)\n"
   ]
  },
  {
   "cell_type": "code",
   "execution_count": 19,
   "metadata": {},
   "outputs": [
    {
     "name": "stderr",
     "output_type": "stream",
     "text": [
      "INFO:dhira.tf.models.internal.base_tf_model:Writing params to ../logs/Cifiar10ConvNet/001503127127/Cifiar10ConvNetparams.json\n",
      "INFO:dhira.tf.models.internal.base_tf_model:Building graph...\n",
      "INFO:dhira.tf.models.conv.cifiar_convnet:in_tensor: (?, 32, 32, 3)\n",
      "INFO:dhira.tf.models.conv.cifiar_convnet:Creating conv2d_maxpool layer\n",
      "INFO:dhira.tf.models.conv.cifiar_convnet:   ---> conv layer: (?, 32, 32, 16)\n",
      "INFO:dhira.tf.models.conv.cifiar_convnet:   ---> max pool layer: (?, 16, 16, 16)\n",
      "INFO:dhira.tf.models.conv.cifiar_convnet:conv1 layer: (?, 16, 16, 16)\n",
      "INFO:dhira.tf.models.conv.cifiar_convnet:conv1_dropout layer: (?, 16, 16, 16)\n",
      "INFO:dhira.tf.models.conv.cifiar_convnet:Creating conv2d_maxpool layer\n",
      "INFO:dhira.tf.models.conv.cifiar_convnet:   ---> conv layer: (?, 16, 16, 32)\n",
      "INFO:dhira.tf.models.conv.cifiar_convnet:   ---> max pool layer: (?, 8, 8, 32)\n",
      "INFO:dhira.tf.models.conv.cifiar_convnet:conv2 layer: (?, 8, 8, 32)\n",
      "INFO:dhira.tf.models.conv.cifiar_convnet:flatten layer: (?, 2048)\n",
      "INFO:dhira.tf.models.conv.cifiar_convnet:flatten_dropout layer : (?, 2048)\n",
      "INFO:dhira.tf.models.conv.cifiar_convnet:fully_connected1 layer: (?, 1024)\n",
      "INFO:dhira.tf.models.conv.cifiar_convnet:fully_connected2 layer: (?, 512)\n",
      "INFO:dhira.tf.models.conv.cifiar_convnet:output layer: (?, 10)\n"
     ]
    }
   ],
   "source": [
    "model.compile()"
   ]
  },
  {
   "cell_type": "code",
   "execution_count": 20,
   "metadata": {
    "scrolled": false
   },
   "outputs": [
    {
     "name": "stdout",
     "output_type": "stream",
     "text": [
      "Writing to /opt/dhira/logs/Cifiar10ConvNet/001503127127\n",
      "\n",
      "--------------------------------------------------\n",
      "\n",
      "tensorboard --logdir  /opt/dhira/logs/Cifiar10ConvNet/001503127127\n",
      "\n",
      "tensorboard --logdir  /opt/dhira/models/Cifiar10ConvNet/00/checkpoints --port 6007\n",
      "--------------------------------------------------\n"
     ]
    },
    {
     "data": {
      "application/vnd.jupyter.widget-view+json": {
       "model_id": "4e26ff5b4745488585e39ad98d032749"
      }
     },
     "metadata": {},
     "output_type": "display_data"
    },
    {
     "data": {
      "application/vnd.jupyter.widget-view+json": {
       "model_id": "559e1e302527466a8c74b6ce4267399f"
      }
     },
     "metadata": {},
     "output_type": "display_data"
    },
    {
     "data": {
      "application/vnd.jupyter.widget-view+json": {
       "model_id": "a39b5064a73645f8871864266c5e899c"
      }
     },
     "metadata": {},
     "output_type": "display_data"
    },
    {
     "data": {
      "application/vnd.jupyter.widget-view+json": {
       "model_id": "9086fd88007f4071b6c48cca04eba50a"
      }
     },
     "metadata": {},
     "output_type": "display_data"
    },
    {
     "name": "stderr",
     "output_type": "stream",
     "text": [
      "INFO:dhira.tf.models.internal.base_tf_model:Saving final model @ /opt/dhira/models/Cifiar10ConvNet/00/Cifiar10ConvNet-200\n"
     ]
    },
    {
     "data": {
      "application/vnd.jupyter.widget-view+json": {
       "model_id": "5cd16536a6ee4e84900c0318a160e40e"
      }
     },
     "metadata": {},
     "output_type": "display_data"
    },
    {
     "name": "stderr",
     "output_type": "stream",
     "text": [
      "INFO:dhira.tf.models.internal.base_tf_model:Saving final model @ /opt/dhira/models/Cifiar10ConvNet/00/Cifiar10ConvNet-352\n"
     ]
    },
    {
     "data": {
      "application/vnd.jupyter.widget-view+json": {
       "model_id": "c4ef6746228b4107853d982d07f4e71b"
      }
     },
     "metadata": {},
     "output_type": "display_data"
    },
    {
     "data": {
      "application/vnd.jupyter.widget-view+json": {
       "model_id": "ef6740770ef040d48524c9c21a607e97"
      }
     },
     "metadata": {},
     "output_type": "display_data"
    },
    {
     "data": {
      "application/vnd.jupyter.widget-view+json": {
       "model_id": "2d9c16b97c6446a7b5fe37e578c2620c"
      }
     },
     "metadata": {},
     "output_type": "display_data"
    },
    {
     "name": "stderr",
     "output_type": "stream",
     "text": [
      "INFO:dhira.tf.models.internal.base_tf_model:Saving final model @ /opt/dhira/models/Cifiar10ConvNet/00/Cifiar10ConvNet-400\n"
     ]
    },
    {
     "data": {
      "application/vnd.jupyter.widget-view+json": {
       "model_id": "ce85a06b05f6496e965149f6da801a77"
      }
     },
     "metadata": {},
     "output_type": "display_data"
    },
    {
     "data": {
      "application/vnd.jupyter.widget-view+json": {
       "model_id": "808ed96d99cd4d48b61bea6a4f92fd9e"
      }
     },
     "metadata": {},
     "output_type": "display_data"
    },
    {
     "name": "stderr",
     "output_type": "stream",
     "text": [
      "INFO:dhira.tf.models.internal.base_tf_model:Saving final model @ /opt/dhira/models/Cifiar10ConvNet/00/Cifiar10ConvNet-600\n"
     ]
    },
    {
     "data": {
      "application/vnd.jupyter.widget-view+json": {
       "model_id": "e922ced64452420e83161f1649a8f0b0"
      }
     },
     "metadata": {},
     "output_type": "display_data"
    },
    {
     "name": "stderr",
     "output_type": "stream",
     "text": [
      "INFO:dhira.tf.models.internal.base_tf_model:Saving final model @ /opt/dhira/models/Cifiar10ConvNet/00/Cifiar10ConvNet-704\n"
     ]
    },
    {
     "data": {
      "application/vnd.jupyter.widget-view+json": {
       "model_id": "02698a912dfd414eaaab9411235446f2"
      }
     },
     "metadata": {},
     "output_type": "display_data"
    },
    {
     "data": {
      "application/vnd.jupyter.widget-view+json": {
       "model_id": "fbcb37d21751498d9747c1e94fee7ed9"
      }
     },
     "metadata": {},
     "output_type": "display_data"
    },
    {
     "data": {
      "application/vnd.jupyter.widget-view+json": {
       "model_id": "918b314b0251430ea858ea33116486e2"
      }
     },
     "metadata": {},
     "output_type": "display_data"
    },
    {
     "name": "stderr",
     "output_type": "stream",
     "text": [
      "INFO:dhira.tf.models.internal.base_tf_model:Saving final model @ /opt/dhira/models/Cifiar10ConvNet/00/Cifiar10ConvNet-800\n"
     ]
    },
    {
     "data": {
      "application/vnd.jupyter.widget-view+json": {
       "model_id": "08f4c019d50847ff9f4974ce5974a1f0"
      }
     },
     "metadata": {},
     "output_type": "display_data"
    },
    {
     "data": {
      "application/vnd.jupyter.widget-view+json": {
       "model_id": "6bd0491fa3e240efbcf1040cd130f0fc"
      }
     },
     "metadata": {},
     "output_type": "display_data"
    },
    {
     "name": "stderr",
     "output_type": "stream",
     "text": [
      "INFO:dhira.tf.models.internal.base_tf_model:Saving final model @ /opt/dhira/models/Cifiar10ConvNet/00/Cifiar10ConvNet-1000\n",
      "INFO:dhira.tf.models.internal.base_tf_model:Saving final model @ /opt/dhira/models/Cifiar10ConvNet/00/Cifiar10ConvNet-1056\n"
     ]
    },
    {
     "data": {
      "application/vnd.jupyter.widget-view+json": {
       "model_id": "9eaa9fdf5e6e4aafb6a3067470276a6b"
      }
     },
     "metadata": {},
     "output_type": "display_data"
    },
    {
     "data": {
      "application/vnd.jupyter.widget-view+json": {
       "model_id": "952090b04c5c40b9987d6e51849771f0"
      }
     },
     "metadata": {},
     "output_type": "display_data"
    },
    {
     "data": {
      "application/vnd.jupyter.widget-view+json": {
       "model_id": "de7c2328f12f42e1aea16503dff4b4ca"
      }
     },
     "metadata": {},
     "output_type": "display_data"
    },
    {
     "data": {
      "application/vnd.jupyter.widget-view+json": {
       "model_id": "449acaeb29294d2bb1b51747ecde4694"
      }
     },
     "metadata": {},
     "output_type": "display_data"
    },
    {
     "name": "stderr",
     "output_type": "stream",
     "text": [
      "INFO:dhira.tf.models.internal.base_tf_model:Saving final model @ /opt/dhira/models/Cifiar10ConvNet/00/Cifiar10ConvNet-1200\n"
     ]
    },
    {
     "data": {
      "application/vnd.jupyter.widget-view+json": {
       "model_id": "31106b51b7464d37a16ee35ae72fe81f"
      }
     },
     "metadata": {},
     "output_type": "display_data"
    },
    {
     "data": {
      "application/vnd.jupyter.widget-view+json": {
       "model_id": "931f7948bc0c40d6b42b333f0d42c4f7"
      }
     },
     "metadata": {},
     "output_type": "display_data"
    },
    {
     "name": "stderr",
     "output_type": "stream",
     "text": [
      "INFO:dhira.tf.models.internal.base_tf_model:Saving final model @ /opt/dhira/models/Cifiar10ConvNet/00/Cifiar10ConvNet-1400\n",
      "INFO:dhira.tf.models.internal.base_tf_model:Saving final model @ /opt/dhira/models/Cifiar10ConvNet/00/Cifiar10ConvNet-1408\n"
     ]
    },
    {
     "data": {
      "application/vnd.jupyter.widget-view+json": {
       "model_id": "7882daf622df4b9e9e65a995a4b5994c"
      }
     },
     "metadata": {},
     "output_type": "display_data"
    },
    {
     "data": {
      "application/vnd.jupyter.widget-view+json": {
       "model_id": "526aedb019764e699cf37dfc8a1196ef"
      }
     },
     "metadata": {},
     "output_type": "display_data"
    },
    {
     "data": {
      "application/vnd.jupyter.widget-view+json": {
       "model_id": "a6ba3ad42a3e4b81a068afd68ceeb197"
      }
     },
     "metadata": {},
     "output_type": "display_data"
    },
    {
     "data": {
      "application/vnd.jupyter.widget-view+json": {
       "model_id": "538e64c2bedb4936a29c347a77e86664"
      }
     },
     "metadata": {},
     "output_type": "display_data"
    },
    {
     "name": "stderr",
     "output_type": "stream",
     "text": [
      "INFO:dhira.tf.models.internal.base_tf_model:Saving final model @ /opt/dhira/models/Cifiar10ConvNet/00/Cifiar10ConvNet-1600\n"
     ]
    },
    {
     "data": {
      "application/vnd.jupyter.widget-view+json": {
       "model_id": "d96eda1cd3c940a7bcf4286067473673"
      }
     },
     "metadata": {},
     "output_type": "display_data"
    },
    {
     "name": "stderr",
     "output_type": "stream",
     "text": [
      "INFO:dhira.tf.models.internal.base_tf_model:Saving final model @ /opt/dhira/models/Cifiar10ConvNet/00/Cifiar10ConvNet-1760\n"
     ]
    },
    {
     "data": {
      "application/vnd.jupyter.widget-view+json": {
       "model_id": "70d5c6fcc962469aa2e83c3fcb195a22"
      }
     },
     "metadata": {},
     "output_type": "display_data"
    },
    {
     "data": {
      "application/vnd.jupyter.widget-view+json": {
       "model_id": "2d0df48e93b24ed68dc731f218b10cf0"
      }
     },
     "metadata": {},
     "output_type": "display_data"
    },
    {
     "data": {
      "application/vnd.jupyter.widget-view+json": {
       "model_id": "1c56194111bf491d8b48d25883061f94"
      }
     },
     "metadata": {},
     "output_type": "display_data"
    },
    {
     "name": "stderr",
     "output_type": "stream",
     "text": [
      "INFO:dhira.tf.models.internal.base_tf_model:Saving final model @ /opt/dhira/models/Cifiar10ConvNet/00/Cifiar10ConvNet-1800\n"
     ]
    },
    {
     "data": {
      "application/vnd.jupyter.widget-view+json": {
       "model_id": "b2107558509541e8b56ebd939cc0fb45"
      }
     },
     "metadata": {},
     "output_type": "display_data"
    },
    {
     "data": {
      "application/vnd.jupyter.widget-view+json": {
       "model_id": "e5f526c77d0543f694d475972f594d8c"
      }
     },
     "metadata": {},
     "output_type": "display_data"
    },
    {
     "name": "stderr",
     "output_type": "stream",
     "text": [
      "INFO:dhira.tf.models.internal.base_tf_model:Saving final model @ /opt/dhira/models/Cifiar10ConvNet/00/Cifiar10ConvNet-2000\n"
     ]
    },
    {
     "data": {
      "application/vnd.jupyter.widget-view+json": {
       "model_id": "b89046d8df4a41f6bf64e5ae58dcdffd"
      }
     },
     "metadata": {},
     "output_type": "display_data"
    },
    {
     "name": "stderr",
     "output_type": "stream",
     "text": [
      "INFO:dhira.tf.models.internal.base_tf_model:Saving final model @ /opt/dhira/models/Cifiar10ConvNet/00/Cifiar10ConvNet-2112\n"
     ]
    },
    {
     "data": {
      "application/vnd.jupyter.widget-view+json": {
       "model_id": "74c9b933d3e9426d8a815d96b89e2f78"
      }
     },
     "metadata": {},
     "output_type": "display_data"
    },
    {
     "data": {
      "application/vnd.jupyter.widget-view+json": {
       "model_id": "6550dc7d72b44540892ac4b6dabbc1a1"
      }
     },
     "metadata": {},
     "output_type": "display_data"
    },
    {
     "data": {
      "application/vnd.jupyter.widget-view+json": {
       "model_id": "2de0855b7c3649808dff8febadb2f5fe"
      }
     },
     "metadata": {},
     "output_type": "display_data"
    },
    {
     "name": "stderr",
     "output_type": "stream",
     "text": [
      "INFO:dhira.tf.models.internal.base_tf_model:Saving final model @ /opt/dhira/models/Cifiar10ConvNet/00/Cifiar10ConvNet-2200\n"
     ]
    },
    {
     "data": {
      "application/vnd.jupyter.widget-view+json": {
       "model_id": "604a8eab99674c57b81dd747716b48e5"
      }
     },
     "metadata": {},
     "output_type": "display_data"
    },
    {
     "data": {
      "application/vnd.jupyter.widget-view+json": {
       "model_id": "a0424ffbcb1641d1becd5501bdbb8540"
      }
     },
     "metadata": {},
     "output_type": "display_data"
    },
    {
     "name": "stderr",
     "output_type": "stream",
     "text": [
      "INFO:dhira.tf.models.internal.base_tf_model:Saving final model @ /opt/dhira/models/Cifiar10ConvNet/00/Cifiar10ConvNet-2400\n",
      "INFO:dhira.tf.models.internal.base_tf_model:Saving final model @ /opt/dhira/models/Cifiar10ConvNet/00/Cifiar10ConvNet-2464\n"
     ]
    },
    {
     "data": {
      "application/vnd.jupyter.widget-view+json": {
       "model_id": "e3496df34dad4aa08eefb22c84cf6626"
      }
     },
     "metadata": {},
     "output_type": "display_data"
    },
    {
     "data": {
      "application/vnd.jupyter.widget-view+json": {
       "model_id": "102c5fe7d3614ce48e37f8269ad00efc"
      }
     },
     "metadata": {},
     "output_type": "display_data"
    },
    {
     "data": {
      "application/vnd.jupyter.widget-view+json": {
       "model_id": "2575e863874b450aa7f36c63f4dd1a5a"
      }
     },
     "metadata": {},
     "output_type": "display_data"
    },
    {
     "data": {
      "application/vnd.jupyter.widget-view+json": {
       "model_id": "98d0ee245d3849c382bf058812ed5218"
      }
     },
     "metadata": {},
     "output_type": "display_data"
    },
    {
     "name": "stderr",
     "output_type": "stream",
     "text": [
      "INFO:dhira.tf.models.internal.base_tf_model:Saving final model @ /opt/dhira/models/Cifiar10ConvNet/00/Cifiar10ConvNet-2600\n"
     ]
    },
    {
     "data": {
      "application/vnd.jupyter.widget-view+json": {
       "model_id": "1589447efa854897a2d9f03f1f3b581e"
      }
     },
     "metadata": {},
     "output_type": "display_data"
    },
    {
     "data": {
      "application/vnd.jupyter.widget-view+json": {
       "model_id": "93cda88d362e4d85a412208c7181ad5a"
      }
     },
     "metadata": {},
     "output_type": "display_data"
    },
    {
     "name": "stderr",
     "output_type": "stream",
     "text": [
      "INFO:dhira.tf.models.internal.base_tf_model:Saving final model @ /opt/dhira/models/Cifiar10ConvNet/00/Cifiar10ConvNet-2800\n",
      "INFO:dhira.tf.models.internal.base_tf_model:Saving final model @ /opt/dhira/models/Cifiar10ConvNet/00/Cifiar10ConvNet-2816\n"
     ]
    },
    {
     "data": {
      "application/vnd.jupyter.widget-view+json": {
       "model_id": "a2d9dc2bacc44e54a56114703baa2846"
      }
     },
     "metadata": {},
     "output_type": "display_data"
    },
    {
     "data": {
      "application/vnd.jupyter.widget-view+json": {
       "model_id": "7fc8ec982272475889923da12e814c17"
      }
     },
     "metadata": {},
     "output_type": "display_data"
    },
    {
     "data": {
      "application/vnd.jupyter.widget-view+json": {
       "model_id": "76a26f97e88a41358c994d4adf74d615"
      }
     },
     "metadata": {},
     "output_type": "display_data"
    },
    {
     "data": {
      "application/vnd.jupyter.widget-view+json": {
       "model_id": "0fa9353d6dd545a99bb87b302256b8ac"
      }
     },
     "metadata": {},
     "output_type": "display_data"
    },
    {
     "name": "stderr",
     "output_type": "stream",
     "text": [
      "INFO:dhira.tf.models.internal.base_tf_model:Saving final model @ /opt/dhira/models/Cifiar10ConvNet/00/Cifiar10ConvNet-3000\n"
     ]
    },
    {
     "data": {
      "application/vnd.jupyter.widget-view+json": {
       "model_id": "13e808cf6c6146e0be533dc703d2e359"
      }
     },
     "metadata": {},
     "output_type": "display_data"
    },
    {
     "name": "stderr",
     "output_type": "stream",
     "text": [
      "INFO:dhira.tf.models.internal.base_tf_model:Saving final model @ /opt/dhira/models/Cifiar10ConvNet/00/Cifiar10ConvNet-3168\n"
     ]
    },
    {
     "data": {
      "application/vnd.jupyter.widget-view+json": {
       "model_id": "53e3c52a265d4dcf90784f9a82b77f8a"
      }
     },
     "metadata": {},
     "output_type": "display_data"
    },
    {
     "data": {
      "application/vnd.jupyter.widget-view+json": {
       "model_id": "f948309f16384a63b43f17cd5afdfc9e"
      }
     },
     "metadata": {},
     "output_type": "display_data"
    },
    {
     "data": {
      "application/vnd.jupyter.widget-view+json": {
       "model_id": "9557700385ee4f5b9f114ab24a3a821b"
      }
     },
     "metadata": {},
     "output_type": "display_data"
    },
    {
     "name": "stderr",
     "output_type": "stream",
     "text": [
      "INFO:dhira.tf.models.internal.base_tf_model:Saving final model @ /opt/dhira/models/Cifiar10ConvNet/00/Cifiar10ConvNet-3200\n"
     ]
    },
    {
     "data": {
      "application/vnd.jupyter.widget-view+json": {
       "model_id": "97c4b7abe72f4a3f887cc3f121aa8d0e"
      }
     },
     "metadata": {},
     "output_type": "display_data"
    },
    {
     "data": {
      "application/vnd.jupyter.widget-view+json": {
       "model_id": "5e1910fd42df4ca38da5aa5ce96d9be7"
      }
     },
     "metadata": {},
     "output_type": "display_data"
    },
    {
     "name": "stderr",
     "output_type": "stream",
     "text": [
      "INFO:dhira.tf.models.internal.base_tf_model:Saving final model @ /opt/dhira/models/Cifiar10ConvNet/00/Cifiar10ConvNet-3400\n"
     ]
    },
    {
     "data": {
      "application/vnd.jupyter.widget-view+json": {
       "model_id": "a666ebcff1d44b15982645c4816e620c"
      }
     },
     "metadata": {},
     "output_type": "display_data"
    },
    {
     "name": "stderr",
     "output_type": "stream",
     "text": [
      "INFO:dhira.tf.models.internal.base_tf_model:Saving final model @ /opt/dhira/models/Cifiar10ConvNet/00/Cifiar10ConvNet-3520\n"
     ]
    },
    {
     "data": {
      "application/vnd.jupyter.widget-view+json": {
       "model_id": "f9238b9afebc4ef987d46d9dba4bf1b4"
      }
     },
     "metadata": {},
     "output_type": "display_data"
    },
    {
     "name": "stderr",
     "output_type": "stream",
     "text": [
      "WARNING:dhira.tf.models.internal.base_tf_model:There are no model specific operation evaluation!\n",
      "INFO:dhira.tf.models.internal.base_tf_model:Finished 10 epochs!\n"
     ]
    },
    {
     "name": "stdout",
     "output_type": "stream",
     "text": [
      "\n"
     ]
    },
    {
     "data": {
      "text/plain": [
       "'/opt/dhira/models/Cifiar10ConvNet/00/Cifiar10ConvNet-3520'"
      ]
     },
     "execution_count": 20,
     "metadata": {},
     "output_type": "execute_result"
    }
   ],
   "source": [
    "model.train(get_train_feature_generator=get_train_data_gen,\n",
    "                get_val_feature_generator=get_val_data_gen,\n",
    "                batch_size=batch_size,\n",
    "                num_train_steps_per_epoch=num_train_steps_per_epoch,\n",
    "                num_epochs=num_epochs,\n",
    "                num_val_steps=num_val_steps,\n",
    "                log_period=log_period,\n",
    "                val_period=val_period,\n",
    "                save_period=save_period,\n",
    "                patience=patience)"
   ]
  },
  {
   "cell_type": "code",
   "execution_count": 21,
   "metadata": {
    "collapsed": true
   },
   "outputs": [],
   "source": [
    "single_image = DataManager.get_random_feature(get_test_data_gen, test_data_size)"
   ]
  },
  {
   "cell_type": "code",
   "execution_count": 22,
   "metadata": {},
   "outputs": [
    {
     "name": "stderr",
     "output_type": "stream",
     "text": [
      "INFO:dhira.tf.models.internal.base_tf_model:Model is lodded from ../models/Cifiar10ConvNet/00/\n",
      "INFO:dhira.tf.models.internal.base_tf_model:Getting latest checkpoint in ../models/Cifiar10ConvNet/00/\n",
      "INFO:dhira.tf.models.internal.base_tf_model:Attempting to load checkpoint at ../models/Cifiar10ConvNet/00/Cifiar10ConvNet-3520\n"
     ]
    },
    {
     "name": "stdout",
     "output_type": "stream",
     "text": [
      "INFO:tensorflow:Restoring parameters from ../models/Cifiar10ConvNet/00/Cifiar10ConvNet-3520\n"
     ]
    },
    {
     "name": "stderr",
     "output_type": "stream",
     "text": [
      "INFO:tensorflow:Restoring parameters from ../models/Cifiar10ConvNet/00/Cifiar10ConvNet-3520\n",
      "INFO:dhira.tf.models.internal.base_tf_model:Successfully loaded ../models/Cifiar10ConvNet/00/Cifiar10ConvNet-3520!\n"
     ]
    }
   ],
   "source": [
    "pred = model.predict(single_image)"
   ]
  },
  {
   "cell_type": "code",
   "execution_count": 23,
   "metadata": {},
   "outputs": [
    {
     "data": {
      "text/plain": [
       "array([[-2.5371201 ,  4.13187551, -2.5559237 , -1.66488409, -4.47724438,\n",
       "        -1.10693192, -1.81675208, -2.45599127,  2.02726197,  0.0231819 ]], dtype=float32)"
      ]
     },
     "execution_count": 23,
     "metadata": {},
     "output_type": "execute_result"
    }
   ],
   "source": [
    "pred"
   ]
  },
  {
   "cell_type": "code",
   "execution_count": null,
   "metadata": {
    "collapsed": true
   },
   "outputs": [],
   "source": [
    "# cifiar.display_image_predictions(single_image[0][0], pred, single_image[1][0])"
   ]
  },
  {
   "cell_type": "code",
   "execution_count": null,
   "metadata": {
    "collapsed": true
   },
   "outputs": [],
   "source": []
  }
 ],
 "metadata": {
  "kernelspec": {
   "display_name": "Python 3",
   "language": "python",
   "name": "python3"
  },
  "language_info": {
   "codemirror_mode": {
    "name": "ipython",
    "version": 3
   },
   "file_extension": ".py",
   "mimetype": "text/x-python",
   "name": "python",
   "nbconvert_exporter": "python",
   "pygments_lexer": "ipython3",
   "version": "3.6.1"
  }
 },
 "nbformat": 4,
 "nbformat_minor": 2
}
