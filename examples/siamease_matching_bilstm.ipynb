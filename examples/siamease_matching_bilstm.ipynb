{
 "cells": [
  {
   "cell_type": "code",
   "execution_count": 1,
   "metadata": {},
   "outputs": [
    {
     "name": "stderr",
     "output_type": "stream",
     "text": [
      "DEBUG:root:test\n"
     ]
    }
   ],
   "source": [
    "%load_ext autoreload\n",
    "%autoreload 2\n",
    "%matplotlib inline\n",
    "%config InlineBackend.figure_format = 'retina'\n",
    "import sys\n",
    "import os\n",
    "import math\n",
    "import spacy\n",
    "sys.path.append(\"../\")\n",
    "import logging\n",
    "logger = logging.getLogger()\n",
    "logger.setLevel(logging.DEBUG)\n",
    "logging.debug(\"test\")"
   ]
  },
  {
   "cell_type": "code",
   "execution_count": 2,
   "metadata": {
    "collapsed": true
   },
   "outputs": [],
   "source": [
    "import matplotlib.pyplot as plt; plt.rcdefaults()\n",
    "import numpy as np\n",
    "import matplotlib.pyplot as plt"
   ]
  },
  {
   "cell_type": "code",
   "execution_count": 3,
   "metadata": {
    "collapsed": true
   },
   "outputs": [],
   "source": [
    "from dhira.data.data_manager import DataManager\n",
    "from dhira.data.embedding_manager import EmbeddingManager\n",
    "from dhira.tf.models.siamese.matching_bilstm import SiameseMatchingBiLSTM\n",
    "\n",
    "from tqdm import tqdm_notebook as tqdm\n",
    "\n",
    "nlp = spacy.load('en_core_web_md')"
   ]
  },
  {
   "cell_type": "code",
   "execution_count": 4,
   "metadata": {
    "collapsed": true
   },
   "outputs": [],
   "source": [
    "# from dhira.data.dataset.text import IndexedDataset\n",
    "# from dhira.data.features.pair_feature import PairFeature\n",
    "# quora_dataset = IndexedDataset(name='quora',\n",
    "#                                train_files='../data/quora/processed/train_cleaned_train_split.csv',\n",
    "#                                val_files='../data/quora/processed/train_cleaned_val_split.csv',\n",
    "#                                test_files='../data/quora/processed/test_final.csv',\n",
    "#                                feature_type=PairFeature,\n",
    "#                                pad=True,\n",
    "#                                pickle_dir='../models/',\n",
    "#                                max_lengths={\"num_sentence_words\": 30})"
   ]
  },
  {
   "cell_type": "code",
   "execution_count": 5,
   "metadata": {},
   "outputs": [
    {
     "name": "stderr",
     "output_type": "stream",
     "text": [
      "INFO:dhira.data.dataset.quora:Trying to load prefitted data_indexer... quora-spacy-data_indexr.p\n",
      "INFO:dhira.data.dataset.quora:Reusing the pickle file quora-spacy-data_indexr.p.\n"
     ]
    }
   ],
   "source": [
    "from dhira.data.dataset.quora import QuoraDataset\n",
    "from dhira.data.features.quora_feature import QuoraFeature\n",
    "quora_dataset = QuoraDataset(name='quora-spacy',\n",
    "                               train_files='../data/quora/processed/train_cleaned_train_split.csv',\n",
    "                               val_files='../data/quora/processed/train_cleaned_val_split.csv',\n",
    "                               test_files='../data/quora/processed/test_final.csv',\n",
    "                               feature_type=QuoraFeature,\n",
    "                               pad=True,\n",
    "                               pickle_dir='../models/',\n",
    "                               max_lengths={\"num_sentence_words\": 30},\n",
    "                               spacy_nlp_pipeline=nlp)"
   ]
  },
  {
   "cell_type": "code",
   "execution_count": 6,
   "metadata": {
    "collapsed": true
   },
   "outputs": [],
   "source": [
    "data_manager = DataManager(dataset=quora_dataset)"
   ]
  },
  {
   "cell_type": "code",
   "execution_count": 7,
   "metadata": {},
   "outputs": [
    {
     "name": "stderr",
     "output_type": "stream",
     "text": [
      "INFO:dhira.data.dataset.quora:Getting training data from ../data/quora/processed/train_cleaned_train_split.csv\n",
      "INFO:dhira.data.dataset.quora:Reusing the pickle file quora-spacy-train.p.\n",
      "INFO:dhira.data.dataset.quora:Instance max lengths {'num_sentence_words': 271}\n",
      "INFO:dhira.data.dataset.quora:Padding lengths to length: {'num_sentence_words': 30}\n"
     ]
    }
   ],
   "source": [
    "get_train_data_gen, train_data_size = data_manager.get_train_data_from_file()"
   ]
  },
  {
   "cell_type": "code",
   "execution_count": 8,
   "metadata": {},
   "outputs": [
    {
     "name": "stderr",
     "output_type": "stream",
     "text": [
      "INFO:dhira.data.dataset.quora:Getting validation data from ../data/quora/processed/train_cleaned_val_split.csv\n",
      "INFO:dhira.data.dataset.quora:Reusing the pickle file None.\n",
      "INFO:dhira.data.dataset.quora:Instance max lengths {'num_sentence_words': 271}\n",
      "INFO:dhira.data.dataset.quora:Padding lengths to length: {'num_sentence_words': 30}\n"
     ]
    }
   ],
   "source": [
    "get_val_data_gen, val_data_size = data_manager.get_validation_data_from_file()"
   ]
  },
  {
   "cell_type": "code",
   "execution_count": 9,
   "metadata": {
    "collapsed": true
   },
   "outputs": [],
   "source": [
    "# embedding_manager = EmbeddingManager(quora_dataset.data_indexer, pickle_dir='../models/')\n",
    "# embedding_matrix = embedding_manager.get_embedding_matrix(300,'../data/quora/external/glove.6B.300d.txt')\n",
    "embedding_matrix = EmbeddingManager.get_spacy_embedding_matrix(nlp, quora_dataset.data_indexer)"
   ]
  },
  {
   "cell_type": "code",
   "execution_count": 10,
   "metadata": {},
   "outputs": [
    {
     "data": {
      "text/plain": [
       "(115170, 300)"
      ]
     },
     "execution_count": 10,
     "metadata": {},
     "output_type": "execute_result"
    }
   ],
   "source": [
    "embedding_matrix.shape"
   ]
  },
  {
   "cell_type": "code",
   "execution_count": 11,
   "metadata": {},
   "outputs": [
    {
     "name": "stderr",
     "output_type": "stream",
     "text": [
      "INFO:dhira.tf.models.base_tf_model:Writing logs to ../logs/SiameseMatchingBiLSTM/00\n"
     ]
    }
   ],
   "source": [
    "model = ''\n",
    "model = SiameseMatchingBiLSTM(mode='train',\n",
    "             save_dir='../models/',\n",
    "             log_dir='../logs/',\n",
    "             run_id='0',\n",
    "             word_vocab_size=embedding_matrix.shape[0], \n",
    "             word_embedding_dim=300, \n",
    "             word_embedding_matrix=embedding_matrix, \n",
    "             fine_tune_embeddings=True, \n",
    "             share_encoder_weights=True,\n",
    "             rnn_output_mode='last',\n",
    "             output_keep_prob=0.5,\n",
    "             rnn_hidden_size=256)\n",
    "\n"
   ]
  },
  {
   "cell_type": "code",
   "execution_count": 12,
   "metadata": {},
   "outputs": [
    {
     "name": "stderr",
     "output_type": "stream",
     "text": [
      "INFO:dhira.tf.models.base_tf_model:Writing params to ../logs/SiameseMatchingBiLSTM/00/trainparams.json\n",
      "INFO:dhira.tf.models.base_tf_model:Building graph...\n"
     ]
    }
   ],
   "source": [
    "model.build_graph()"
   ]
  },
  {
   "cell_type": "code",
   "execution_count": 13,
   "metadata": {
    "collapsed": true
   },
   "outputs": [],
   "source": [
    "batch_size = 64\n",
    "num_epochs = 1\n",
    "num_train_steps_per_epoch = int(math.ceil(train_data_size / batch_size))\n",
    "num_val_steps = int(math.ceil(val_data_size / batch_size))\n"
   ]
  },
  {
   "cell_type": "code",
   "execution_count": 14,
   "metadata": {},
   "outputs": [
    {
     "name": "stdout",
     "output_type": "stream",
     "text": [
      "Number of train steps 5686 and validation steps 632 for batch size 64\n"
     ]
    }
   ],
   "source": [
    "print('Number of train steps {} and validation steps {} for batch size {}'.format(num_train_steps_per_epoch, \n",
    "                                                                                  num_val_steps,\n",
    "                                                                                  batch_size))"
   ]
  },
  {
   "cell_type": "code",
   "execution_count": 15,
   "metadata": {
    "collapsed": true
   },
   "outputs": [],
   "source": [
    "log_period = 50\n",
    "val_period = 1000\n",
    "save_period = 200"
   ]
  },
  {
   "cell_type": "code",
   "execution_count": 16,
   "metadata": {},
   "outputs": [
    {
     "name": "stdout",
     "output_type": "stream",
     "text": [
      "Writing to /opt/dhira/logs/SiameseMatchingBiLSTM/00\n",
      "\n",
      "--------------------------------------------------\n",
      "\n",
      "tensorboard --logdir  /opt/dhira/logs/SiameseMatchingBiLSTM/00\n",
      "\n",
      "tensorboard --logdir  /opt/dhira/logs/SiameseMatchingBiLSTM/00/checkpoints --port 6007\n",
      "--------------------------------------------------\n"
     ]
    },
    {
     "data": {
      "application/vnd.jupyter.widget-view+json": {
       "model_id": "53b59e0172dc47caa478c50eb8f97cd1"
      }
     },
     "metadata": {},
     "output_type": "display_data"
    },
    {
     "data": {
      "application/vnd.jupyter.widget-view+json": {
       "model_id": "15e5c40ca2fa48b3ba1bb05085615488"
      }
     },
     "metadata": {},
     "output_type": "display_data"
    },
    {
     "name": "stderr",
     "output_type": "stream",
     "text": [
      "INFO:dhira.tf.models.base_tf_model:Saving final model @ /opt/dhira/models/SiameseMatchingBiLSTM/00/SiameseMatchingBiLSTM-200\n"
     ]
    },
    {
     "data": {
      "application/vnd.jupyter.widget-view+json": {
       "model_id": "5a1734156ed4480b9571a866f97c085f"
      }
     },
     "metadata": {},
     "output_type": "display_data"
    },
    {
     "name": "stderr",
     "output_type": "stream",
     "text": [
      "INFO:dhira.tf.models.base_tf_model:Saving final model @ /opt/dhira/models/SiameseMatchingBiLSTM/00/SiameseMatchingBiLSTM-400\n"
     ]
    },
    {
     "data": {
      "application/vnd.jupyter.widget-view+json": {
       "model_id": "73acbbded1db41b29a55bceac733d781"
      }
     },
     "metadata": {},
     "output_type": "display_data"
    },
    {
     "name": "stderr",
     "output_type": "stream",
     "text": [
      "INFO:dhira.tf.models.base_tf_model:Saving final model @ /opt/dhira/models/SiameseMatchingBiLSTM/00/SiameseMatchingBiLSTM-600\n"
     ]
    },
    {
     "data": {
      "application/vnd.jupyter.widget-view+json": {
       "model_id": "4c7e89468eba49b3aa5d0e3d44aeb8c1"
      }
     },
     "metadata": {},
     "output_type": "display_data"
    },
    {
     "name": "stderr",
     "output_type": "stream",
     "text": [
      "INFO:dhira.tf.models.base_tf_model:Saving final model @ /opt/dhira/models/SiameseMatchingBiLSTM/00/SiameseMatchingBiLSTM-800\n"
     ]
    },
    {
     "data": {
      "application/vnd.jupyter.widget-view+json": {
       "model_id": "5b6c4443123b4371be165c6095e99769"
      }
     },
     "metadata": {},
     "output_type": "display_data"
    },
    {
     "name": "stderr",
     "output_type": "stream",
     "text": [
      "INFO:dhira.tf.models.base_tf_model:Saving final model @ /opt/dhira/models/SiameseMatchingBiLSTM/00/SiameseMatchingBiLSTM-1000\n",
      "INFO:dhira.tf.models.base_tf_model:Saving final model @ /opt/dhira/models/SiameseMatchingBiLSTM/00/SiameseMatchingBiLSTM-1200\n"
     ]
    },
    {
     "data": {
      "application/vnd.jupyter.widget-view+json": {
       "model_id": "c31c300a709c4f55aec9c7ff459f205d"
      }
     },
     "metadata": {},
     "output_type": "display_data"
    },
    {
     "name": "stderr",
     "output_type": "stream",
     "text": [
      "INFO:dhira.tf.models.base_tf_model:Saving final model @ /opt/dhira/models/SiameseMatchingBiLSTM/00/SiameseMatchingBiLSTM-1400\n"
     ]
    },
    {
     "data": {
      "application/vnd.jupyter.widget-view+json": {
       "model_id": "4ce7fdf552e64cb9947d460cbbd49140"
      }
     },
     "metadata": {},
     "output_type": "display_data"
    },
    {
     "name": "stderr",
     "output_type": "stream",
     "text": [
      "INFO:dhira.tf.models.base_tf_model:Saving final model @ /opt/dhira/models/SiameseMatchingBiLSTM/00/SiameseMatchingBiLSTM-1600\n"
     ]
    },
    {
     "data": {
      "application/vnd.jupyter.widget-view+json": {
       "model_id": "3af60b34d0c54e0191e1e4ca123dd21b"
      }
     },
     "metadata": {},
     "output_type": "display_data"
    },
    {
     "name": "stderr",
     "output_type": "stream",
     "text": [
      "INFO:dhira.tf.models.base_tf_model:Saving final model @ /opt/dhira/models/SiameseMatchingBiLSTM/00/SiameseMatchingBiLSTM-1800\n"
     ]
    },
    {
     "data": {
      "application/vnd.jupyter.widget-view+json": {
       "model_id": "17b22b1de374498990b55b0854c22ace"
      }
     },
     "metadata": {},
     "output_type": "display_data"
    },
    {
     "name": "stderr",
     "output_type": "stream",
     "text": [
      "INFO:dhira.tf.models.base_tf_model:Saving final model @ /opt/dhira/models/SiameseMatchingBiLSTM/00/SiameseMatchingBiLSTM-2000\n",
      "INFO:dhira.tf.models.base_tf_model:Saving final model @ /opt/dhira/models/SiameseMatchingBiLSTM/00/SiameseMatchingBiLSTM-2200\n"
     ]
    },
    {
     "data": {
      "application/vnd.jupyter.widget-view+json": {
       "model_id": "d1962043f3564284848d9a494b96e263"
      }
     },
     "metadata": {},
     "output_type": "display_data"
    },
    {
     "name": "stderr",
     "output_type": "stream",
     "text": [
      "INFO:dhira.tf.models.base_tf_model:Saving final model @ /opt/dhira/models/SiameseMatchingBiLSTM/00/SiameseMatchingBiLSTM-2400\n"
     ]
    },
    {
     "data": {
      "application/vnd.jupyter.widget-view+json": {
       "model_id": "aa95ffc2413149a5848e24fba10d52f9"
      }
     },
     "metadata": {},
     "output_type": "display_data"
    },
    {
     "name": "stderr",
     "output_type": "stream",
     "text": [
      "INFO:dhira.tf.models.base_tf_model:Saving final model @ /opt/dhira/models/SiameseMatchingBiLSTM/00/SiameseMatchingBiLSTM-2600\n"
     ]
    },
    {
     "data": {
      "application/vnd.jupyter.widget-view+json": {
       "model_id": "66cb4c7c927e44a19fe7fa510b2f44c8"
      }
     },
     "metadata": {},
     "output_type": "display_data"
    },
    {
     "name": "stderr",
     "output_type": "stream",
     "text": [
      "INFO:dhira.tf.models.base_tf_model:Saving final model @ /opt/dhira/models/SiameseMatchingBiLSTM/00/SiameseMatchingBiLSTM-2800\n"
     ]
    },
    {
     "data": {
      "application/vnd.jupyter.widget-view+json": {
       "model_id": "f809345e8cef48d993ff450133b346ec"
      }
     },
     "metadata": {},
     "output_type": "display_data"
    },
    {
     "name": "stderr",
     "output_type": "stream",
     "text": [
      "INFO:dhira.tf.models.base_tf_model:Saving final model @ /opt/dhira/models/SiameseMatchingBiLSTM/00/SiameseMatchingBiLSTM-3000\n",
      "INFO:dhira.tf.models.base_tf_model:Saving final model @ /opt/dhira/models/SiameseMatchingBiLSTM/00/SiameseMatchingBiLSTM-3200\n"
     ]
    },
    {
     "data": {
      "application/vnd.jupyter.widget-view+json": {
       "model_id": "5c814debeb1d4ae98d5b4c2e4c1c020e"
      }
     },
     "metadata": {},
     "output_type": "display_data"
    },
    {
     "name": "stderr",
     "output_type": "stream",
     "text": [
      "INFO:dhira.tf.models.base_tf_model:Saving final model @ /opt/dhira/models/SiameseMatchingBiLSTM/00/SiameseMatchingBiLSTM-3400\n"
     ]
    },
    {
     "data": {
      "application/vnd.jupyter.widget-view+json": {
       "model_id": "de5221df44e54d7aacd28518c4278517"
      }
     },
     "metadata": {},
     "output_type": "display_data"
    },
    {
     "name": "stderr",
     "output_type": "stream",
     "text": [
      "INFO:dhira.tf.models.base_tf_model:Saving final model @ /opt/dhira/models/SiameseMatchingBiLSTM/00/SiameseMatchingBiLSTM-3600\n"
     ]
    },
    {
     "data": {
      "application/vnd.jupyter.widget-view+json": {
       "model_id": "da5b77aa1be046c7b42233bb5f806921"
      }
     },
     "metadata": {},
     "output_type": "display_data"
    },
    {
     "name": "stderr",
     "output_type": "stream",
     "text": [
      "INFO:dhira.tf.models.base_tf_model:Saving final model @ /opt/dhira/models/SiameseMatchingBiLSTM/00/SiameseMatchingBiLSTM-3800\n"
     ]
    },
    {
     "data": {
      "application/vnd.jupyter.widget-view+json": {
       "model_id": "830b0ee86f09454eb8df0e0a4b689eb1"
      }
     },
     "metadata": {},
     "output_type": "display_data"
    },
    {
     "name": "stderr",
     "output_type": "stream",
     "text": [
      "INFO:dhira.tf.models.base_tf_model:Saving final model @ /opt/dhira/models/SiameseMatchingBiLSTM/00/SiameseMatchingBiLSTM-4000\n",
      "INFO:dhira.tf.models.base_tf_model:Saving final model @ /opt/dhira/models/SiameseMatchingBiLSTM/00/SiameseMatchingBiLSTM-4200\n"
     ]
    },
    {
     "data": {
      "application/vnd.jupyter.widget-view+json": {
       "model_id": "82b4653fa632412097b251f97d6c5dad"
      }
     },
     "metadata": {},
     "output_type": "display_data"
    },
    {
     "name": "stderr",
     "output_type": "stream",
     "text": [
      "INFO:dhira.tf.models.base_tf_model:Saving final model @ /opt/dhira/models/SiameseMatchingBiLSTM/00/SiameseMatchingBiLSTM-4400\n"
     ]
    },
    {
     "data": {
      "application/vnd.jupyter.widget-view+json": {
       "model_id": "1f0a22c20205411bb96b339bbf78bfbf"
      }
     },
     "metadata": {},
     "output_type": "display_data"
    },
    {
     "name": "stderr",
     "output_type": "stream",
     "text": [
      "INFO:dhira.tf.models.base_tf_model:Saving final model @ /opt/dhira/models/SiameseMatchingBiLSTM/00/SiameseMatchingBiLSTM-4600\n"
     ]
    },
    {
     "data": {
      "application/vnd.jupyter.widget-view+json": {
       "model_id": "f24ef2aed1a5442a9c632f44b82e6a0b"
      }
     },
     "metadata": {},
     "output_type": "display_data"
    },
    {
     "name": "stderr",
     "output_type": "stream",
     "text": [
      "INFO:dhira.tf.models.base_tf_model:Saving final model @ /opt/dhira/models/SiameseMatchingBiLSTM/00/SiameseMatchingBiLSTM-4800\n"
     ]
    },
    {
     "data": {
      "application/vnd.jupyter.widget-view+json": {
       "model_id": "ddb723e27bd64a86972a71dfdf406fb9"
      }
     },
     "metadata": {},
     "output_type": "display_data"
    },
    {
     "name": "stderr",
     "output_type": "stream",
     "text": [
      "INFO:dhira.tf.models.base_tf_model:Saving final model @ /opt/dhira/models/SiameseMatchingBiLSTM/00/SiameseMatchingBiLSTM-5000\n",
      "INFO:dhira.tf.models.base_tf_model:Saving final model @ /opt/dhira/models/SiameseMatchingBiLSTM/00/SiameseMatchingBiLSTM-5200\n"
     ]
    },
    {
     "data": {
      "application/vnd.jupyter.widget-view+json": {
       "model_id": "16afaf71170245f19fee9471c1cb6961"
      }
     },
     "metadata": {},
     "output_type": "display_data"
    },
    {
     "name": "stderr",
     "output_type": "stream",
     "text": [
      "INFO:dhira.tf.models.base_tf_model:Saving final model @ /opt/dhira/models/SiameseMatchingBiLSTM/00/SiameseMatchingBiLSTM-5400\n"
     ]
    },
    {
     "data": {
      "application/vnd.jupyter.widget-view+json": {
       "model_id": "c0679b1e61e0456d9a2a450576db67ca"
      }
     },
     "metadata": {},
     "output_type": "display_data"
    },
    {
     "name": "stderr",
     "output_type": "stream",
     "text": [
      "INFO:dhira.tf.models.base_tf_model:Saving final model @ /opt/dhira/models/SiameseMatchingBiLSTM/00/SiameseMatchingBiLSTM-5600\n",
      "INFO:dhira.tf.models.base_tf_model:Saving final model @ /opt/dhira/models/SiameseMatchingBiLSTM/00/SiameseMatchingBiLSTM-5686\n"
     ]
    },
    {
     "data": {
      "application/vnd.jupyter.widget-view+json": {
       "model_id": "3c389e9bf4b64e62bfd6c318044661be"
      }
     },
     "metadata": {},
     "output_type": "display_data"
    },
    {
     "name": "stderr",
     "output_type": "stream",
     "text": [
      "INFO:dhira.tf.models.base_tf_model:Finished 1 epochs!\n"
     ]
    },
    {
     "name": "stdout",
     "output_type": "stream",
     "text": [
      "\n"
     ]
    }
   ],
   "source": [
    "model.train(get_train_instance_generator=get_train_data_gen,\n",
    "            get_val_instance_generator=get_val_data_gen,\n",
    "            batch_size=batch_size,\n",
    "            num_train_steps_per_epoch=num_train_steps_per_epoch,\n",
    "            num_epochs=num_epochs,\n",
    "            num_val_steps=num_val_steps,\n",
    "            log_period=log_period,\n",
    "            val_period=val_period,\n",
    "            save_period=save_period,\n",
    "            patience=0)"
   ]
  },
  {
   "cell_type": "code",
   "execution_count": 22,
   "metadata": {},
   "outputs": [],
   "source": [
    "# get_test_data_gen, test_data_size = data_manager.get_test_data_from_file()"
   ]
  },
  {
   "cell_type": "code",
   "execution_count": 28,
   "metadata": {
    "collapsed": true
   },
   "outputs": [],
   "source": [
    "kwargs = {'question_1' : 'How to learn Deep Learning?', \n",
    "         'question_2' : 'What are methods to learn deep learning?'}\n",
    "\n",
    "kwargs = {'question_1' : 'Can I work in Deep Learning?', \n",
    "         'question_2' : 'Is it possible to work in Deep Learning?'}\n",
    "\n",
    "kwargs = {'question_1' : 'Can I work in Deep Learning?', \n",
    "         'question_2' : 'What are methods to learn deep learning?'}\n",
    "single_feature = quora_dataset.custom_input(kwargs=kwargs)"
   ]
  },
  {
   "cell_type": "code",
   "execution_count": 29,
   "metadata": {},
   "outputs": [
    {
     "name": "stderr",
     "output_type": "stream",
     "text": [
      "INFO:dhira.data.data_manager:features should be a list of `FeatureBase` type\n"
     ]
    }
   ],
   "source": [
    "single_feature_batch = DataManager.to_batch(single_feature)"
   ]
  },
  {
   "cell_type": "code",
   "execution_count": 30,
   "metadata": {},
   "outputs": [
    {
     "name": "stderr",
     "output_type": "stream",
     "text": [
      "INFO:dhira.tf.models.base_tf_model:Getting latest checkpoint in /opt/dhira/models/SiameseMatchingBiLSTM/00/\n",
      "INFO:dhira.tf.models.base_tf_model:Attempting to load checkpoint at /opt/dhira/models/SiameseMatchingBiLSTM/00/SiameseMatchingBiLSTM-5686\n"
     ]
    },
    {
     "name": "stdout",
     "output_type": "stream",
     "text": [
      "INFO:tensorflow:Restoring parameters from /opt/dhira/models/SiameseMatchingBiLSTM/00/SiameseMatchingBiLSTM-5686\n"
     ]
    },
    {
     "name": "stderr",
     "output_type": "stream",
     "text": [
      "INFO:tensorflow:Restoring parameters from /opt/dhira/models/SiameseMatchingBiLSTM/00/SiameseMatchingBiLSTM-5686\n",
      "INFO:dhira.tf.models.base_tf_model:Successfully loaded /opt/dhira/models/SiameseMatchingBiLSTM/00/SiameseMatchingBiLSTM-5686!\n"
     ]
    }
   ],
   "source": [
    "pred = model.predict_on_single_feature(single_feature_batch, '/opt/dhira/models/SiameseMatchingBiLSTM/00/')"
   ]
  },
  {
   "cell_type": "code",
   "execution_count": 31,
   "metadata": {},
   "outputs": [
    {
     "data": {
      "image/png": "[encoded data removed]",
      "text/plain": [
       "<matplotlib.figure.Figure at 0x7fc2b7a93e80>"
      ]
     },
     "metadata": {
      "image/png": {
       "height": 415,
       "width": 549
      }
     },
     "output_type": "display_data"
    }
   ],
   "source": [
    "plt.bar([0,1], pred[0], align='center', alpha=0.5)\n",
    "plt.xticks([0,1], [0,1])\n",
    "plt.show()"
   ]
  },
  {
   "cell_type": "code",
   "execution_count": null,
   "metadata": {
    "collapsed": true
   },
   "outputs": [],
   "source": []
  }
 ],
 "metadata": {
  "kernelspec": {
   "display_name": "Python 3",
   "language": "python",
   "name": "python3"
  },
  "language_info": {
   "codemirror_mode": {
    "name": "ipython",
    "version": 3
   },
   "file_extension": ".py",
   "mimetype": "text/x-python",
   "name": "python",
   "nbconvert_exporter": "python",
   "pygments_lexer": "ipython3",
   "version": "3.6.1"
  }
 },
 "nbformat": 4,
 "nbformat_minor": 2
}
