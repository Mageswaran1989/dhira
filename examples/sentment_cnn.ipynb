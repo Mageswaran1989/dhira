{
 "cells": [
  {
   "cell_type": "markdown",
   "metadata": {},
   "source": [
    "https://github.com/danielegrattarola/twitter-sentiment-cnn"
   ]
  },
  {
   "cell_type": "code",
   "execution_count": null,
   "metadata": {},
   "outputs": [],
   "source": [
    "import sys\n",
    "import numpy as np\n",
    "import json\n",
    "import os, inspect\n",
    "import math\n",
    "sys.path.append(\"../\")\n",
    "%load_ext autoreload\n",
    "%autoreload 2\n",
    "import logging\n",
    "logger = logging.getLogger()\n",
    "logger.setLevel(logging.DEBUG)\n",
    "logging.debug(\"test\")"
   ]
  },
  {
   "cell_type": "code",
   "execution_count": null,
   "metadata": {
    "collapsed": true
   },
   "outputs": [],
   "source": [
    "import matplotlib.pyplot as plt; plt.rcdefaults()\n",
    "import numpy as np\n",
    "import matplotlib.pyplot as plt"
   ]
  },
  {
   "cell_type": "code",
   "execution_count": null,
   "metadata": {},
   "outputs": [],
   "source": [
    "import spacy\n",
    "nlp = spacy.load('en_core_web_md')"
   ]
  },
  {
   "cell_type": "code",
   "execution_count": 4,
   "metadata": {
    "collapsed": true
   },
   "outputs": [],
   "source": [
    "from dhira.data.dataset.movie_review import MovieReview\n",
    "from dhira.data.data_manager import DataManager\n",
    "from dhira.data.embedding_manager import EmbeddingManager\n",
    "from dhira.data.features.movie_review_feature import MovieReviewFeatureIndexed"
   ]
  },
  {
   "cell_type": "code",
   "execution_count": 5,
   "metadata": {},
   "outputs": [
    {
     "name": "stderr",
     "output_type": "stream",
     "text": [
      "INFO:dhira.data.dataset.internal.text:Reusing the pickle file movie-review-data-data_indexer.p.\n",
      "INFO:dhira.data.dataset.internal.dataset_base:Reusing the pickle file movie-review-data-train.p.\n",
      "INFO:dhira.data.dataset.internal.text:Trying to load prefitted data_indexer... movie-review-data-data_indexer.p\n",
      "INFO:dhira.data.dataset.internal.text:Instance max lengths {'num_sentence_words': 63}\n",
      "INFO:dhira.data.dataset.internal.text:Padding lengths to length: {'num_sentence_words': 59}\n",
      "INFO:dhira.data.dataset.internal.dataset_base:movie-review-data-train.p already exists\n",
      "INFO:dhira.data.dataset.internal.dataset_base:Reusing the pickle file None.\n",
      "INFO:dhira.data.dataset.internal.text:Instance max lengths {'num_sentence_words': 54}\n",
      "INFO:dhira.data.dataset.internal.text:Padding lengths to length: {'num_sentence_words': 59}\n",
      "INFO:dhira.data.dataset.internal.dataset_base:movie-review-data-val.p already exists\n"
     ]
    }
   ],
   "source": [
    "mr = MovieReview()\n",
    "data_manager = DataManager(dataset=mr, nlp=nlp)\n",
    "get_train_data_gen, train_data_size = data_manager.get_train_data()\n",
    "get_val_data_gen, val_data_size = data_manager.get_validation_data()"
   ]
  },
  {
   "cell_type": "code",
   "execution_count": 6,
   "metadata": {
    "collapsed": true
   },
   "outputs": [],
   "source": [
    "# get_test_data_gen, test_data_size = data_manager.get_test_data()"
   ]
  },
  {
   "cell_type": "code",
   "execution_count": 7,
   "metadata": {
    "collapsed": true
   },
   "outputs": [],
   "source": [
    "# train_data_size, val_data_size, test_data_size, train_data_size + val_data_size + test_data_size"
   ]
  },
  {
   "cell_type": "code",
   "execution_count": 8,
   "metadata": {
    "collapsed": true
   },
   "outputs": [],
   "source": [
    "embedding_matrix = data_manager.embedding_matrix"
   ]
  },
  {
   "cell_type": "code",
   "execution_count": 9,
   "metadata": {},
   "outputs": [
    {
     "data": {
      "text/plain": [
       "(16691, 300)"
      ]
     },
     "execution_count": 9,
     "metadata": {},
     "output_type": "execute_result"
    }
   ],
   "source": [
    "embedding_matrix.shape"
   ]
  },
  {
   "cell_type": "code",
   "execution_count": 10,
   "metadata": {
    "collapsed": true
   },
   "outputs": [],
   "source": [
    "#res = mr.train_features[0].indexed_review_tokens\n",
    "# for idx in res:\n",
    "#     for lex in nlp.vocab:\n",
    "#         if(lex.text == mr.data_indexer.get_word_from_index(idx)):\n",
    "#             print(lex.text, np.array_equal(lex.vector,embedding_matrix[idx]))"
   ]
  },
  {
   "cell_type": "code",
   "execution_count": 11,
   "metadata": {},
   "outputs": [
    {
     "name": "stderr",
     "output_type": "stream",
     "text": [
      "INFO:dhira.tf.models.internal.base_tf_model:Writing logs to ../logs/sentiment_cnn/021502687951/\n",
      "INFO:dhira.tf.models.internal.base_tf_model:log path ../logs/sentiment_cnn/021502687951/ does not exist, creating it\n"
     ]
    }
   ],
   "source": [
    "from dhira.tf.models.conv.sentiment_convnet import SentimentCNN\n",
    "model = SentimentCNN(save_dir='../models/',\n",
    "             log_dir='../logs/',\n",
    "             run_id='2',\n",
    "             word_vocab_size=embedding_matrix.shape[0], \n",
    "             word_embedding_dim=300, \n",
    "             word_embedding_matrix=embedding_matrix \n",
    "             )"
   ]
  },
  {
   "cell_type": "code",
   "execution_count": 12,
   "metadata": {},
   "outputs": [
    {
     "name": "stderr",
     "output_type": "stream",
     "text": [
      "INFO:dhira.tf.models.internal.base_tf_model:Writing params to ../logs/sentiment_cnn/021502687951/sentiment_cnnparams.json\n",
      "INFO:dhira.tf.models.internal.base_tf_model:Building graph...\n"
     ]
    }
   ],
   "source": [
    "model.compile()"
   ]
  },
  {
   "cell_type": "code",
   "execution_count": 13,
   "metadata": {},
   "outputs": [
    {
     "name": "stdout",
     "output_type": "stream",
     "text": [
      "Number of train steps 17/8530 and validation steps 3/1066 for batch size 512\n"
     ]
    }
   ],
   "source": [
    "batch_size = 512\n",
    "num_epochs = 15\n",
    "num_train_steps_per_epoch = int(math.ceil(train_data_size / batch_size))\n",
    "num_val_steps = int(math.ceil(val_data_size / batch_size))\n",
    "print('Number of train steps {}/{} and validation steps {}/{} for batch size {}'.format(num_train_steps_per_epoch,\n",
    "                                                                                        train_data_size,\n",
    "                                                                                        num_val_steps,\n",
    "                                                                                        val_data_size,\n",
    "                                                                                        batch_size))\n",
    "\n",
    "log_period = 10\n",
    "val_period = num_train_steps_per_epoch//1.8\n",
    "save_period = num_train_steps_per_epoch//1.8\n",
    "val_period"
   ]
  },
  {
   "cell_type": "code",
   "execution_count": 14,
   "metadata": {},
   "outputs": [
    {
     "name": "stdout",
     "output_type": "stream",
     "text": [
      "Writing to /opt/dhira/logs/sentiment_cnn/021502687951\n",
      "\n",
      "--------------------------------------------------\n",
      "\n",
      "tensorboard --logdir  /opt/dhira/logs/sentiment_cnn/021502687951\n",
      "\n",
      "tensorboard --logdir  /opt/dhira/models/sentiment_cnn/02/checkpoints --port 6007\n",
      "--------------------------------------------------\n"
     ]
    },
    {
     "name": "stderr",
     "output_type": "stream",
     "text": [
      "Widget Javascript not detected.  It may not be installed or enabled properly.\n"
     ]
    },
    {
     "data": {
      "application/vnd.jupyter.widget-view+json": {
       "model_id": "aa13b680ecdc43c0bd0d3cdaf87536a8"
      }
     },
     "metadata": {},
     "output_type": "display_data"
    },
    {
     "name": "stderr",
     "output_type": "stream",
     "text": [
      "Widget Javascript not detected.  It may not be installed or enabled properly.\n"
     ]
    },
    {
     "data": {
      "application/vnd.jupyter.widget-view+json": {
       "model_id": "75e46c01913c42b4a2b6b0d42f8ff552"
      }
     },
     "metadata": {},
     "output_type": "display_data"
    },
    {
     "name": "stderr",
     "output_type": "stream",
     "text": [
      "Widget Javascript not detected.  It may not be installed or enabled properly.\n"
     ]
    },
    {
     "data": {
      "application/vnd.jupyter.widget-view+json": {
       "model_id": "9df8b419fc394ead812231c1088f6161"
      }
     },
     "metadata": {},
     "output_type": "display_data"
    },
    {
     "name": "stderr",
     "output_type": "stream",
     "text": [
      "INFO:dhira.tf.models.internal.base_tf_model:Saving final model @ /opt/dhira/models/sentiment_cnn/02/sentiment_cnn-10\n",
      "Widget Javascript not detected.  It may not be installed or enabled properly.\n"
     ]
    },
    {
     "data": {
      "application/vnd.jupyter.widget-view+json": {
       "model_id": "4bc44984baee45648403a280e1daef99"
      }
     },
     "metadata": {},
     "output_type": "display_data"
    },
    {
     "name": "stderr",
     "output_type": "stream",
     "text": [
      "INFO:dhira.tf.models.internal.base_tf_model:Saving final model @ /opt/dhira/models/sentiment_cnn/02/sentiment_cnn-17\n",
      "Widget Javascript not detected.  It may not be installed or enabled properly.\n"
     ]
    },
    {
     "data": {
      "application/vnd.jupyter.widget-view+json": {
       "model_id": "ae94eda3a47a4ba3953119167ced86f9"
      }
     },
     "metadata": {},
     "output_type": "display_data"
    },
    {
     "name": "stderr",
     "output_type": "stream",
     "text": [
      "Widget Javascript not detected.  It may not be installed or enabled properly.\n"
     ]
    },
    {
     "data": {
      "application/vnd.jupyter.widget-view+json": {
       "model_id": "a8e4880df7f84c57a0253e2b669e0595"
      }
     },
     "metadata": {},
     "output_type": "display_data"
    },
    {
     "name": "stderr",
     "output_type": "stream",
     "text": [
      "INFO:dhira.tf.models.internal.base_tf_model:Saving final model @ /opt/dhira/models/sentiment_cnn/02/sentiment_cnn-20\n",
      "Widget Javascript not detected.  It may not be installed or enabled properly.\n"
     ]
    },
    {
     "data": {
      "application/vnd.jupyter.widget-view+json": {
       "model_id": "a9a92475fe6544aca93bb2a42a1eaf8c"
      }
     },
     "metadata": {},
     "output_type": "display_data"
    },
    {
     "name": "stderr",
     "output_type": "stream",
     "text": [
      "Widget Javascript not detected.  It may not be installed or enabled properly.\n"
     ]
    },
    {
     "data": {
      "application/vnd.jupyter.widget-view+json": {
       "model_id": "09176153c47a4779b5e8bdd90481d4a0"
      }
     },
     "metadata": {},
     "output_type": "display_data"
    },
    {
     "name": "stderr",
     "output_type": "stream",
     "text": [
      "INFO:dhira.tf.models.internal.base_tf_model:Saving final model @ /opt/dhira/models/sentiment_cnn/02/sentiment_cnn-30\n",
      "INFO:dhira.tf.models.internal.base_tf_model:Saving final model @ /opt/dhira/models/sentiment_cnn/02/sentiment_cnn-34\n",
      "Widget Javascript not detected.  It may not be installed or enabled properly.\n"
     ]
    },
    {
     "data": {
      "application/vnd.jupyter.widget-view+json": {
       "model_id": "ac4d7a7a9bd34559a0f262f30670dc3e"
      }
     },
     "metadata": {},
     "output_type": "display_data"
    },
    {
     "name": "stderr",
     "output_type": "stream",
     "text": [
      "Widget Javascript not detected.  It may not be installed or enabled properly.\n"
     ]
    },
    {
     "data": {
      "application/vnd.jupyter.widget-view+json": {
       "model_id": "c571beea4d0e485e9a50a12fda87af2e"
      }
     },
     "metadata": {},
     "output_type": "display_data"
    },
    {
     "name": "stderr",
     "output_type": "stream",
     "text": [
      "Widget Javascript not detected.  It may not be installed or enabled properly.\n"
     ]
    },
    {
     "data": {
      "application/vnd.jupyter.widget-view+json": {
       "model_id": "82aea446330f4c41992a9973fdd711ba"
      }
     },
     "metadata": {},
     "output_type": "display_data"
    },
    {
     "name": "stderr",
     "output_type": "stream",
     "text": [
      "INFO:dhira.tf.models.internal.base_tf_model:Saving final model @ /opt/dhira/models/sentiment_cnn/02/sentiment_cnn-40\n",
      "Widget Javascript not detected.  It may not be installed or enabled properly.\n"
     ]
    },
    {
     "data": {
      "application/vnd.jupyter.widget-view+json": {
       "model_id": "69ad0fd2d08646fb9ec6e801ad40eaee"
      }
     },
     "metadata": {},
     "output_type": "display_data"
    },
    {
     "name": "stderr",
     "output_type": "stream",
     "text": [
      "Widget Javascript not detected.  It may not be installed or enabled properly.\n"
     ]
    },
    {
     "data": {
      "application/vnd.jupyter.widget-view+json": {
       "model_id": "2fbb298590b2487f9c2ef3ced06ac15c"
      }
     },
     "metadata": {},
     "output_type": "display_data"
    },
    {
     "name": "stderr",
     "output_type": "stream",
     "text": [
      "INFO:dhira.tf.models.internal.base_tf_model:Saving final model @ /opt/dhira/models/sentiment_cnn/02/sentiment_cnn-50\n",
      "INFO:dhira.tf.models.internal.base_tf_model:Saving final model @ /opt/dhira/models/sentiment_cnn/02/sentiment_cnn-51\n",
      "Widget Javascript not detected.  It may not be installed or enabled properly.\n"
     ]
    },
    {
     "data": {
      "application/vnd.jupyter.widget-view+json": {
       "model_id": "21b472c9a0fb4cdf93da34ece8e070f9"
      }
     },
     "metadata": {},
     "output_type": "display_data"
    },
    {
     "name": "stderr",
     "output_type": "stream",
     "text": [
      "INFO:dhira.tf.models.internal.base_tf_model:Validation loss of 0.7892155051231384 in last 0 epochs, which is lower than current epoch validation loss of 0.822610080242157; stopping early.\n",
      "WARNING:dhira.tf.models.internal.base_tf_model:There are no model specific operation evaluation!\n",
      "INFO:dhira.tf.models.internal.base_tf_model:Finished 3 epochs!\n"
     ]
    },
    {
     "name": "stdout",
     "output_type": "stream",
     "text": [
      "\n"
     ]
    }
   ],
   "source": [
    "saved_model = model.train(get_train_feature_generator=get_train_data_gen,\n",
    "            get_val_feature_generator=get_val_data_gen,\n",
    "            batch_size=batch_size,\n",
    "            num_train_steps_per_epoch=num_train_steps_per_epoch,\n",
    "            num_epochs=num_epochs,\n",
    "            num_val_steps=num_val_steps,\n",
    "            log_period=log_period,\n",
    "            val_period=val_period,\n",
    "            save_period=save_period,\n",
    "            patience=0)"
   ]
  },
  {
   "cell_type": "code",
   "execution_count": 15,
   "metadata": {},
   "outputs": [
    {
     "data": {
      "text/plain": [
       "'/opt/dhira/models/sentiment_cnn/02/sentiment_cnn-51'"
      ]
     },
     "execution_count": 15,
     "metadata": {},
     "output_type": "execute_result"
    }
   ],
   "source": [
    "saved_model"
   ]
  },
  {
   "cell_type": "code",
   "execution_count": 16,
   "metadata": {},
   "outputs": [
    {
     "data": {
      "text/plain": [
       "((array([[   3, 5621, 1119,    9, 1954,    6, 2296,    9, 1954,   74,   27,\n",
       "           245,    8,   45,   65,  257,  881,   26,    3,   71,    2,    0,\n",
       "             0,    0,    0,    0,    0,    0,    0,    0,    0,    0,    0,\n",
       "             0,    0,    0,    0,    0,    0,    0,    0,    0,    0,    0,\n",
       "             0,    0,    0,    0,    0,    0,    0,    0,    0,    0,    0,\n",
       "             0,    0,    0,    0]]),), (array([[0, 1]]),))"
      ]
     },
     "execution_count": 16,
     "metadata": {},
     "output_type": "execute_result"
    }
   ],
   "source": [
    "ff = get_train_data_gen()\n",
    "s = data_manager.get_random_feature(get_val_data_gen, 1000)\n",
    "s"
   ]
  },
  {
   "cell_type": "code",
   "execution_count": 25,
   "metadata": {
    "collapsed": true
   },
   "outputs": [],
   "source": [
    "\n",
    "def get_mood(comment):\n",
    "    logger.setLevel(level=40)\n",
    "    single_feature = mr.custom_input(comment)\n",
    "    single_feature_batch = DataManager.to_batch(single_feature)\n",
    "    pred = model.predict(single_feature_batch)\n",
    "    if pred[0][0] > pred[0][1]: \n",
    "        print('Positive Review', pred)\n",
    "    else:\n",
    "        print('Negative Review', pred)\n",
    "    logger.setLevel(level=10)\n"
   ]
  },
  {
   "cell_type": "code",
   "execution_count": 26,
   "metadata": {},
   "outputs": [
    {
     "name": "stdout",
     "output_type": "stream",
     "text": [
      "INFO:tensorflow:Restoring parameters from ../models/sentiment_cnn/02/sentiment_cnn-51\n"
     ]
    },
    {
     "name": "stderr",
     "output_type": "stream",
     "text": [
      "INFO:tensorflow:Restoring parameters from ../models/sentiment_cnn/02/sentiment_cnn-51\n"
     ]
    },
    {
     "name": "stdout",
     "output_type": "stream",
     "text": [
      "Negative Review [[ 0.06388677  0.95120746]]\n"
     ]
    }
   ],
   "source": [
    "get_mood('that was not a bad movie')"
   ]
  },
  {
   "cell_type": "code",
   "execution_count": 27,
   "metadata": {},
   "outputs": [
    {
     "name": "stdout",
     "output_type": "stream",
     "text": [
      "INFO:tensorflow:Restoring parameters from ../models/sentiment_cnn/02/sentiment_cnn-51\n"
     ]
    },
    {
     "name": "stderr",
     "output_type": "stream",
     "text": [
      "INFO:tensorflow:Restoring parameters from ../models/sentiment_cnn/02/sentiment_cnn-51\n"
     ]
    },
    {
     "name": "stdout",
     "output_type": "stream",
     "text": [
      "Negative Review [[ 0.67495489  0.91727155]]\n"
     ]
    }
   ],
   "source": [
    "get_mood('tries to work in the same vein as the brilliance of animal house but instead comes closer to the failure of the third revenge of the nerds sequel .')"
   ]
  },
  {
   "cell_type": "code",
   "execution_count": 28,
   "metadata": {},
   "outputs": [
    {
     "name": "stdout",
     "output_type": "stream",
     "text": [
      "INFO:tensorflow:Restoring parameters from ../models/sentiment_cnn/02/sentiment_cnn-51\n"
     ]
    },
    {
     "name": "stderr",
     "output_type": "stream",
     "text": [
      "INFO:tensorflow:Restoring parameters from ../models/sentiment_cnn/02/sentiment_cnn-51\n"
     ]
    },
    {
     "name": "stdout",
     "output_type": "stream",
     "text": [
      "Positive Review [[ 0.74438912  0.46692914]]\n"
     ]
    }
   ],
   "source": [
    "get_mood(\"That is a awesome movie I ever seen\")"
   ]
  },
  {
   "cell_type": "code",
   "execution_count": 29,
   "metadata": {},
   "outputs": [
    {
     "name": "stdout",
     "output_type": "stream",
     "text": [
      "INFO:tensorflow:Restoring parameters from ../models/sentiment_cnn/02/sentiment_cnn-51\n"
     ]
    },
    {
     "name": "stderr",
     "output_type": "stream",
     "text": [
      "INFO:tensorflow:Restoring parameters from ../models/sentiment_cnn/02/sentiment_cnn-51\n"
     ]
    },
    {
     "name": "stdout",
     "output_type": "stream",
     "text": [
      "Negative Review [[ 0.62841266  0.82977682]]\n"
     ]
    }
   ],
   "source": [
    "get_mood('The story of the movie was pretty well written.')"
   ]
  },
  {
   "cell_type": "code",
   "execution_count": 30,
   "metadata": {},
   "outputs": [
    {
     "name": "stdout",
     "output_type": "stream",
     "text": [
      "INFO:tensorflow:Restoring parameters from ../models/sentiment_cnn/02/sentiment_cnn-51\n"
     ]
    },
    {
     "name": "stderr",
     "output_type": "stream",
     "text": [
      "INFO:tensorflow:Restoring parameters from ../models/sentiment_cnn/02/sentiment_cnn-51\n"
     ]
    },
    {
     "name": "stdout",
     "output_type": "stream",
     "text": [
      "Negative Review [[ 0.53595263  0.86912042]]\n"
     ]
    }
   ],
   "source": [
    "get_mood('though the movie is a bit lengthy but believe me guys you will not get bored... juat that one should remember the tramsformer characters ... awesome war craft shown with boom and bang all around... and yes stay amazed to have a lool of awesome vehicles')"
   ]
  },
  {
   "cell_type": "code",
   "execution_count": 31,
   "metadata": {},
   "outputs": [
    {
     "name": "stdout",
     "output_type": "stream",
     "text": [
      "INFO:tensorflow:Restoring parameters from ../models/sentiment_cnn/02/sentiment_cnn-51\n"
     ]
    },
    {
     "name": "stderr",
     "output_type": "stream",
     "text": [
      "INFO:tensorflow:Restoring parameters from ../models/sentiment_cnn/02/sentiment_cnn-51\n"
     ]
    },
    {
     "name": "stdout",
     "output_type": "stream",
     "text": [
      "Negative Review [[ 0.24881646  0.89232868]]\n"
     ]
    }
   ],
   "source": [
    "get_mood(\"best movie. if you are like transformer series then you'll definitely like this one too.. don't consider critics,\")"
   ]
  },
  {
   "cell_type": "code",
   "execution_count": 32,
   "metadata": {},
   "outputs": [
    {
     "name": "stdout",
     "output_type": "stream",
     "text": [
      "INFO:tensorflow:Restoring parameters from ../models/sentiment_cnn/02/sentiment_cnn-51\n"
     ]
    },
    {
     "name": "stderr",
     "output_type": "stream",
     "text": [
      "INFO:tensorflow:Restoring parameters from ../models/sentiment_cnn/02/sentiment_cnn-51\n"
     ]
    },
    {
     "name": "stdout",
     "output_type": "stream",
     "text": [
      "Negative Review [[ 0.27563542  0.96520007]]\n"
     ]
    }
   ],
   "source": [
    "get_mood(\"I guess it's an overdose of this Transformers....series ! we're tired.\")"
   ]
  },
  {
   "cell_type": "code",
   "execution_count": 33,
   "metadata": {},
   "outputs": [
    {
     "name": "stdout",
     "output_type": "stream",
     "text": [
      "INFO:tensorflow:Restoring parameters from ../models/sentiment_cnn/02/sentiment_cnn-51\n"
     ]
    },
    {
     "name": "stderr",
     "output_type": "stream",
     "text": [
      "INFO:tensorflow:Restoring parameters from ../models/sentiment_cnn/02/sentiment_cnn-51\n"
     ]
    },
    {
     "name": "stdout",
     "output_type": "stream",
     "text": [
      "Positive Review [[ 0.69328457  0.67473531]]\n"
     ]
    }
   ],
   "source": [
    "get_mood(\"Not a great story but fantastic visual effects. Loved it watching 3d\")"
   ]
  },
  {
   "cell_type": "code",
   "execution_count": 34,
   "metadata": {},
   "outputs": [
    {
     "name": "stdout",
     "output_type": "stream",
     "text": [
      "INFO:tensorflow:Restoring parameters from ../models/sentiment_cnn/02/sentiment_cnn-51\n"
     ]
    },
    {
     "name": "stderr",
     "output_type": "stream",
     "text": [
      "INFO:tensorflow:Restoring parameters from ../models/sentiment_cnn/02/sentiment_cnn-51\n"
     ]
    },
    {
     "name": "stdout",
     "output_type": "stream",
     "text": [
      "Negative Review [[ 0.56793356  0.82217324]]\n"
     ]
    }
   ],
   "source": [
    "get_mood(\"The follower of this franchise will understand the movie. There is a nice transition between ancient past and today. Nicely done it would have been better if a little brief about the character were given to audience. Overall enjoyed the movie, must watch for all transformer fans. Do not go by the critic review, nowadays they are all paid review they \")"
   ]
  },
  {
   "cell_type": "code",
   "execution_count": 35,
   "metadata": {},
   "outputs": [
    {
     "name": "stdout",
     "output_type": "stream",
     "text": [
      "INFO:tensorflow:Restoring parameters from ../models/sentiment_cnn/02/sentiment_cnn-51\n"
     ]
    },
    {
     "name": "stderr",
     "output_type": "stream",
     "text": [
      "INFO:tensorflow:Restoring parameters from ../models/sentiment_cnn/02/sentiment_cnn-51\n"
     ]
    },
    {
     "name": "stdout",
     "output_type": "stream",
     "text": [
      "Negative Review [[ 0.66461653  0.78001666]]\n"
     ]
    }
   ],
   "source": [
    "get_mood(\"Why is it A certified . They did not allow us with 15 year old child. Is there any difference between Indian kids and American kids. It's favorite among American kids. With what criteria Indian Censor has rated it A, not American cinema\")"
   ]
  },
  {
   "cell_type": "code",
   "execution_count": 36,
   "metadata": {},
   "outputs": [
    {
     "name": "stdout",
     "output_type": "stream",
     "text": [
      "INFO:tensorflow:Restoring parameters from ../models/sentiment_cnn/02/sentiment_cnn-51\n"
     ]
    },
    {
     "name": "stderr",
     "output_type": "stream",
     "text": [
      "INFO:tensorflow:Restoring parameters from ../models/sentiment_cnn/02/sentiment_cnn-51\n"
     ]
    },
    {
     "name": "stdout",
     "output_type": "stream",
     "text": [
      "Negative Review [[ 0.02386158  0.99240005]]\n"
     ]
    }
   ],
   "source": [
    "get_mood('Absolute good awful garbage.')"
   ]
  },
  {
   "cell_type": "code",
   "execution_count": 37,
   "metadata": {},
   "outputs": [
    {
     "name": "stdout",
     "output_type": "stream",
     "text": [
      "INFO:tensorflow:Restoring parameters from ../models/sentiment_cnn/02/sentiment_cnn-51\n"
     ]
    },
    {
     "name": "stderr",
     "output_type": "stream",
     "text": [
      "INFO:tensorflow:Restoring parameters from ../models/sentiment_cnn/02/sentiment_cnn-51\n"
     ]
    },
    {
     "name": "stdout",
     "output_type": "stream",
     "text": [
      "Negative Review [[ 0.32816362  0.71438879]]\n"
     ]
    }
   ],
   "source": [
    "get_mood('too much violence')"
   ]
  },
  {
   "cell_type": "code",
   "execution_count": 38,
   "metadata": {},
   "outputs": [
    {
     "name": "stdout",
     "output_type": "stream",
     "text": [
      "INFO:tensorflow:Restoring parameters from ../models/sentiment_cnn/02/sentiment_cnn-51\n"
     ]
    },
    {
     "name": "stderr",
     "output_type": "stream",
     "text": [
      "INFO:tensorflow:Restoring parameters from ../models/sentiment_cnn/02/sentiment_cnn-51\n"
     ]
    },
    {
     "name": "stdout",
     "output_type": "stream",
     "text": [
      "Negative Review [[ 0.23917831  0.81615502]]\n"
     ]
    }
   ],
   "source": [
    "get_mood('WE ARE URGENTLY IN NEED OF K!DNEY D0NORS WITH THE SUM OF $450,000.00.USD, CONTACT US ON WHATSAPP FOR MORE DETAIL. TEL, NUMBER 917030270406. WHATSAPP NUM, 917030270406')"
   ]
  },
  {
   "cell_type": "code",
   "execution_count": 39,
   "metadata": {},
   "outputs": [
    {
     "name": "stdout",
     "output_type": "stream",
     "text": [
      "INFO:tensorflow:Restoring parameters from ../models/sentiment_cnn/02/sentiment_cnn-51\n"
     ]
    },
    {
     "name": "stderr",
     "output_type": "stream",
     "text": [
      "INFO:tensorflow:Restoring parameters from ../models/sentiment_cnn/02/sentiment_cnn-51\n"
     ]
    },
    {
     "name": "stdout",
     "output_type": "stream",
     "text": [
      "Negative Review [[ 0.50459868  0.7332058 ]]\n"
     ]
    }
   ],
   "source": [
    "get_mood(\"THISWAS A ROBOTIC MOVIE PREVIOUSLY.KIDS LOVED A LOT.....NOW IT TURNED AS adult movie......KIDS ARE MISSING.......\")"
   ]
  },
  {
   "cell_type": "code",
   "execution_count": 40,
   "metadata": {},
   "outputs": [
    {
     "name": "stdout",
     "output_type": "stream",
     "text": [
      "INFO:tensorflow:Restoring parameters from ../models/sentiment_cnn/02/sentiment_cnn-51\n"
     ]
    },
    {
     "name": "stderr",
     "output_type": "stream",
     "text": [
      "INFO:tensorflow:Restoring parameters from ../models/sentiment_cnn/02/sentiment_cnn-51\n"
     ]
    },
    {
     "name": "stdout",
     "output_type": "stream",
     "text": [
      "Negative Review [[ 0.26773268  0.7906298 ]]\n"
     ]
    }
   ],
   "source": [
    "get_mood('vomitted twice')"
   ]
  },
  {
   "cell_type": "code",
   "execution_count": null,
   "metadata": {
    "collapsed": true
   },
   "outputs": [],
   "source": []
  }
 ],
 "metadata": {
  "kernelspec": {
   "display_name": "Python 3",
   "language": "python",
   "name": "python3"
  },
  "language_info": {
   "codemirror_mode": {
    "name": "ipython",
    "version": 3
   },
   "file_extension": ".py",
   "mimetype": "text/x-python",
   "name": "python",
   "nbconvert_exporter": "python",
   "pygments_lexer": "ipython3",
   "version": "3.6.1"
  }
 },
 "nbformat": 4,
 "nbformat_minor": 2
}
