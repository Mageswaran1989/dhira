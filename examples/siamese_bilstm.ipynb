{
 "cells": [
  {
   "cell_type": "code",
   "execution_count": 1,
   "metadata": {},
   "outputs": [
    {
     "name": "stderr",
     "output_type": "stream",
     "text": [
      "DEBUG:root:test\n"
     ]
    }
   ],
   "source": [
    "%load_ext autoreload\n",
    "%autoreload 2\n",
    "%matplotlib inline\n",
    "%config InlineBackend.figure_format = 'retina'\n",
    "import sys\n",
    "import os\n",
    "import math\n",
    "import spacy\n",
    "sys.path.append(\"../\")\n",
    "import logging\n",
    "logger = logging.getLogger()\n",
    "logger.setLevel(logging.DEBUG)\n",
    "logging.debug(\"test\")"
   ]
  },
  {
   "cell_type": "code",
   "execution_count": null,
   "metadata": {
    "collapsed": true
   },
   "outputs": [],
   "source": [
    "import matplotlib.pyplot as plt; plt.rcdefaults()\n",
    "import numpy as np\n",
    "import matplotlib.pyplot as plt"
   ]
  },
  {
   "cell_type": "code",
   "execution_count": 2,
   "metadata": {
    "collapsed": true
   },
   "outputs": [],
   "source": [
    "from dhira.data.data_manager import DataManager\n",
    "from dhira.data.embedding_manager import EmbeddingManager\n",
    "from dhira.tf.models.siamese.siamese_bilstm import SiameseBiLSTM\n",
    "\n",
    "from tqdm import tqdm_notebook as tqdm\n",
    "\n",
    "nlp = spacy.load('en_core_web_md')"
   ]
  },
  {
   "cell_type": "code",
   "execution_count": 3,
   "metadata": {
    "collapsed": true
   },
   "outputs": [],
   "source": [
    "# from dhira.data.dataset.text import IndexedDataset\n",
    "# from dhira.data.features.pair_feature import PairFeature\n",
    "# quora_dataset = IndexedDataset(name='quora',\n",
    "#                                train_files='../data/quora/processed/train_cleaned_train_split.csv',\n",
    "#                                val_files='../data/quora/processed/train_cleaned_val_split.csv',\n",
    "#                                test_files='../data/quora/processed/test_final.csv',\n",
    "#                                feature_type=PairFeature,\n",
    "#                                pad=True,\n",
    "#                                pickle_dir='../models/',\n",
    "#                                max_lengths={\"num_sentence_words\": 30})"
   ]
  },
  {
   "cell_type": "code",
   "execution_count": 4,
   "metadata": {},
   "outputs": [
    {
     "name": "stderr",
     "output_type": "stream",
     "text": [
      "INFO:dhira.data.dataset.quora:Trying to load prefitted data_indexer... quora-spacy-data_indexr.p\n",
      "INFO:dhira.data.dataset.quora:Reusing the pickle file quora-spacy-data_indexr.p.\n"
     ]
    }
   ],
   "source": [
    "from dhira.data.dataset.quora import QuoraDataset\n",
    "from dhira.data.features.quora_feature import QuoraFeature\n",
    "quora_dataset = QuoraDataset(name='quora-spacy',\n",
    "                               train_files='../data/quora/processed/train_cleaned_train_split.csv',\n",
    "                               val_files='../data/quora/processed/train_cleaned_val_split.csv',\n",
    "                               test_files='../data/quora/processed/test_final.csv',\n",
    "                               feature_type=QuoraFeature,\n",
    "                               pad=True,\n",
    "                               pickle_dir='../models/',\n",
    "                               max_lengths={\"num_sentence_words\": 30},\n",
    "                               spacy_nlp_pipeline=nlp)"
   ]
  },
  {
   "cell_type": "code",
   "execution_count": 5,
   "metadata": {
    "collapsed": true
   },
   "outputs": [],
   "source": [
    "data_manager = DataManager(dataset=quora_dataset)"
   ]
  },
  {
   "cell_type": "code",
   "execution_count": 6,
   "metadata": {},
   "outputs": [
    {
     "name": "stderr",
     "output_type": "stream",
     "text": [
      "INFO:dhira.data.dataset.quora:Getting training data from ../data/quora/processed/train_cleaned_train_split.csv\n",
      "INFO:dhira.data.dataset.quora:Processing the train data file for first time\n",
      "INFO:dhira.data.dataset.quora:Reading files ['../data/quora/processed/train_cleaned_train_split.csv'] to a list of lines.\n",
      "100%|██████████| 363861/363861 [00:00<00:00, 1659266.61it/s]\n",
      "INFO:dhira.data.dataset.quora:Creating list of <class 'dhira.data.features.quora_feature.QuoraFeature'> features from list of lines.\n",
      "100%|██████████| 363861/363861 [09:06<00:00, 665.46it/s]\n",
      "INFO:dhira.data.dataset.quora:Finished reading dataset; label counts: [(0, 229425), (1, 134436)]\n",
      "INFO:dhira.data.data_indexer:Fitting word dictionary with min count of 1\n",
      "100%|██████████| 363861/363861 [00:15<00:00, 23240.19it/s]\n",
      "INFO:dhira.data.dataset.text:Converting to indexed features...\n",
      "Widget Javascript not detected.  It may not be installed or enabled properly.\n"
     ]
    },
    {
     "data": {
      "application/vnd.jupyter.widget-view+json": {
       "model_id": "766bbf19b8de4fe89fcbe2f4fbb51c02"
      }
     },
     "metadata": {},
     "output_type": "display_data"
    },
    {
     "name": "stderr",
     "output_type": "stream",
     "text": [
      "INFO:dhira.data.dataset.quora:Instance max lengths {'num_sentence_words': 271}\n",
      "INFO:dhira.data.dataset.quora:Padding lengths to length: {'num_sentence_words': 30}\n"
     ]
    },
    {
     "name": "stdout",
     "output_type": "stream",
     "text": [
      "\n"
     ]
    }
   ],
   "source": [
    "get_train_data_gen, train_data_size = data_manager.get_train_data_from_file()"
   ]
  },
  {
   "cell_type": "code",
   "execution_count": 7,
   "metadata": {},
   "outputs": [
    {
     "name": "stderr",
     "output_type": "stream",
     "text": [
      "INFO:dhira.data.dataset.quora:Getting validation data from ../data/quora/processed/train_cleaned_val_split.csv\n",
      "INFO:dhira.data.dataset.quora:Processing the validation data file for first time\n",
      "INFO:dhira.data.dataset.quora:Reading files ['../data/quora/processed/train_cleaned_val_split.csv'] to a list of lines.\n",
      "100%|██████████| 40429/40429 [00:00<00:00, 1719774.81it/s]\n",
      "INFO:dhira.data.dataset.quora:Creating list of <class 'dhira.data.features.quora_feature.QuoraFeature'> features from list of lines.\n",
      "100%|██████████| 40429/40429 [00:59<00:00, 684.27it/s]\n",
      "INFO:dhira.data.dataset.quora:Finished reading dataset; label counts: [(0, 25602), (1, 14827)]\n",
      "INFO:dhira.data.dataset.text:Converting to indexed features...\n",
      "Widget Javascript not detected.  It may not be installed or enabled properly.\n"
     ]
    },
    {
     "data": {
      "application/vnd.jupyter.widget-view+json": {
       "model_id": "69d996695a874b6bb1b32669f9ec9436"
      }
     },
     "metadata": {},
     "output_type": "display_data"
    },
    {
     "name": "stderr",
     "output_type": "stream",
     "text": [
      "INFO:dhira.data.dataset.quora:Instance max lengths {'num_sentence_words': 271}\n",
      "INFO:dhira.data.dataset.quora:Padding lengths to length: {'num_sentence_words': 30}\n"
     ]
    },
    {
     "name": "stdout",
     "output_type": "stream",
     "text": [
      "\n"
     ]
    }
   ],
   "source": [
    "get_val_data_gen, val_data_size = data_manager.get_validation_data_from_file()"
   ]
  },
  {
   "cell_type": "code",
   "execution_count": 6,
   "metadata": {},
   "outputs": [],
   "source": [
    "# embedding_manager = EmbeddingManager(quora_dataset.data_indexer, pickle_dir='../models/')\n",
    "# embedding_matrix = embedding_manager.get_embedding_matrix(300,'../data/quora/external/glove.6B.300d.txt')\n",
    "embedding_matrix = EmbeddingManager.get_spacy_embedding_matrix(nlp, quora_dataset.data_indexer)"
   ]
  },
  {
   "cell_type": "code",
   "execution_count": 7,
   "metadata": {},
   "outputs": [
    {
     "data": {
      "text/plain": [
       "(115170, 300)"
      ]
     },
     "execution_count": 7,
     "metadata": {},
     "output_type": "execute_result"
    }
   ],
   "source": [
    "embedding_matrix.shape"
   ]
  },
  {
   "cell_type": "code",
   "execution_count": 9,
   "metadata": {},
   "outputs": [
    {
     "name": "stderr",
     "output_type": "stream",
     "text": [
      "INFO:dhira.tf.models.base_tf_model:Writing logs to ../logs/SiameseBiLSTM/00\n"
     ]
    }
   ],
   "source": [
    "model = ''\n",
    "model = SiameseBiLSTM(mode='train',\n",
    "             save_dir='../models/',\n",
    "             log_dir='../logs/',\n",
    "             run_id='0',\n",
    "             word_vocab_size=embedding_matrix.shape[0], \n",
    "             word_embedding_dim=300, \n",
    "             word_embedding_matrix=embedding_matrix, \n",
    "             fine_tune_embeddings=True, \n",
    "             share_encoder_weights=True,\n",
    "             rnn_output_mode='last',\n",
    "             output_keep_prob=0.5,\n",
    "             rnn_hidden_size=256)\n",
    "\n"
   ]
  },
  {
   "cell_type": "code",
   "execution_count": 9,
   "metadata": {},
   "outputs": [
    {
     "name": "stderr",
     "output_type": "stream",
     "text": [
      "INFO:dhira.tf.models.base_tf_model:Writing params to ../logs/SiameseBiLSTM/00/trainparams.json\n",
      "INFO:dhira.tf.models.base_tf_model:Building graph...\n",
      "/home/mageswarand/anaconda3/envs/tensorflow1.0/lib/python3.6/site-packages/tensorflow/python/ops/gradients_impl.py:93: UserWarning: Converting sparse IndexedSlices to a dense Tensor of unknown shape. This may consume a large amount of memory.\n",
      "  \"Converting sparse IndexedSlices to a dense Tensor of unknown shape. \"\n"
     ]
    }
   ],
   "source": [
    "model.build_graph()"
   ]
  },
  {
   "cell_type": "code",
   "execution_count": 14,
   "metadata": {
    "collapsed": true
   },
   "outputs": [],
   "source": [
    "batch_size = 256\n",
    "num_epochs = 1\n",
    "num_train_steps_per_epoch = int(math.ceil(train_data_size / batch_size))\n",
    "num_val_steps = int(math.ceil(val_data_size / batch_size))\n"
   ]
  },
  {
   "cell_type": "code",
   "execution_count": 39,
   "metadata": {},
   "outputs": [
    {
     "ename": "NameError",
     "evalue": "name 'num_train_steps_per_epoch' is not defined",
     "output_type": "error",
     "traceback": [
      "\u001b[0;31m---------------------------------------------------------------------------\u001b[0m",
      "\u001b[0;31mNameError\u001b[0m                                 Traceback (most recent call last)",
      "\u001b[0;32m<ipython-input-39-98e683ca1627>\u001b[0m in \u001b[0;36m<module>\u001b[0;34m()\u001b[0m\n\u001b[0;32m----> 1\u001b[0;31m print('Number of train steps {} and validation steps {} for batch size {}'.format(num_train_steps_per_epoch, \n\u001b[0m\u001b[1;32m      2\u001b[0m                                                                                   \u001b[0mnum_val_steps\u001b[0m\u001b[0;34m,\u001b[0m\u001b[0;34m\u001b[0m\u001b[0m\n\u001b[1;32m      3\u001b[0m                                                                                   batch_size))\n",
      "\u001b[0;31mNameError\u001b[0m: name 'num_train_steps_per_epoch' is not defined"
     ]
    }
   ],
   "source": [
    "print('Number of train steps {} and validation steps {} for batch size {}'.format(num_train_steps_per_epoch, \n",
    "                                                                                  num_val_steps,\n",
    "                                                                                  batch_size))"
   ]
  },
  {
   "cell_type": "code",
   "execution_count": 16,
   "metadata": {
    "collapsed": true
   },
   "outputs": [],
   "source": [
    "log_period = 50\n",
    "val_period = 150\n",
    "save_period = 200"
   ]
  },
  {
   "cell_type": "code",
   "execution_count": 17,
   "metadata": {},
   "outputs": [
    {
     "name": "stdout",
     "output_type": "stream",
     "text": [
      "Writing to /opt/dhira/logs/SiameseBiLSTM/00\n",
      "\n",
      "--------------------------------------------------\n",
      "\n",
      "tensorboard --logdir  /opt/dhira/logs/SiameseBiLSTM/00\n",
      "\n",
      "tensorboard --logdir  /opt/dhira/logs/SiameseBiLSTM/00/checkpoints --port 6007\n",
      "--------------------------------------------------\n"
     ]
    },
    {
     "name": "stderr",
     "output_type": "stream",
     "text": [
      "Widget Javascript not detected.  It may not be installed or enabled properly.\n"
     ]
    },
    {
     "data": {
      "application/vnd.jupyter.widget-view+json": {
       "model_id": "3d247fc1f3754d2fb2532d25e346ec6e"
      }
     },
     "metadata": {},
     "output_type": "display_data"
    },
    {
     "name": "stderr",
     "output_type": "stream",
     "text": [
      "Widget Javascript not detected.  It may not be installed or enabled properly.\n"
     ]
    },
    {
     "data": {
      "application/vnd.jupyter.widget-view+json": {
       "model_id": "af68c8b4384848aabfb20f33bd9eddf2"
      }
     },
     "metadata": {},
     "output_type": "display_data"
    },
    {
     "name": "stderr",
     "output_type": "stream",
     "text": [
      "Widget Javascript not detected.  It may not be installed or enabled properly.\n"
     ]
    },
    {
     "data": {
      "application/vnd.jupyter.widget-view+json": {
       "model_id": "ad8c24e972d84ceeb62b4116eb6fb132"
      }
     },
     "metadata": {},
     "output_type": "display_data"
    },
    {
     "name": "stderr",
     "output_type": "stream",
     "text": [
      "INFO:dhira.tf.models.base_tf_model:Saving final model @ /opt/dhira/models/SiameseBiLSTM/00/SiameseBiLSTM-200\n",
      "Widget Javascript not detected.  It may not be installed or enabled properly.\n"
     ]
    },
    {
     "data": {
      "application/vnd.jupyter.widget-view+json": {
       "model_id": "e03d8c93abaf4a019f3f6bcd77c43ec2"
      }
     },
     "metadata": {},
     "output_type": "display_data"
    },
    {
     "name": "stderr",
     "output_type": "stream",
     "text": [
      "INFO:dhira.tf.models.base_tf_model:Saving final model @ /opt/dhira/models/SiameseBiLSTM/00/SiameseBiLSTM-400\n",
      "Widget Javascript not detected.  It may not be installed or enabled properly.\n"
     ]
    },
    {
     "data": {
      "application/vnd.jupyter.widget-view+json": {
       "model_id": "dd2225876d884676a9949d1a0411b134"
      }
     },
     "metadata": {},
     "output_type": "display_data"
    },
    {
     "name": "stderr",
     "output_type": "stream",
     "text": [
      "Widget Javascript not detected.  It may not be installed or enabled properly.\n"
     ]
    },
    {
     "data": {
      "application/vnd.jupyter.widget-view+json": {
       "model_id": "6e72e416175543d3a9fb70d23cea699e"
      }
     },
     "metadata": {},
     "output_type": "display_data"
    },
    {
     "name": "stderr",
     "output_type": "stream",
     "text": [
      "INFO:dhira.tf.models.base_tf_model:Saving final model @ /opt/dhira/models/SiameseBiLSTM/00/SiameseBiLSTM-600\n",
      "Widget Javascript not detected.  It may not be installed or enabled properly.\n"
     ]
    },
    {
     "data": {
      "application/vnd.jupyter.widget-view+json": {
       "model_id": "bdcc3e6178294981a3c532a2a025fa83"
      }
     },
     "metadata": {},
     "output_type": "display_data"
    },
    {
     "name": "stderr",
     "output_type": "stream",
     "text": [
      "INFO:dhira.tf.models.base_tf_model:Saving final model @ /opt/dhira/models/SiameseBiLSTM/00/SiameseBiLSTM-800\n",
      "Widget Javascript not detected.  It may not be installed or enabled properly.\n"
     ]
    },
    {
     "data": {
      "application/vnd.jupyter.widget-view+json": {
       "model_id": "ffd786caa1384c86a431fd78e101faa5"
      }
     },
     "metadata": {},
     "output_type": "display_data"
    },
    {
     "name": "stderr",
     "output_type": "stream",
     "text": [
      "INFO:dhira.tf.models.base_tf_model:Saving final model @ /opt/dhira/models/SiameseBiLSTM/00/SiameseBiLSTM-1000\n",
      "Widget Javascript not detected.  It may not be installed or enabled properly.\n"
     ]
    },
    {
     "data": {
      "application/vnd.jupyter.widget-view+json": {
       "model_id": "7cd5aa92b5a840a0bfd17bd1d4fd4190"
      }
     },
     "metadata": {},
     "output_type": "display_data"
    },
    {
     "name": "stderr",
     "output_type": "stream",
     "text": [
      "Widget Javascript not detected.  It may not be installed or enabled properly.\n"
     ]
    },
    {
     "data": {
      "application/vnd.jupyter.widget-view+json": {
       "model_id": "8e18d297d4454a69bec37dc83f17c31b"
      }
     },
     "metadata": {},
     "output_type": "display_data"
    },
    {
     "name": "stderr",
     "output_type": "stream",
     "text": [
      "INFO:dhira.tf.models.base_tf_model:Saving final model @ /opt/dhira/models/SiameseBiLSTM/00/SiameseBiLSTM-1200\n",
      "Widget Javascript not detected.  It may not be installed or enabled properly.\n"
     ]
    },
    {
     "data": {
      "application/vnd.jupyter.widget-view+json": {
       "model_id": "d7d1007c537048fc856c4dcc671ae5e1"
      }
     },
     "metadata": {},
     "output_type": "display_data"
    },
    {
     "name": "stderr",
     "output_type": "stream",
     "text": [
      "INFO:dhira.tf.models.base_tf_model:Saving final model @ /opt/dhira/models/SiameseBiLSTM/00/SiameseBiLSTM-1400\n",
      "INFO:dhira.tf.models.base_tf_model:Saving final model @ /opt/dhira/models/SiameseBiLSTM/00/SiameseBiLSTM-1422\n",
      "Widget Javascript not detected.  It may not be installed or enabled properly.\n"
     ]
    },
    {
     "data": {
      "application/vnd.jupyter.widget-view+json": {
       "model_id": "d5ac1733daad4908aee59d64a888df35"
      }
     },
     "metadata": {},
     "output_type": "display_data"
    },
    {
     "name": "stderr",
     "output_type": "stream",
     "text": [
      "INFO:dhira.tf.models.siamese.siamese_bilstm:No model specific evaluations\n",
      "INFO:dhira.tf.models.base_tf_model:Finished 1 epochs!\n"
     ]
    },
    {
     "name": "stdout",
     "output_type": "stream",
     "text": [
      "\n"
     ]
    }
   ],
   "source": [
    "model.train(get_train_instance_generator=get_train_data_gen,\n",
    "            get_val_instance_generator=get_val_data_gen,\n",
    "            batch_size=batch_size,\n",
    "            num_train_steps_per_epoch=num_train_steps_per_epoch,\n",
    "            num_epochs=num_epochs,\n",
    "            num_val_steps=num_val_steps,\n",
    "            log_period=log_period,\n",
    "            val_period=val_period,\n",
    "            save_period=save_period,\n",
    "            patience=0)"
   ]
  },
  {
   "cell_type": "code",
   "execution_count": 35,
   "metadata": {},
   "outputs": [],
   "source": [
    "get_test_data_gen, test_data_size = data_manager.get_test_data_from_file()"
   ]
  },
  {
   "cell_type": "code",
   "execution_count": 31,
   "metadata": {},
   "outputs": [],
   "source": [
    "kwargs = {'question_1' : 'How to learn Deep Learning?', \n",
    "         'question_2' : 'What are methods to learn deep learning?'}\n",
    "single_feature = quora_dataset.custom_input(kwargs=kwargs)"
   ]
  },
  {
   "cell_type": "code",
   "execution_count": 32,
   "metadata": {},
   "outputs": [
    {
     "name": "stderr",
     "output_type": "stream",
     "text": [
      "INFO:dhira.data.data_manager:features should be a list of `FeatureBase` type\n"
     ]
    }
   ],
   "source": [
    "single_feature_batch = DataManager.to_batch(single_feature)"
   ]
  },
  {
   "cell_type": "code",
   "execution_count": 33,
   "metadata": {},
   "outputs": [
    {
     "name": "stderr",
     "output_type": "stream",
     "text": [
      "INFO:dhira.tf.models.base_tf_model:Getting latest checkpoint in /opt/dhira/models/SiameseBiLSTM/00/\n",
      "INFO:dhira.tf.models.base_tf_model:Attempting to load checkpoint at /opt/dhira/models/SiameseBiLSTM/00/SiameseBiLSTM-1422\n"
     ]
    },
    {
     "name": "stdout",
     "output_type": "stream",
     "text": [
      "INFO:tensorflow:Restoring parameters from /opt/dhira/models/SiameseBiLSTM/00/SiameseBiLSTM-1422\n"
     ]
    },
    {
     "name": "stderr",
     "output_type": "stream",
     "text": [
      "INFO:tensorflow:Restoring parameters from /opt/dhira/models/SiameseBiLSTM/00/SiameseBiLSTM-1422\n",
      "INFO:dhira.tf.models.base_tf_model:Successfully loaded /opt/dhira/models/SiameseBiLSTM/00/SiameseBiLSTM-1422!\n"
     ]
    }
   ],
   "source": [
    "pred = model.predict_on_single_feature(single_feature_batch, '/opt/dhira/models/SiameseBiLSTM/00/')"
   ]
  },
  {
   "cell_type": "code",
   "execution_count": 37,
   "metadata": {},
   "outputs": [
    {
     "data": {
      "image/png": "[encoded data removed]",
      "text/plain": [
       "<matplotlib.figure.Figure at 0x7f7dd06db518>"
      ]
     },
     "metadata": {
      "image/png": {
       "height": 415,
       "width": 549
      }
     },
     "output_type": "display_data"
    }
   ],
   "source": [
    "plt.bar([0,1], pred[0], align='center', alpha=0.5)\n",
    "plt.xticks([0,1], [0,1])\n",
    "plt.show()"
   ]
  },
  {
   "cell_type": "code",
   "execution_count": null,
   "metadata": {
    "collapsed": true
   },
   "outputs": [],
   "source": []
  }
 ],
 "metadata": {
  "kernelspec": {
   "display_name": "Python 3",
   "language": "python",
   "name": "python3"
  },
  "language_info": {
   "codemirror_mode": {
    "name": "ipython",
    "version": 3
   },
   "file_extension": ".py",
   "mimetype": "text/x-python",
   "name": "python",
   "nbconvert_exporter": "python",
   "pygments_lexer": "ipython3",
   "version": "3.6.1"
  }
 },
 "nbformat": 4,
 "nbformat_minor": 2
}
