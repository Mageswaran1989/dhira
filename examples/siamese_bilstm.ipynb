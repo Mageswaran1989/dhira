{
 "cells": [
  {
   "cell_type": "code",
   "execution_count": 1,
   "metadata": {},
   "outputs": [
    {
     "name": "stderr",
     "output_type": "stream",
     "text": [
      "DEBUG:root:test\n"
     ]
    }
   ],
   "source": [
    "%load_ext autoreload\n",
    "%autoreload 2\n",
    "%matplotlib inline\n",
    "%config InlineBackend.figure_format = 'retina'\n",
    "import sys\n",
    "import os\n",
    "import math\n",
    "import spacy\n",
    "sys.path.append(\"../\")\n",
    "import logging\n",
    "logger = logging.getLogger()\n",
    "logger.setLevel(logging.DEBUG)\n",
    "logging.debug(\"test\")"
   ]
  },
  {
   "cell_type": "code",
   "execution_count": 2,
   "metadata": {
    "collapsed": true
   },
   "outputs": [],
   "source": [
    "import matplotlib.pyplot as plt; plt.rcdefaults()\n",
    "import numpy as np\n",
    "import matplotlib.pyplot as plt\n",
    "from dhira.data.data_manager import DataManager\n",
    "from dhira.data.embedding_manager import EmbeddingManager\n",
    "from dhira.tf.models.siamese.siamese_bilstm import SiameseBiLSTM\n",
    "from tqdm import tqdm_notebook as tqdm"
   ]
  },
  {
   "cell_type": "code",
   "execution_count": 3,
   "metadata": {
    "collapsed": true
   },
   "outputs": [],
   "source": [
    "nlp = spacy.load('en_core_web_md')"
   ]
  },
  {
   "cell_type": "code",
   "execution_count": 4,
   "metadata": {},
   "outputs": [
    {
     "name": "stderr",
     "output_type": "stream",
     "text": [
      "INFO:dhira.data.dataset.internal.text:Reusing the pickle file quora-spacy-data_indexer.p.\n"
     ]
    }
   ],
   "source": [
    "from dhira.data.dataset.quora import QuoraDataset\n",
    "from dhira.data.features.quora_feature import QuoraFeature\n",
    "quora_dataset = QuoraDataset(name='quora-spacy',\n",
    "                               train_files='../data/quora/processed/train_cleaned_train_split.csv',\n",
    "                               val_files='../data/quora/processed/train_cleaned_val_split.csv',\n",
    "                               test_files='../data/quora/processed/test_final.csv',\n",
    "                               feature_type=QuoraFeature,\n",
    "                               pad=True,\n",
    "                               max_lengths={\"num_sentence_words\": 30})"
   ]
  },
  {
   "cell_type": "code",
   "execution_count": 5,
   "metadata": {
    "collapsed": true
   },
   "outputs": [],
   "source": [
    "data_manager = DataManager(dataset=quora_dataset, nlp=nlp)"
   ]
  },
  {
   "cell_type": "code",
   "execution_count": 6,
   "metadata": {},
   "outputs": [
    {
     "name": "stderr",
     "output_type": "stream",
     "text": [
      "INFO:dhira.data.dataset.internal.dataset_base:Reusing the pickle file quora-spacy-train.p.\n",
      "INFO:dhira.data.dataset.internal.text:Trying to load prefitted data_indexer... quora-spacy-data_indexer.p\n",
      "INFO:dhira.data.dataset.internal.text:Instance max lengths {'num_sentence_words': 50}\n",
      "INFO:dhira.data.dataset.internal.text:Padding lengths to length: {'num_sentence_words': 30}\n",
      "INFO:dhira.data.dataset.internal.dataset_base:quora-spacy-train.p already exists\n"
     ]
    }
   ],
   "source": [
    "get_train_data_gen, train_data_size = data_manager.get_train_data()"
   ]
  },
  {
   "cell_type": "code",
   "execution_count": 7,
   "metadata": {},
   "outputs": [
    {
     "name": "stderr",
     "output_type": "stream",
     "text": [
      "INFO:dhira.data.dataset.internal.dataset_base:Reusing the pickle file None.\n",
      "INFO:dhira.data.dataset.internal.text:Instance max lengths {'num_sentence_words': 50}\n",
      "INFO:dhira.data.dataset.internal.text:Padding lengths to length: {'num_sentence_words': 30}\n",
      "INFO:dhira.data.dataset.internal.dataset_base:quora-spacy-val.p already exists\n"
     ]
    }
   ],
   "source": [
    "get_val_data_gen, val_data_size = data_manager.get_validation_data()"
   ]
  },
  {
   "cell_type": "code",
   "execution_count": 8,
   "metadata": {
    "collapsed": true
   },
   "outputs": [],
   "source": [
    "embedding_matrix = data_manager.embedding_matrix"
   ]
  },
  {
   "cell_type": "code",
   "execution_count": 9,
   "metadata": {},
   "outputs": [
    {
     "data": {
      "text/plain": [
       "(848, 300)"
      ]
     },
     "execution_count": 9,
     "metadata": {},
     "output_type": "execute_result"
    }
   ],
   "source": [
    "embedding_matrix.shape"
   ]
  },
  {
   "cell_type": "code",
   "execution_count": 10,
   "metadata": {},
   "outputs": [
    {
     "name": "stdout",
     "output_type": "stream",
     "text": [
      "Number of train steps 1 and validation steps 1 for batch size 256\n"
     ]
    }
   ],
   "source": [
    "batch_size = 256\n",
    "num_epochs = 1\n",
    "num_train_steps_per_epoch = int(math.ceil(train_data_size / batch_size))\n",
    "num_val_steps = int(math.ceil(val_data_size / batch_size))\n",
    "print('Number of train steps {} and validation steps {} for batch size {}'.format(num_train_steps_per_epoch, \n",
    "                                                                                  num_val_steps,\n",
    "                                                                                  batch_size))"
   ]
  },
  {
   "cell_type": "code",
   "execution_count": 11,
   "metadata": {
    "collapsed": true
   },
   "outputs": [],
   "source": [
    "log_period = 50\n",
    "val_period = 150\n",
    "save_period = 200"
   ]
  },
  {
   "cell_type": "code",
   "execution_count": 12,
   "metadata": {},
   "outputs": [
    {
     "name": "stderr",
     "output_type": "stream",
     "text": [
      "INFO:dhira.tf.models.internal.base_tf_model:Writing logs to /home/mageswarand/.dhira/logs/SiameseBiLSTM/031503110118/\n",
      "INFO:dhira.tf.models.internal.base_tf_model:log path /home/mageswarand/.dhira/logs/SiameseBiLSTM/031503110118/ does not exist, creating it\n",
      "INFO:dhira.tf.models.internal.base_tf_model:Writing params to /home/mageswarand/.dhira/logs/SiameseBiLSTM/031503110118/SiameseBiLSTMparams.json\n",
      "INFO:dhira.tf.models.internal.base_tf_model:Building graph...\n",
      "/home/mageswarand/anaconda3/envs/tensorflow1.0/lib/python3.6/site-packages/tensorflow/python/ops/gradients_impl.py:93: UserWarning: Converting sparse IndexedSlices to a dense Tensor of unknown shape. This may consume a large amount of memory.\n",
      "  \"Converting sparse IndexedSlices to a dense Tensor of unknown shape. \"\n"
     ]
    }
   ],
   "source": [
    "model = ''\n",
    "model = SiameseBiLSTM(run_id=3,\n",
    "             word_vocab_size=embedding_matrix.shape[0], \n",
    "             word_embedding_dim=300, \n",
    "             word_embedding_matrix=embedding_matrix, \n",
    "             fine_tune_embeddings=True, \n",
    "             share_encoder_weights=True,\n",
    "             rnn_output_mode='last',\n",
    "             output_keep_prob=0.5,\n",
    "             rnn_hidden_size=256)\n",
    "model.compile()\n"
   ]
  },
  {
   "cell_type": "code",
   "execution_count": 13,
   "metadata": {},
   "outputs": [
    {
     "name": "stdout",
     "output_type": "stream",
     "text": [
      "Writing to /home/mageswarand/.dhira/logs/SiameseBiLSTM/031503110118\n",
      "\n",
      "--------------------------------------------------\n",
      "\n",
      "tensorboard --logdir  /home/mageswarand/.dhira/logs/SiameseBiLSTM/031503110118\n",
      "\n",
      "tensorboard --logdir  /home/mageswarand/.dhira/models/SiameseBiLSTM/03/checkpoints --port 6007\n",
      "--------------------------------------------------\n"
     ]
    },
    {
     "data": {
      "application/vnd.jupyter.widget-view+json": {
       "model_id": "5d7ad2635e9540e78b61fdfbcd06b55f"
      }
     },
     "metadata": {},
     "output_type": "display_data"
    },
    {
     "data": {
      "application/vnd.jupyter.widget-view+json": {
       "model_id": "73d0390a0e09492e83909547e3d2f5f8"
      }
     },
     "metadata": {},
     "output_type": "display_data"
    },
    {
     "name": "stderr",
     "output_type": "stream",
     "text": [
      "INFO:dhira.tf.models.internal.base_tf_model:Saving final model @ /home/mageswarand/.dhira/models/SiameseBiLSTM/03/SiameseBiLSTM-1\n"
     ]
    },
    {
     "data": {
      "application/vnd.jupyter.widget-view+json": {
       "model_id": "5418b9bde6454ddeac14c42c6ea6f398"
      }
     },
     "metadata": {},
     "output_type": "display_data"
    },
    {
     "name": "stderr",
     "output_type": "stream",
     "text": [
      "INFO:dhira.tf.models.siamese.siamese_bilstm:No model specific evaluations\n",
      "INFO:dhira.tf.models.internal.base_tf_model:Finished 1 epochs!\n"
     ]
    },
    {
     "name": "stdout",
     "output_type": "stream",
     "text": [
      "\n"
     ]
    },
    {
     "data": {
      "text/plain": [
       "'/home/mageswarand/.dhira/models/SiameseBiLSTM/03/SiameseBiLSTM-1'"
      ]
     },
     "execution_count": 13,
     "metadata": {},
     "output_type": "execute_result"
    }
   ],
   "source": [
    "model.train(get_train_feature_generator=get_train_data_gen,\n",
    "            get_val_feature_generator=get_val_data_gen,\n",
    "            batch_size=batch_size,\n",
    "            num_train_steps_per_epoch=num_train_steps_per_epoch,\n",
    "            num_epochs=num_epochs,\n",
    "            num_val_steps=num_val_steps,\n",
    "            log_period=log_period,\n",
    "            val_period=val_period,\n",
    "            save_period=save_period,\n",
    "            patience=0)"
   ]
  },
  {
   "cell_type": "code",
   "execution_count": 14,
   "metadata": {},
   "outputs": [
    {
     "name": "stderr",
     "output_type": "stream",
     "text": [
      "INFO:dhira.data.dataset.internal.dataset_base:Reusing the pickle file None.\n",
      "INFO:dhira.data.dataset.internal.text:Instance max lengths {'num_sentence_words': 42}\n",
      "INFO:dhira.data.dataset.internal.text:Padding lengths to length: {'num_sentence_words': 30}\n",
      "INFO:dhira.data.dataset.internal.dataset_base:quora-spacy-test.p already exists\n"
     ]
    }
   ],
   "source": [
    "get_test_data_gen, test_data_size = data_manager.get_test_data()"
   ]
  },
  {
   "cell_type": "code",
   "execution_count": 15,
   "metadata": {},
   "outputs": [
    {
     "name": "stderr",
     "output_type": "stream",
     "text": [
      "INFO:dhira.data.data_manager:converting feature \"<dhira.data.features.quora_feature.QuoraFeatureIndexed object at 0x7fe986f92f60>\" to list of features\n",
      "INFO:dhira.tf.models.internal.base_tf_model:Getting latest checkpoint in /opt/dhira/models/SiameseBiLSTM/01/\n",
      "INFO:dhira.tf.models.internal.base_tf_model:Attempting to load checkpoint at /opt/dhira/models/SiameseBiLSTM/01/SiameseBiLSTM-1\n"
     ]
    },
    {
     "name": "stdout",
     "output_type": "stream",
     "text": [
      "INFO:tensorflow:Restoring parameters from /opt/dhira/models/SiameseBiLSTM/01/SiameseBiLSTM-1\n"
     ]
    },
    {
     "name": "stderr",
     "output_type": "stream",
     "text": [
      "INFO:tensorflow:Restoring parameters from /opt/dhira/models/SiameseBiLSTM/01/SiameseBiLSTM-1\n",
      "INFO:dhira.tf.models.internal.base_tf_model:Successfully loaded /opt/dhira/models/SiameseBiLSTM/01/SiameseBiLSTM-1!\n"
     ]
    }
   ],
   "source": [
    "single_feature = quora_dataset.custom_input('How to learn Deep Learning?', \n",
    "                                            'What are methods to learn deep learning?')\n",
    "single_feature_batch = DataManager.to_batch(single_feature)\n",
    "pred = model.predict(single_feature_batch, '/opt/dhira/models/SiameseBiLSTM/01/')"
   ]
  },
  {
   "cell_type": "code",
   "execution_count": 16,
   "metadata": {},
   "outputs": [
    {
     "data": {
      "image/png": "[encoded data removed]",
      "text/plain": [
       "<matplotlib.figure.Figure at 0x7fe986f92fd0>"
      ]
     },
     "metadata": {
      "image/png": {
       "height": 415,
       "width": 549
      }
     },
     "output_type": "display_data"
    }
   ],
   "source": [
    "plt.bar([0,1], pred[0], align='center', alpha=0.5)\n",
    "plt.xticks([0,1], [0,1])\n",
    "plt.show()"
   ]
  },
  {
   "cell_type": "code",
   "execution_count": null,
   "metadata": {
    "collapsed": true
   },
   "outputs": [],
   "source": []
  },
  {
   "cell_type": "code",
   "execution_count": null,
   "metadata": {
    "collapsed": true
   },
   "outputs": [],
   "source": []
  },
  {
   "cell_type": "code",
   "execution_count": null,
   "metadata": {
    "collapsed": true
   },
   "outputs": [],
   "source": []
  }
 ],
 "metadata": {
  "kernelspec": {
   "display_name": "Python 3",
   "language": "python",
   "name": "python3"
  },
  "language_info": {
   "codemirror_mode": {
    "name": "ipython",
    "version": 3
   },
   "file_extension": ".py",
   "mimetype": "text/x-python",
   "name": "python",
   "nbconvert_exporter": "python",
   "pygments_lexer": "ipython3",
   "version": "3.6.1"
  }
 },
 "nbformat": 4,
 "nbformat_minor": 2
}
