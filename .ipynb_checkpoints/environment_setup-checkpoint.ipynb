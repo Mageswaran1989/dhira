{
 "cells": [
  {
   "cell_type": "markdown",
   "metadata": {
    "deletable": true,
    "editable": true
   },
   "source": [
    "# Setup\n",
    "\n",
    "## Cuda\n",
    "https://developer.nvidia.com/cuda-downloads\n",
    "\n",
    "## Anaconda\n",
    "https://www.continuum.io/downloads\n",
    "https://conda.io/docs/using/envs.html\n",
    "\n",
    "## TensorFlow\n",
    "https://www.tensorflow.org/install/\n",
    "\n",
    "## Scala\n",
    "https://github.com/alexarchambault/jupyter-scala  \n",
    "\n",
    "## Spark\n",
    "https://github.com/jupyter-incubator/sparkmagic  "
   ]
  },
  {
   "cell_type": "markdown",
   "metadata": {
    "collapsed": true,
    "deletable": true,
    "editable": true
   },
   "source": [
    "# scala install\n",
    "wget www.scala-lang.org/files/archive/scala-2.11.11.deb  \n",
    "sudo dpkg -i scala-2.11.11.deb\n",
    "\n",
    " \n",
    "# sbt installation\n",
    "echo \"deb https://dl.bintray.com/sbt/debian /\" | sudo tee -a /etc/apt/sources.list.d/sbt.list\n",
    "sudo apt-key adv --keyserver hkp://keyserver.ubuntu.com:80 --recv 642AC823\n",
    "sudo apt-get update\n",
    "sudo apt-get install sbt\n",
    "\n",
    "\n",
    "# java install\n",
    "sudo apt-get install python-software-properties\n",
    "sudo add-apt-repository ppa:webupd8team/java\n",
    "sudo apt-get update\n",
    "sudo apt-get install oracle-java8-installer\n",
    "\n",
    "\n",
    "# git install\n",
    "sudo apt-get install git"
   ]
  },
  {
   "cell_type": "code",
   "execution_count": null,
   "metadata": {
    "collapsed": true
   },
   "outputs": [],
   "source": []
  }
 ],
 "metadata": {
  "kernelspec": {
   "display_name": "Python 3",
   "language": "python",
   "name": "python3"
  },
  "language_info": {
   "codemirror_mode": {
    "name": "ipython",
    "version": 3
   },
   "file_extension": ".py",
   "mimetype": "text/x-python",
   "name": "python",
   "nbconvert_exporter": "python",
   "pygments_lexer": "ipython3",
   "version": "3.5.3"
  }
 },
 "nbformat": 4,
 "nbformat_minor": 2
}
